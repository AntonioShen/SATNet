{
 "cells": [
  {
   "cell_type": "code",
   "execution_count": 1,
   "metadata": {},
   "outputs": [],
   "source": [
    "import os\n",
    "import shutil\n",
    "import argparse\n",
    "from collections import namedtuple\n",
    "\n",
    "import numpy as np\n",
    "import numpy.random as npr\n",
    "\n",
    "import torch\n",
    "import torch.nn as nn\n",
    "import torch.optim as optim\n",
    "import torch.nn.functional as F\n",
    "from torch.utils.data import TensorDataset, DataLoader\n",
    "\n",
    "%matplotlib notebook\n",
    "import matplotlib.pyplot as plt\n",
    "from IPython.display import display, Markdown, Latex"
   ]
  },
  {
   "cell_type": "markdown",
   "metadata": {},
   "source": [
    "# Introduction to SATNet"
   ]
  },
  {
   "cell_type": "code",
   "execution_count": 2,
   "metadata": {},
   "outputs": [
    {
     "name": "stdout",
     "output_type": "stream",
     "text": [
      "SATNet document\n",
      " Apply a SATNet layer to complete the input probabilities.\n",
      "\n",
      "    Args:\n",
      "        n: Number of input variables.\n",
      "        m: Rank of the clause matrix.\n",
      "        aux: Number of auxiliary variables.\n",
      "\n",
      "        max_iter: Maximum number of iterations for solving\n",
      "            the inner optimization problem.\n",
      "            Default: 40\n",
      "        eps: The stopping threshold for the inner optimizaiton problem.\n",
      "            The inner Mixing method will stop when the function decrease\n",
      "            is less then eps times the initial function decrease.\n",
      "            Default: 1e-4\n",
      "        prox_lam: The diagonal increment in the backward linear system\n",
      "            to make the backward pass more stable.\n",
      "            Default: 1e-2\n",
      "        weight_normalize: Set true to perform normlization for init weights.\n",
      "            Default: True\n",
      "\n",
      "    Inputs: (z, is_input)\n",
      "        **z** of shape `(batch, n)`: \n",
      "            Float tensor containing the probabilities (must be in [0,1]).\n",
      "        **is_input** of shape `(batch, n)`: \n",
      "            Int tensor indicating which **z** is a input.\n",
      "\n",
      "    Outputs: z\n",
      "        **z** of shape `(batch, n)`:\n",
      "            The prediction probabiolities.\n",
      "\n",
      "    Attributes: S\n",
      "        **S** of shape `(n, m)`:\n",
      "            The learnable clauses matrix containing `m` clauses \n",
      "            for the `n` variables.\n",
      "\n",
      "    Examples:\n",
      "        >>> sat = satnet.SATNet(3, 4, aux=5)\n",
      "        >>> z = torch.randn(2, 3)\n",
      "        >>> is_input = torch.IntTensor([[1, 1, 0], [1,0,1]])\n",
      "        >>> pred = sat(z, is_input)\n",
      "    \n"
     ]
    }
   ],
   "source": [
    "import satnet\n",
    "print('SATNet document\\n', satnet.SATNet.__doc__)"
   ]
  },
  {
   "cell_type": "code",
   "execution_count": 3,
   "metadata": {},
   "outputs": [],
   "source": [
    "class SudokuSolver(nn.Module):\n",
    "    def __init__(self, boardSz, aux, m):\n",
    "        super(SudokuSolver, self).__init__()\n",
    "        n = boardSz**6\n",
    "        self.sat = satnet.SATNet(n, m, aux)\n",
    "\n",
    "    def forward(self, y_in, mask):\n",
    "        out = self.sat(y_in, mask)\n",
    "        del y_in, mask\n",
    "        return out"
   ]
  },
  {
   "cell_type": "code",
   "execution_count": 4,
   "metadata": {},
   "outputs": [],
   "source": [
    "class DigitConv(nn.Module):\n",
    "    '''\n",
    "    Convolutional neural network for MNIST digit recognition. From:\n",
    "    https://github.com/pytorch/examples/blob/master/mnist/main.py\n",
    "    '''\n",
    "    def __init__(self):\n",
    "        super(DigitConv, self).__init__()\n",
    "        self.conv1 = nn.Conv2d(1, 20, 5, 1)\n",
    "        self.conv2 = nn.Conv2d(20, 50, 5, 1)\n",
    "        self.fc1 = nn.Linear(4*4*50, 500)\n",
    "        self.fc2 = nn.Linear(500, 10)\n",
    "\n",
    "    def forward(self, x):\n",
    "        x = F.relu(self.conv1(x))\n",
    "        x = F.max_pool2d(x, 2, 2)\n",
    "        x = F.relu(self.conv2(x))\n",
    "        x = F.max_pool2d(x, 2, 2)\n",
    "        x = x.view(-1, 4*4*50)\n",
    "        x = F.relu(self.fc1(x))\n",
    "        x = self.fc2(x)\n",
    "        return F.softmax(x, dim=1)[:,:9].contiguous()\n",
    "\n",
    "class MNISTSudokuSolver(nn.Module):\n",
    "    def __init__(self, boardSz, aux, m):\n",
    "        super(MNISTSudokuSolver, self).__init__()\n",
    "        self.digit_convnet = DigitConv()\n",
    "        self.sudoku_solver = SudokuSolver(boardSz, aux, m)\n",
    "        self.boardSz = boardSz\n",
    "        self.nSq = boardSz**2\n",
    "    \n",
    "    def forward(self, x, is_inputs):\n",
    "        nBatch = x.shape[0]\n",
    "        x = x.flatten(start_dim = 0, end_dim = 1)\n",
    "        digit_guess = self.digit_convnet(x)\n",
    "        puzzles = digit_guess.view(nBatch, self.nSq * self.nSq * self.nSq)\n",
    "\n",
    "        solution = self.sudoku_solver(puzzles, is_inputs)\n",
    "        return solution"
   ]
  },
  {
   "cell_type": "code",
   "execution_count": 5,
   "metadata": {},
   "outputs": [],
   "source": [
    "from exps.sudoku import train, test, FigLogger, find_unperm\n",
    "args_dict = {'lr': 2e-3, \n",
    "             'cuda': torch.cuda.is_available(), \n",
    "             'batchSz': 40,\n",
    "             'mnistBatchSz': 50,\n",
    "             'boardSz': 3, # for 9x9 Sudoku\n",
    "             'm': 600,\n",
    "             'aux': 300,\n",
    "             'nEpoch': 100\n",
    "            }\n",
    "args = namedtuple('Args', args_dict.keys())(*args_dict.values())"
   ]
  },
  {
   "cell_type": "markdown",
   "metadata": {},
   "source": [
    "# The Sudoku Datasets"
   ]
  },
  {
   "cell_type": "code",
   "execution_count": 6,
   "metadata": {},
   "outputs": [],
   "source": [
    "def process_inputs(X, Ximg, Y, boardSz):\n",
    "    is_input = X.sum(dim=3, keepdim=True).expand_as(X).int().sign()\n",
    "\n",
    "    Ximg = Ximg.flatten(start_dim=1, end_dim=2)\n",
    "    Ximg = Ximg.unsqueeze(2).float()\n",
    "\n",
    "    X      = X.view(X.size(0), -1)\n",
    "    Y      = Y.view(Y.size(0), -1)\n",
    "    is_input = is_input.view(is_input.size(0), -1)\n",
    "\n",
    "    return X, Ximg, Y, is_input\n",
    "\n",
    "with open('sudoku/features.pt', 'rb') as f:\n",
    "    X_in = torch.load(f)\n",
    "with open('sudoku/features_img.pt', 'rb') as f:\n",
    "    Ximg_in = torch.load(f)\n",
    "with open('sudoku/labels.pt', 'rb') as f:\n",
    "    Y_in = torch.load(f)\n",
    "with open('sudoku/perm.pt', 'rb') as f:\n",
    "    perm = torch.load(f)\n",
    "\n",
    "X, Ximg, Y, is_input = process_inputs(X_in, Ximg_in, Y_in, args.boardSz)\n",
    "if args.cuda: X, Ximg, is_input, Y = X.cuda(), Ximg.cuda(), is_input.cuda(), Y.cuda()\n",
    "\n",
    "N = X_in.size(0)\n",
    "nTrain = int(N*0.9)\n",
    "\n",
    "sudoku_train = TensorDataset(X[:nTrain], is_input[:nTrain], Y[:nTrain])\n",
    "sudoku_test =  TensorDataset(X[nTrain:], is_input[nTrain:], Y[nTrain:])\n",
    "perm_train = TensorDataset(X[:nTrain,perm], is_input[:nTrain,perm], Y[:nTrain,perm])\n",
    "perm_test =  TensorDataset(X[nTrain:,perm], is_input[nTrain:,perm], Y[nTrain:,perm])\n",
    "mnist_train = TensorDataset(Ximg[:nTrain], is_input[:nTrain], Y[:nTrain])\n",
    "mnist_test =  TensorDataset(Ximg[nTrain:], is_input[nTrain:], Y[nTrain:])"
   ]
  },
  {
   "cell_type": "code",
   "execution_count": 7,
   "metadata": {},
   "outputs": [
    {
     "data": {
      "text/markdown": [
       "## Sudoku"
      ],
      "text/plain": [
       "<IPython.core.display.Markdown object>"
      ]
     },
     "metadata": {},
     "output_type": "display_data"
    },
    {
     "name": "stdout",
     "output_type": "stream",
     "text": [
      "tensor([[6, 7, 0, 0, 0, 0, 0, 0, 5],\n",
      "        [0, 0, 3, 0, 4, 0, 0, 8, 2],\n",
      "        [0, 4, 0, 0, 0, 5, 1, 3, 6],\n",
      "        [0, 0, 0, 7, 3, 0, 0, 9, 0],\n",
      "        [3, 0, 4, 2, 0, 6, 0, 7, 0],\n",
      "        [0, 0, 1, 0, 9, 0, 6, 0, 0],\n",
      "        [5, 0, 9, 0, 0, 8, 0, 0, 0],\n",
      "        [0, 0, 0, 9, 5, 0, 2, 0, 8],\n",
      "        [0, 0, 0, 1, 2, 7, 4, 0, 0]])\n",
      "\n"
     ]
    },
    {
     "data": {
      "text/markdown": [
       "## One-hot encoded Boolean Sudoku"
      ],
      "text/plain": [
       "<IPython.core.display.Markdown object>"
      ]
     },
     "metadata": {},
     "output_type": "display_data"
    },
    {
     "name": "stdout",
     "output_type": "stream",
     "text": [
      "tensor([0., 0., 0., 0., 0., 1., 0., 0., 0., 0., 0., 0., 0., 0., 0., 1., 0., 0.,\n",
      "        0., 0., 0., 0., 0., 0., 0., 0., 0., 0., 0., 0., 0., 0., 0., 0., 0., 0.,\n",
      "        0., 0., 0., 0., 0., 0., 0., 0., 0., 0., 0., 0., 0., 0., 0., 0., 0., 0.,\n",
      "        0., 0., 0., 0., 0., 0., 0., 0., 0., 0., 0., 0., 0., 0., 0., 0., 0., 0.,\n",
      "        0., 0., 0., 0., 1., 0., 0., 0., 0., 0., 0., 0., 0., 0., 0., 0., 0., 0.,\n",
      "        0., 0., 0., 0., 0., 0., 0., 0., 0., 0., 0., 1., 0., 0., 0., 0., 0., 0.,\n",
      "        0., 0., 0., 0., 0., 0., 0., 0., 0., 0., 0., 0., 1., 0., 0., 0., 0., 0.,\n",
      "        0., 0., 0., 0., 0., 0., 0., 0., 0., 0., 0., 0., 0., 0., 0., 0., 0., 0.,\n",
      "        0., 0., 0., 0., 0., 0., 0., 1., 0., 0., 1., 0., 0., 0., 0., 0., 0., 0.,\n",
      "        0., 0., 0., 0., 0., 0., 0., 0., 0., 0., 0., 0., 1., 0., 0., 0., 0., 0.,\n",
      "        0., 0., 0., 0., 0., 0., 0., 0., 0., 0., 0., 0., 0., 0., 0., 0., 0., 0.,\n",
      "        0., 0., 0., 0., 0., 0., 0., 0., 0., 0., 0., 0., 0., 1., 0., 0., 0., 0.,\n",
      "        1., 0., 0., 0., 0., 0., 0., 0., 0., 0., 0., 1., 0., 0., 0., 0., 0., 0.,\n",
      "        0., 0., 0., 0., 0., 1., 0., 0., 0., 0., 0., 0., 0., 0., 0., 0., 0., 0.,\n",
      "        0., 0., 0., 0., 0., 0., 0., 0., 0., 0., 0., 0., 0., 0., 0., 0., 0., 0.,\n",
      "        0., 0., 0., 0., 0., 0., 1., 0., 0., 0., 0., 1., 0., 0., 0., 0., 0., 0.,\n",
      "        0., 0., 0., 0., 0., 0., 0., 0., 0., 0., 0., 0., 0., 0., 0., 0., 0., 0.,\n",
      "        0., 0., 0., 0., 0., 0., 0., 0., 1., 0., 0., 0., 0., 0., 0., 0., 0., 0.,\n",
      "        0., 0., 1., 0., 0., 0., 0., 0., 0., 0., 0., 0., 0., 0., 0., 0., 0., 0.,\n",
      "        0., 0., 0., 1., 0., 0., 0., 0., 0., 0., 1., 0., 0., 0., 0., 0., 0., 0.,\n",
      "        0., 0., 0., 0., 0., 0., 0., 0., 0., 0., 0., 0., 0., 0., 1., 0., 0., 0.,\n",
      "        0., 0., 0., 0., 0., 0., 0., 0., 0., 0., 0., 0., 0., 0., 0., 1., 0., 0.,\n",
      "        0., 0., 0., 0., 0., 0., 0., 0., 0., 0., 0., 0., 0., 0., 0., 0., 0., 0.,\n",
      "        0., 0., 0., 0., 0., 0., 0., 0., 0., 1., 0., 0., 0., 0., 0., 0., 0., 0.,\n",
      "        0., 0., 0., 0., 0., 0., 0., 0., 0., 0., 0., 0., 0., 0., 0., 0., 0., 1.,\n",
      "        0., 0., 0., 0., 0., 0., 0., 0., 0., 0., 0., 0., 0., 0., 1., 0., 0., 0.,\n",
      "        0., 0., 0., 0., 0., 0., 0., 0., 0., 0., 0., 0., 0., 0., 0., 0., 0., 0.,\n",
      "        0., 0., 0., 0., 1., 0., 0., 0., 0., 0., 0., 0., 0., 0., 0., 0., 0., 0.,\n",
      "        0., 0., 0., 0., 0., 0., 0., 0., 1., 0., 0., 0., 0., 0., 0., 0., 0., 0.,\n",
      "        0., 0., 0., 0., 0., 0., 0., 0., 0., 0., 0., 0., 0., 0., 0., 0., 1., 0.,\n",
      "        0., 0., 0., 0., 0., 0., 0., 0., 0., 0., 0., 0., 0., 0., 0., 0., 0., 0.,\n",
      "        0., 0., 0., 0., 0., 0., 0., 0., 0., 0., 0., 0., 0., 0., 0., 0., 0., 0.,\n",
      "        0., 0., 0., 0., 0., 0., 0., 0., 0., 0., 0., 0., 0., 0., 0., 0., 0., 0.,\n",
      "        0., 0., 0., 0., 0., 0., 0., 0., 1., 0., 0., 0., 0., 1., 0., 0., 0., 0.,\n",
      "        0., 0., 0., 0., 0., 0., 0., 0., 0., 0., 1., 0., 0., 0., 0., 0., 0., 0.,\n",
      "        0., 0., 0., 0., 0., 0., 0., 0., 0., 0., 0., 0., 0., 0., 0., 0., 1., 0.,\n",
      "        0., 0., 0., 0., 0., 0., 0., 0., 0., 0., 0., 0., 0., 0., 0., 0., 0., 0.,\n",
      "        0., 0., 0., 0., 0., 0., 0., 0., 0., 1., 0., 0., 0., 0., 0., 0., 0., 0.,\n",
      "        0., 1., 0., 0., 0., 0., 0., 0., 0., 0., 0., 0., 0., 0., 0., 1., 0., 0.,\n",
      "        0., 0., 0., 1., 0., 0., 0., 0., 0., 0., 0., 0., 0., 0., 0., 0., 0., 0.,\n",
      "        0., 0., 0., 0., 0., 0., 0., 0., 0.], device='cuda:0')\n"
     ]
    },
    {
     "data": {
      "text/markdown": [
       "## MNIST Sudoku"
      ],
      "text/plain": [
       "<IPython.core.display.Markdown object>"
      ]
     },
     "metadata": {},
     "output_type": "display_data"
    },
    {
     "data": {
      "application/javascript": [
       "/* Put everything inside the global mpl namespace */\n",
       "window.mpl = {};\n",
       "\n",
       "\n",
       "mpl.get_websocket_type = function() {\n",
       "    if (typeof(WebSocket) !== 'undefined') {\n",
       "        return WebSocket;\n",
       "    } else if (typeof(MozWebSocket) !== 'undefined') {\n",
       "        return MozWebSocket;\n",
       "    } else {\n",
       "        alert('Your browser does not have WebSocket support.' +\n",
       "              'Please try Chrome, Safari or Firefox ≥ 6. ' +\n",
       "              'Firefox 4 and 5 are also supported but you ' +\n",
       "              'have to enable WebSockets in about:config.');\n",
       "    };\n",
       "}\n",
       "\n",
       "mpl.figure = function(figure_id, websocket, ondownload, parent_element) {\n",
       "    this.id = figure_id;\n",
       "\n",
       "    this.ws = websocket;\n",
       "\n",
       "    this.supports_binary = (this.ws.binaryType != undefined);\n",
       "\n",
       "    if (!this.supports_binary) {\n",
       "        var warnings = document.getElementById(\"mpl-warnings\");\n",
       "        if (warnings) {\n",
       "            warnings.style.display = 'block';\n",
       "            warnings.textContent = (\n",
       "                \"This browser does not support binary websocket messages. \" +\n",
       "                    \"Performance may be slow.\");\n",
       "        }\n",
       "    }\n",
       "\n",
       "    this.imageObj = new Image();\n",
       "\n",
       "    this.context = undefined;\n",
       "    this.message = undefined;\n",
       "    this.canvas = undefined;\n",
       "    this.rubberband_canvas = undefined;\n",
       "    this.rubberband_context = undefined;\n",
       "    this.format_dropdown = undefined;\n",
       "\n",
       "    this.image_mode = 'full';\n",
       "\n",
       "    this.root = $('<div/>');\n",
       "    this._root_extra_style(this.root)\n",
       "    this.root.attr('style', 'display: inline-block');\n",
       "\n",
       "    $(parent_element).append(this.root);\n",
       "\n",
       "    this._init_header(this);\n",
       "    this._init_canvas(this);\n",
       "    this._init_toolbar(this);\n",
       "\n",
       "    var fig = this;\n",
       "\n",
       "    this.waiting = false;\n",
       "\n",
       "    this.ws.onopen =  function () {\n",
       "            fig.send_message(\"supports_binary\", {value: fig.supports_binary});\n",
       "            fig.send_message(\"send_image_mode\", {});\n",
       "            if (mpl.ratio != 1) {\n",
       "                fig.send_message(\"set_dpi_ratio\", {'dpi_ratio': mpl.ratio});\n",
       "            }\n",
       "            fig.send_message(\"refresh\", {});\n",
       "        }\n",
       "\n",
       "    this.imageObj.onload = function() {\n",
       "            if (fig.image_mode == 'full') {\n",
       "                // Full images could contain transparency (where diff images\n",
       "                // almost always do), so we need to clear the canvas so that\n",
       "                // there is no ghosting.\n",
       "                fig.context.clearRect(0, 0, fig.canvas.width, fig.canvas.height);\n",
       "            }\n",
       "            fig.context.drawImage(fig.imageObj, 0, 0);\n",
       "        };\n",
       "\n",
       "    this.imageObj.onunload = function() {\n",
       "        fig.ws.close();\n",
       "    }\n",
       "\n",
       "    this.ws.onmessage = this._make_on_message_function(this);\n",
       "\n",
       "    this.ondownload = ondownload;\n",
       "}\n",
       "\n",
       "mpl.figure.prototype._init_header = function() {\n",
       "    var titlebar = $(\n",
       "        '<div class=\"ui-dialog-titlebar ui-widget-header ui-corner-all ' +\n",
       "        'ui-helper-clearfix\"/>');\n",
       "    var titletext = $(\n",
       "        '<div class=\"ui-dialog-title\" style=\"width: 100%; ' +\n",
       "        'text-align: center; padding: 3px;\"/>');\n",
       "    titlebar.append(titletext)\n",
       "    this.root.append(titlebar);\n",
       "    this.header = titletext[0];\n",
       "}\n",
       "\n",
       "\n",
       "\n",
       "mpl.figure.prototype._canvas_extra_style = function(canvas_div) {\n",
       "\n",
       "}\n",
       "\n",
       "\n",
       "mpl.figure.prototype._root_extra_style = function(canvas_div) {\n",
       "\n",
       "}\n",
       "\n",
       "mpl.figure.prototype._init_canvas = function() {\n",
       "    var fig = this;\n",
       "\n",
       "    var canvas_div = $('<div/>');\n",
       "\n",
       "    canvas_div.attr('style', 'position: relative; clear: both; outline: 0');\n",
       "\n",
       "    function canvas_keyboard_event(event) {\n",
       "        return fig.key_event(event, event['data']);\n",
       "    }\n",
       "\n",
       "    canvas_div.keydown('key_press', canvas_keyboard_event);\n",
       "    canvas_div.keyup('key_release', canvas_keyboard_event);\n",
       "    this.canvas_div = canvas_div\n",
       "    this._canvas_extra_style(canvas_div)\n",
       "    this.root.append(canvas_div);\n",
       "\n",
       "    var canvas = $('<canvas/>');\n",
       "    canvas.addClass('mpl-canvas');\n",
       "    canvas.attr('style', \"left: 0; top: 0; z-index: 0; outline: 0\")\n",
       "\n",
       "    this.canvas = canvas[0];\n",
       "    this.context = canvas[0].getContext(\"2d\");\n",
       "\n",
       "    var backingStore = this.context.backingStorePixelRatio ||\n",
       "\tthis.context.webkitBackingStorePixelRatio ||\n",
       "\tthis.context.mozBackingStorePixelRatio ||\n",
       "\tthis.context.msBackingStorePixelRatio ||\n",
       "\tthis.context.oBackingStorePixelRatio ||\n",
       "\tthis.context.backingStorePixelRatio || 1;\n",
       "\n",
       "    mpl.ratio = (window.devicePixelRatio || 1) / backingStore;\n",
       "\n",
       "    var rubberband = $('<canvas/>');\n",
       "    rubberband.attr('style', \"position: absolute; left: 0; top: 0; z-index: 1;\")\n",
       "\n",
       "    var pass_mouse_events = true;\n",
       "\n",
       "    canvas_div.resizable({\n",
       "        start: function(event, ui) {\n",
       "            pass_mouse_events = false;\n",
       "        },\n",
       "        resize: function(event, ui) {\n",
       "            fig.request_resize(ui.size.width, ui.size.height);\n",
       "        },\n",
       "        stop: function(event, ui) {\n",
       "            pass_mouse_events = true;\n",
       "            fig.request_resize(ui.size.width, ui.size.height);\n",
       "        },\n",
       "    });\n",
       "\n",
       "    function mouse_event_fn(event) {\n",
       "        if (pass_mouse_events)\n",
       "            return fig.mouse_event(event, event['data']);\n",
       "    }\n",
       "\n",
       "    rubberband.mousedown('button_press', mouse_event_fn);\n",
       "    rubberband.mouseup('button_release', mouse_event_fn);\n",
       "    // Throttle sequential mouse events to 1 every 20ms.\n",
       "    rubberband.mousemove('motion_notify', mouse_event_fn);\n",
       "\n",
       "    rubberband.mouseenter('figure_enter', mouse_event_fn);\n",
       "    rubberband.mouseleave('figure_leave', mouse_event_fn);\n",
       "\n",
       "    canvas_div.on(\"wheel\", function (event) {\n",
       "        event = event.originalEvent;\n",
       "        event['data'] = 'scroll'\n",
       "        if (event.deltaY < 0) {\n",
       "            event.step = 1;\n",
       "        } else {\n",
       "            event.step = -1;\n",
       "        }\n",
       "        mouse_event_fn(event);\n",
       "    });\n",
       "\n",
       "    canvas_div.append(canvas);\n",
       "    canvas_div.append(rubberband);\n",
       "\n",
       "    this.rubberband = rubberband;\n",
       "    this.rubberband_canvas = rubberband[0];\n",
       "    this.rubberband_context = rubberband[0].getContext(\"2d\");\n",
       "    this.rubberband_context.strokeStyle = \"#000000\";\n",
       "\n",
       "    this._resize_canvas = function(width, height) {\n",
       "        // Keep the size of the canvas, canvas container, and rubber band\n",
       "        // canvas in synch.\n",
       "        canvas_div.css('width', width)\n",
       "        canvas_div.css('height', height)\n",
       "\n",
       "        canvas.attr('width', width * mpl.ratio);\n",
       "        canvas.attr('height', height * mpl.ratio);\n",
       "        canvas.attr('style', 'width: ' + width + 'px; height: ' + height + 'px;');\n",
       "\n",
       "        rubberband.attr('width', width);\n",
       "        rubberband.attr('height', height);\n",
       "    }\n",
       "\n",
       "    // Set the figure to an initial 600x600px, this will subsequently be updated\n",
       "    // upon first draw.\n",
       "    this._resize_canvas(600, 600);\n",
       "\n",
       "    // Disable right mouse context menu.\n",
       "    $(this.rubberband_canvas).bind(\"contextmenu\",function(e){\n",
       "        return false;\n",
       "    });\n",
       "\n",
       "    function set_focus () {\n",
       "        canvas.focus();\n",
       "        canvas_div.focus();\n",
       "    }\n",
       "\n",
       "    window.setTimeout(set_focus, 100);\n",
       "}\n",
       "\n",
       "mpl.figure.prototype._init_toolbar = function() {\n",
       "    var fig = this;\n",
       "\n",
       "    var nav_element = $('<div/>')\n",
       "    nav_element.attr('style', 'width: 100%');\n",
       "    this.root.append(nav_element);\n",
       "\n",
       "    // Define a callback function for later on.\n",
       "    function toolbar_event(event) {\n",
       "        return fig.toolbar_button_onclick(event['data']);\n",
       "    }\n",
       "    function toolbar_mouse_event(event) {\n",
       "        return fig.toolbar_button_onmouseover(event['data']);\n",
       "    }\n",
       "\n",
       "    for(var toolbar_ind in mpl.toolbar_items) {\n",
       "        var name = mpl.toolbar_items[toolbar_ind][0];\n",
       "        var tooltip = mpl.toolbar_items[toolbar_ind][1];\n",
       "        var image = mpl.toolbar_items[toolbar_ind][2];\n",
       "        var method_name = mpl.toolbar_items[toolbar_ind][3];\n",
       "\n",
       "        if (!name) {\n",
       "            // put a spacer in here.\n",
       "            continue;\n",
       "        }\n",
       "        var button = $('<button/>');\n",
       "        button.addClass('ui-button ui-widget ui-state-default ui-corner-all ' +\n",
       "                        'ui-button-icon-only');\n",
       "        button.attr('role', 'button');\n",
       "        button.attr('aria-disabled', 'false');\n",
       "        button.click(method_name, toolbar_event);\n",
       "        button.mouseover(tooltip, toolbar_mouse_event);\n",
       "\n",
       "        var icon_img = $('<span/>');\n",
       "        icon_img.addClass('ui-button-icon-primary ui-icon');\n",
       "        icon_img.addClass(image);\n",
       "        icon_img.addClass('ui-corner-all');\n",
       "\n",
       "        var tooltip_span = $('<span/>');\n",
       "        tooltip_span.addClass('ui-button-text');\n",
       "        tooltip_span.html(tooltip);\n",
       "\n",
       "        button.append(icon_img);\n",
       "        button.append(tooltip_span);\n",
       "\n",
       "        nav_element.append(button);\n",
       "    }\n",
       "\n",
       "    var fmt_picker_span = $('<span/>');\n",
       "\n",
       "    var fmt_picker = $('<select/>');\n",
       "    fmt_picker.addClass('mpl-toolbar-option ui-widget ui-widget-content');\n",
       "    fmt_picker_span.append(fmt_picker);\n",
       "    nav_element.append(fmt_picker_span);\n",
       "    this.format_dropdown = fmt_picker[0];\n",
       "\n",
       "    for (var ind in mpl.extensions) {\n",
       "        var fmt = mpl.extensions[ind];\n",
       "        var option = $(\n",
       "            '<option/>', {selected: fmt === mpl.default_extension}).html(fmt);\n",
       "        fmt_picker.append(option)\n",
       "    }\n",
       "\n",
       "    // Add hover states to the ui-buttons\n",
       "    $( \".ui-button\" ).hover(\n",
       "        function() { $(this).addClass(\"ui-state-hover\");},\n",
       "        function() { $(this).removeClass(\"ui-state-hover\");}\n",
       "    );\n",
       "\n",
       "    var status_bar = $('<span class=\"mpl-message\"/>');\n",
       "    nav_element.append(status_bar);\n",
       "    this.message = status_bar[0];\n",
       "}\n",
       "\n",
       "mpl.figure.prototype.request_resize = function(x_pixels, y_pixels) {\n",
       "    // Request matplotlib to resize the figure. Matplotlib will then trigger a resize in the client,\n",
       "    // which will in turn request a refresh of the image.\n",
       "    this.send_message('resize', {'width': x_pixels, 'height': y_pixels});\n",
       "}\n",
       "\n",
       "mpl.figure.prototype.send_message = function(type, properties) {\n",
       "    properties['type'] = type;\n",
       "    properties['figure_id'] = this.id;\n",
       "    this.ws.send(JSON.stringify(properties));\n",
       "}\n",
       "\n",
       "mpl.figure.prototype.send_draw_message = function() {\n",
       "    if (!this.waiting) {\n",
       "        this.waiting = true;\n",
       "        this.ws.send(JSON.stringify({type: \"draw\", figure_id: this.id}));\n",
       "    }\n",
       "}\n",
       "\n",
       "\n",
       "mpl.figure.prototype.handle_save = function(fig, msg) {\n",
       "    var format_dropdown = fig.format_dropdown;\n",
       "    var format = format_dropdown.options[format_dropdown.selectedIndex].value;\n",
       "    fig.ondownload(fig, format);\n",
       "}\n",
       "\n",
       "\n",
       "mpl.figure.prototype.handle_resize = function(fig, msg) {\n",
       "    var size = msg['size'];\n",
       "    if (size[0] != fig.canvas.width || size[1] != fig.canvas.height) {\n",
       "        fig._resize_canvas(size[0], size[1]);\n",
       "        fig.send_message(\"refresh\", {});\n",
       "    };\n",
       "}\n",
       "\n",
       "mpl.figure.prototype.handle_rubberband = function(fig, msg) {\n",
       "    var x0 = msg['x0'] / mpl.ratio;\n",
       "    var y0 = (fig.canvas.height - msg['y0']) / mpl.ratio;\n",
       "    var x1 = msg['x1'] / mpl.ratio;\n",
       "    var y1 = (fig.canvas.height - msg['y1']) / mpl.ratio;\n",
       "    x0 = Math.floor(x0) + 0.5;\n",
       "    y0 = Math.floor(y0) + 0.5;\n",
       "    x1 = Math.floor(x1) + 0.5;\n",
       "    y1 = Math.floor(y1) + 0.5;\n",
       "    var min_x = Math.min(x0, x1);\n",
       "    var min_y = Math.min(y0, y1);\n",
       "    var width = Math.abs(x1 - x0);\n",
       "    var height = Math.abs(y1 - y0);\n",
       "\n",
       "    fig.rubberband_context.clearRect(\n",
       "        0, 0, fig.canvas.width, fig.canvas.height);\n",
       "\n",
       "    fig.rubberband_context.strokeRect(min_x, min_y, width, height);\n",
       "}\n",
       "\n",
       "mpl.figure.prototype.handle_figure_label = function(fig, msg) {\n",
       "    // Updates the figure title.\n",
       "    fig.header.textContent = msg['label'];\n",
       "}\n",
       "\n",
       "mpl.figure.prototype.handle_cursor = function(fig, msg) {\n",
       "    var cursor = msg['cursor'];\n",
       "    switch(cursor)\n",
       "    {\n",
       "    case 0:\n",
       "        cursor = 'pointer';\n",
       "        break;\n",
       "    case 1:\n",
       "        cursor = 'default';\n",
       "        break;\n",
       "    case 2:\n",
       "        cursor = 'crosshair';\n",
       "        break;\n",
       "    case 3:\n",
       "        cursor = 'move';\n",
       "        break;\n",
       "    }\n",
       "    fig.rubberband_canvas.style.cursor = cursor;\n",
       "}\n",
       "\n",
       "mpl.figure.prototype.handle_message = function(fig, msg) {\n",
       "    fig.message.textContent = msg['message'];\n",
       "}\n",
       "\n",
       "mpl.figure.prototype.handle_draw = function(fig, msg) {\n",
       "    // Request the server to send over a new figure.\n",
       "    fig.send_draw_message();\n",
       "}\n",
       "\n",
       "mpl.figure.prototype.handle_image_mode = function(fig, msg) {\n",
       "    fig.image_mode = msg['mode'];\n",
       "}\n",
       "\n",
       "mpl.figure.prototype.updated_canvas_event = function() {\n",
       "    // Called whenever the canvas gets updated.\n",
       "    this.send_message(\"ack\", {});\n",
       "}\n",
       "\n",
       "// A function to construct a web socket function for onmessage handling.\n",
       "// Called in the figure constructor.\n",
       "mpl.figure.prototype._make_on_message_function = function(fig) {\n",
       "    return function socket_on_message(evt) {\n",
       "        if (evt.data instanceof Blob) {\n",
       "            /* FIXME: We get \"Resource interpreted as Image but\n",
       "             * transferred with MIME type text/plain:\" errors on\n",
       "             * Chrome.  But how to set the MIME type?  It doesn't seem\n",
       "             * to be part of the websocket stream */\n",
       "            evt.data.type = \"image/png\";\n",
       "\n",
       "            /* Free the memory for the previous frames */\n",
       "            if (fig.imageObj.src) {\n",
       "                (window.URL || window.webkitURL).revokeObjectURL(\n",
       "                    fig.imageObj.src);\n",
       "            }\n",
       "\n",
       "            fig.imageObj.src = (window.URL || window.webkitURL).createObjectURL(\n",
       "                evt.data);\n",
       "            fig.updated_canvas_event();\n",
       "            fig.waiting = false;\n",
       "            return;\n",
       "        }\n",
       "        else if (typeof evt.data === 'string' && evt.data.slice(0, 21) == \"data:image/png;base64\") {\n",
       "            fig.imageObj.src = evt.data;\n",
       "            fig.updated_canvas_event();\n",
       "            fig.waiting = false;\n",
       "            return;\n",
       "        }\n",
       "\n",
       "        var msg = JSON.parse(evt.data);\n",
       "        var msg_type = msg['type'];\n",
       "\n",
       "        // Call the  \"handle_{type}\" callback, which takes\n",
       "        // the figure and JSON message as its only arguments.\n",
       "        try {\n",
       "            var callback = fig[\"handle_\" + msg_type];\n",
       "        } catch (e) {\n",
       "            console.log(\"No handler for the '\" + msg_type + \"' message type: \", msg);\n",
       "            return;\n",
       "        }\n",
       "\n",
       "        if (callback) {\n",
       "            try {\n",
       "                // console.log(\"Handling '\" + msg_type + \"' message: \", msg);\n",
       "                callback(fig, msg);\n",
       "            } catch (e) {\n",
       "                console.log(\"Exception inside the 'handler_\" + msg_type + \"' callback:\", e, e.stack, msg);\n",
       "            }\n",
       "        }\n",
       "    };\n",
       "}\n",
       "\n",
       "// from http://stackoverflow.com/questions/1114465/getting-mouse-location-in-canvas\n",
       "mpl.findpos = function(e) {\n",
       "    //this section is from http://www.quirksmode.org/js/events_properties.html\n",
       "    var targ;\n",
       "    if (!e)\n",
       "        e = window.event;\n",
       "    if (e.target)\n",
       "        targ = e.target;\n",
       "    else if (e.srcElement)\n",
       "        targ = e.srcElement;\n",
       "    if (targ.nodeType == 3) // defeat Safari bug\n",
       "        targ = targ.parentNode;\n",
       "\n",
       "    // jQuery normalizes the pageX and pageY\n",
       "    // pageX,Y are the mouse positions relative to the document\n",
       "    // offset() returns the position of the element relative to the document\n",
       "    var x = e.pageX - $(targ).offset().left;\n",
       "    var y = e.pageY - $(targ).offset().top;\n",
       "\n",
       "    return {\"x\": x, \"y\": y};\n",
       "};\n",
       "\n",
       "/*\n",
       " * return a copy of an object with only non-object keys\n",
       " * we need this to avoid circular references\n",
       " * http://stackoverflow.com/a/24161582/3208463\n",
       " */\n",
       "function simpleKeys (original) {\n",
       "  return Object.keys(original).reduce(function (obj, key) {\n",
       "    if (typeof original[key] !== 'object')\n",
       "        obj[key] = original[key]\n",
       "    return obj;\n",
       "  }, {});\n",
       "}\n",
       "\n",
       "mpl.figure.prototype.mouse_event = function(event, name) {\n",
       "    var canvas_pos = mpl.findpos(event)\n",
       "\n",
       "    if (name === 'button_press')\n",
       "    {\n",
       "        this.canvas.focus();\n",
       "        this.canvas_div.focus();\n",
       "    }\n",
       "\n",
       "    var x = canvas_pos.x * mpl.ratio;\n",
       "    var y = canvas_pos.y * mpl.ratio;\n",
       "\n",
       "    this.send_message(name, {x: x, y: y, button: event.button,\n",
       "                             step: event.step,\n",
       "                             guiEvent: simpleKeys(event)});\n",
       "\n",
       "    /* This prevents the web browser from automatically changing to\n",
       "     * the text insertion cursor when the button is pressed.  We want\n",
       "     * to control all of the cursor setting manually through the\n",
       "     * 'cursor' event from matplotlib */\n",
       "    event.preventDefault();\n",
       "    return false;\n",
       "}\n",
       "\n",
       "mpl.figure.prototype._key_event_extra = function(event, name) {\n",
       "    // Handle any extra behaviour associated with a key event\n",
       "}\n",
       "\n",
       "mpl.figure.prototype.key_event = function(event, name) {\n",
       "\n",
       "    // Prevent repeat events\n",
       "    if (name == 'key_press')\n",
       "    {\n",
       "        if (event.which === this._key)\n",
       "            return;\n",
       "        else\n",
       "            this._key = event.which;\n",
       "    }\n",
       "    if (name == 'key_release')\n",
       "        this._key = null;\n",
       "\n",
       "    var value = '';\n",
       "    if (event.ctrlKey && event.which != 17)\n",
       "        value += \"ctrl+\";\n",
       "    if (event.altKey && event.which != 18)\n",
       "        value += \"alt+\";\n",
       "    if (event.shiftKey && event.which != 16)\n",
       "        value += \"shift+\";\n",
       "\n",
       "    value += 'k';\n",
       "    value += event.which.toString();\n",
       "\n",
       "    this._key_event_extra(event, name);\n",
       "\n",
       "    this.send_message(name, {key: value,\n",
       "                             guiEvent: simpleKeys(event)});\n",
       "    return false;\n",
       "}\n",
       "\n",
       "mpl.figure.prototype.toolbar_button_onclick = function(name) {\n",
       "    if (name == 'download') {\n",
       "        this.handle_save(this, null);\n",
       "    } else {\n",
       "        this.send_message(\"toolbar_button\", {name: name});\n",
       "    }\n",
       "};\n",
       "\n",
       "mpl.figure.prototype.toolbar_button_onmouseover = function(tooltip) {\n",
       "    this.message.textContent = tooltip;\n",
       "};\n",
       "mpl.toolbar_items = [[\"Home\", \"Reset original view\", \"fa fa-home icon-home\", \"home\"], [\"Back\", \"Back to previous view\", \"fa fa-arrow-left icon-arrow-left\", \"back\"], [\"Forward\", \"Forward to next view\", \"fa fa-arrow-right icon-arrow-right\", \"forward\"], [\"\", \"\", \"\", \"\"], [\"Pan\", \"Pan axes with left mouse, zoom with right\", \"fa fa-arrows icon-move\", \"pan\"], [\"Zoom\", \"Zoom to rectangle\", \"fa fa-square-o icon-check-empty\", \"zoom\"], [\"\", \"\", \"\", \"\"], [\"Download\", \"Download plot\", \"fa fa-floppy-o icon-save\", \"download\"]];\n",
       "\n",
       "mpl.extensions = [\"eps\", \"jpeg\", \"pdf\", \"png\", \"ps\", \"raw\", \"svg\", \"tif\"];\n",
       "\n",
       "mpl.default_extension = \"png\";var comm_websocket_adapter = function(comm) {\n",
       "    // Create a \"websocket\"-like object which calls the given IPython comm\n",
       "    // object with the appropriate methods. Currently this is a non binary\n",
       "    // socket, so there is still some room for performance tuning.\n",
       "    var ws = {};\n",
       "\n",
       "    ws.close = function() {\n",
       "        comm.close()\n",
       "    };\n",
       "    ws.send = function(m) {\n",
       "        //console.log('sending', m);\n",
       "        comm.send(m);\n",
       "    };\n",
       "    // Register the callback with on_msg.\n",
       "    comm.on_msg(function(msg) {\n",
       "        //console.log('receiving', msg['content']['data'], msg);\n",
       "        // Pass the mpl event to the overridden (by mpl) onmessage function.\n",
       "        ws.onmessage(msg['content']['data'])\n",
       "    });\n",
       "    return ws;\n",
       "}\n",
       "\n",
       "mpl.mpl_figure_comm = function(comm, msg) {\n",
       "    // This is the function which gets called when the mpl process\n",
       "    // starts-up an IPython Comm through the \"matplotlib\" channel.\n",
       "\n",
       "    var id = msg.content.data.id;\n",
       "    // Get hold of the div created by the display call when the Comm\n",
       "    // socket was opened in Python.\n",
       "    var element = $(\"#\" + id);\n",
       "    var ws_proxy = comm_websocket_adapter(comm)\n",
       "\n",
       "    function ondownload(figure, format) {\n",
       "        window.open(figure.imageObj.src);\n",
       "    }\n",
       "\n",
       "    var fig = new mpl.figure(id, ws_proxy,\n",
       "                           ondownload,\n",
       "                           element.get(0));\n",
       "\n",
       "    // Call onopen now - mpl needs it, as it is assuming we've passed it a real\n",
       "    // web socket which is closed, not our websocket->open comm proxy.\n",
       "    ws_proxy.onopen();\n",
       "\n",
       "    fig.parent_element = element.get(0);\n",
       "    fig.cell_info = mpl.find_output_cell(\"<div id='\" + id + \"'></div>\");\n",
       "    if (!fig.cell_info) {\n",
       "        console.error(\"Failed to find cell for figure\", id, fig);\n",
       "        return;\n",
       "    }\n",
       "\n",
       "    var output_index = fig.cell_info[2]\n",
       "    var cell = fig.cell_info[0];\n",
       "\n",
       "};\n",
       "\n",
       "mpl.figure.prototype.handle_close = function(fig, msg) {\n",
       "    var width = fig.canvas.width/mpl.ratio\n",
       "    fig.root.unbind('remove')\n",
       "\n",
       "    // Update the output cell to use the data from the current canvas.\n",
       "    fig.push_to_output();\n",
       "    var dataURL = fig.canvas.toDataURL();\n",
       "    // Re-enable the keyboard manager in IPython - without this line, in FF,\n",
       "    // the notebook keyboard shortcuts fail.\n",
       "    IPython.keyboard_manager.enable()\n",
       "    $(fig.parent_element).html('<img src=\"' + dataURL + '\" width=\"' + width + '\">');\n",
       "    fig.close_ws(fig, msg);\n",
       "}\n",
       "\n",
       "mpl.figure.prototype.close_ws = function(fig, msg){\n",
       "    fig.send_message('closing', msg);\n",
       "    // fig.ws.close()\n",
       "}\n",
       "\n",
       "mpl.figure.prototype.push_to_output = function(remove_interactive) {\n",
       "    // Turn the data on the canvas into data in the output cell.\n",
       "    var width = this.canvas.width/mpl.ratio\n",
       "    var dataURL = this.canvas.toDataURL();\n",
       "    this.cell_info[1]['text/html'] = '<img src=\"' + dataURL + '\" width=\"' + width + '\">';\n",
       "}\n",
       "\n",
       "mpl.figure.prototype.updated_canvas_event = function() {\n",
       "    // Tell IPython that the notebook contents must change.\n",
       "    IPython.notebook.set_dirty(true);\n",
       "    this.send_message(\"ack\", {});\n",
       "    var fig = this;\n",
       "    // Wait a second, then push the new image to the DOM so\n",
       "    // that it is saved nicely (might be nice to debounce this).\n",
       "    setTimeout(function () { fig.push_to_output() }, 1000);\n",
       "}\n",
       "\n",
       "mpl.figure.prototype._init_toolbar = function() {\n",
       "    var fig = this;\n",
       "\n",
       "    var nav_element = $('<div/>')\n",
       "    nav_element.attr('style', 'width: 100%');\n",
       "    this.root.append(nav_element);\n",
       "\n",
       "    // Define a callback function for later on.\n",
       "    function toolbar_event(event) {\n",
       "        return fig.toolbar_button_onclick(event['data']);\n",
       "    }\n",
       "    function toolbar_mouse_event(event) {\n",
       "        return fig.toolbar_button_onmouseover(event['data']);\n",
       "    }\n",
       "\n",
       "    for(var toolbar_ind in mpl.toolbar_items){\n",
       "        var name = mpl.toolbar_items[toolbar_ind][0];\n",
       "        var tooltip = mpl.toolbar_items[toolbar_ind][1];\n",
       "        var image = mpl.toolbar_items[toolbar_ind][2];\n",
       "        var method_name = mpl.toolbar_items[toolbar_ind][3];\n",
       "\n",
       "        if (!name) { continue; };\n",
       "\n",
       "        var button = $('<button class=\"btn btn-default\" href=\"#\" title=\"' + name + '\"><i class=\"fa ' + image + ' fa-lg\"></i></button>');\n",
       "        button.click(method_name, toolbar_event);\n",
       "        button.mouseover(tooltip, toolbar_mouse_event);\n",
       "        nav_element.append(button);\n",
       "    }\n",
       "\n",
       "    // Add the status bar.\n",
       "    var status_bar = $('<span class=\"mpl-message\" style=\"text-align:right; float: right;\"/>');\n",
       "    nav_element.append(status_bar);\n",
       "    this.message = status_bar[0];\n",
       "\n",
       "    // Add the close button to the window.\n",
       "    var buttongrp = $('<div class=\"btn-group inline pull-right\"></div>');\n",
       "    var button = $('<button class=\"btn btn-mini btn-primary\" href=\"#\" title=\"Stop Interaction\"><i class=\"fa fa-power-off icon-remove icon-large\"></i></button>');\n",
       "    button.click(function (evt) { fig.handle_close(fig, {}); } );\n",
       "    button.mouseover('Stop Interaction', toolbar_mouse_event);\n",
       "    buttongrp.append(button);\n",
       "    var titlebar = this.root.find($('.ui-dialog-titlebar'));\n",
       "    titlebar.prepend(buttongrp);\n",
       "}\n",
       "\n",
       "mpl.figure.prototype._root_extra_style = function(el){\n",
       "    var fig = this\n",
       "    el.on(\"remove\", function(){\n",
       "\tfig.close_ws(fig, {});\n",
       "    });\n",
       "}\n",
       "\n",
       "mpl.figure.prototype._canvas_extra_style = function(el){\n",
       "    // this is important to make the div 'focusable\n",
       "    el.attr('tabindex', 0)\n",
       "    // reach out to IPython and tell the keyboard manager to turn it's self\n",
       "    // off when our div gets focus\n",
       "\n",
       "    // location in version 3\n",
       "    if (IPython.notebook.keyboard_manager) {\n",
       "        IPython.notebook.keyboard_manager.register_events(el);\n",
       "    }\n",
       "    else {\n",
       "        // location in version 2\n",
       "        IPython.keyboard_manager.register_events(el);\n",
       "    }\n",
       "\n",
       "}\n",
       "\n",
       "mpl.figure.prototype._key_event_extra = function(event, name) {\n",
       "    var manager = IPython.notebook.keyboard_manager;\n",
       "    if (!manager)\n",
       "        manager = IPython.keyboard_manager;\n",
       "\n",
       "    // Check for shift+enter\n",
       "    if (event.shiftKey && event.which == 13) {\n",
       "        this.canvas_div.blur();\n",
       "        event.shiftKey = false;\n",
       "        // Send a \"J\" for go to next cell\n",
       "        event.which = 74;\n",
       "        event.keyCode = 74;\n",
       "        manager.command_mode();\n",
       "        manager.handle_keydown(event);\n",
       "    }\n",
       "}\n",
       "\n",
       "mpl.figure.prototype.handle_save = function(fig, msg) {\n",
       "    fig.ondownload(fig, null);\n",
       "}\n",
       "\n",
       "\n",
       "mpl.find_output_cell = function(html_output) {\n",
       "    // Return the cell and output element which can be found *uniquely* in the notebook.\n",
       "    // Note - this is a bit hacky, but it is done because the \"notebook_saving.Notebook\"\n",
       "    // IPython event is triggered only after the cells have been serialised, which for\n",
       "    // our purposes (turning an active figure into a static one), is too late.\n",
       "    var cells = IPython.notebook.get_cells();\n",
       "    var ncells = cells.length;\n",
       "    for (var i=0; i<ncells; i++) {\n",
       "        var cell = cells[i];\n",
       "        if (cell.cell_type === 'code'){\n",
       "            for (var j=0; j<cell.output_area.outputs.length; j++) {\n",
       "                var data = cell.output_area.outputs[j];\n",
       "                if (data.data) {\n",
       "                    // IPython >= 3 moved mimebundle to data attribute of output\n",
       "                    data = data.data;\n",
       "                }\n",
       "                if (data['text/html'] == html_output) {\n",
       "                    return [cell, data, j];\n",
       "                }\n",
       "            }\n",
       "        }\n",
       "    }\n",
       "}\n",
       "\n",
       "// Register the function which deals with the matplotlib target/channel.\n",
       "// The kernel may be null if the page has been refreshed.\n",
       "if (IPython.notebook.kernel != null) {\n",
       "    IPython.notebook.kernel.comm_manager.register_target('matplotlib', mpl.mpl_figure_comm);\n",
       "}\n"
      ],
      "text/plain": [
       "<IPython.core.display.Javascript object>"
      ]
     },
     "metadata": {},
     "output_type": "display_data"
    },
    {
     "data": {
      "text/html": [
       "<img src=\"data:image/png;base64,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\" width=\"640\">"
      ],
      "text/plain": [
       "<IPython.core.display.HTML object>"
      ]
     },
     "metadata": {},
     "output_type": "display_data"
    }
   ],
   "source": [
    "def show_sudoku(raw):\n",
    "    return (torch.argmax(raw,2)+1)*(raw.sum(2).long())\n",
    "\n",
    "def show_mnist_sudoku(raw):\n",
    "    A = raw.numpy()\n",
    "    digits = np.concatenate(np.concatenate(A,axis=1), axis=1).astype(np.uint8)\n",
    "    linewidth = 2\n",
    "    board = np.zeros((digits.shape[0]+linewidth*4, digits.shape[1]+linewidth*4), dtype=np.uint8)\n",
    "    gridwidth = digits.shape[0]//3\n",
    "\n",
    "    board[:] = 255\n",
    "    for i in range(3):\n",
    "        for j in range(3):\n",
    "            xoff = linewidth+(linewidth+gridwidth)*i\n",
    "            yoff = linewidth+(linewidth+gridwidth)*j\n",
    "            xst = gridwidth*i\n",
    "            yst = gridwidth*j\n",
    "            board[xoff:xoff+gridwidth, yoff:yoff+gridwidth] = digits[xst:xst+gridwidth, yst:yst+gridwidth]\n",
    "\n",
    "    #img = Image.fromarray(255-board)\n",
    "    plt.imshow(255-board, cmap='gray')\n",
    "\n",
    "display(Markdown('## Sudoku'))\n",
    "print(show_sudoku(X_in[0]))\n",
    "print()\n",
    "display(Markdown('## One-hot encoded Boolean Sudoku'))\n",
    "print(X[0])\n",
    "    \n",
    "display(Markdown('## MNIST Sudoku'))\n",
    "show_mnist_sudoku(Ximg_in[0])"
   ]
  },
  {
   "cell_type": "markdown",
   "metadata": {},
   "source": [
    "# The Boolean Sudoku Experiment"
   ]
  },
  {
   "cell_type": "code",
   "execution_count": 8,
   "metadata": {},
   "outputs": [
    {
     "data": {
      "application/javascript": [
       "/* Put everything inside the global mpl namespace */\n",
       "window.mpl = {};\n",
       "\n",
       "\n",
       "mpl.get_websocket_type = function() {\n",
       "    if (typeof(WebSocket) !== 'undefined') {\n",
       "        return WebSocket;\n",
       "    } else if (typeof(MozWebSocket) !== 'undefined') {\n",
       "        return MozWebSocket;\n",
       "    } else {\n",
       "        alert('Your browser does not have WebSocket support.' +\n",
       "              'Please try Chrome, Safari or Firefox ≥ 6. ' +\n",
       "              'Firefox 4 and 5 are also supported but you ' +\n",
       "              'have to enable WebSockets in about:config.');\n",
       "    };\n",
       "}\n",
       "\n",
       "mpl.figure = function(figure_id, websocket, ondownload, parent_element) {\n",
       "    this.id = figure_id;\n",
       "\n",
       "    this.ws = websocket;\n",
       "\n",
       "    this.supports_binary = (this.ws.binaryType != undefined);\n",
       "\n",
       "    if (!this.supports_binary) {\n",
       "        var warnings = document.getElementById(\"mpl-warnings\");\n",
       "        if (warnings) {\n",
       "            warnings.style.display = 'block';\n",
       "            warnings.textContent = (\n",
       "                \"This browser does not support binary websocket messages. \" +\n",
       "                    \"Performance may be slow.\");\n",
       "        }\n",
       "    }\n",
       "\n",
       "    this.imageObj = new Image();\n",
       "\n",
       "    this.context = undefined;\n",
       "    this.message = undefined;\n",
       "    this.canvas = undefined;\n",
       "    this.rubberband_canvas = undefined;\n",
       "    this.rubberband_context = undefined;\n",
       "    this.format_dropdown = undefined;\n",
       "\n",
       "    this.image_mode = 'full';\n",
       "\n",
       "    this.root = $('<div/>');\n",
       "    this._root_extra_style(this.root)\n",
       "    this.root.attr('style', 'display: inline-block');\n",
       "\n",
       "    $(parent_element).append(this.root);\n",
       "\n",
       "    this._init_header(this);\n",
       "    this._init_canvas(this);\n",
       "    this._init_toolbar(this);\n",
       "\n",
       "    var fig = this;\n",
       "\n",
       "    this.waiting = false;\n",
       "\n",
       "    this.ws.onopen =  function () {\n",
       "            fig.send_message(\"supports_binary\", {value: fig.supports_binary});\n",
       "            fig.send_message(\"send_image_mode\", {});\n",
       "            if (mpl.ratio != 1) {\n",
       "                fig.send_message(\"set_dpi_ratio\", {'dpi_ratio': mpl.ratio});\n",
       "            }\n",
       "            fig.send_message(\"refresh\", {});\n",
       "        }\n",
       "\n",
       "    this.imageObj.onload = function() {\n",
       "            if (fig.image_mode == 'full') {\n",
       "                // Full images could contain transparency (where diff images\n",
       "                // almost always do), so we need to clear the canvas so that\n",
       "                // there is no ghosting.\n",
       "                fig.context.clearRect(0, 0, fig.canvas.width, fig.canvas.height);\n",
       "            }\n",
       "            fig.context.drawImage(fig.imageObj, 0, 0);\n",
       "        };\n",
       "\n",
       "    this.imageObj.onunload = function() {\n",
       "        fig.ws.close();\n",
       "    }\n",
       "\n",
       "    this.ws.onmessage = this._make_on_message_function(this);\n",
       "\n",
       "    this.ondownload = ondownload;\n",
       "}\n",
       "\n",
       "mpl.figure.prototype._init_header = function() {\n",
       "    var titlebar = $(\n",
       "        '<div class=\"ui-dialog-titlebar ui-widget-header ui-corner-all ' +\n",
       "        'ui-helper-clearfix\"/>');\n",
       "    var titletext = $(\n",
       "        '<div class=\"ui-dialog-title\" style=\"width: 100%; ' +\n",
       "        'text-align: center; padding: 3px;\"/>');\n",
       "    titlebar.append(titletext)\n",
       "    this.root.append(titlebar);\n",
       "    this.header = titletext[0];\n",
       "}\n",
       "\n",
       "\n",
       "\n",
       "mpl.figure.prototype._canvas_extra_style = function(canvas_div) {\n",
       "\n",
       "}\n",
       "\n",
       "\n",
       "mpl.figure.prototype._root_extra_style = function(canvas_div) {\n",
       "\n",
       "}\n",
       "\n",
       "mpl.figure.prototype._init_canvas = function() {\n",
       "    var fig = this;\n",
       "\n",
       "    var canvas_div = $('<div/>');\n",
       "\n",
       "    canvas_div.attr('style', 'position: relative; clear: both; outline: 0');\n",
       "\n",
       "    function canvas_keyboard_event(event) {\n",
       "        return fig.key_event(event, event['data']);\n",
       "    }\n",
       "\n",
       "    canvas_div.keydown('key_press', canvas_keyboard_event);\n",
       "    canvas_div.keyup('key_release', canvas_keyboard_event);\n",
       "    this.canvas_div = canvas_div\n",
       "    this._canvas_extra_style(canvas_div)\n",
       "    this.root.append(canvas_div);\n",
       "\n",
       "    var canvas = $('<canvas/>');\n",
       "    canvas.addClass('mpl-canvas');\n",
       "    canvas.attr('style', \"left: 0; top: 0; z-index: 0; outline: 0\")\n",
       "\n",
       "    this.canvas = canvas[0];\n",
       "    this.context = canvas[0].getContext(\"2d\");\n",
       "\n",
       "    var backingStore = this.context.backingStorePixelRatio ||\n",
       "\tthis.context.webkitBackingStorePixelRatio ||\n",
       "\tthis.context.mozBackingStorePixelRatio ||\n",
       "\tthis.context.msBackingStorePixelRatio ||\n",
       "\tthis.context.oBackingStorePixelRatio ||\n",
       "\tthis.context.backingStorePixelRatio || 1;\n",
       "\n",
       "    mpl.ratio = (window.devicePixelRatio || 1) / backingStore;\n",
       "\n",
       "    var rubberband = $('<canvas/>');\n",
       "    rubberband.attr('style', \"position: absolute; left: 0; top: 0; z-index: 1;\")\n",
       "\n",
       "    var pass_mouse_events = true;\n",
       "\n",
       "    canvas_div.resizable({\n",
       "        start: function(event, ui) {\n",
       "            pass_mouse_events = false;\n",
       "        },\n",
       "        resize: function(event, ui) {\n",
       "            fig.request_resize(ui.size.width, ui.size.height);\n",
       "        },\n",
       "        stop: function(event, ui) {\n",
       "            pass_mouse_events = true;\n",
       "            fig.request_resize(ui.size.width, ui.size.height);\n",
       "        },\n",
       "    });\n",
       "\n",
       "    function mouse_event_fn(event) {\n",
       "        if (pass_mouse_events)\n",
       "            return fig.mouse_event(event, event['data']);\n",
       "    }\n",
       "\n",
       "    rubberband.mousedown('button_press', mouse_event_fn);\n",
       "    rubberband.mouseup('button_release', mouse_event_fn);\n",
       "    // Throttle sequential mouse events to 1 every 20ms.\n",
       "    rubberband.mousemove('motion_notify', mouse_event_fn);\n",
       "\n",
       "    rubberband.mouseenter('figure_enter', mouse_event_fn);\n",
       "    rubberband.mouseleave('figure_leave', mouse_event_fn);\n",
       "\n",
       "    canvas_div.on(\"wheel\", function (event) {\n",
       "        event = event.originalEvent;\n",
       "        event['data'] = 'scroll'\n",
       "        if (event.deltaY < 0) {\n",
       "            event.step = 1;\n",
       "        } else {\n",
       "            event.step = -1;\n",
       "        }\n",
       "        mouse_event_fn(event);\n",
       "    });\n",
       "\n",
       "    canvas_div.append(canvas);\n",
       "    canvas_div.append(rubberband);\n",
       "\n",
       "    this.rubberband = rubberband;\n",
       "    this.rubberband_canvas = rubberband[0];\n",
       "    this.rubberband_context = rubberband[0].getContext(\"2d\");\n",
       "    this.rubberband_context.strokeStyle = \"#000000\";\n",
       "\n",
       "    this._resize_canvas = function(width, height) {\n",
       "        // Keep the size of the canvas, canvas container, and rubber band\n",
       "        // canvas in synch.\n",
       "        canvas_div.css('width', width)\n",
       "        canvas_div.css('height', height)\n",
       "\n",
       "        canvas.attr('width', width * mpl.ratio);\n",
       "        canvas.attr('height', height * mpl.ratio);\n",
       "        canvas.attr('style', 'width: ' + width + 'px; height: ' + height + 'px;');\n",
       "\n",
       "        rubberband.attr('width', width);\n",
       "        rubberband.attr('height', height);\n",
       "    }\n",
       "\n",
       "    // Set the figure to an initial 600x600px, this will subsequently be updated\n",
       "    // upon first draw.\n",
       "    this._resize_canvas(600, 600);\n",
       "\n",
       "    // Disable right mouse context menu.\n",
       "    $(this.rubberband_canvas).bind(\"contextmenu\",function(e){\n",
       "        return false;\n",
       "    });\n",
       "\n",
       "    function set_focus () {\n",
       "        canvas.focus();\n",
       "        canvas_div.focus();\n",
       "    }\n",
       "\n",
       "    window.setTimeout(set_focus, 100);\n",
       "}\n",
       "\n",
       "mpl.figure.prototype._init_toolbar = function() {\n",
       "    var fig = this;\n",
       "\n",
       "    var nav_element = $('<div/>')\n",
       "    nav_element.attr('style', 'width: 100%');\n",
       "    this.root.append(nav_element);\n",
       "\n",
       "    // Define a callback function for later on.\n",
       "    function toolbar_event(event) {\n",
       "        return fig.toolbar_button_onclick(event['data']);\n",
       "    }\n",
       "    function toolbar_mouse_event(event) {\n",
       "        return fig.toolbar_button_onmouseover(event['data']);\n",
       "    }\n",
       "\n",
       "    for(var toolbar_ind in mpl.toolbar_items) {\n",
       "        var name = mpl.toolbar_items[toolbar_ind][0];\n",
       "        var tooltip = mpl.toolbar_items[toolbar_ind][1];\n",
       "        var image = mpl.toolbar_items[toolbar_ind][2];\n",
       "        var method_name = mpl.toolbar_items[toolbar_ind][3];\n",
       "\n",
       "        if (!name) {\n",
       "            // put a spacer in here.\n",
       "            continue;\n",
       "        }\n",
       "        var button = $('<button/>');\n",
       "        button.addClass('ui-button ui-widget ui-state-default ui-corner-all ' +\n",
       "                        'ui-button-icon-only');\n",
       "        button.attr('role', 'button');\n",
       "        button.attr('aria-disabled', 'false');\n",
       "        button.click(method_name, toolbar_event);\n",
       "        button.mouseover(tooltip, toolbar_mouse_event);\n",
       "\n",
       "        var icon_img = $('<span/>');\n",
       "        icon_img.addClass('ui-button-icon-primary ui-icon');\n",
       "        icon_img.addClass(image);\n",
       "        icon_img.addClass('ui-corner-all');\n",
       "\n",
       "        var tooltip_span = $('<span/>');\n",
       "        tooltip_span.addClass('ui-button-text');\n",
       "        tooltip_span.html(tooltip);\n",
       "\n",
       "        button.append(icon_img);\n",
       "        button.append(tooltip_span);\n",
       "\n",
       "        nav_element.append(button);\n",
       "    }\n",
       "\n",
       "    var fmt_picker_span = $('<span/>');\n",
       "\n",
       "    var fmt_picker = $('<select/>');\n",
       "    fmt_picker.addClass('mpl-toolbar-option ui-widget ui-widget-content');\n",
       "    fmt_picker_span.append(fmt_picker);\n",
       "    nav_element.append(fmt_picker_span);\n",
       "    this.format_dropdown = fmt_picker[0];\n",
       "\n",
       "    for (var ind in mpl.extensions) {\n",
       "        var fmt = mpl.extensions[ind];\n",
       "        var option = $(\n",
       "            '<option/>', {selected: fmt === mpl.default_extension}).html(fmt);\n",
       "        fmt_picker.append(option)\n",
       "    }\n",
       "\n",
       "    // Add hover states to the ui-buttons\n",
       "    $( \".ui-button\" ).hover(\n",
       "        function() { $(this).addClass(\"ui-state-hover\");},\n",
       "        function() { $(this).removeClass(\"ui-state-hover\");}\n",
       "    );\n",
       "\n",
       "    var status_bar = $('<span class=\"mpl-message\"/>');\n",
       "    nav_element.append(status_bar);\n",
       "    this.message = status_bar[0];\n",
       "}\n",
       "\n",
       "mpl.figure.prototype.request_resize = function(x_pixels, y_pixels) {\n",
       "    // Request matplotlib to resize the figure. Matplotlib will then trigger a resize in the client,\n",
       "    // which will in turn request a refresh of the image.\n",
       "    this.send_message('resize', {'width': x_pixels, 'height': y_pixels});\n",
       "}\n",
       "\n",
       "mpl.figure.prototype.send_message = function(type, properties) {\n",
       "    properties['type'] = type;\n",
       "    properties['figure_id'] = this.id;\n",
       "    this.ws.send(JSON.stringify(properties));\n",
       "}\n",
       "\n",
       "mpl.figure.prototype.send_draw_message = function() {\n",
       "    if (!this.waiting) {\n",
       "        this.waiting = true;\n",
       "        this.ws.send(JSON.stringify({type: \"draw\", figure_id: this.id}));\n",
       "    }\n",
       "}\n",
       "\n",
       "\n",
       "mpl.figure.prototype.handle_save = function(fig, msg) {\n",
       "    var format_dropdown = fig.format_dropdown;\n",
       "    var format = format_dropdown.options[format_dropdown.selectedIndex].value;\n",
       "    fig.ondownload(fig, format);\n",
       "}\n",
       "\n",
       "\n",
       "mpl.figure.prototype.handle_resize = function(fig, msg) {\n",
       "    var size = msg['size'];\n",
       "    if (size[0] != fig.canvas.width || size[1] != fig.canvas.height) {\n",
       "        fig._resize_canvas(size[0], size[1]);\n",
       "        fig.send_message(\"refresh\", {});\n",
       "    };\n",
       "}\n",
       "\n",
       "mpl.figure.prototype.handle_rubberband = function(fig, msg) {\n",
       "    var x0 = msg['x0'] / mpl.ratio;\n",
       "    var y0 = (fig.canvas.height - msg['y0']) / mpl.ratio;\n",
       "    var x1 = msg['x1'] / mpl.ratio;\n",
       "    var y1 = (fig.canvas.height - msg['y1']) / mpl.ratio;\n",
       "    x0 = Math.floor(x0) + 0.5;\n",
       "    y0 = Math.floor(y0) + 0.5;\n",
       "    x1 = Math.floor(x1) + 0.5;\n",
       "    y1 = Math.floor(y1) + 0.5;\n",
       "    var min_x = Math.min(x0, x1);\n",
       "    var min_y = Math.min(y0, y1);\n",
       "    var width = Math.abs(x1 - x0);\n",
       "    var height = Math.abs(y1 - y0);\n",
       "\n",
       "    fig.rubberband_context.clearRect(\n",
       "        0, 0, fig.canvas.width, fig.canvas.height);\n",
       "\n",
       "    fig.rubberband_context.strokeRect(min_x, min_y, width, height);\n",
       "}\n",
       "\n",
       "mpl.figure.prototype.handle_figure_label = function(fig, msg) {\n",
       "    // Updates the figure title.\n",
       "    fig.header.textContent = msg['label'];\n",
       "}\n",
       "\n",
       "mpl.figure.prototype.handle_cursor = function(fig, msg) {\n",
       "    var cursor = msg['cursor'];\n",
       "    switch(cursor)\n",
       "    {\n",
       "    case 0:\n",
       "        cursor = 'pointer';\n",
       "        break;\n",
       "    case 1:\n",
       "        cursor = 'default';\n",
       "        break;\n",
       "    case 2:\n",
       "        cursor = 'crosshair';\n",
       "        break;\n",
       "    case 3:\n",
       "        cursor = 'move';\n",
       "        break;\n",
       "    }\n",
       "    fig.rubberband_canvas.style.cursor = cursor;\n",
       "}\n",
       "\n",
       "mpl.figure.prototype.handle_message = function(fig, msg) {\n",
       "    fig.message.textContent = msg['message'];\n",
       "}\n",
       "\n",
       "mpl.figure.prototype.handle_draw = function(fig, msg) {\n",
       "    // Request the server to send over a new figure.\n",
       "    fig.send_draw_message();\n",
       "}\n",
       "\n",
       "mpl.figure.prototype.handle_image_mode = function(fig, msg) {\n",
       "    fig.image_mode = msg['mode'];\n",
       "}\n",
       "\n",
       "mpl.figure.prototype.updated_canvas_event = function() {\n",
       "    // Called whenever the canvas gets updated.\n",
       "    this.send_message(\"ack\", {});\n",
       "}\n",
       "\n",
       "// A function to construct a web socket function for onmessage handling.\n",
       "// Called in the figure constructor.\n",
       "mpl.figure.prototype._make_on_message_function = function(fig) {\n",
       "    return function socket_on_message(evt) {\n",
       "        if (evt.data instanceof Blob) {\n",
       "            /* FIXME: We get \"Resource interpreted as Image but\n",
       "             * transferred with MIME type text/plain:\" errors on\n",
       "             * Chrome.  But how to set the MIME type?  It doesn't seem\n",
       "             * to be part of the websocket stream */\n",
       "            evt.data.type = \"image/png\";\n",
       "\n",
       "            /* Free the memory for the previous frames */\n",
       "            if (fig.imageObj.src) {\n",
       "                (window.URL || window.webkitURL).revokeObjectURL(\n",
       "                    fig.imageObj.src);\n",
       "            }\n",
       "\n",
       "            fig.imageObj.src = (window.URL || window.webkitURL).createObjectURL(\n",
       "                evt.data);\n",
       "            fig.updated_canvas_event();\n",
       "            fig.waiting = false;\n",
       "            return;\n",
       "        }\n",
       "        else if (typeof evt.data === 'string' && evt.data.slice(0, 21) == \"data:image/png;base64\") {\n",
       "            fig.imageObj.src = evt.data;\n",
       "            fig.updated_canvas_event();\n",
       "            fig.waiting = false;\n",
       "            return;\n",
       "        }\n",
       "\n",
       "        var msg = JSON.parse(evt.data);\n",
       "        var msg_type = msg['type'];\n",
       "\n",
       "        // Call the  \"handle_{type}\" callback, which takes\n",
       "        // the figure and JSON message as its only arguments.\n",
       "        try {\n",
       "            var callback = fig[\"handle_\" + msg_type];\n",
       "        } catch (e) {\n",
       "            console.log(\"No handler for the '\" + msg_type + \"' message type: \", msg);\n",
       "            return;\n",
       "        }\n",
       "\n",
       "        if (callback) {\n",
       "            try {\n",
       "                // console.log(\"Handling '\" + msg_type + \"' message: \", msg);\n",
       "                callback(fig, msg);\n",
       "            } catch (e) {\n",
       "                console.log(\"Exception inside the 'handler_\" + msg_type + \"' callback:\", e, e.stack, msg);\n",
       "            }\n",
       "        }\n",
       "    };\n",
       "}\n",
       "\n",
       "// from http://stackoverflow.com/questions/1114465/getting-mouse-location-in-canvas\n",
       "mpl.findpos = function(e) {\n",
       "    //this section is from http://www.quirksmode.org/js/events_properties.html\n",
       "    var targ;\n",
       "    if (!e)\n",
       "        e = window.event;\n",
       "    if (e.target)\n",
       "        targ = e.target;\n",
       "    else if (e.srcElement)\n",
       "        targ = e.srcElement;\n",
       "    if (targ.nodeType == 3) // defeat Safari bug\n",
       "        targ = targ.parentNode;\n",
       "\n",
       "    // jQuery normalizes the pageX and pageY\n",
       "    // pageX,Y are the mouse positions relative to the document\n",
       "    // offset() returns the position of the element relative to the document\n",
       "    var x = e.pageX - $(targ).offset().left;\n",
       "    var y = e.pageY - $(targ).offset().top;\n",
       "\n",
       "    return {\"x\": x, \"y\": y};\n",
       "};\n",
       "\n",
       "/*\n",
       " * return a copy of an object with only non-object keys\n",
       " * we need this to avoid circular references\n",
       " * http://stackoverflow.com/a/24161582/3208463\n",
       " */\n",
       "function simpleKeys (original) {\n",
       "  return Object.keys(original).reduce(function (obj, key) {\n",
       "    if (typeof original[key] !== 'object')\n",
       "        obj[key] = original[key]\n",
       "    return obj;\n",
       "  }, {});\n",
       "}\n",
       "\n",
       "mpl.figure.prototype.mouse_event = function(event, name) {\n",
       "    var canvas_pos = mpl.findpos(event)\n",
       "\n",
       "    if (name === 'button_press')\n",
       "    {\n",
       "        this.canvas.focus();\n",
       "        this.canvas_div.focus();\n",
       "    }\n",
       "\n",
       "    var x = canvas_pos.x * mpl.ratio;\n",
       "    var y = canvas_pos.y * mpl.ratio;\n",
       "\n",
       "    this.send_message(name, {x: x, y: y, button: event.button,\n",
       "                             step: event.step,\n",
       "                             guiEvent: simpleKeys(event)});\n",
       "\n",
       "    /* This prevents the web browser from automatically changing to\n",
       "     * the text insertion cursor when the button is pressed.  We want\n",
       "     * to control all of the cursor setting manually through the\n",
       "     * 'cursor' event from matplotlib */\n",
       "    event.preventDefault();\n",
       "    return false;\n",
       "}\n",
       "\n",
       "mpl.figure.prototype._key_event_extra = function(event, name) {\n",
       "    // Handle any extra behaviour associated with a key event\n",
       "}\n",
       "\n",
       "mpl.figure.prototype.key_event = function(event, name) {\n",
       "\n",
       "    // Prevent repeat events\n",
       "    if (name == 'key_press')\n",
       "    {\n",
       "        if (event.which === this._key)\n",
       "            return;\n",
       "        else\n",
       "            this._key = event.which;\n",
       "    }\n",
       "    if (name == 'key_release')\n",
       "        this._key = null;\n",
       "\n",
       "    var value = '';\n",
       "    if (event.ctrlKey && event.which != 17)\n",
       "        value += \"ctrl+\";\n",
       "    if (event.altKey && event.which != 18)\n",
       "        value += \"alt+\";\n",
       "    if (event.shiftKey && event.which != 16)\n",
       "        value += \"shift+\";\n",
       "\n",
       "    value += 'k';\n",
       "    value += event.which.toString();\n",
       "\n",
       "    this._key_event_extra(event, name);\n",
       "\n",
       "    this.send_message(name, {key: value,\n",
       "                             guiEvent: simpleKeys(event)});\n",
       "    return false;\n",
       "}\n",
       "\n",
       "mpl.figure.prototype.toolbar_button_onclick = function(name) {\n",
       "    if (name == 'download') {\n",
       "        this.handle_save(this, null);\n",
       "    } else {\n",
       "        this.send_message(\"toolbar_button\", {name: name});\n",
       "    }\n",
       "};\n",
       "\n",
       "mpl.figure.prototype.toolbar_button_onmouseover = function(tooltip) {\n",
       "    this.message.textContent = tooltip;\n",
       "};\n",
       "mpl.toolbar_items = [[\"Home\", \"Reset original view\", \"fa fa-home icon-home\", \"home\"], [\"Back\", \"Back to previous view\", \"fa fa-arrow-left icon-arrow-left\", \"back\"], [\"Forward\", \"Forward to next view\", \"fa fa-arrow-right icon-arrow-right\", \"forward\"], [\"\", \"\", \"\", \"\"], [\"Pan\", \"Pan axes with left mouse, zoom with right\", \"fa fa-arrows icon-move\", \"pan\"], [\"Zoom\", \"Zoom to rectangle\", \"fa fa-square-o icon-check-empty\", \"zoom\"], [\"\", \"\", \"\", \"\"], [\"Download\", \"Download plot\", \"fa fa-floppy-o icon-save\", \"download\"]];\n",
       "\n",
       "mpl.extensions = [\"eps\", \"jpeg\", \"pdf\", \"png\", \"ps\", \"raw\", \"svg\", \"tif\"];\n",
       "\n",
       "mpl.default_extension = \"png\";var comm_websocket_adapter = function(comm) {\n",
       "    // Create a \"websocket\"-like object which calls the given IPython comm\n",
       "    // object with the appropriate methods. Currently this is a non binary\n",
       "    // socket, so there is still some room for performance tuning.\n",
       "    var ws = {};\n",
       "\n",
       "    ws.close = function() {\n",
       "        comm.close()\n",
       "    };\n",
       "    ws.send = function(m) {\n",
       "        //console.log('sending', m);\n",
       "        comm.send(m);\n",
       "    };\n",
       "    // Register the callback with on_msg.\n",
       "    comm.on_msg(function(msg) {\n",
       "        //console.log('receiving', msg['content']['data'], msg);\n",
       "        // Pass the mpl event to the overridden (by mpl) onmessage function.\n",
       "        ws.onmessage(msg['content']['data'])\n",
       "    });\n",
       "    return ws;\n",
       "}\n",
       "\n",
       "mpl.mpl_figure_comm = function(comm, msg) {\n",
       "    // This is the function which gets called when the mpl process\n",
       "    // starts-up an IPython Comm through the \"matplotlib\" channel.\n",
       "\n",
       "    var id = msg.content.data.id;\n",
       "    // Get hold of the div created by the display call when the Comm\n",
       "    // socket was opened in Python.\n",
       "    var element = $(\"#\" + id);\n",
       "    var ws_proxy = comm_websocket_adapter(comm)\n",
       "\n",
       "    function ondownload(figure, format) {\n",
       "        window.open(figure.imageObj.src);\n",
       "    }\n",
       "\n",
       "    var fig = new mpl.figure(id, ws_proxy,\n",
       "                           ondownload,\n",
       "                           element.get(0));\n",
       "\n",
       "    // Call onopen now - mpl needs it, as it is assuming we've passed it a real\n",
       "    // web socket which is closed, not our websocket->open comm proxy.\n",
       "    ws_proxy.onopen();\n",
       "\n",
       "    fig.parent_element = element.get(0);\n",
       "    fig.cell_info = mpl.find_output_cell(\"<div id='\" + id + \"'></div>\");\n",
       "    if (!fig.cell_info) {\n",
       "        console.error(\"Failed to find cell for figure\", id, fig);\n",
       "        return;\n",
       "    }\n",
       "\n",
       "    var output_index = fig.cell_info[2]\n",
       "    var cell = fig.cell_info[0];\n",
       "\n",
       "};\n",
       "\n",
       "mpl.figure.prototype.handle_close = function(fig, msg) {\n",
       "    var width = fig.canvas.width/mpl.ratio\n",
       "    fig.root.unbind('remove')\n",
       "\n",
       "    // Update the output cell to use the data from the current canvas.\n",
       "    fig.push_to_output();\n",
       "    var dataURL = fig.canvas.toDataURL();\n",
       "    // Re-enable the keyboard manager in IPython - without this line, in FF,\n",
       "    // the notebook keyboard shortcuts fail.\n",
       "    IPython.keyboard_manager.enable()\n",
       "    $(fig.parent_element).html('<img src=\"' + dataURL + '\" width=\"' + width + '\">');\n",
       "    fig.close_ws(fig, msg);\n",
       "}\n",
       "\n",
       "mpl.figure.prototype.close_ws = function(fig, msg){\n",
       "    fig.send_message('closing', msg);\n",
       "    // fig.ws.close()\n",
       "}\n",
       "\n",
       "mpl.figure.prototype.push_to_output = function(remove_interactive) {\n",
       "    // Turn the data on the canvas into data in the output cell.\n",
       "    var width = this.canvas.width/mpl.ratio\n",
       "    var dataURL = this.canvas.toDataURL();\n",
       "    this.cell_info[1]['text/html'] = '<img src=\"' + dataURL + '\" width=\"' + width + '\">';\n",
       "}\n",
       "\n",
       "mpl.figure.prototype.updated_canvas_event = function() {\n",
       "    // Tell IPython that the notebook contents must change.\n",
       "    IPython.notebook.set_dirty(true);\n",
       "    this.send_message(\"ack\", {});\n",
       "    var fig = this;\n",
       "    // Wait a second, then push the new image to the DOM so\n",
       "    // that it is saved nicely (might be nice to debounce this).\n",
       "    setTimeout(function () { fig.push_to_output() }, 1000);\n",
       "}\n",
       "\n",
       "mpl.figure.prototype._init_toolbar = function() {\n",
       "    var fig = this;\n",
       "\n",
       "    var nav_element = $('<div/>')\n",
       "    nav_element.attr('style', 'width: 100%');\n",
       "    this.root.append(nav_element);\n",
       "\n",
       "    // Define a callback function for later on.\n",
       "    function toolbar_event(event) {\n",
       "        return fig.toolbar_button_onclick(event['data']);\n",
       "    }\n",
       "    function toolbar_mouse_event(event) {\n",
       "        return fig.toolbar_button_onmouseover(event['data']);\n",
       "    }\n",
       "\n",
       "    for(var toolbar_ind in mpl.toolbar_items){\n",
       "        var name = mpl.toolbar_items[toolbar_ind][0];\n",
       "        var tooltip = mpl.toolbar_items[toolbar_ind][1];\n",
       "        var image = mpl.toolbar_items[toolbar_ind][2];\n",
       "        var method_name = mpl.toolbar_items[toolbar_ind][3];\n",
       "\n",
       "        if (!name) { continue; };\n",
       "\n",
       "        var button = $('<button class=\"btn btn-default\" href=\"#\" title=\"' + name + '\"><i class=\"fa ' + image + ' fa-lg\"></i></button>');\n",
       "        button.click(method_name, toolbar_event);\n",
       "        button.mouseover(tooltip, toolbar_mouse_event);\n",
       "        nav_element.append(button);\n",
       "    }\n",
       "\n",
       "    // Add the status bar.\n",
       "    var status_bar = $('<span class=\"mpl-message\" style=\"text-align:right; float: right;\"/>');\n",
       "    nav_element.append(status_bar);\n",
       "    this.message = status_bar[0];\n",
       "\n",
       "    // Add the close button to the window.\n",
       "    var buttongrp = $('<div class=\"btn-group inline pull-right\"></div>');\n",
       "    var button = $('<button class=\"btn btn-mini btn-primary\" href=\"#\" title=\"Stop Interaction\"><i class=\"fa fa-power-off icon-remove icon-large\"></i></button>');\n",
       "    button.click(function (evt) { fig.handle_close(fig, {}); } );\n",
       "    button.mouseover('Stop Interaction', toolbar_mouse_event);\n",
       "    buttongrp.append(button);\n",
       "    var titlebar = this.root.find($('.ui-dialog-titlebar'));\n",
       "    titlebar.prepend(buttongrp);\n",
       "}\n",
       "\n",
       "mpl.figure.prototype._root_extra_style = function(el){\n",
       "    var fig = this\n",
       "    el.on(\"remove\", function(){\n",
       "\tfig.close_ws(fig, {});\n",
       "    });\n",
       "}\n",
       "\n",
       "mpl.figure.prototype._canvas_extra_style = function(el){\n",
       "    // this is important to make the div 'focusable\n",
       "    el.attr('tabindex', 0)\n",
       "    // reach out to IPython and tell the keyboard manager to turn it's self\n",
       "    // off when our div gets focus\n",
       "\n",
       "    // location in version 3\n",
       "    if (IPython.notebook.keyboard_manager) {\n",
       "        IPython.notebook.keyboard_manager.register_events(el);\n",
       "    }\n",
       "    else {\n",
       "        // location in version 2\n",
       "        IPython.keyboard_manager.register_events(el);\n",
       "    }\n",
       "\n",
       "}\n",
       "\n",
       "mpl.figure.prototype._key_event_extra = function(event, name) {\n",
       "    var manager = IPython.notebook.keyboard_manager;\n",
       "    if (!manager)\n",
       "        manager = IPython.keyboard_manager;\n",
       "\n",
       "    // Check for shift+enter\n",
       "    if (event.shiftKey && event.which == 13) {\n",
       "        this.canvas_div.blur();\n",
       "        event.shiftKey = false;\n",
       "        // Send a \"J\" for go to next cell\n",
       "        event.which = 74;\n",
       "        event.keyCode = 74;\n",
       "        manager.command_mode();\n",
       "        manager.handle_keydown(event);\n",
       "    }\n",
       "}\n",
       "\n",
       "mpl.figure.prototype.handle_save = function(fig, msg) {\n",
       "    fig.ondownload(fig, null);\n",
       "}\n",
       "\n",
       "\n",
       "mpl.find_output_cell = function(html_output) {\n",
       "    // Return the cell and output element which can be found *uniquely* in the notebook.\n",
       "    // Note - this is a bit hacky, but it is done because the \"notebook_saving.Notebook\"\n",
       "    // IPython event is triggered only after the cells have been serialised, which for\n",
       "    // our purposes (turning an active figure into a static one), is too late.\n",
       "    var cells = IPython.notebook.get_cells();\n",
       "    var ncells = cells.length;\n",
       "    for (var i=0; i<ncells; i++) {\n",
       "        var cell = cells[i];\n",
       "        if (cell.cell_type === 'code'){\n",
       "            for (var j=0; j<cell.output_area.outputs.length; j++) {\n",
       "                var data = cell.output_area.outputs[j];\n",
       "                if (data.data) {\n",
       "                    // IPython >= 3 moved mimebundle to data attribute of output\n",
       "                    data = data.data;\n",
       "                }\n",
       "                if (data['text/html'] == html_output) {\n",
       "                    return [cell, data, j];\n",
       "                }\n",
       "            }\n",
       "        }\n",
       "    }\n",
       "}\n",
       "\n",
       "// Register the function which deals with the matplotlib target/channel.\n",
       "// The kernel may be null if the page has been refreshed.\n",
       "if (IPython.notebook.kernel != null) {\n",
       "    IPython.notebook.kernel.comm_manager.register_target('matplotlib', mpl.mpl_figure_comm);\n",
       "}\n"
      ],
      "text/plain": [
       "<IPython.core.display.Javascript object>"
      ]
     },
     "metadata": {},
     "output_type": "display_data"
    },
    {
     "data": {
      "text/html": [
       "<img src=\"data:image/png;base64,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\" width=\"1000\">"
      ],
      "text/plain": [
       "<IPython.core.display.HTML object>"
      ]
     },
     "metadata": {},
     "output_type": "display_data"
    }
   ],
   "source": [
    "sudoku_model = SudokuSolver(args.boardSz, args.aux, args.m)\n",
    "if args.cuda: sudoku_model = sudoku_model.cuda()\n",
    "    \n",
    "optimizer = optim.Adam(sudoku_model.parameters(), lr=args.lr)\n",
    "\n",
    "fig, axes = plt.subplots(1,2, figsize=(10,4))\n",
    "plt.subplots_adjust(wspace=0.4)\n",
    "train_logger = FigLogger(fig, axes[0], 'Traininig')\n",
    "test_logger = FigLogger(fig, axes[1], 'Testing')"
   ]
  },
  {
   "cell_type": "code",
   "execution_count": 9,
   "metadata": {},
   "outputs": [
    {
     "name": "stderr",
     "output_type": "stream",
     "text": [
      "Epoch 0 Test  Loss 0.5154 Err: 1.0000: 100%|██████████| 25/25 [00:05<00:00,  5.01it/s]\n",
      "  0%|          | 0/225 [00:00<?, ?it/s]"
     ]
    },
    {
     "name": "stdout",
     "output_type": "stream",
     "text": [
      "TESTING SET RESULTS: Average loss: 0.5209 Err: 1.0000\n"
     ]
    },
    {
     "name": "stderr",
     "output_type": "stream",
     "text": [
      "Epoch 1 Train Loss 0.1513 Err: 1.0000: 100%|██████████| 225/225 [01:50<00:00,  2.19it/s]\n",
      "Epoch 1 Test  Loss 0.1499 Err: 1.0000: 100%|██████████| 25/25 [00:04<00:00,  5.26it/s]\n",
      "  0%|          | 0/225 [00:00<?, ?it/s]"
     ]
    },
    {
     "name": "stdout",
     "output_type": "stream",
     "text": [
      "TESTING SET RESULTS: Average loss: 0.1513 Err: 1.0000\n"
     ]
    },
    {
     "name": "stderr",
     "output_type": "stream",
     "text": [
      "Epoch 2 Train Loss 0.1124 Err: 0.9250: 100%|██████████| 225/225 [01:29<00:00,  2.62it/s]\n",
      "Epoch 2 Test  Loss 0.1132 Err: 0.8750: 100%|██████████| 25/25 [00:04<00:00,  5.24it/s]\n",
      "  0%|          | 0/225 [00:00<?, ?it/s]"
     ]
    },
    {
     "name": "stdout",
     "output_type": "stream",
     "text": [
      "TESTING SET RESULTS: Average loss: 0.1158 Err: 0.9400\n"
     ]
    },
    {
     "name": "stderr",
     "output_type": "stream",
     "text": [
      "Epoch 3 Train Loss 0.0991 Err: 0.6000: 100%|██████████| 225/225 [01:20<00:00,  2.78it/s]\n",
      "Epoch 3 Test  Loss 0.0981 Err: 0.4500: 100%|██████████| 25/25 [00:03<00:00,  6.41it/s]\n",
      "  0%|          | 0/225 [00:00<?, ?it/s]"
     ]
    },
    {
     "name": "stdout",
     "output_type": "stream",
     "text": [
      "TESTING SET RESULTS: Average loss: 0.1005 Err: 0.6270\n"
     ]
    },
    {
     "name": "stderr",
     "output_type": "stream",
     "text": [
      "Epoch 4 Train Loss 0.0905 Err: 0.2750: 100%|██████████| 225/225 [01:17<00:00,  3.01it/s]\n",
      "Epoch 4 Test  Loss 0.0907 Err: 0.3250: 100%|██████████| 25/25 [00:03<00:00,  6.51it/s]\n",
      "  0%|          | 0/225 [00:00<?, ?it/s]"
     ]
    },
    {
     "name": "stdout",
     "output_type": "stream",
     "text": [
      "TESTING SET RESULTS: Average loss: 0.0938 Err: 0.4790\n"
     ]
    },
    {
     "name": "stderr",
     "output_type": "stream",
     "text": [
      "Epoch 5 Train Loss 0.0873 Err: 0.3000: 100%|██████████| 225/225 [01:15<00:00,  3.16it/s]\n",
      "Epoch 5 Test  Loss 0.0887 Err: 0.3000: 100%|██████████| 25/25 [00:03<00:00,  6.55it/s]\n",
      "  0%|          | 0/225 [00:00<?, ?it/s]"
     ]
    },
    {
     "name": "stdout",
     "output_type": "stream",
     "text": [
      "TESTING SET RESULTS: Average loss: 0.0908 Err: 0.3890\n"
     ]
    },
    {
     "name": "stderr",
     "output_type": "stream",
     "text": [
      "Epoch 6 Train Loss 0.0833 Err: 0.2000: 100%|██████████| 225/225 [01:12<00:00,  3.23it/s]\n",
      "Epoch 6 Test  Loss 0.0861 Err: 0.2000: 100%|██████████| 25/25 [00:03<00:00,  6.76it/s]\n",
      "  0%|          | 0/225 [00:00<?, ?it/s]"
     ]
    },
    {
     "name": "stdout",
     "output_type": "stream",
     "text": [
      "TESTING SET RESULTS: Average loss: 0.0880 Err: 0.3090\n"
     ]
    },
    {
     "name": "stderr",
     "output_type": "stream",
     "text": [
      "Epoch 7 Train Loss 0.0821 Err: 0.2500: 100%|██████████| 225/225 [01:10<00:00,  3.20it/s]\n",
      "Epoch 7 Test  Loss 0.0846 Err: 0.1750: 100%|██████████| 25/25 [00:03<00:00,  6.27it/s]\n",
      "  0%|          | 0/225 [00:00<?, ?it/s]"
     ]
    },
    {
     "name": "stdout",
     "output_type": "stream",
     "text": [
      "TESTING SET RESULTS: Average loss: 0.0860 Err: 0.2720\n"
     ]
    },
    {
     "name": "stderr",
     "output_type": "stream",
     "text": [
      "Epoch 8 Train Loss 0.0786 Err: 0.1250: 100%|██████████| 225/225 [01:09<00:00,  3.25it/s]\n",
      "Epoch 8 Test  Loss 0.0820 Err: 0.2000: 100%|██████████| 25/25 [00:03<00:00,  6.88it/s]\n",
      "  0%|          | 0/225 [00:00<?, ?it/s]"
     ]
    },
    {
     "name": "stdout",
     "output_type": "stream",
     "text": [
      "TESTING SET RESULTS: Average loss: 0.0831 Err: 0.2710\n"
     ]
    },
    {
     "name": "stderr",
     "output_type": "stream",
     "text": [
      "Epoch 9 Train Loss 0.0746 Err: 0.1250: 100%|██████████| 225/225 [01:10<00:00,  3.20it/s]\n",
      "Epoch 9 Test  Loss 0.0775 Err: 0.1000: 100%|██████████| 25/25 [00:03<00:00,  6.10it/s]\n",
      "  0%|          | 0/225 [00:00<?, ?it/s]"
     ]
    },
    {
     "name": "stdout",
     "output_type": "stream",
     "text": [
      "TESTING SET RESULTS: Average loss: 0.0792 Err: 0.2030\n"
     ]
    },
    {
     "name": "stderr",
     "output_type": "stream",
     "text": [
      "Epoch 10 Train Loss 0.0708 Err: 0.0500: 100%|██████████| 225/225 [01:09<00:00,  3.27it/s]\n",
      "Epoch 10 Test  Loss 0.0745 Err: 0.1500: 100%|██████████| 25/25 [00:03<00:00,  6.87it/s]\n",
      "  0%|          | 0/225 [00:00<?, ?it/s]"
     ]
    },
    {
     "name": "stdout",
     "output_type": "stream",
     "text": [
      "TESTING SET RESULTS: Average loss: 0.0759 Err: 0.1840\n"
     ]
    },
    {
     "name": "stderr",
     "output_type": "stream",
     "text": [
      "Epoch 11 Train Loss 0.0665 Err: 0.0250: 100%|██████████| 225/225 [01:09<00:00,  3.30it/s]\n",
      "Epoch 11 Test  Loss 0.0692 Err: 0.0500: 100%|██████████| 25/25 [00:03<00:00,  7.01it/s]\n",
      "  0%|          | 0/225 [00:00<?, ?it/s]"
     ]
    },
    {
     "name": "stdout",
     "output_type": "stream",
     "text": [
      "TESTING SET RESULTS: Average loss: 0.0718 Err: 0.1240\n"
     ]
    },
    {
     "name": "stderr",
     "output_type": "stream",
     "text": [
      "Epoch 12 Train Loss 0.0653 Err: 0.0250: 100%|██████████| 225/225 [01:09<00:00,  3.28it/s]\n",
      "Epoch 12 Test  Loss 0.0670 Err: 0.0750: 100%|██████████| 25/25 [00:03<00:00,  7.02it/s]\n",
      "  0%|          | 0/225 [00:00<?, ?it/s]"
     ]
    },
    {
     "name": "stdout",
     "output_type": "stream",
     "text": [
      "TESTING SET RESULTS: Average loss: 0.0689 Err: 0.1100\n"
     ]
    },
    {
     "name": "stderr",
     "output_type": "stream",
     "text": [
      "Epoch 13 Train Loss 0.0617 Err: 0.0250: 100%|██████████| 225/225 [01:09<00:00,  3.26it/s]\n",
      "Epoch 13 Test  Loss 0.0643 Err: 0.0500: 100%|██████████| 25/25 [00:03<00:00,  6.64it/s]\n",
      "  0%|          | 0/225 [00:00<?, ?it/s]"
     ]
    },
    {
     "name": "stdout",
     "output_type": "stream",
     "text": [
      "TESTING SET RESULTS: Average loss: 0.0663 Err: 0.0960\n"
     ]
    },
    {
     "name": "stderr",
     "output_type": "stream",
     "text": [
      "Epoch 14 Train Loss 0.0598 Err: 0.0000: 100%|██████████| 225/225 [01:10<00:00,  3.24it/s]\n",
      "Epoch 14 Test  Loss 0.0621 Err: 0.0500: 100%|██████████| 25/25 [00:03<00:00,  6.96it/s]\n",
      "  0%|          | 0/225 [00:00<?, ?it/s]"
     ]
    },
    {
     "name": "stdout",
     "output_type": "stream",
     "text": [
      "TESTING SET RESULTS: Average loss: 0.0640 Err: 0.0730\n"
     ]
    },
    {
     "name": "stderr",
     "output_type": "stream",
     "text": [
      "Epoch 15 Train Loss 0.0589 Err: 0.0250: 100%|██████████| 225/225 [01:12<00:00,  3.21it/s]\n",
      "Epoch 15 Test  Loss 0.0609 Err: 0.0500: 100%|██████████| 25/25 [00:03<00:00,  6.67it/s]\n",
      "  0%|          | 0/225 [00:00<?, ?it/s]"
     ]
    },
    {
     "name": "stdout",
     "output_type": "stream",
     "text": [
      "TESTING SET RESULTS: Average loss: 0.0628 Err: 0.0640\n"
     ]
    },
    {
     "name": "stderr",
     "output_type": "stream",
     "text": [
      "Epoch 16 Train Loss 0.0577 Err: 0.0250: 100%|██████████| 225/225 [01:14<00:00,  2.88it/s]\n",
      "Epoch 16 Test  Loss 0.0596 Err: 0.0500: 100%|██████████| 25/25 [00:03<00:00,  6.41it/s]\n",
      "  0%|          | 0/225 [00:00<?, ?it/s]"
     ]
    },
    {
     "name": "stdout",
     "output_type": "stream",
     "text": [
      "TESTING SET RESULTS: Average loss: 0.0612 Err: 0.0670\n"
     ]
    },
    {
     "name": "stderr",
     "output_type": "stream",
     "text": [
      "Epoch 17 Train Loss 0.0577 Err: 0.0250: 100%|██████████| 225/225 [01:15<00:00,  3.08it/s]\n",
      "Epoch 17 Test  Loss 0.0584 Err: 0.0500: 100%|██████████| 25/25 [00:04<00:00,  6.31it/s]\n",
      "  0%|          | 0/225 [00:00<?, ?it/s]"
     ]
    },
    {
     "name": "stdout",
     "output_type": "stream",
     "text": [
      "TESTING SET RESULTS: Average loss: 0.0601 Err: 0.0480\n"
     ]
    },
    {
     "name": "stderr",
     "output_type": "stream",
     "text": [
      "Epoch 18 Train Loss 0.0561 Err: 0.0000: 100%|██████████| 225/225 [01:15<00:00,  3.02it/s]\n",
      "Epoch 18 Test  Loss 0.0582 Err: 0.0250: 100%|██████████| 25/25 [00:03<00:00,  6.42it/s]\n",
      "  0%|          | 0/225 [00:00<?, ?it/s]"
     ]
    },
    {
     "name": "stdout",
     "output_type": "stream",
     "text": [
      "TESTING SET RESULTS: Average loss: 0.0597 Err: 0.0530\n"
     ]
    },
    {
     "name": "stderr",
     "output_type": "stream",
     "text": [
      "Epoch 19 Train Loss 0.0553 Err: 0.0250: 100%|██████████| 225/225 [01:16<00:00,  2.72it/s]\n",
      "Epoch 19 Test  Loss 0.0571 Err: 0.0500: 100%|██████████| 25/25 [00:04<00:00,  6.51it/s]\n",
      "  0%|          | 0/225 [00:00<?, ?it/s]"
     ]
    },
    {
     "name": "stdout",
     "output_type": "stream",
     "text": [
      "TESTING SET RESULTS: Average loss: 0.0586 Err: 0.0440\n"
     ]
    },
    {
     "name": "stderr",
     "output_type": "stream",
     "text": [
      "Epoch 20 Train Loss 0.0552 Err: 0.0250: 100%|██████████| 225/225 [01:18<00:00,  2.68it/s]\n",
      "Epoch 20 Test  Loss 0.0565 Err: 0.0500: 100%|██████████| 25/25 [00:03<00:00,  6.43it/s]\n",
      "  0%|          | 0/225 [00:00<?, ?it/s]"
     ]
    },
    {
     "name": "stdout",
     "output_type": "stream",
     "text": [
      "TESTING SET RESULTS: Average loss: 0.0583 Err: 0.0390\n"
     ]
    },
    {
     "name": "stderr",
     "output_type": "stream",
     "text": [
      "Epoch 21 Train Loss 0.0540 Err: 0.0000: 100%|██████████| 225/225 [01:20<00:00,  2.91it/s]\n",
      "Epoch 21 Test  Loss 0.0560 Err: 0.0500: 100%|██████████| 25/25 [00:04<00:00,  6.20it/s]\n",
      "  0%|          | 0/225 [00:00<?, ?it/s]"
     ]
    },
    {
     "name": "stdout",
     "output_type": "stream",
     "text": [
      "TESTING SET RESULTS: Average loss: 0.0574 Err: 0.0340\n"
     ]
    },
    {
     "name": "stderr",
     "output_type": "stream",
     "text": [
      "Epoch 22 Train Loss 0.0534 Err: 0.0250: 100%|██████████| 225/225 [01:17<00:00,  2.95it/s]\n",
      "Epoch 22 Test  Loss 0.0557 Err: 0.0000: 100%|██████████| 25/25 [00:04<00:00,  6.30it/s]\n",
      "  0%|          | 0/225 [00:00<?, ?it/s]"
     ]
    },
    {
     "name": "stdout",
     "output_type": "stream",
     "text": [
      "TESTING SET RESULTS: Average loss: 0.0570 Err: 0.0440\n"
     ]
    },
    {
     "name": "stderr",
     "output_type": "stream",
     "text": [
      "Epoch 23 Train Loss 0.0534 Err: 0.0000: 100%|██████████| 225/225 [01:18<00:00,  2.59it/s]\n",
      "Epoch 23 Test  Loss 0.0554 Err: 0.0250: 100%|██████████| 25/25 [00:04<00:00,  5.58it/s]\n",
      "  0%|          | 0/225 [00:00<?, ?it/s]"
     ]
    },
    {
     "name": "stdout",
     "output_type": "stream",
     "text": [
      "TESTING SET RESULTS: Average loss: 0.0567 Err: 0.0390\n"
     ]
    },
    {
     "name": "stderr",
     "output_type": "stream",
     "text": [
      "Epoch 24 Train Loss 0.0528 Err: 0.0000: 100%|██████████| 225/225 [01:20<00:00,  2.67it/s]\n",
      "Epoch 24 Test  Loss 0.0554 Err: 0.0250: 100%|██████████| 25/25 [00:04<00:00,  5.75it/s]\n",
      "  0%|          | 0/225 [00:00<?, ?it/s]"
     ]
    },
    {
     "name": "stdout",
     "output_type": "stream",
     "text": [
      "TESTING SET RESULTS: Average loss: 0.0566 Err: 0.0450\n"
     ]
    },
    {
     "name": "stderr",
     "output_type": "stream",
     "text": [
      "Epoch 25 Train Loss 0.0532 Err: 0.0500: 100%|██████████| 225/225 [01:22<00:00,  2.61it/s]\n",
      "Epoch 25 Test  Loss 0.0544 Err: 0.0250: 100%|██████████| 25/25 [00:04<00:00,  5.87it/s]\n",
      "  0%|          | 0/225 [00:00<?, ?it/s]"
     ]
    },
    {
     "name": "stdout",
     "output_type": "stream",
     "text": [
      "TESTING SET RESULTS: Average loss: 0.0561 Err: 0.0240\n"
     ]
    },
    {
     "name": "stderr",
     "output_type": "stream",
     "text": [
      "Epoch 26 Train Loss 0.0512 Err: 0.0000: 100%|██████████| 225/225 [01:23<00:00,  2.53it/s]\n",
      "Epoch 26 Test  Loss 0.0538 Err: 0.0250: 100%|██████████| 25/25 [00:04<00:00,  5.86it/s]\n",
      "  0%|          | 0/225 [00:00<?, ?it/s]"
     ]
    },
    {
     "name": "stdout",
     "output_type": "stream",
     "text": [
      "TESTING SET RESULTS: Average loss: 0.0550 Err: 0.0210\n"
     ]
    },
    {
     "name": "stderr",
     "output_type": "stream",
     "text": [
      "Epoch 27 Train Loss 0.0515 Err: 0.0250: 100%|██████████| 225/225 [01:24<00:00,  2.76it/s]\n",
      "Epoch 27 Test  Loss 0.0536 Err: 0.0000: 100%|██████████| 25/25 [00:04<00:00,  5.89it/s]\n",
      "  0%|          | 0/225 [00:00<?, ?it/s]"
     ]
    },
    {
     "name": "stdout",
     "output_type": "stream",
     "text": [
      "TESTING SET RESULTS: Average loss: 0.0554 Err: 0.0260\n"
     ]
    },
    {
     "name": "stderr",
     "output_type": "stream",
     "text": [
      "Epoch 28 Train Loss 0.0513 Err: 0.0250: 100%|██████████| 225/225 [01:25<00:00,  2.65it/s]\n",
      "Epoch 28 Test  Loss 0.0527 Err: 0.0000: 100%|██████████| 25/25 [00:04<00:00,  5.75it/s]\n",
      "  0%|          | 0/225 [00:00<?, ?it/s]"
     ]
    },
    {
     "name": "stdout",
     "output_type": "stream",
     "text": [
      "TESTING SET RESULTS: Average loss: 0.0542 Err: 0.0250\n"
     ]
    },
    {
     "name": "stderr",
     "output_type": "stream",
     "text": [
      "Epoch 29 Train Loss 0.0508 Err: 0.0000: 100%|██████████| 225/225 [01:26<00:00,  2.62it/s]\n",
      "Epoch 29 Test  Loss 0.0530 Err: 0.0250: 100%|██████████| 25/25 [00:04<00:00,  5.87it/s]\n",
      "  0%|          | 0/225 [00:00<?, ?it/s]"
     ]
    },
    {
     "name": "stdout",
     "output_type": "stream",
     "text": [
      "TESTING SET RESULTS: Average loss: 0.0544 Err: 0.0350\n"
     ]
    },
    {
     "name": "stderr",
     "output_type": "stream",
     "text": [
      "Epoch 30 Train Loss 0.0508 Err: 0.0000: 100%|██████████| 225/225 [01:27<00:00,  2.66it/s]\n",
      "Epoch 30 Test  Loss 0.0529 Err: 0.0000: 100%|██████████| 25/25 [00:04<00:00,  5.70it/s]\n",
      "  0%|          | 0/225 [00:00<?, ?it/s]"
     ]
    },
    {
     "name": "stdout",
     "output_type": "stream",
     "text": [
      "TESTING SET RESULTS: Average loss: 0.0543 Err: 0.0390\n"
     ]
    },
    {
     "name": "stderr",
     "output_type": "stream",
     "text": [
      "Epoch 31 Train Loss 0.0500 Err: 0.0000: 100%|██████████| 225/225 [01:28<00:00,  2.41it/s]\n",
      "Epoch 31 Test  Loss 0.0525 Err: 0.0000: 100%|██████████| 25/25 [00:04<00:00,  5.49it/s]\n",
      "  0%|          | 0/225 [00:00<?, ?it/s]"
     ]
    },
    {
     "name": "stdout",
     "output_type": "stream",
     "text": [
      "TESTING SET RESULTS: Average loss: 0.0539 Err: 0.0340\n"
     ]
    },
    {
     "name": "stderr",
     "output_type": "stream",
     "text": [
      "Epoch 32 Train Loss 0.0504 Err: 0.0000: 100%|██████████| 225/225 [01:29<00:00,  2.41it/s]\n",
      "Epoch 32 Test  Loss 0.0521 Err: 0.0250: 100%|██████████| 25/25 [00:04<00:00,  5.09it/s]\n",
      "  0%|          | 0/225 [00:00<?, ?it/s]"
     ]
    },
    {
     "name": "stdout",
     "output_type": "stream",
     "text": [
      "TESTING SET RESULTS: Average loss: 0.0534 Err: 0.0310\n"
     ]
    },
    {
     "name": "stderr",
     "output_type": "stream",
     "text": [
      "Epoch 33 Train Loss 0.0499 Err: 0.0250: 100%|██████████| 225/225 [01:30<00:00,  2.51it/s]\n",
      "Epoch 33 Test  Loss 0.0511 Err: 0.0000: 100%|██████████| 25/25 [00:04<00:00,  5.39it/s]\n",
      "  0%|          | 0/225 [00:00<?, ?it/s]"
     ]
    },
    {
     "name": "stdout",
     "output_type": "stream",
     "text": [
      "TESTING SET RESULTS: Average loss: 0.0526 Err: 0.0240\n"
     ]
    },
    {
     "name": "stderr",
     "output_type": "stream",
     "text": [
      "Epoch 34 Train Loss 0.0504 Err: 0.0250: 100%|██████████| 225/225 [01:31<00:00,  2.36it/s]\n",
      "Epoch 34 Test  Loss 0.0508 Err: 0.0250: 100%|██████████| 25/25 [00:04<00:00,  5.79it/s]\n",
      "  0%|          | 0/225 [00:00<?, ?it/s]"
     ]
    },
    {
     "name": "stdout",
     "output_type": "stream",
     "text": [
      "TESTING SET RESULTS: Average loss: 0.0528 Err: 0.0340\n"
     ]
    },
    {
     "name": "stderr",
     "output_type": "stream",
     "text": [
      "Epoch 35 Train Loss 0.0499 Err: 0.0250: 100%|██████████| 225/225 [01:31<00:00,  2.47it/s]\n",
      "Epoch 35 Test  Loss 0.0512 Err: 0.0000: 100%|██████████| 25/25 [00:04<00:00,  5.52it/s]\n",
      "  0%|          | 0/225 [00:00<?, ?it/s]"
     ]
    },
    {
     "name": "stdout",
     "output_type": "stream",
     "text": [
      "TESTING SET RESULTS: Average loss: 0.0525 Err: 0.0290\n"
     ]
    },
    {
     "name": "stderr",
     "output_type": "stream",
     "text": [
      "Epoch 36 Train Loss 0.0496 Err: 0.0250: 100%|██████████| 225/225 [01:31<00:00,  2.36it/s]\n",
      "Epoch 36 Test  Loss 0.0507 Err: 0.0000: 100%|██████████| 25/25 [00:04<00:00,  5.22it/s]\n",
      "  0%|          | 0/225 [00:00<?, ?it/s]"
     ]
    },
    {
     "name": "stdout",
     "output_type": "stream",
     "text": [
      "TESTING SET RESULTS: Average loss: 0.0524 Err: 0.0320\n"
     ]
    },
    {
     "name": "stderr",
     "output_type": "stream",
     "text": [
      "Epoch 37 Train Loss 0.0495 Err: 0.0500: 100%|██████████| 225/225 [01:32<00:00,  2.42it/s]\n",
      "Epoch 37 Test  Loss 0.0508 Err: 0.0000: 100%|██████████| 25/25 [00:05<00:00,  5.29it/s]\n",
      "  0%|          | 0/225 [00:00<?, ?it/s]"
     ]
    },
    {
     "name": "stdout",
     "output_type": "stream",
     "text": [
      "TESTING SET RESULTS: Average loss: 0.0522 Err: 0.0300\n"
     ]
    },
    {
     "name": "stderr",
     "output_type": "stream",
     "text": [
      "Epoch 38 Train Loss 0.0490 Err: 0.0000: 100%|██████████| 225/225 [01:32<00:00,  2.41it/s]\n",
      "Epoch 38 Test  Loss 0.0505 Err: 0.0250: 100%|██████████| 25/25 [00:05<00:00,  5.16it/s]\n",
      "  0%|          | 0/225 [00:00<?, ?it/s]"
     ]
    },
    {
     "name": "stdout",
     "output_type": "stream",
     "text": [
      "TESTING SET RESULTS: Average loss: 0.0520 Err: 0.0280\n"
     ]
    },
    {
     "name": "stderr",
     "output_type": "stream",
     "text": [
      "Epoch 39 Train Loss 0.0486 Err: 0.0250: 100%|██████████| 225/225 [01:33<00:00,  2.49it/s]\n",
      "Epoch 39 Test  Loss 0.0506 Err: 0.0250: 100%|██████████| 25/25 [00:04<00:00,  5.04it/s]\n",
      "  0%|          | 0/225 [00:00<?, ?it/s]"
     ]
    },
    {
     "name": "stdout",
     "output_type": "stream",
     "text": [
      "TESTING SET RESULTS: Average loss: 0.0521 Err: 0.0380\n"
     ]
    },
    {
     "name": "stderr",
     "output_type": "stream",
     "text": [
      "Epoch 40 Train Loss 0.0490 Err: 0.0250: 100%|██████████| 225/225 [01:32<00:00,  2.41it/s]\n",
      "Epoch 40 Test  Loss 0.0504 Err: 0.0250: 100%|██████████| 25/25 [00:05<00:00,  4.81it/s]\n",
      "  0%|          | 0/225 [00:00<?, ?it/s]"
     ]
    },
    {
     "name": "stdout",
     "output_type": "stream",
     "text": [
      "TESTING SET RESULTS: Average loss: 0.0519 Err: 0.0300\n"
     ]
    },
    {
     "name": "stderr",
     "output_type": "stream",
     "text": [
      "Epoch 41 Train Loss 0.0483 Err: 0.0250: 100%|██████████| 225/225 [01:32<00:00,  2.47it/s]\n",
      "Epoch 41 Test  Loss 0.0498 Err: 0.0000: 100%|██████████| 25/25 [00:05<00:00,  4.70it/s]\n",
      "  0%|          | 0/225 [00:00<?, ?it/s]"
     ]
    },
    {
     "name": "stdout",
     "output_type": "stream",
     "text": [
      "TESTING SET RESULTS: Average loss: 0.0515 Err: 0.0250\n"
     ]
    },
    {
     "name": "stderr",
     "output_type": "stream",
     "text": [
      "Epoch 42 Train Loss 0.0477 Err: 0.0000: 100%|██████████| 225/225 [01:32<00:00,  2.47it/s]\n",
      "Epoch 42 Test  Loss 0.0496 Err: 0.0250: 100%|██████████| 25/25 [00:05<00:00,  4.87it/s]\n",
      "  0%|          | 0/225 [00:00<?, ?it/s]"
     ]
    },
    {
     "name": "stdout",
     "output_type": "stream",
     "text": [
      "TESTING SET RESULTS: Average loss: 0.0511 Err: 0.0220\n"
     ]
    },
    {
     "name": "stderr",
     "output_type": "stream",
     "text": [
      "Epoch 43 Train Loss 0.0486 Err: 0.0000: 100%|██████████| 225/225 [01:33<00:00,  2.45it/s]\n",
      "Epoch 43 Test  Loss 0.0507 Err: 0.0250: 100%|██████████| 25/25 [00:05<00:00,  4.83it/s]\n",
      "  0%|          | 0/225 [00:00<?, ?it/s]"
     ]
    },
    {
     "name": "stdout",
     "output_type": "stream",
     "text": [
      "TESTING SET RESULTS: Average loss: 0.0516 Err: 0.0310\n"
     ]
    },
    {
     "name": "stderr",
     "output_type": "stream",
     "text": [
      "Epoch 44 Train Loss 0.0477 Err: 0.0000: 100%|██████████| 225/225 [01:32<00:00,  2.45it/s]\n",
      "Epoch 44 Test  Loss 0.0501 Err: 0.0000: 100%|██████████| 25/25 [00:05<00:00,  4.75it/s]\n",
      "  0%|          | 0/225 [00:00<?, ?it/s]"
     ]
    },
    {
     "name": "stdout",
     "output_type": "stream",
     "text": [
      "TESTING SET RESULTS: Average loss: 0.0515 Err: 0.0200\n"
     ]
    },
    {
     "name": "stderr",
     "output_type": "stream",
     "text": [
      "Epoch 45 Train Loss 0.0480 Err: 0.0000: 100%|██████████| 225/225 [01:32<00:00,  2.49it/s]\n",
      "Epoch 45 Test  Loss 0.0500 Err: 0.0250: 100%|██████████| 25/25 [00:05<00:00,  5.12it/s]\n",
      "  0%|          | 0/225 [00:00<?, ?it/s]"
     ]
    },
    {
     "name": "stdout",
     "output_type": "stream",
     "text": [
      "TESTING SET RESULTS: Average loss: 0.0513 Err: 0.0290\n"
     ]
    },
    {
     "name": "stderr",
     "output_type": "stream",
     "text": [
      "Epoch 46 Train Loss 0.0476 Err: 0.0000: 100%|██████████| 225/225 [01:32<00:00,  2.44it/s]\n",
      "Epoch 46 Test  Loss 0.0491 Err: 0.0250: 100%|██████████| 25/25 [00:05<00:00,  4.80it/s]\n",
      "  0%|          | 0/225 [00:00<?, ?it/s]"
     ]
    },
    {
     "name": "stdout",
     "output_type": "stream",
     "text": [
      "TESTING SET RESULTS: Average loss: 0.0509 Err: 0.0250\n"
     ]
    },
    {
     "name": "stderr",
     "output_type": "stream",
     "text": [
      "Epoch 47 Train Loss 0.0480 Err: 0.0000: 100%|██████████| 225/225 [01:32<00:00,  2.42it/s]\n",
      "Epoch 47 Test  Loss 0.0497 Err: 0.0000: 100%|██████████| 25/25 [00:05<00:00,  4.88it/s]\n",
      "  0%|          | 0/225 [00:00<?, ?it/s]"
     ]
    },
    {
     "name": "stdout",
     "output_type": "stream",
     "text": [
      "TESTING SET RESULTS: Average loss: 0.0510 Err: 0.0200\n"
     ]
    },
    {
     "name": "stderr",
     "output_type": "stream",
     "text": [
      "Epoch 48 Train Loss 0.0475 Err: 0.0000: 100%|██████████| 225/225 [01:32<00:00,  2.48it/s]\n",
      "Epoch 48 Test  Loss 0.0500 Err: 0.0000: 100%|██████████| 25/25 [00:05<00:00,  4.72it/s]\n",
      "  0%|          | 0/225 [00:00<?, ?it/s]"
     ]
    },
    {
     "name": "stdout",
     "output_type": "stream",
     "text": [
      "TESTING SET RESULTS: Average loss: 0.0513 Err: 0.0230\n"
     ]
    },
    {
     "name": "stderr",
     "output_type": "stream",
     "text": [
      "Epoch 49 Train Loss 0.0478 Err: 0.0000: 100%|██████████| 225/225 [01:32<00:00,  2.48it/s]\n",
      "Epoch 49 Test  Loss 0.0493 Err: 0.0000: 100%|██████████| 25/25 [00:05<00:00,  4.85it/s]\n",
      "  0%|          | 0/225 [00:00<?, ?it/s]"
     ]
    },
    {
     "name": "stdout",
     "output_type": "stream",
     "text": [
      "TESTING SET RESULTS: Average loss: 0.0512 Err: 0.0300\n"
     ]
    },
    {
     "name": "stderr",
     "output_type": "stream",
     "text": [
      "Epoch 50 Train Loss 0.0473 Err: 0.0250: 100%|██████████| 225/225 [01:33<00:00,  2.45it/s]\n",
      "Epoch 50 Test  Loss 0.0496 Err: 0.0250: 100%|██████████| 25/25 [00:05<00:00,  5.08it/s]\n",
      "  0%|          | 0/225 [00:00<?, ?it/s]"
     ]
    },
    {
     "name": "stdout",
     "output_type": "stream",
     "text": [
      "TESTING SET RESULTS: Average loss: 0.0513 Err: 0.0280\n"
     ]
    },
    {
     "name": "stderr",
     "output_type": "stream",
     "text": [
      "Epoch 51 Train Loss 0.0467 Err: 0.0000: 100%|██████████| 225/225 [01:32<00:00,  2.42it/s]\n",
      "Epoch 51 Test  Loss 0.0497 Err: 0.0000: 100%|██████████| 25/25 [00:05<00:00,  4.78it/s]\n",
      "  0%|          | 0/225 [00:00<?, ?it/s]"
     ]
    },
    {
     "name": "stdout",
     "output_type": "stream",
     "text": [
      "TESTING SET RESULTS: Average loss: 0.0509 Err: 0.0230\n"
     ]
    },
    {
     "name": "stderr",
     "output_type": "stream",
     "text": [
      "Epoch 52 Train Loss 0.0474 Err: 0.0250: 100%|██████████| 225/225 [01:35<00:00,  2.44it/s]\n",
      "Epoch 52 Test  Loss 0.0496 Err: 0.0250: 100%|██████████| 25/25 [00:05<00:00,  4.66it/s]\n",
      "  0%|          | 0/225 [00:00<?, ?it/s]"
     ]
    },
    {
     "name": "stdout",
     "output_type": "stream",
     "text": [
      "TESTING SET RESULTS: Average loss: 0.0506 Err: 0.0220\n"
     ]
    },
    {
     "name": "stderr",
     "output_type": "stream",
     "text": [
      "Epoch 53 Train Loss 0.0477 Err: 0.0500: 100%|██████████| 225/225 [01:34<00:00,  2.28it/s]\n",
      "Epoch 53 Test  Loss 0.0494 Err: 0.0000: 100%|██████████| 25/25 [00:05<00:00,  4.70it/s]\n",
      "  0%|          | 0/225 [00:00<?, ?it/s]"
     ]
    },
    {
     "name": "stdout",
     "output_type": "stream",
     "text": [
      "TESTING SET RESULTS: Average loss: 0.0512 Err: 0.0300\n"
     ]
    },
    {
     "name": "stderr",
     "output_type": "stream",
     "text": [
      "Epoch 54 Train Loss 0.0469 Err: 0.0000: 100%|██████████| 225/225 [01:34<00:00,  2.31it/s]\n",
      "Epoch 54 Test  Loss 0.0495 Err: 0.0000: 100%|██████████| 25/25 [00:05<00:00,  4.66it/s]\n",
      "  0%|          | 0/225 [00:00<?, ?it/s]"
     ]
    },
    {
     "name": "stdout",
     "output_type": "stream",
     "text": [
      "TESTING SET RESULTS: Average loss: 0.0508 Err: 0.0300\n"
     ]
    },
    {
     "name": "stderr",
     "output_type": "stream",
     "text": [
      "Epoch 55 Train Loss 0.0467 Err: 0.0000: 100%|██████████| 225/225 [01:34<00:00,  2.36it/s]\n",
      "Epoch 55 Test  Loss 0.0494 Err: 0.0000: 100%|██████████| 25/25 [00:05<00:00,  4.92it/s]\n",
      "  0%|          | 0/225 [00:00<?, ?it/s]"
     ]
    },
    {
     "name": "stdout",
     "output_type": "stream",
     "text": [
      "TESTING SET RESULTS: Average loss: 0.0507 Err: 0.0180\n"
     ]
    },
    {
     "name": "stderr",
     "output_type": "stream",
     "text": [
      "Epoch 56 Train Loss 0.0475 Err: 0.0000: 100%|██████████| 225/225 [01:35<00:00,  2.31it/s]\n",
      "Epoch 56 Test  Loss 0.0493 Err: 0.0000: 100%|██████████| 25/25 [00:05<00:00,  4.82it/s]\n",
      "  0%|          | 0/225 [00:00<?, ?it/s]"
     ]
    },
    {
     "name": "stdout",
     "output_type": "stream",
     "text": [
      "TESTING SET RESULTS: Average loss: 0.0508 Err: 0.0200\n"
     ]
    },
    {
     "name": "stderr",
     "output_type": "stream",
     "text": [
      "Epoch 57 Train Loss 0.0467 Err: 0.0000: 100%|██████████| 225/225 [01:37<00:00,  2.41it/s]\n",
      "Epoch 57 Test  Loss 0.0490 Err: 0.0000: 100%|██████████| 25/25 [00:04<00:00,  5.09it/s]\n",
      "  0%|          | 0/225 [00:00<?, ?it/s]"
     ]
    },
    {
     "name": "stdout",
     "output_type": "stream",
     "text": [
      "TESTING SET RESULTS: Average loss: 0.0504 Err: 0.0240\n"
     ]
    },
    {
     "name": "stderr",
     "output_type": "stream",
     "text": [
      "Epoch 58 Train Loss 0.0461 Err: 0.0000: 100%|██████████| 225/225 [01:36<00:00,  2.38it/s]\n",
      "Epoch 58 Test  Loss 0.0490 Err: 0.0000: 100%|██████████| 25/25 [00:05<00:00,  4.79it/s]\n",
      "  0%|          | 0/225 [00:00<?, ?it/s]"
     ]
    },
    {
     "name": "stdout",
     "output_type": "stream",
     "text": [
      "TESTING SET RESULTS: Average loss: 0.0506 Err: 0.0260\n"
     ]
    },
    {
     "name": "stderr",
     "output_type": "stream",
     "text": [
      "Epoch 59 Train Loss 0.0464 Err: 0.0000: 100%|██████████| 225/225 [01:37<00:00,  2.34it/s]\n",
      "Epoch 59 Test  Loss 0.0486 Err: 0.0000: 100%|██████████| 25/25 [00:05<00:00,  5.06it/s]\n",
      "  0%|          | 0/225 [00:00<?, ?it/s]"
     ]
    },
    {
     "name": "stdout",
     "output_type": "stream",
     "text": [
      "TESTING SET RESULTS: Average loss: 0.0503 Err: 0.0240\n"
     ]
    },
    {
     "name": "stderr",
     "output_type": "stream",
     "text": [
      "Epoch 60 Train Loss 0.0458 Err: 0.0000: 100%|██████████| 225/225 [01:36<00:00,  2.31it/s]\n",
      "Epoch 60 Test  Loss 0.0484 Err: 0.0000: 100%|██████████| 25/25 [00:05<00:00,  4.95it/s]\n",
      "  0%|          | 0/225 [00:00<?, ?it/s]"
     ]
    },
    {
     "name": "stdout",
     "output_type": "stream",
     "text": [
      "TESTING SET RESULTS: Average loss: 0.0502 Err: 0.0220\n"
     ]
    },
    {
     "name": "stderr",
     "output_type": "stream",
     "text": [
      "Epoch 61 Train Loss 0.0462 Err: 0.0000: 100%|██████████| 225/225 [01:37<00:00,  2.38it/s]\n",
      "Epoch 61 Test  Loss 0.0488 Err: 0.0000: 100%|██████████| 25/25 [00:04<00:00,  4.77it/s]\n",
      "  0%|          | 0/225 [00:00<?, ?it/s]"
     ]
    },
    {
     "name": "stdout",
     "output_type": "stream",
     "text": [
      "TESTING SET RESULTS: Average loss: 0.0505 Err: 0.0230\n"
     ]
    },
    {
     "name": "stderr",
     "output_type": "stream",
     "text": [
      "Epoch 62 Train Loss 0.0458 Err: 0.0000: 100%|██████████| 225/225 [01:37<00:00,  2.39it/s]\n",
      "Epoch 62 Test  Loss 0.0486 Err: 0.0250: 100%|██████████| 25/25 [00:05<00:00,  4.97it/s]\n",
      "  0%|          | 0/225 [00:00<?, ?it/s]"
     ]
    },
    {
     "name": "stdout",
     "output_type": "stream",
     "text": [
      "TESTING SET RESULTS: Average loss: 0.0503 Err: 0.0200\n"
     ]
    },
    {
     "name": "stderr",
     "output_type": "stream",
     "text": [
      "Epoch 63 Train Loss 0.0462 Err: 0.0000: 100%|██████████| 225/225 [01:39<00:00,  2.38it/s]\n",
      "Epoch 63 Test  Loss 0.0488 Err: 0.0000: 100%|██████████| 25/25 [00:05<00:00,  5.14it/s]\n",
      "  0%|          | 0/225 [00:00<?, ?it/s]"
     ]
    },
    {
     "name": "stdout",
     "output_type": "stream",
     "text": [
      "TESTING SET RESULTS: Average loss: 0.0505 Err: 0.0270\n"
     ]
    },
    {
     "name": "stderr",
     "output_type": "stream",
     "text": [
      "Epoch 64 Train Loss 0.0461 Err: 0.0000: 100%|██████████| 225/225 [01:38<00:00,  2.27it/s]\n",
      "Epoch 64 Test  Loss 0.0486 Err: 0.0250: 100%|██████████| 25/25 [00:05<00:00,  5.09it/s]\n",
      "  0%|          | 0/225 [00:00<?, ?it/s]"
     ]
    },
    {
     "name": "stdout",
     "output_type": "stream",
     "text": [
      "TESTING SET RESULTS: Average loss: 0.0502 Err: 0.0240\n"
     ]
    },
    {
     "name": "stderr",
     "output_type": "stream",
     "text": [
      "Epoch 65 Train Loss 0.0459 Err: 0.0000: 100%|██████████| 225/225 [01:37<00:00,  2.30it/s]\n",
      "Epoch 65 Test  Loss 0.0493 Err: 0.0000: 100%|██████████| 25/25 [00:04<00:00,  5.02it/s]\n",
      "  0%|          | 0/225 [00:00<?, ?it/s]"
     ]
    },
    {
     "name": "stdout",
     "output_type": "stream",
     "text": [
      "TESTING SET RESULTS: Average loss: 0.0504 Err: 0.0280\n"
     ]
    },
    {
     "name": "stderr",
     "output_type": "stream",
     "text": [
      "Epoch 66 Train Loss 0.0458 Err: 0.0000: 100%|██████████| 225/225 [01:38<00:00,  2.21it/s]\n",
      "Epoch 66 Test  Loss 0.0487 Err: 0.0250: 100%|██████████| 25/25 [00:05<00:00,  4.73it/s]\n",
      "  0%|          | 0/225 [00:00<?, ?it/s]"
     ]
    },
    {
     "name": "stdout",
     "output_type": "stream",
     "text": [
      "TESTING SET RESULTS: Average loss: 0.0501 Err: 0.0280\n"
     ]
    },
    {
     "name": "stderr",
     "output_type": "stream",
     "text": [
      "Epoch 67 Train Loss 0.0456 Err: 0.0000: 100%|██████████| 225/225 [01:40<00:00,  2.21it/s]\n",
      "Epoch 67 Test  Loss 0.0493 Err: 0.0500: 100%|██████████| 25/25 [00:05<00:00,  4.77it/s]\n",
      "  0%|          | 0/225 [00:00<?, ?it/s]"
     ]
    },
    {
     "name": "stdout",
     "output_type": "stream",
     "text": [
      "TESTING SET RESULTS: Average loss: 0.0501 Err: 0.0350\n"
     ]
    },
    {
     "name": "stderr",
     "output_type": "stream",
     "text": [
      "Epoch 68 Train Loss 0.0455 Err: 0.0000: 100%|██████████| 225/225 [01:39<00:00,  2.11it/s]\n",
      "Epoch 68 Test  Loss 0.0487 Err: 0.0000: 100%|██████████| 25/25 [00:05<00:00,  5.04it/s]\n",
      "  0%|          | 0/225 [00:00<?, ?it/s]"
     ]
    },
    {
     "name": "stdout",
     "output_type": "stream",
     "text": [
      "TESTING SET RESULTS: Average loss: 0.0500 Err: 0.0150\n"
     ]
    },
    {
     "name": "stderr",
     "output_type": "stream",
     "text": [
      "Epoch 69 Train Loss 0.0454 Err: 0.0000: 100%|██████████| 225/225 [01:42<00:00,  2.23it/s]\n",
      "Epoch 69 Test  Loss 0.0486 Err: 0.0250: 100%|██████████| 25/25 [00:04<00:00,  5.13it/s]\n",
      "  0%|          | 0/225 [00:00<?, ?it/s]"
     ]
    },
    {
     "name": "stdout",
     "output_type": "stream",
     "text": [
      "TESTING SET RESULTS: Average loss: 0.0497 Err: 0.0230\n"
     ]
    },
    {
     "name": "stderr",
     "output_type": "stream",
     "text": [
      "Epoch 70 Train Loss 0.0457 Err: 0.0000: 100%|██████████| 225/225 [01:39<00:00,  2.25it/s]\n",
      "Epoch 70 Test  Loss 0.0487 Err: 0.0000: 100%|██████████| 25/25 [00:04<00:00,  5.05it/s]\n",
      "  0%|          | 0/225 [00:00<?, ?it/s]"
     ]
    },
    {
     "name": "stdout",
     "output_type": "stream",
     "text": [
      "TESTING SET RESULTS: Average loss: 0.0499 Err: 0.0250\n"
     ]
    },
    {
     "name": "stderr",
     "output_type": "stream",
     "text": [
      "Epoch 71 Train Loss 0.0455 Err: 0.0000: 100%|██████████| 225/225 [01:40<00:00,  2.29it/s]\n",
      "Epoch 71 Test  Loss 0.0487 Err: 0.0000: 100%|██████████| 25/25 [00:05<00:00,  4.61it/s]\n",
      "  0%|          | 0/225 [00:00<?, ?it/s]"
     ]
    },
    {
     "name": "stdout",
     "output_type": "stream",
     "text": [
      "TESTING SET RESULTS: Average loss: 0.0498 Err: 0.0270\n"
     ]
    },
    {
     "name": "stderr",
     "output_type": "stream",
     "text": [
      "Epoch 72 Train Loss 0.0453 Err: 0.0000: 100%|██████████| 225/225 [01:40<00:00,  2.28it/s]\n",
      "Epoch 72 Test  Loss 0.0484 Err: 0.0000: 100%|██████████| 25/25 [00:05<00:00,  4.87it/s]\n",
      "  0%|          | 0/225 [00:00<?, ?it/s]"
     ]
    },
    {
     "name": "stdout",
     "output_type": "stream",
     "text": [
      "TESTING SET RESULTS: Average loss: 0.0497 Err: 0.0230\n"
     ]
    },
    {
     "name": "stderr",
     "output_type": "stream",
     "text": [
      "Epoch 73 Train Loss 0.0453 Err: 0.0000: 100%|██████████| 225/225 [01:39<00:00,  2.30it/s]\n",
      "Epoch 73 Test  Loss 0.0487 Err: 0.0000: 100%|██████████| 25/25 [00:05<00:00,  4.99it/s]\n",
      "  0%|          | 0/225 [00:00<?, ?it/s]"
     ]
    },
    {
     "name": "stdout",
     "output_type": "stream",
     "text": [
      "TESTING SET RESULTS: Average loss: 0.0497 Err: 0.0230\n"
     ]
    },
    {
     "name": "stderr",
     "output_type": "stream",
     "text": [
      "Epoch 74 Train Loss 0.0451 Err: 0.0000: 100%|██████████| 225/225 [01:39<00:00,  2.23it/s]\n",
      "Epoch 74 Test  Loss 0.0482 Err: 0.0250: 100%|██████████| 25/25 [00:05<00:00,  4.73it/s]\n",
      "  0%|          | 0/225 [00:00<?, ?it/s]"
     ]
    },
    {
     "name": "stdout",
     "output_type": "stream",
     "text": [
      "TESTING SET RESULTS: Average loss: 0.0496 Err: 0.0250\n"
     ]
    },
    {
     "name": "stderr",
     "output_type": "stream",
     "text": [
      "Epoch 75 Train Loss 0.0456 Err: 0.0000: 100%|██████████| 225/225 [01:39<00:00,  2.25it/s]\n",
      "Epoch 75 Test  Loss 0.0482 Err: 0.0250: 100%|██████████| 25/25 [00:05<00:00,  4.83it/s]\n",
      "  0%|          | 0/225 [00:00<?, ?it/s]"
     ]
    },
    {
     "name": "stdout",
     "output_type": "stream",
     "text": [
      "TESTING SET RESULTS: Average loss: 0.0494 Err: 0.0240\n"
     ]
    },
    {
     "name": "stderr",
     "output_type": "stream",
     "text": [
      "Epoch 76 Train Loss 0.0449 Err: 0.0000: 100%|██████████| 225/225 [01:40<00:00,  2.16it/s]\n",
      "Epoch 76 Test  Loss 0.0480 Err: 0.0000: 100%|██████████| 25/25 [00:05<00:00,  5.05it/s]\n",
      "  0%|          | 0/225 [00:00<?, ?it/s]"
     ]
    },
    {
     "name": "stdout",
     "output_type": "stream",
     "text": [
      "TESTING SET RESULTS: Average loss: 0.0495 Err: 0.0250\n"
     ]
    },
    {
     "name": "stderr",
     "output_type": "stream",
     "text": [
      "Epoch 77 Train Loss 0.0453 Err: 0.0000: 100%|██████████| 225/225 [01:39<00:00,  2.14it/s]\n",
      "Epoch 77 Test  Loss 0.0476 Err: 0.0000: 100%|██████████| 25/25 [00:04<00:00,  5.14it/s]\n",
      "  0%|          | 0/225 [00:00<?, ?it/s]"
     ]
    },
    {
     "name": "stdout",
     "output_type": "stream",
     "text": [
      "TESTING SET RESULTS: Average loss: 0.0492 Err: 0.0240\n"
     ]
    },
    {
     "name": "stderr",
     "output_type": "stream",
     "text": [
      "Epoch 78 Train Loss 0.0450 Err: 0.0000: 100%|██████████| 225/225 [01:41<00:00,  2.17it/s]\n",
      "Epoch 78 Test  Loss 0.0482 Err: 0.0000: 100%|██████████| 25/25 [00:05<00:00,  4.90it/s]\n",
      "  0%|          | 0/225 [00:00<?, ?it/s]"
     ]
    },
    {
     "name": "stdout",
     "output_type": "stream",
     "text": [
      "TESTING SET RESULTS: Average loss: 0.0496 Err: 0.0210\n"
     ]
    },
    {
     "name": "stderr",
     "output_type": "stream",
     "text": [
      "Epoch 79 Train Loss 0.0446 Err: 0.0250: 100%|██████████| 225/225 [01:40<00:00,  2.28it/s]\n",
      "Epoch 79 Test  Loss 0.0480 Err: 0.0000: 100%|██████████| 25/25 [00:05<00:00,  5.06it/s]\n",
      "  0%|          | 0/225 [00:00<?, ?it/s]"
     ]
    },
    {
     "name": "stdout",
     "output_type": "stream",
     "text": [
      "TESTING SET RESULTS: Average loss: 0.0495 Err: 0.0230\n"
     ]
    },
    {
     "name": "stderr",
     "output_type": "stream",
     "text": [
      "Epoch 80 Train Loss 0.0451 Err: 0.0000: 100%|██████████| 225/225 [01:39<00:00,  2.32it/s]\n",
      "Epoch 80 Test  Loss 0.0476 Err: 0.0000: 100%|██████████| 25/25 [00:05<00:00,  4.88it/s]\n",
      "  0%|          | 0/225 [00:00<?, ?it/s]"
     ]
    },
    {
     "name": "stdout",
     "output_type": "stream",
     "text": [
      "TESTING SET RESULTS: Average loss: 0.0494 Err: 0.0210\n"
     ]
    },
    {
     "name": "stderr",
     "output_type": "stream",
     "text": [
      "Epoch 81 Train Loss 0.0449 Err: 0.0000: 100%|██████████| 225/225 [01:39<00:00,  2.24it/s]\n",
      "Epoch 81 Test  Loss 0.0483 Err: 0.0000: 100%|██████████| 25/25 [00:05<00:00,  4.89it/s]\n",
      "  0%|          | 0/225 [00:00<?, ?it/s]"
     ]
    },
    {
     "name": "stdout",
     "output_type": "stream",
     "text": [
      "TESTING SET RESULTS: Average loss: 0.0494 Err: 0.0220\n"
     ]
    },
    {
     "name": "stderr",
     "output_type": "stream",
     "text": [
      "Epoch 82 Train Loss 0.0444 Err: 0.0000: 100%|██████████| 225/225 [01:39<00:00,  2.10it/s]\n",
      "Epoch 82 Test  Loss 0.0479 Err: 0.0000: 100%|██████████| 25/25 [00:05<00:00,  4.57it/s]\n",
      "  0%|          | 0/225 [00:00<?, ?it/s]"
     ]
    },
    {
     "name": "stdout",
     "output_type": "stream",
     "text": [
      "TESTING SET RESULTS: Average loss: 0.0494 Err: 0.0190\n"
     ]
    },
    {
     "name": "stderr",
     "output_type": "stream",
     "text": [
      "Epoch 83 Train Loss 0.0446 Err: 0.0000: 100%|██████████| 225/225 [01:40<00:00,  2.15it/s]\n",
      "Epoch 83 Test  Loss 0.0480 Err: 0.0000: 100%|██████████| 25/25 [00:05<00:00,  5.05it/s]\n",
      "  0%|          | 0/225 [00:00<?, ?it/s]"
     ]
    },
    {
     "name": "stdout",
     "output_type": "stream",
     "text": [
      "TESTING SET RESULTS: Average loss: 0.0491 Err: 0.0240\n"
     ]
    },
    {
     "name": "stderr",
     "output_type": "stream",
     "text": [
      "Epoch 84 Train Loss 0.0445 Err: 0.0000: 100%|██████████| 225/225 [01:39<00:00,  2.22it/s]\n",
      "Epoch 84 Test  Loss 0.0479 Err: 0.0000: 100%|██████████| 25/25 [00:05<00:00,  4.75it/s]\n",
      "  0%|          | 0/225 [00:00<?, ?it/s]"
     ]
    },
    {
     "name": "stdout",
     "output_type": "stream",
     "text": [
      "TESTING SET RESULTS: Average loss: 0.0493 Err: 0.0220\n"
     ]
    },
    {
     "name": "stderr",
     "output_type": "stream",
     "text": [
      "Epoch 85 Train Loss 0.0442 Err: 0.0000: 100%|██████████| 225/225 [01:39<00:00,  2.32it/s]\n",
      "Epoch 85 Test  Loss 0.0474 Err: 0.0000: 100%|██████████| 25/25 [00:05<00:00,  5.06it/s]\n",
      "  0%|          | 0/225 [00:00<?, ?it/s]"
     ]
    },
    {
     "name": "stdout",
     "output_type": "stream",
     "text": [
      "TESTING SET RESULTS: Average loss: 0.0490 Err: 0.0230\n"
     ]
    },
    {
     "name": "stderr",
     "output_type": "stream",
     "text": [
      "Epoch 86 Train Loss 0.0446 Err: 0.0000: 100%|██████████| 225/225 [01:39<00:00,  2.33it/s]\n",
      "Epoch 86 Test  Loss 0.0477 Err: 0.0000: 100%|██████████| 25/25 [00:05<00:00,  4.68it/s]\n",
      "  0%|          | 0/225 [00:00<?, ?it/s]"
     ]
    },
    {
     "name": "stdout",
     "output_type": "stream",
     "text": [
      "TESTING SET RESULTS: Average loss: 0.0492 Err: 0.0210\n"
     ]
    },
    {
     "name": "stderr",
     "output_type": "stream",
     "text": [
      "Epoch 87 Train Loss 0.0451 Err: 0.0000: 100%|██████████| 225/225 [01:40<00:00,  2.25it/s]\n",
      "Epoch 87 Test  Loss 0.0477 Err: 0.0250: 100%|██████████| 25/25 [00:05<00:00,  4.80it/s]\n",
      "  0%|          | 0/225 [00:00<?, ?it/s]"
     ]
    },
    {
     "name": "stdout",
     "output_type": "stream",
     "text": [
      "TESTING SET RESULTS: Average loss: 0.0492 Err: 0.0240\n"
     ]
    },
    {
     "name": "stderr",
     "output_type": "stream",
     "text": [
      "Epoch 88 Train Loss 0.0447 Err: 0.0000: 100%|██████████| 225/225 [01:39<00:00,  2.20it/s]\n",
      "Epoch 88 Test  Loss 0.0480 Err: 0.0000: 100%|██████████| 25/25 [00:05<00:00,  4.53it/s]\n",
      "  0%|          | 0/225 [00:00<?, ?it/s]"
     ]
    },
    {
     "name": "stdout",
     "output_type": "stream",
     "text": [
      "TESTING SET RESULTS: Average loss: 0.0492 Err: 0.0200\n"
     ]
    },
    {
     "name": "stderr",
     "output_type": "stream",
     "text": [
      "Epoch 89 Train Loss 0.0448 Err: 0.0000: 100%|██████████| 225/225 [01:41<00:00,  2.22it/s]\n",
      "Epoch 89 Test  Loss 0.0474 Err: 0.0250: 100%|██████████| 25/25 [00:05<00:00,  4.60it/s]\n",
      "  0%|          | 0/225 [00:00<?, ?it/s]"
     ]
    },
    {
     "name": "stdout",
     "output_type": "stream",
     "text": [
      "TESTING SET RESULTS: Average loss: 0.0493 Err: 0.0280\n"
     ]
    },
    {
     "name": "stderr",
     "output_type": "stream",
     "text": [
      "Epoch 90 Train Loss 0.0442 Err: 0.0000: 100%|██████████| 225/225 [01:40<00:00,  2.30it/s]\n",
      "Epoch 90 Test  Loss 0.0479 Err: 0.0000: 100%|██████████| 25/25 [00:05<00:00,  5.04it/s]\n",
      "  0%|          | 0/225 [00:00<?, ?it/s]"
     ]
    },
    {
     "name": "stdout",
     "output_type": "stream",
     "text": [
      "TESTING SET RESULTS: Average loss: 0.0490 Err: 0.0270\n"
     ]
    },
    {
     "name": "stderr",
     "output_type": "stream",
     "text": [
      "Epoch 91 Train Loss 0.0442 Err: 0.0000: 100%|██████████| 225/225 [01:40<00:00,  2.11it/s]\n",
      "Epoch 91 Test  Loss 0.0476 Err: 0.0000: 100%|██████████| 25/25 [00:05<00:00,  4.64it/s]\n",
      "  0%|          | 0/225 [00:00<?, ?it/s]"
     ]
    },
    {
     "name": "stdout",
     "output_type": "stream",
     "text": [
      "TESTING SET RESULTS: Average loss: 0.0488 Err: 0.0300\n"
     ]
    },
    {
     "name": "stderr",
     "output_type": "stream",
     "text": [
      "Epoch 92 Train Loss 0.0439 Err: 0.0000: 100%|██████████| 225/225 [01:41<00:00,  2.32it/s]\n",
      "Epoch 92 Test  Loss 0.0477 Err: 0.0000: 100%|██████████| 25/25 [00:05<00:00,  4.50it/s]\n",
      "  0%|          | 0/225 [00:00<?, ?it/s]"
     ]
    },
    {
     "name": "stdout",
     "output_type": "stream",
     "text": [
      "TESTING SET RESULTS: Average loss: 0.0490 Err: 0.0200\n"
     ]
    },
    {
     "name": "stderr",
     "output_type": "stream",
     "text": [
      "Epoch 93 Train Loss 0.0439 Err: 0.0000: 100%|██████████| 225/225 [01:39<00:00,  2.25it/s]\n",
      "Epoch 93 Test  Loss 0.0475 Err: 0.0000: 100%|██████████| 25/25 [00:05<00:00,  4.75it/s]\n",
      "  0%|          | 0/225 [00:00<?, ?it/s]"
     ]
    },
    {
     "name": "stdout",
     "output_type": "stream",
     "text": [
      "TESTING SET RESULTS: Average loss: 0.0488 Err: 0.0260\n"
     ]
    },
    {
     "name": "stderr",
     "output_type": "stream",
     "text": [
      "Epoch 94 Train Loss 0.0444 Err: 0.0000: 100%|██████████| 225/225 [01:41<00:00,  2.15it/s]\n",
      "Epoch 94 Test  Loss 0.0478 Err: 0.0000: 100%|██████████| 25/25 [00:04<00:00,  5.08it/s]\n",
      "  0%|          | 0/225 [00:00<?, ?it/s]"
     ]
    },
    {
     "name": "stdout",
     "output_type": "stream",
     "text": [
      "TESTING SET RESULTS: Average loss: 0.0489 Err: 0.0230\n"
     ]
    },
    {
     "name": "stderr",
     "output_type": "stream",
     "text": [
      "Epoch 95 Train Loss 0.0440 Err: 0.0000: 100%|██████████| 225/225 [01:40<00:00,  2.25it/s]\n",
      "Epoch 95 Test  Loss 0.0476 Err: 0.0000: 100%|██████████| 25/25 [00:05<00:00,  5.05it/s]\n",
      "  0%|          | 0/225 [00:00<?, ?it/s]"
     ]
    },
    {
     "name": "stdout",
     "output_type": "stream",
     "text": [
      "TESTING SET RESULTS: Average loss: 0.0489 Err: 0.0180\n"
     ]
    },
    {
     "name": "stderr",
     "output_type": "stream",
     "text": [
      "Epoch 96 Train Loss 0.0445 Err: 0.0000: 100%|██████████| 225/225 [01:41<00:00,  2.18it/s]\n",
      "Epoch 96 Test  Loss 0.0478 Err: 0.0000: 100%|██████████| 25/25 [00:05<00:00,  5.06it/s]\n",
      "  0%|          | 0/225 [00:00<?, ?it/s]"
     ]
    },
    {
     "name": "stdout",
     "output_type": "stream",
     "text": [
      "TESTING SET RESULTS: Average loss: 0.0489 Err: 0.0260\n"
     ]
    },
    {
     "name": "stderr",
     "output_type": "stream",
     "text": [
      "Epoch 97 Train Loss 0.0439 Err: 0.0000: 100%|██████████| 225/225 [01:42<00:00,  2.08it/s]\n",
      "Epoch 97 Test  Loss 0.0477 Err: 0.0000: 100%|██████████| 25/25 [00:05<00:00,  4.59it/s]\n",
      "  0%|          | 0/225 [00:00<?, ?it/s]"
     ]
    },
    {
     "name": "stdout",
     "output_type": "stream",
     "text": [
      "TESTING SET RESULTS: Average loss: 0.0488 Err: 0.0200\n"
     ]
    },
    {
     "name": "stderr",
     "output_type": "stream",
     "text": [
      "Epoch 98 Train Loss 0.0444 Err: 0.0000: 100%|██████████| 225/225 [01:42<00:00,  2.15it/s]\n",
      "Epoch 98 Test  Loss 0.0474 Err: 0.0000: 100%|██████████| 25/25 [00:05<00:00,  5.05it/s]\n",
      "  0%|          | 0/225 [00:00<?, ?it/s]"
     ]
    },
    {
     "name": "stdout",
     "output_type": "stream",
     "text": [
      "TESTING SET RESULTS: Average loss: 0.0488 Err: 0.0250\n"
     ]
    },
    {
     "name": "stderr",
     "output_type": "stream",
     "text": [
      "Epoch 99 Train Loss 0.0439 Err: 0.0000: 100%|██████████| 225/225 [01:41<00:00,  2.18it/s]\n",
      "Epoch 99 Test  Loss 0.0472 Err: 0.0000: 100%|██████████| 25/25 [00:05<00:00,  4.49it/s]\n",
      "  0%|          | 0/225 [00:00<?, ?it/s]"
     ]
    },
    {
     "name": "stdout",
     "output_type": "stream",
     "text": [
      "TESTING SET RESULTS: Average loss: 0.0486 Err: 0.0220\n"
     ]
    },
    {
     "name": "stderr",
     "output_type": "stream",
     "text": [
      "Epoch 100 Train Loss 0.0437 Err: 0.0000: 100%|██████████| 225/225 [01:42<00:00,  2.25it/s]\n",
      "Epoch 100 Test  Loss 0.0477 Err: 0.0000: 100%|██████████| 25/25 [00:05<00:00,  5.03it/s]\n"
     ]
    },
    {
     "name": "stdout",
     "output_type": "stream",
     "text": [
      "TESTING SET RESULTS: Average loss: 0.0486 Err: 0.0230\n"
     ]
    }
   ],
   "source": [
    "test(args.boardSz, 0, sudoku_model, optimizer, test_logger, sudoku_test, args.batchSz)\n",
    "for epoch in range(1, args.nEpoch+1):\n",
    "    train(args.boardSz, epoch, sudoku_model, optimizer, train_logger, sudoku_train, args.batchSz)\n",
    "    test(args.boardSz, epoch, sudoku_model, optimizer, test_logger, sudoku_test, args.batchSz)"
   ]
  },
  {
   "cell_type": "markdown",
   "metadata": {},
   "source": [
    "# The Permutated Sudoku Experiment"
   ]
  },
  {
   "cell_type": "code",
   "execution_count": 10,
   "metadata": {},
   "outputs": [
    {
     "data": {
      "application/javascript": [
       "/* Put everything inside the global mpl namespace */\n",
       "window.mpl = {};\n",
       "\n",
       "\n",
       "mpl.get_websocket_type = function() {\n",
       "    if (typeof(WebSocket) !== 'undefined') {\n",
       "        return WebSocket;\n",
       "    } else if (typeof(MozWebSocket) !== 'undefined') {\n",
       "        return MozWebSocket;\n",
       "    } else {\n",
       "        alert('Your browser does not have WebSocket support.' +\n",
       "              'Please try Chrome, Safari or Firefox ≥ 6. ' +\n",
       "              'Firefox 4 and 5 are also supported but you ' +\n",
       "              'have to enable WebSockets in about:config.');\n",
       "    };\n",
       "}\n",
       "\n",
       "mpl.figure = function(figure_id, websocket, ondownload, parent_element) {\n",
       "    this.id = figure_id;\n",
       "\n",
       "    this.ws = websocket;\n",
       "\n",
       "    this.supports_binary = (this.ws.binaryType != undefined);\n",
       "\n",
       "    if (!this.supports_binary) {\n",
       "        var warnings = document.getElementById(\"mpl-warnings\");\n",
       "        if (warnings) {\n",
       "            warnings.style.display = 'block';\n",
       "            warnings.textContent = (\n",
       "                \"This browser does not support binary websocket messages. \" +\n",
       "                    \"Performance may be slow.\");\n",
       "        }\n",
       "    }\n",
       "\n",
       "    this.imageObj = new Image();\n",
       "\n",
       "    this.context = undefined;\n",
       "    this.message = undefined;\n",
       "    this.canvas = undefined;\n",
       "    this.rubberband_canvas = undefined;\n",
       "    this.rubberband_context = undefined;\n",
       "    this.format_dropdown = undefined;\n",
       "\n",
       "    this.image_mode = 'full';\n",
       "\n",
       "    this.root = $('<div/>');\n",
       "    this._root_extra_style(this.root)\n",
       "    this.root.attr('style', 'display: inline-block');\n",
       "\n",
       "    $(parent_element).append(this.root);\n",
       "\n",
       "    this._init_header(this);\n",
       "    this._init_canvas(this);\n",
       "    this._init_toolbar(this);\n",
       "\n",
       "    var fig = this;\n",
       "\n",
       "    this.waiting = false;\n",
       "\n",
       "    this.ws.onopen =  function () {\n",
       "            fig.send_message(\"supports_binary\", {value: fig.supports_binary});\n",
       "            fig.send_message(\"send_image_mode\", {});\n",
       "            if (mpl.ratio != 1) {\n",
       "                fig.send_message(\"set_dpi_ratio\", {'dpi_ratio': mpl.ratio});\n",
       "            }\n",
       "            fig.send_message(\"refresh\", {});\n",
       "        }\n",
       "\n",
       "    this.imageObj.onload = function() {\n",
       "            if (fig.image_mode == 'full') {\n",
       "                // Full images could contain transparency (where diff images\n",
       "                // almost always do), so we need to clear the canvas so that\n",
       "                // there is no ghosting.\n",
       "                fig.context.clearRect(0, 0, fig.canvas.width, fig.canvas.height);\n",
       "            }\n",
       "            fig.context.drawImage(fig.imageObj, 0, 0);\n",
       "        };\n",
       "\n",
       "    this.imageObj.onunload = function() {\n",
       "        fig.ws.close();\n",
       "    }\n",
       "\n",
       "    this.ws.onmessage = this._make_on_message_function(this);\n",
       "\n",
       "    this.ondownload = ondownload;\n",
       "}\n",
       "\n",
       "mpl.figure.prototype._init_header = function() {\n",
       "    var titlebar = $(\n",
       "        '<div class=\"ui-dialog-titlebar ui-widget-header ui-corner-all ' +\n",
       "        'ui-helper-clearfix\"/>');\n",
       "    var titletext = $(\n",
       "        '<div class=\"ui-dialog-title\" style=\"width: 100%; ' +\n",
       "        'text-align: center; padding: 3px;\"/>');\n",
       "    titlebar.append(titletext)\n",
       "    this.root.append(titlebar);\n",
       "    this.header = titletext[0];\n",
       "}\n",
       "\n",
       "\n",
       "\n",
       "mpl.figure.prototype._canvas_extra_style = function(canvas_div) {\n",
       "\n",
       "}\n",
       "\n",
       "\n",
       "mpl.figure.prototype._root_extra_style = function(canvas_div) {\n",
       "\n",
       "}\n",
       "\n",
       "mpl.figure.prototype._init_canvas = function() {\n",
       "    var fig = this;\n",
       "\n",
       "    var canvas_div = $('<div/>');\n",
       "\n",
       "    canvas_div.attr('style', 'position: relative; clear: both; outline: 0');\n",
       "\n",
       "    function canvas_keyboard_event(event) {\n",
       "        return fig.key_event(event, event['data']);\n",
       "    }\n",
       "\n",
       "    canvas_div.keydown('key_press', canvas_keyboard_event);\n",
       "    canvas_div.keyup('key_release', canvas_keyboard_event);\n",
       "    this.canvas_div = canvas_div\n",
       "    this._canvas_extra_style(canvas_div)\n",
       "    this.root.append(canvas_div);\n",
       "\n",
       "    var canvas = $('<canvas/>');\n",
       "    canvas.addClass('mpl-canvas');\n",
       "    canvas.attr('style', \"left: 0; top: 0; z-index: 0; outline: 0\")\n",
       "\n",
       "    this.canvas = canvas[0];\n",
       "    this.context = canvas[0].getContext(\"2d\");\n",
       "\n",
       "    var backingStore = this.context.backingStorePixelRatio ||\n",
       "\tthis.context.webkitBackingStorePixelRatio ||\n",
       "\tthis.context.mozBackingStorePixelRatio ||\n",
       "\tthis.context.msBackingStorePixelRatio ||\n",
       "\tthis.context.oBackingStorePixelRatio ||\n",
       "\tthis.context.backingStorePixelRatio || 1;\n",
       "\n",
       "    mpl.ratio = (window.devicePixelRatio || 1) / backingStore;\n",
       "\n",
       "    var rubberband = $('<canvas/>');\n",
       "    rubberband.attr('style', \"position: absolute; left: 0; top: 0; z-index: 1;\")\n",
       "\n",
       "    var pass_mouse_events = true;\n",
       "\n",
       "    canvas_div.resizable({\n",
       "        start: function(event, ui) {\n",
       "            pass_mouse_events = false;\n",
       "        },\n",
       "        resize: function(event, ui) {\n",
       "            fig.request_resize(ui.size.width, ui.size.height);\n",
       "        },\n",
       "        stop: function(event, ui) {\n",
       "            pass_mouse_events = true;\n",
       "            fig.request_resize(ui.size.width, ui.size.height);\n",
       "        },\n",
       "    });\n",
       "\n",
       "    function mouse_event_fn(event) {\n",
       "        if (pass_mouse_events)\n",
       "            return fig.mouse_event(event, event['data']);\n",
       "    }\n",
       "\n",
       "    rubberband.mousedown('button_press', mouse_event_fn);\n",
       "    rubberband.mouseup('button_release', mouse_event_fn);\n",
       "    // Throttle sequential mouse events to 1 every 20ms.\n",
       "    rubberband.mousemove('motion_notify', mouse_event_fn);\n",
       "\n",
       "    rubberband.mouseenter('figure_enter', mouse_event_fn);\n",
       "    rubberband.mouseleave('figure_leave', mouse_event_fn);\n",
       "\n",
       "    canvas_div.on(\"wheel\", function (event) {\n",
       "        event = event.originalEvent;\n",
       "        event['data'] = 'scroll'\n",
       "        if (event.deltaY < 0) {\n",
       "            event.step = 1;\n",
       "        } else {\n",
       "            event.step = -1;\n",
       "        }\n",
       "        mouse_event_fn(event);\n",
       "    });\n",
       "\n",
       "    canvas_div.append(canvas);\n",
       "    canvas_div.append(rubberband);\n",
       "\n",
       "    this.rubberband = rubberband;\n",
       "    this.rubberband_canvas = rubberband[0];\n",
       "    this.rubberband_context = rubberband[0].getContext(\"2d\");\n",
       "    this.rubberband_context.strokeStyle = \"#000000\";\n",
       "\n",
       "    this._resize_canvas = function(width, height) {\n",
       "        // Keep the size of the canvas, canvas container, and rubber band\n",
       "        // canvas in synch.\n",
       "        canvas_div.css('width', width)\n",
       "        canvas_div.css('height', height)\n",
       "\n",
       "        canvas.attr('width', width * mpl.ratio);\n",
       "        canvas.attr('height', height * mpl.ratio);\n",
       "        canvas.attr('style', 'width: ' + width + 'px; height: ' + height + 'px;');\n",
       "\n",
       "        rubberband.attr('width', width);\n",
       "        rubberband.attr('height', height);\n",
       "    }\n",
       "\n",
       "    // Set the figure to an initial 600x600px, this will subsequently be updated\n",
       "    // upon first draw.\n",
       "    this._resize_canvas(600, 600);\n",
       "\n",
       "    // Disable right mouse context menu.\n",
       "    $(this.rubberband_canvas).bind(\"contextmenu\",function(e){\n",
       "        return false;\n",
       "    });\n",
       "\n",
       "    function set_focus () {\n",
       "        canvas.focus();\n",
       "        canvas_div.focus();\n",
       "    }\n",
       "\n",
       "    window.setTimeout(set_focus, 100);\n",
       "}\n",
       "\n",
       "mpl.figure.prototype._init_toolbar = function() {\n",
       "    var fig = this;\n",
       "\n",
       "    var nav_element = $('<div/>')\n",
       "    nav_element.attr('style', 'width: 100%');\n",
       "    this.root.append(nav_element);\n",
       "\n",
       "    // Define a callback function for later on.\n",
       "    function toolbar_event(event) {\n",
       "        return fig.toolbar_button_onclick(event['data']);\n",
       "    }\n",
       "    function toolbar_mouse_event(event) {\n",
       "        return fig.toolbar_button_onmouseover(event['data']);\n",
       "    }\n",
       "\n",
       "    for(var toolbar_ind in mpl.toolbar_items) {\n",
       "        var name = mpl.toolbar_items[toolbar_ind][0];\n",
       "        var tooltip = mpl.toolbar_items[toolbar_ind][1];\n",
       "        var image = mpl.toolbar_items[toolbar_ind][2];\n",
       "        var method_name = mpl.toolbar_items[toolbar_ind][3];\n",
       "\n",
       "        if (!name) {\n",
       "            // put a spacer in here.\n",
       "            continue;\n",
       "        }\n",
       "        var button = $('<button/>');\n",
       "        button.addClass('ui-button ui-widget ui-state-default ui-corner-all ' +\n",
       "                        'ui-button-icon-only');\n",
       "        button.attr('role', 'button');\n",
       "        button.attr('aria-disabled', 'false');\n",
       "        button.click(method_name, toolbar_event);\n",
       "        button.mouseover(tooltip, toolbar_mouse_event);\n",
       "\n",
       "        var icon_img = $('<span/>');\n",
       "        icon_img.addClass('ui-button-icon-primary ui-icon');\n",
       "        icon_img.addClass(image);\n",
       "        icon_img.addClass('ui-corner-all');\n",
       "\n",
       "        var tooltip_span = $('<span/>');\n",
       "        tooltip_span.addClass('ui-button-text');\n",
       "        tooltip_span.html(tooltip);\n",
       "\n",
       "        button.append(icon_img);\n",
       "        button.append(tooltip_span);\n",
       "\n",
       "        nav_element.append(button);\n",
       "    }\n",
       "\n",
       "    var fmt_picker_span = $('<span/>');\n",
       "\n",
       "    var fmt_picker = $('<select/>');\n",
       "    fmt_picker.addClass('mpl-toolbar-option ui-widget ui-widget-content');\n",
       "    fmt_picker_span.append(fmt_picker);\n",
       "    nav_element.append(fmt_picker_span);\n",
       "    this.format_dropdown = fmt_picker[0];\n",
       "\n",
       "    for (var ind in mpl.extensions) {\n",
       "        var fmt = mpl.extensions[ind];\n",
       "        var option = $(\n",
       "            '<option/>', {selected: fmt === mpl.default_extension}).html(fmt);\n",
       "        fmt_picker.append(option)\n",
       "    }\n",
       "\n",
       "    // Add hover states to the ui-buttons\n",
       "    $( \".ui-button\" ).hover(\n",
       "        function() { $(this).addClass(\"ui-state-hover\");},\n",
       "        function() { $(this).removeClass(\"ui-state-hover\");}\n",
       "    );\n",
       "\n",
       "    var status_bar = $('<span class=\"mpl-message\"/>');\n",
       "    nav_element.append(status_bar);\n",
       "    this.message = status_bar[0];\n",
       "}\n",
       "\n",
       "mpl.figure.prototype.request_resize = function(x_pixels, y_pixels) {\n",
       "    // Request matplotlib to resize the figure. Matplotlib will then trigger a resize in the client,\n",
       "    // which will in turn request a refresh of the image.\n",
       "    this.send_message('resize', {'width': x_pixels, 'height': y_pixels});\n",
       "}\n",
       "\n",
       "mpl.figure.prototype.send_message = function(type, properties) {\n",
       "    properties['type'] = type;\n",
       "    properties['figure_id'] = this.id;\n",
       "    this.ws.send(JSON.stringify(properties));\n",
       "}\n",
       "\n",
       "mpl.figure.prototype.send_draw_message = function() {\n",
       "    if (!this.waiting) {\n",
       "        this.waiting = true;\n",
       "        this.ws.send(JSON.stringify({type: \"draw\", figure_id: this.id}));\n",
       "    }\n",
       "}\n",
       "\n",
       "\n",
       "mpl.figure.prototype.handle_save = function(fig, msg) {\n",
       "    var format_dropdown = fig.format_dropdown;\n",
       "    var format = format_dropdown.options[format_dropdown.selectedIndex].value;\n",
       "    fig.ondownload(fig, format);\n",
       "}\n",
       "\n",
       "\n",
       "mpl.figure.prototype.handle_resize = function(fig, msg) {\n",
       "    var size = msg['size'];\n",
       "    if (size[0] != fig.canvas.width || size[1] != fig.canvas.height) {\n",
       "        fig._resize_canvas(size[0], size[1]);\n",
       "        fig.send_message(\"refresh\", {});\n",
       "    };\n",
       "}\n",
       "\n",
       "mpl.figure.prototype.handle_rubberband = function(fig, msg) {\n",
       "    var x0 = msg['x0'] / mpl.ratio;\n",
       "    var y0 = (fig.canvas.height - msg['y0']) / mpl.ratio;\n",
       "    var x1 = msg['x1'] / mpl.ratio;\n",
       "    var y1 = (fig.canvas.height - msg['y1']) / mpl.ratio;\n",
       "    x0 = Math.floor(x0) + 0.5;\n",
       "    y0 = Math.floor(y0) + 0.5;\n",
       "    x1 = Math.floor(x1) + 0.5;\n",
       "    y1 = Math.floor(y1) + 0.5;\n",
       "    var min_x = Math.min(x0, x1);\n",
       "    var min_y = Math.min(y0, y1);\n",
       "    var width = Math.abs(x1 - x0);\n",
       "    var height = Math.abs(y1 - y0);\n",
       "\n",
       "    fig.rubberband_context.clearRect(\n",
       "        0, 0, fig.canvas.width, fig.canvas.height);\n",
       "\n",
       "    fig.rubberband_context.strokeRect(min_x, min_y, width, height);\n",
       "}\n",
       "\n",
       "mpl.figure.prototype.handle_figure_label = function(fig, msg) {\n",
       "    // Updates the figure title.\n",
       "    fig.header.textContent = msg['label'];\n",
       "}\n",
       "\n",
       "mpl.figure.prototype.handle_cursor = function(fig, msg) {\n",
       "    var cursor = msg['cursor'];\n",
       "    switch(cursor)\n",
       "    {\n",
       "    case 0:\n",
       "        cursor = 'pointer';\n",
       "        break;\n",
       "    case 1:\n",
       "        cursor = 'default';\n",
       "        break;\n",
       "    case 2:\n",
       "        cursor = 'crosshair';\n",
       "        break;\n",
       "    case 3:\n",
       "        cursor = 'move';\n",
       "        break;\n",
       "    }\n",
       "    fig.rubberband_canvas.style.cursor = cursor;\n",
       "}\n",
       "\n",
       "mpl.figure.prototype.handle_message = function(fig, msg) {\n",
       "    fig.message.textContent = msg['message'];\n",
       "}\n",
       "\n",
       "mpl.figure.prototype.handle_draw = function(fig, msg) {\n",
       "    // Request the server to send over a new figure.\n",
       "    fig.send_draw_message();\n",
       "}\n",
       "\n",
       "mpl.figure.prototype.handle_image_mode = function(fig, msg) {\n",
       "    fig.image_mode = msg['mode'];\n",
       "}\n",
       "\n",
       "mpl.figure.prototype.updated_canvas_event = function() {\n",
       "    // Called whenever the canvas gets updated.\n",
       "    this.send_message(\"ack\", {});\n",
       "}\n",
       "\n",
       "// A function to construct a web socket function for onmessage handling.\n",
       "// Called in the figure constructor.\n",
       "mpl.figure.prototype._make_on_message_function = function(fig) {\n",
       "    return function socket_on_message(evt) {\n",
       "        if (evt.data instanceof Blob) {\n",
       "            /* FIXME: We get \"Resource interpreted as Image but\n",
       "             * transferred with MIME type text/plain:\" errors on\n",
       "             * Chrome.  But how to set the MIME type?  It doesn't seem\n",
       "             * to be part of the websocket stream */\n",
       "            evt.data.type = \"image/png\";\n",
       "\n",
       "            /* Free the memory for the previous frames */\n",
       "            if (fig.imageObj.src) {\n",
       "                (window.URL || window.webkitURL).revokeObjectURL(\n",
       "                    fig.imageObj.src);\n",
       "            }\n",
       "\n",
       "            fig.imageObj.src = (window.URL || window.webkitURL).createObjectURL(\n",
       "                evt.data);\n",
       "            fig.updated_canvas_event();\n",
       "            fig.waiting = false;\n",
       "            return;\n",
       "        }\n",
       "        else if (typeof evt.data === 'string' && evt.data.slice(0, 21) == \"data:image/png;base64\") {\n",
       "            fig.imageObj.src = evt.data;\n",
       "            fig.updated_canvas_event();\n",
       "            fig.waiting = false;\n",
       "            return;\n",
       "        }\n",
       "\n",
       "        var msg = JSON.parse(evt.data);\n",
       "        var msg_type = msg['type'];\n",
       "\n",
       "        // Call the  \"handle_{type}\" callback, which takes\n",
       "        // the figure and JSON message as its only arguments.\n",
       "        try {\n",
       "            var callback = fig[\"handle_\" + msg_type];\n",
       "        } catch (e) {\n",
       "            console.log(\"No handler for the '\" + msg_type + \"' message type: \", msg);\n",
       "            return;\n",
       "        }\n",
       "\n",
       "        if (callback) {\n",
       "            try {\n",
       "                // console.log(\"Handling '\" + msg_type + \"' message: \", msg);\n",
       "                callback(fig, msg);\n",
       "            } catch (e) {\n",
       "                console.log(\"Exception inside the 'handler_\" + msg_type + \"' callback:\", e, e.stack, msg);\n",
       "            }\n",
       "        }\n",
       "    };\n",
       "}\n",
       "\n",
       "// from http://stackoverflow.com/questions/1114465/getting-mouse-location-in-canvas\n",
       "mpl.findpos = function(e) {\n",
       "    //this section is from http://www.quirksmode.org/js/events_properties.html\n",
       "    var targ;\n",
       "    if (!e)\n",
       "        e = window.event;\n",
       "    if (e.target)\n",
       "        targ = e.target;\n",
       "    else if (e.srcElement)\n",
       "        targ = e.srcElement;\n",
       "    if (targ.nodeType == 3) // defeat Safari bug\n",
       "        targ = targ.parentNode;\n",
       "\n",
       "    // jQuery normalizes the pageX and pageY\n",
       "    // pageX,Y are the mouse positions relative to the document\n",
       "    // offset() returns the position of the element relative to the document\n",
       "    var x = e.pageX - $(targ).offset().left;\n",
       "    var y = e.pageY - $(targ).offset().top;\n",
       "\n",
       "    return {\"x\": x, \"y\": y};\n",
       "};\n",
       "\n",
       "/*\n",
       " * return a copy of an object with only non-object keys\n",
       " * we need this to avoid circular references\n",
       " * http://stackoverflow.com/a/24161582/3208463\n",
       " */\n",
       "function simpleKeys (original) {\n",
       "  return Object.keys(original).reduce(function (obj, key) {\n",
       "    if (typeof original[key] !== 'object')\n",
       "        obj[key] = original[key]\n",
       "    return obj;\n",
       "  }, {});\n",
       "}\n",
       "\n",
       "mpl.figure.prototype.mouse_event = function(event, name) {\n",
       "    var canvas_pos = mpl.findpos(event)\n",
       "\n",
       "    if (name === 'button_press')\n",
       "    {\n",
       "        this.canvas.focus();\n",
       "        this.canvas_div.focus();\n",
       "    }\n",
       "\n",
       "    var x = canvas_pos.x * mpl.ratio;\n",
       "    var y = canvas_pos.y * mpl.ratio;\n",
       "\n",
       "    this.send_message(name, {x: x, y: y, button: event.button,\n",
       "                             step: event.step,\n",
       "                             guiEvent: simpleKeys(event)});\n",
       "\n",
       "    /* This prevents the web browser from automatically changing to\n",
       "     * the text insertion cursor when the button is pressed.  We want\n",
       "     * to control all of the cursor setting manually through the\n",
       "     * 'cursor' event from matplotlib */\n",
       "    event.preventDefault();\n",
       "    return false;\n",
       "}\n",
       "\n",
       "mpl.figure.prototype._key_event_extra = function(event, name) {\n",
       "    // Handle any extra behaviour associated with a key event\n",
       "}\n",
       "\n",
       "mpl.figure.prototype.key_event = function(event, name) {\n",
       "\n",
       "    // Prevent repeat events\n",
       "    if (name == 'key_press')\n",
       "    {\n",
       "        if (event.which === this._key)\n",
       "            return;\n",
       "        else\n",
       "            this._key = event.which;\n",
       "    }\n",
       "    if (name == 'key_release')\n",
       "        this._key = null;\n",
       "\n",
       "    var value = '';\n",
       "    if (event.ctrlKey && event.which != 17)\n",
       "        value += \"ctrl+\";\n",
       "    if (event.altKey && event.which != 18)\n",
       "        value += \"alt+\";\n",
       "    if (event.shiftKey && event.which != 16)\n",
       "        value += \"shift+\";\n",
       "\n",
       "    value += 'k';\n",
       "    value += event.which.toString();\n",
       "\n",
       "    this._key_event_extra(event, name);\n",
       "\n",
       "    this.send_message(name, {key: value,\n",
       "                             guiEvent: simpleKeys(event)});\n",
       "    return false;\n",
       "}\n",
       "\n",
       "mpl.figure.prototype.toolbar_button_onclick = function(name) {\n",
       "    if (name == 'download') {\n",
       "        this.handle_save(this, null);\n",
       "    } else {\n",
       "        this.send_message(\"toolbar_button\", {name: name});\n",
       "    }\n",
       "};\n",
       "\n",
       "mpl.figure.prototype.toolbar_button_onmouseover = function(tooltip) {\n",
       "    this.message.textContent = tooltip;\n",
       "};\n",
       "mpl.toolbar_items = [[\"Home\", \"Reset original view\", \"fa fa-home icon-home\", \"home\"], [\"Back\", \"Back to previous view\", \"fa fa-arrow-left icon-arrow-left\", \"back\"], [\"Forward\", \"Forward to next view\", \"fa fa-arrow-right icon-arrow-right\", \"forward\"], [\"\", \"\", \"\", \"\"], [\"Pan\", \"Pan axes with left mouse, zoom with right\", \"fa fa-arrows icon-move\", \"pan\"], [\"Zoom\", \"Zoom to rectangle\", \"fa fa-square-o icon-check-empty\", \"zoom\"], [\"\", \"\", \"\", \"\"], [\"Download\", \"Download plot\", \"fa fa-floppy-o icon-save\", \"download\"]];\n",
       "\n",
       "mpl.extensions = [\"eps\", \"jpeg\", \"pdf\", \"png\", \"ps\", \"raw\", \"svg\", \"tif\"];\n",
       "\n",
       "mpl.default_extension = \"png\";var comm_websocket_adapter = function(comm) {\n",
       "    // Create a \"websocket\"-like object which calls the given IPython comm\n",
       "    // object with the appropriate methods. Currently this is a non binary\n",
       "    // socket, so there is still some room for performance tuning.\n",
       "    var ws = {};\n",
       "\n",
       "    ws.close = function() {\n",
       "        comm.close()\n",
       "    };\n",
       "    ws.send = function(m) {\n",
       "        //console.log('sending', m);\n",
       "        comm.send(m);\n",
       "    };\n",
       "    // Register the callback with on_msg.\n",
       "    comm.on_msg(function(msg) {\n",
       "        //console.log('receiving', msg['content']['data'], msg);\n",
       "        // Pass the mpl event to the overridden (by mpl) onmessage function.\n",
       "        ws.onmessage(msg['content']['data'])\n",
       "    });\n",
       "    return ws;\n",
       "}\n",
       "\n",
       "mpl.mpl_figure_comm = function(comm, msg) {\n",
       "    // This is the function which gets called when the mpl process\n",
       "    // starts-up an IPython Comm through the \"matplotlib\" channel.\n",
       "\n",
       "    var id = msg.content.data.id;\n",
       "    // Get hold of the div created by the display call when the Comm\n",
       "    // socket was opened in Python.\n",
       "    var element = $(\"#\" + id);\n",
       "    var ws_proxy = comm_websocket_adapter(comm)\n",
       "\n",
       "    function ondownload(figure, format) {\n",
       "        window.open(figure.imageObj.src);\n",
       "    }\n",
       "\n",
       "    var fig = new mpl.figure(id, ws_proxy,\n",
       "                           ondownload,\n",
       "                           element.get(0));\n",
       "\n",
       "    // Call onopen now - mpl needs it, as it is assuming we've passed it a real\n",
       "    // web socket which is closed, not our websocket->open comm proxy.\n",
       "    ws_proxy.onopen();\n",
       "\n",
       "    fig.parent_element = element.get(0);\n",
       "    fig.cell_info = mpl.find_output_cell(\"<div id='\" + id + \"'></div>\");\n",
       "    if (!fig.cell_info) {\n",
       "        console.error(\"Failed to find cell for figure\", id, fig);\n",
       "        return;\n",
       "    }\n",
       "\n",
       "    var output_index = fig.cell_info[2]\n",
       "    var cell = fig.cell_info[0];\n",
       "\n",
       "};\n",
       "\n",
       "mpl.figure.prototype.handle_close = function(fig, msg) {\n",
       "    var width = fig.canvas.width/mpl.ratio\n",
       "    fig.root.unbind('remove')\n",
       "\n",
       "    // Update the output cell to use the data from the current canvas.\n",
       "    fig.push_to_output();\n",
       "    var dataURL = fig.canvas.toDataURL();\n",
       "    // Re-enable the keyboard manager in IPython - without this line, in FF,\n",
       "    // the notebook keyboard shortcuts fail.\n",
       "    IPython.keyboard_manager.enable()\n",
       "    $(fig.parent_element).html('<img src=\"' + dataURL + '\" width=\"' + width + '\">');\n",
       "    fig.close_ws(fig, msg);\n",
       "}\n",
       "\n",
       "mpl.figure.prototype.close_ws = function(fig, msg){\n",
       "    fig.send_message('closing', msg);\n",
       "    // fig.ws.close()\n",
       "}\n",
       "\n",
       "mpl.figure.prototype.push_to_output = function(remove_interactive) {\n",
       "    // Turn the data on the canvas into data in the output cell.\n",
       "    var width = this.canvas.width/mpl.ratio\n",
       "    var dataURL = this.canvas.toDataURL();\n",
       "    this.cell_info[1]['text/html'] = '<img src=\"' + dataURL + '\" width=\"' + width + '\">';\n",
       "}\n",
       "\n",
       "mpl.figure.prototype.updated_canvas_event = function() {\n",
       "    // Tell IPython that the notebook contents must change.\n",
       "    IPython.notebook.set_dirty(true);\n",
       "    this.send_message(\"ack\", {});\n",
       "    var fig = this;\n",
       "    // Wait a second, then push the new image to the DOM so\n",
       "    // that it is saved nicely (might be nice to debounce this).\n",
       "    setTimeout(function () { fig.push_to_output() }, 1000);\n",
       "}\n",
       "\n",
       "mpl.figure.prototype._init_toolbar = function() {\n",
       "    var fig = this;\n",
       "\n",
       "    var nav_element = $('<div/>')\n",
       "    nav_element.attr('style', 'width: 100%');\n",
       "    this.root.append(nav_element);\n",
       "\n",
       "    // Define a callback function for later on.\n",
       "    function toolbar_event(event) {\n",
       "        return fig.toolbar_button_onclick(event['data']);\n",
       "    }\n",
       "    function toolbar_mouse_event(event) {\n",
       "        return fig.toolbar_button_onmouseover(event['data']);\n",
       "    }\n",
       "\n",
       "    for(var toolbar_ind in mpl.toolbar_items){\n",
       "        var name = mpl.toolbar_items[toolbar_ind][0];\n",
       "        var tooltip = mpl.toolbar_items[toolbar_ind][1];\n",
       "        var image = mpl.toolbar_items[toolbar_ind][2];\n",
       "        var method_name = mpl.toolbar_items[toolbar_ind][3];\n",
       "\n",
       "        if (!name) { continue; };\n",
       "\n",
       "        var button = $('<button class=\"btn btn-default\" href=\"#\" title=\"' + name + '\"><i class=\"fa ' + image + ' fa-lg\"></i></button>');\n",
       "        button.click(method_name, toolbar_event);\n",
       "        button.mouseover(tooltip, toolbar_mouse_event);\n",
       "        nav_element.append(button);\n",
       "    }\n",
       "\n",
       "    // Add the status bar.\n",
       "    var status_bar = $('<span class=\"mpl-message\" style=\"text-align:right; float: right;\"/>');\n",
       "    nav_element.append(status_bar);\n",
       "    this.message = status_bar[0];\n",
       "\n",
       "    // Add the close button to the window.\n",
       "    var buttongrp = $('<div class=\"btn-group inline pull-right\"></div>');\n",
       "    var button = $('<button class=\"btn btn-mini btn-primary\" href=\"#\" title=\"Stop Interaction\"><i class=\"fa fa-power-off icon-remove icon-large\"></i></button>');\n",
       "    button.click(function (evt) { fig.handle_close(fig, {}); } );\n",
       "    button.mouseover('Stop Interaction', toolbar_mouse_event);\n",
       "    buttongrp.append(button);\n",
       "    var titlebar = this.root.find($('.ui-dialog-titlebar'));\n",
       "    titlebar.prepend(buttongrp);\n",
       "}\n",
       "\n",
       "mpl.figure.prototype._root_extra_style = function(el){\n",
       "    var fig = this\n",
       "    el.on(\"remove\", function(){\n",
       "\tfig.close_ws(fig, {});\n",
       "    });\n",
       "}\n",
       "\n",
       "mpl.figure.prototype._canvas_extra_style = function(el){\n",
       "    // this is important to make the div 'focusable\n",
       "    el.attr('tabindex', 0)\n",
       "    // reach out to IPython and tell the keyboard manager to turn it's self\n",
       "    // off when our div gets focus\n",
       "\n",
       "    // location in version 3\n",
       "    if (IPython.notebook.keyboard_manager) {\n",
       "        IPython.notebook.keyboard_manager.register_events(el);\n",
       "    }\n",
       "    else {\n",
       "        // location in version 2\n",
       "        IPython.keyboard_manager.register_events(el);\n",
       "    }\n",
       "\n",
       "}\n",
       "\n",
       "mpl.figure.prototype._key_event_extra = function(event, name) {\n",
       "    var manager = IPython.notebook.keyboard_manager;\n",
       "    if (!manager)\n",
       "        manager = IPython.keyboard_manager;\n",
       "\n",
       "    // Check for shift+enter\n",
       "    if (event.shiftKey && event.which == 13) {\n",
       "        this.canvas_div.blur();\n",
       "        event.shiftKey = false;\n",
       "        // Send a \"J\" for go to next cell\n",
       "        event.which = 74;\n",
       "        event.keyCode = 74;\n",
       "        manager.command_mode();\n",
       "        manager.handle_keydown(event);\n",
       "    }\n",
       "}\n",
       "\n",
       "mpl.figure.prototype.handle_save = function(fig, msg) {\n",
       "    fig.ondownload(fig, null);\n",
       "}\n",
       "\n",
       "\n",
       "mpl.find_output_cell = function(html_output) {\n",
       "    // Return the cell and output element which can be found *uniquely* in the notebook.\n",
       "    // Note - this is a bit hacky, but it is done because the \"notebook_saving.Notebook\"\n",
       "    // IPython event is triggered only after the cells have been serialised, which for\n",
       "    // our purposes (turning an active figure into a static one), is too late.\n",
       "    var cells = IPython.notebook.get_cells();\n",
       "    var ncells = cells.length;\n",
       "    for (var i=0; i<ncells; i++) {\n",
       "        var cell = cells[i];\n",
       "        if (cell.cell_type === 'code'){\n",
       "            for (var j=0; j<cell.output_area.outputs.length; j++) {\n",
       "                var data = cell.output_area.outputs[j];\n",
       "                if (data.data) {\n",
       "                    // IPython >= 3 moved mimebundle to data attribute of output\n",
       "                    data = data.data;\n",
       "                }\n",
       "                if (data['text/html'] == html_output) {\n",
       "                    return [cell, data, j];\n",
       "                }\n",
       "            }\n",
       "        }\n",
       "    }\n",
       "}\n",
       "\n",
       "// Register the function which deals with the matplotlib target/channel.\n",
       "// The kernel may be null if the page has been refreshed.\n",
       "if (IPython.notebook.kernel != null) {\n",
       "    IPython.notebook.kernel.comm_manager.register_target('matplotlib', mpl.mpl_figure_comm);\n",
       "}\n"
      ],
      "text/plain": [
       "<IPython.core.display.Javascript object>"
      ]
     },
     "metadata": {},
     "output_type": "display_data"
    },
    {
     "data": {
      "text/html": [
       "<img src=\"data:image/png;base64,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\" width=\"1000\">"
      ],
      "text/plain": [
       "<IPython.core.display.HTML object>"
      ]
     },
     "metadata": {},
     "output_type": "display_data"
    }
   ],
   "source": [
    "perm_model = SudokuSolver(args.boardSz, args.aux, args.m)\n",
    "if args.cuda: perm_model = perm_model.cuda()\n",
    "    \n",
    "optimizer = optim.Adam(perm_model.parameters(), lr=args.lr)\n",
    "\n",
    "fig, axes = plt.subplots(1,2, figsize=(10,4))\n",
    "plt.subplots_adjust(wspace=0.4)\n",
    "train_logger = FigLogger(fig, axes[0], 'Traininig')\n",
    "test_logger = FigLogger(fig, axes[1], 'Testing')"
   ]
  },
  {
   "cell_type": "code",
   "execution_count": 11,
   "metadata": {},
   "outputs": [
    {
     "name": "stderr",
     "output_type": "stream",
     "text": [
      "Epoch 0 Test  Loss 0.5130 Err: 1.0000: 100%|██████████| 25/25 [00:05<00:00,  4.83it/s]\n",
      "  0%|          | 0/225 [00:00<?, ?it/s]"
     ]
    },
    {
     "name": "stdout",
     "output_type": "stream",
     "text": [
      "TESTING SET RESULTS: Average loss: 0.5192 Err: 1.0000\n"
     ]
    },
    {
     "name": "stderr",
     "output_type": "stream",
     "text": [
      "Epoch 1 Train Loss 0.1526 Err: 1.0000: 100%|██████████| 225/225 [01:51<00:00,  2.32it/s]\n",
      "Epoch 1 Test  Loss 0.1487 Err: 1.0000: 100%|██████████| 25/25 [00:05<00:00,  5.27it/s]\n",
      "  0%|          | 0/225 [00:00<?, ?it/s]"
     ]
    },
    {
     "name": "stdout",
     "output_type": "stream",
     "text": [
      "TESTING SET RESULTS: Average loss: 0.1497 Err: 1.0000\n"
     ]
    },
    {
     "name": "stderr",
     "output_type": "stream",
     "text": [
      "Epoch 2 Train Loss 0.1143 Err: 0.8250: 100%|██████████| 225/225 [01:30<00:00,  2.70it/s]\n",
      "Epoch 2 Test  Loss 0.1147 Err: 0.8750: 100%|██████████| 25/25 [00:04<00:00,  5.66it/s]\n",
      "  0%|          | 0/225 [00:00<?, ?it/s]"
     ]
    },
    {
     "name": "stdout",
     "output_type": "stream",
     "text": [
      "TESTING SET RESULTS: Average loss: 0.1166 Err: 0.9540\n"
     ]
    },
    {
     "name": "stderr",
     "output_type": "stream",
     "text": [
      "Epoch 3 Train Loss 0.0986 Err: 0.5750: 100%|██████████| 225/225 [01:20<00:00,  3.03it/s]\n",
      "Epoch 3 Test  Loss 0.0998 Err: 0.6000: 100%|██████████| 25/25 [00:04<00:00,  6.05it/s]\n",
      "  0%|          | 0/225 [00:00<?, ?it/s]"
     ]
    },
    {
     "name": "stdout",
     "output_type": "stream",
     "text": [
      "TESTING SET RESULTS: Average loss: 0.1020 Err: 0.7010\n"
     ]
    },
    {
     "name": "stderr",
     "output_type": "stream",
     "text": [
      "Epoch 4 Train Loss 0.0903 Err: 0.3250: 100%|██████████| 225/225 [01:15<00:00,  2.93it/s]\n",
      "Epoch 4 Test  Loss 0.0920 Err: 0.3750: 100%|██████████| 25/25 [00:03<00:00,  6.28it/s]\n",
      "  0%|          | 0/225 [00:00<?, ?it/s]"
     ]
    },
    {
     "name": "stdout",
     "output_type": "stream",
     "text": [
      "TESTING SET RESULTS: Average loss: 0.0941 Err: 0.4950\n"
     ]
    },
    {
     "name": "stderr",
     "output_type": "stream",
     "text": [
      "Epoch 5 Train Loss 0.0872 Err: 0.2500: 100%|██████████| 225/225 [01:14<00:00,  3.16it/s]\n",
      "Epoch 5 Test  Loss 0.0891 Err: 0.2250: 100%|██████████| 25/25 [00:03<00:00,  6.45it/s]\n",
      "  0%|          | 0/225 [00:00<?, ?it/s]"
     ]
    },
    {
     "name": "stdout",
     "output_type": "stream",
     "text": [
      "TESTING SET RESULTS: Average loss: 0.0913 Err: 0.3870\n"
     ]
    },
    {
     "name": "stderr",
     "output_type": "stream",
     "text": [
      "Epoch 6 Train Loss 0.0855 Err: 0.1250: 100%|██████████| 225/225 [01:12<00:00,  3.05it/s]\n",
      "Epoch 6 Test  Loss 0.0861 Err: 0.1500: 100%|██████████| 25/25 [00:03<00:00,  6.44it/s]\n",
      "  0%|          | 0/225 [00:00<?, ?it/s]"
     ]
    },
    {
     "name": "stdout",
     "output_type": "stream",
     "text": [
      "TESTING SET RESULTS: Average loss: 0.0884 Err: 0.3070\n"
     ]
    },
    {
     "name": "stderr",
     "output_type": "stream",
     "text": [
      "Epoch 7 Train Loss 0.0834 Err: 0.1500: 100%|██████████| 225/225 [01:10<00:00,  3.27it/s]\n",
      "Epoch 7 Test  Loss 0.0854 Err: 0.2000: 100%|██████████| 25/25 [00:03<00:00,  7.03it/s]\n",
      "  0%|          | 0/225 [00:00<?, ?it/s]"
     ]
    },
    {
     "name": "stdout",
     "output_type": "stream",
     "text": [
      "TESTING SET RESULTS: Average loss: 0.0868 Err: 0.2870\n"
     ]
    },
    {
     "name": "stderr",
     "output_type": "stream",
     "text": [
      "Epoch 8 Train Loss 0.0796 Err: 0.2500: 100%|██████████| 225/225 [01:09<00:00,  3.22it/s]\n",
      "Epoch 8 Test  Loss 0.0818 Err: 0.2000: 100%|██████████| 25/25 [00:03<00:00,  7.00it/s]\n",
      "  0%|          | 0/225 [00:00<?, ?it/s]"
     ]
    },
    {
     "name": "stdout",
     "output_type": "stream",
     "text": [
      "TESTING SET RESULTS: Average loss: 0.0828 Err: 0.2450\n"
     ]
    },
    {
     "name": "stderr",
     "output_type": "stream",
     "text": [
      "Epoch 9 Train Loss 0.0765 Err: 0.1000: 100%|██████████| 225/225 [01:10<00:00,  3.11it/s]\n",
      "Epoch 9 Test  Loss 0.0788 Err: 0.1250: 100%|██████████| 25/25 [00:03<00:00,  7.23it/s]\n",
      "  0%|          | 0/225 [00:00<?, ?it/s]"
     ]
    },
    {
     "name": "stdout",
     "output_type": "stream",
     "text": [
      "TESTING SET RESULTS: Average loss: 0.0802 Err: 0.2330\n"
     ]
    },
    {
     "name": "stderr",
     "output_type": "stream",
     "text": [
      "Epoch 10 Train Loss 0.0703 Err: 0.0750: 100%|██████████| 225/225 [01:10<00:00,  3.22it/s]\n",
      "Epoch 10 Test  Loss 0.0735 Err: 0.0500: 100%|██████████| 25/25 [00:03<00:00,  7.02it/s]\n",
      "  0%|          | 0/225 [00:00<?, ?it/s]"
     ]
    },
    {
     "name": "stdout",
     "output_type": "stream",
     "text": [
      "TESTING SET RESULTS: Average loss: 0.0758 Err: 0.1930\n"
     ]
    },
    {
     "name": "stderr",
     "output_type": "stream",
     "text": [
      "Epoch 11 Train Loss 0.0688 Err: 0.0500: 100%|██████████| 225/225 [01:10<00:00,  3.32it/s]\n",
      "Epoch 11 Test  Loss 0.0704 Err: 0.0500: 100%|██████████| 25/25 [00:03<00:00,  6.89it/s]\n",
      "  0%|          | 0/225 [00:00<?, ?it/s]"
     ]
    },
    {
     "name": "stdout",
     "output_type": "stream",
     "text": [
      "TESTING SET RESULTS: Average loss: 0.0726 Err: 0.1190\n"
     ]
    },
    {
     "name": "stderr",
     "output_type": "stream",
     "text": [
      "Epoch 12 Train Loss 0.0650 Err: 0.0000: 100%|██████████| 225/225 [01:08<00:00,  3.31it/s]\n",
      "Epoch 12 Test  Loss 0.0673 Err: 0.0500: 100%|██████████| 25/25 [00:03<00:00,  7.03it/s]\n",
      "  0%|          | 0/225 [00:00<?, ?it/s]"
     ]
    },
    {
     "name": "stdout",
     "output_type": "stream",
     "text": [
      "TESTING SET RESULTS: Average loss: 0.0687 Err: 0.1040\n"
     ]
    },
    {
     "name": "stderr",
     "output_type": "stream",
     "text": [
      "Epoch 13 Train Loss 0.0625 Err: 0.0250: 100%|██████████| 225/225 [01:09<00:00,  3.20it/s]\n",
      "Epoch 13 Test  Loss 0.0635 Err: 0.0500: 100%|██████████| 25/25 [00:03<00:00,  6.70it/s]\n",
      "  0%|          | 0/225 [00:00<?, ?it/s]"
     ]
    },
    {
     "name": "stdout",
     "output_type": "stream",
     "text": [
      "TESTING SET RESULTS: Average loss: 0.0660 Err: 0.0980\n"
     ]
    },
    {
     "name": "stderr",
     "output_type": "stream",
     "text": [
      "Epoch 14 Train Loss 0.0605 Err: 0.0250: 100%|██████████| 225/225 [01:09<00:00,  3.05it/s]\n",
      "Epoch 14 Test  Loss 0.0616 Err: 0.0500: 100%|██████████| 25/25 [00:03<00:00,  6.50it/s]\n",
      "  0%|          | 0/225 [00:00<?, ?it/s]"
     ]
    },
    {
     "name": "stdout",
     "output_type": "stream",
     "text": [
      "TESTING SET RESULTS: Average loss: 0.0640 Err: 0.0810\n"
     ]
    },
    {
     "name": "stderr",
     "output_type": "stream",
     "text": [
      "Epoch 15 Train Loss 0.0599 Err: 0.0250: 100%|██████████| 225/225 [01:12<00:00,  3.23it/s]\n",
      "Epoch 15 Test  Loss 0.0613 Err: 0.0250: 100%|██████████| 25/25 [00:03<00:00,  6.66it/s]\n",
      "  0%|          | 0/225 [00:00<?, ?it/s]"
     ]
    },
    {
     "name": "stdout",
     "output_type": "stream",
     "text": [
      "TESTING SET RESULTS: Average loss: 0.0630 Err: 0.0680\n"
     ]
    },
    {
     "name": "stderr",
     "output_type": "stream",
     "text": [
      "Epoch 16 Train Loss 0.0579 Err: 0.0000: 100%|██████████| 225/225 [01:13<00:00,  2.97it/s]\n",
      "Epoch 16 Test  Loss 0.0594 Err: 0.0500: 100%|██████████| 25/25 [00:03<00:00,  6.70it/s]\n",
      "  0%|          | 0/225 [00:00<?, ?it/s]"
     ]
    },
    {
     "name": "stdout",
     "output_type": "stream",
     "text": [
      "TESTING SET RESULTS: Average loss: 0.0613 Err: 0.0550\n"
     ]
    },
    {
     "name": "stderr",
     "output_type": "stream",
     "text": [
      "Epoch 17 Train Loss 0.0566 Err: 0.0250: 100%|██████████| 225/225 [01:14<00:00,  3.14it/s]\n",
      "Epoch 17 Test  Loss 0.0588 Err: 0.0500: 100%|██████████| 25/25 [00:03<00:00,  6.43it/s]\n",
      "  0%|          | 0/225 [00:00<?, ?it/s]"
     ]
    },
    {
     "name": "stdout",
     "output_type": "stream",
     "text": [
      "TESTING SET RESULTS: Average loss: 0.0600 Err: 0.0380\n"
     ]
    },
    {
     "name": "stderr",
     "output_type": "stream",
     "text": [
      "Epoch 18 Train Loss 0.0561 Err: 0.0250: 100%|██████████| 225/225 [01:14<00:00,  2.90it/s]\n",
      "Epoch 18 Test  Loss 0.0575 Err: 0.0500: 100%|██████████| 25/25 [00:03<00:00,  6.47it/s]\n",
      "  0%|          | 0/225 [00:00<?, ?it/s]"
     ]
    },
    {
     "name": "stdout",
     "output_type": "stream",
     "text": [
      "TESTING SET RESULTS: Average loss: 0.0593 Err: 0.0490\n"
     ]
    },
    {
     "name": "stderr",
     "output_type": "stream",
     "text": [
      "Epoch 19 Train Loss 0.0559 Err: 0.0000: 100%|██████████| 225/225 [01:16<00:00,  2.88it/s]\n",
      "Epoch 19 Test  Loss 0.0573 Err: 0.0250: 100%|██████████| 25/25 [00:03<00:00,  6.54it/s]\n",
      "  0%|          | 0/225 [00:00<?, ?it/s]"
     ]
    },
    {
     "name": "stdout",
     "output_type": "stream",
     "text": [
      "TESTING SET RESULTS: Average loss: 0.0589 Err: 0.0460\n"
     ]
    },
    {
     "name": "stderr",
     "output_type": "stream",
     "text": [
      "Epoch 20 Train Loss 0.0549 Err: 0.0000: 100%|██████████| 225/225 [01:17<00:00,  2.80it/s]\n",
      "Epoch 20 Test  Loss 0.0569 Err: 0.0500: 100%|██████████| 25/25 [00:04<00:00,  6.20it/s]\n",
      "  0%|          | 0/225 [00:00<?, ?it/s]"
     ]
    },
    {
     "name": "stdout",
     "output_type": "stream",
     "text": [
      "TESTING SET RESULTS: Average loss: 0.0583 Err: 0.0410\n"
     ]
    },
    {
     "name": "stderr",
     "output_type": "stream",
     "text": [
      "Epoch 21 Train Loss 0.0543 Err: 0.0250: 100%|██████████| 225/225 [01:18<00:00,  2.91it/s]\n",
      "Epoch 21 Test  Loss 0.0558 Err: 0.0000: 100%|██████████| 25/25 [00:04<00:00,  6.01it/s]\n",
      "  0%|          | 0/225 [00:00<?, ?it/s]"
     ]
    },
    {
     "name": "stdout",
     "output_type": "stream",
     "text": [
      "TESTING SET RESULTS: Average loss: 0.0575 Err: 0.0350\n"
     ]
    },
    {
     "name": "stderr",
     "output_type": "stream",
     "text": [
      "Epoch 22 Train Loss 0.0531 Err: 0.0000: 100%|██████████| 225/225 [01:18<00:00,  2.95it/s]\n",
      "Epoch 22 Test  Loss 0.0556 Err: 0.0250: 100%|██████████| 25/25 [00:03<00:00,  6.26it/s]\n",
      "  0%|          | 0/225 [00:00<?, ?it/s]"
     ]
    },
    {
     "name": "stdout",
     "output_type": "stream",
     "text": [
      "TESTING SET RESULTS: Average loss: 0.0570 Err: 0.0370\n"
     ]
    },
    {
     "name": "stderr",
     "output_type": "stream",
     "text": [
      "Epoch 23 Train Loss 0.0534 Err: 0.0250: 100%|██████████| 225/225 [01:18<00:00,  2.73it/s]\n",
      "Epoch 23 Test  Loss 0.0554 Err: 0.0500: 100%|██████████| 25/25 [00:04<00:00,  5.71it/s]\n",
      "  0%|          | 0/225 [00:00<?, ?it/s]"
     ]
    },
    {
     "name": "stdout",
     "output_type": "stream",
     "text": [
      "TESTING SET RESULTS: Average loss: 0.0567 Err: 0.0420\n"
     ]
    },
    {
     "name": "stderr",
     "output_type": "stream",
     "text": [
      "Epoch 24 Train Loss 0.0528 Err: 0.0000: 100%|██████████| 225/225 [01:20<00:00,  2.69it/s]\n",
      "Epoch 24 Test  Loss 0.0547 Err: 0.0250: 100%|██████████| 25/25 [00:04<00:00,  6.05it/s]\n",
      "  0%|          | 0/225 [00:00<?, ?it/s]"
     ]
    },
    {
     "name": "stdout",
     "output_type": "stream",
     "text": [
      "TESTING SET RESULTS: Average loss: 0.0563 Err: 0.0400\n"
     ]
    },
    {
     "name": "stderr",
     "output_type": "stream",
     "text": [
      "Epoch 25 Train Loss 0.0530 Err: 0.0000: 100%|██████████| 225/225 [01:22<00:00,  2.63it/s]\n",
      "Epoch 25 Test  Loss 0.0537 Err: 0.0250: 100%|██████████| 25/25 [00:04<00:00,  6.10it/s]\n",
      "  0%|          | 0/225 [00:00<?, ?it/s]"
     ]
    },
    {
     "name": "stdout",
     "output_type": "stream",
     "text": [
      "TESTING SET RESULTS: Average loss: 0.0556 Err: 0.0330\n"
     ]
    },
    {
     "name": "stderr",
     "output_type": "stream",
     "text": [
      "Epoch 26 Train Loss 0.0522 Err: 0.0250: 100%|██████████| 225/225 [01:22<00:00,  2.67it/s]\n",
      "Epoch 26 Test  Loss 0.0537 Err: 0.0250: 100%|██████████| 25/25 [00:04<00:00,  5.77it/s]\n",
      "  0%|          | 0/225 [00:00<?, ?it/s]"
     ]
    },
    {
     "name": "stdout",
     "output_type": "stream",
     "text": [
      "TESTING SET RESULTS: Average loss: 0.0552 Err: 0.0350\n"
     ]
    },
    {
     "name": "stderr",
     "output_type": "stream",
     "text": [
      "Epoch 27 Train Loss 0.0517 Err: 0.0250: 100%|██████████| 225/225 [01:23<00:00,  2.74it/s]\n",
      "Epoch 27 Test  Loss 0.0530 Err: 0.0000: 100%|██████████| 25/25 [00:04<00:00,  5.98it/s]\n",
      "  0%|          | 0/225 [00:00<?, ?it/s]"
     ]
    },
    {
     "name": "stdout",
     "output_type": "stream",
     "text": [
      "TESTING SET RESULTS: Average loss: 0.0551 Err: 0.0300\n"
     ]
    },
    {
     "name": "stderr",
     "output_type": "stream",
     "text": [
      "Epoch 28 Train Loss 0.0521 Err: 0.0250: 100%|██████████| 225/225 [01:25<00:00,  2.67it/s]\n",
      "Epoch 28 Test  Loss 0.0532 Err: 0.0250: 100%|██████████| 25/25 [00:04<00:00,  5.25it/s]\n",
      "  0%|          | 0/225 [00:00<?, ?it/s]"
     ]
    },
    {
     "name": "stdout",
     "output_type": "stream",
     "text": [
      "TESTING SET RESULTS: Average loss: 0.0550 Err: 0.0330\n"
     ]
    },
    {
     "name": "stderr",
     "output_type": "stream",
     "text": [
      "Epoch 29 Train Loss 0.0515 Err: 0.0500: 100%|██████████| 225/225 [01:25<00:00,  2.71it/s]\n",
      "Epoch 29 Test  Loss 0.0526 Err: 0.0000: 100%|██████████| 25/25 [00:04<00:00,  5.91it/s]\n",
      "  0%|          | 0/225 [00:00<?, ?it/s]"
     ]
    },
    {
     "name": "stdout",
     "output_type": "stream",
     "text": [
      "TESTING SET RESULTS: Average loss: 0.0544 Err: 0.0310\n"
     ]
    },
    {
     "name": "stderr",
     "output_type": "stream",
     "text": [
      "Epoch 30 Train Loss 0.0512 Err: 0.0250: 100%|██████████| 225/225 [01:26<00:00,  2.65it/s]\n",
      "Epoch 30 Test  Loss 0.0527 Err: 0.0250: 100%|██████████| 25/25 [00:04<00:00,  5.53it/s]\n",
      "  0%|          | 0/225 [00:00<?, ?it/s]"
     ]
    },
    {
     "name": "stdout",
     "output_type": "stream",
     "text": [
      "TESTING SET RESULTS: Average loss: 0.0544 Err: 0.0300\n"
     ]
    },
    {
     "name": "stderr",
     "output_type": "stream",
     "text": [
      "Epoch 31 Train Loss 0.0514 Err: 0.0000: 100%|██████████| 225/225 [01:26<00:00,  2.47it/s]\n",
      "Epoch 31 Test  Loss 0.0526 Err: 0.0250: 100%|██████████| 25/25 [00:04<00:00,  5.45it/s]\n",
      "  0%|          | 0/225 [00:00<?, ?it/s]"
     ]
    },
    {
     "name": "stdout",
     "output_type": "stream",
     "text": [
      "TESTING SET RESULTS: Average loss: 0.0540 Err: 0.0320\n"
     ]
    },
    {
     "name": "stderr",
     "output_type": "stream",
     "text": [
      "Epoch 32 Train Loss 0.0504 Err: 0.0000: 100%|██████████| 225/225 [01:27<00:00,  2.53it/s]\n",
      "Epoch 32 Test  Loss 0.0519 Err: 0.0250: 100%|██████████| 25/25 [00:04<00:00,  5.60it/s]\n",
      "  0%|          | 0/225 [00:00<?, ?it/s]"
     ]
    },
    {
     "name": "stdout",
     "output_type": "stream",
     "text": [
      "TESTING SET RESULTS: Average loss: 0.0537 Err: 0.0370\n"
     ]
    },
    {
     "name": "stderr",
     "output_type": "stream",
     "text": [
      "Epoch 33 Train Loss 0.0507 Err: 0.0250: 100%|██████████| 225/225 [01:28<00:00,  2.49it/s]\n",
      "Epoch 33 Test  Loss 0.0521 Err: 0.0250: 100%|██████████| 25/25 [00:04<00:00,  5.27it/s]\n",
      "  0%|          | 0/225 [00:00<?, ?it/s]"
     ]
    },
    {
     "name": "stdout",
     "output_type": "stream",
     "text": [
      "TESTING SET RESULTS: Average loss: 0.0538 Err: 0.0350\n"
     ]
    },
    {
     "name": "stderr",
     "output_type": "stream",
     "text": [
      "Epoch 34 Train Loss 0.0506 Err: 0.0250: 100%|██████████| 225/225 [01:28<00:00,  2.37it/s]\n",
      "Epoch 34 Test  Loss 0.0517 Err: 0.0250: 100%|██████████| 25/25 [00:04<00:00,  5.59it/s]\n",
      "  0%|          | 0/225 [00:00<?, ?it/s]"
     ]
    },
    {
     "name": "stdout",
     "output_type": "stream",
     "text": [
      "TESTING SET RESULTS: Average loss: 0.0533 Err: 0.0270\n"
     ]
    },
    {
     "name": "stderr",
     "output_type": "stream",
     "text": [
      "Epoch 35 Train Loss 0.0500 Err: 0.0000: 100%|██████████| 225/225 [01:29<00:00,  2.57it/s]\n",
      "Epoch 35 Test  Loss 0.0519 Err: 0.0500: 100%|██████████| 25/25 [00:04<00:00,  5.58it/s]\n",
      "  0%|          | 0/225 [00:00<?, ?it/s]"
     ]
    },
    {
     "name": "stdout",
     "output_type": "stream",
     "text": [
      "TESTING SET RESULTS: Average loss: 0.0532 Err: 0.0330\n"
     ]
    },
    {
     "name": "stderr",
     "output_type": "stream",
     "text": [
      "Epoch 36 Train Loss 0.0501 Err: 0.0250: 100%|██████████| 225/225 [01:30<00:00,  2.43it/s]\n",
      "Epoch 36 Test  Loss 0.0521 Err: 0.0250: 100%|██████████| 25/25 [00:04<00:00,  5.61it/s]\n",
      "  0%|          | 0/225 [00:00<?, ?it/s]"
     ]
    },
    {
     "name": "stdout",
     "output_type": "stream",
     "text": [
      "TESTING SET RESULTS: Average loss: 0.0533 Err: 0.0290\n"
     ]
    },
    {
     "name": "stderr",
     "output_type": "stream",
     "text": [
      "Epoch 37 Train Loss 0.0496 Err: 0.0000: 100%|██████████| 225/225 [01:30<00:00,  2.56it/s]\n",
      "Epoch 37 Test  Loss 0.0512 Err: 0.0250: 100%|██████████| 25/25 [00:04<00:00,  5.63it/s]\n",
      "  0%|          | 0/225 [00:00<?, ?it/s]"
     ]
    },
    {
     "name": "stdout",
     "output_type": "stream",
     "text": [
      "TESTING SET RESULTS: Average loss: 0.0529 Err: 0.0340\n"
     ]
    },
    {
     "name": "stderr",
     "output_type": "stream",
     "text": [
      "Epoch 38 Train Loss 0.0493 Err: 0.0250: 100%|██████████| 225/225 [01:31<00:00,  2.47it/s]\n",
      "Epoch 38 Test  Loss 0.0511 Err: 0.0250: 100%|██████████| 25/25 [00:04<00:00,  5.35it/s]\n",
      "  0%|          | 0/225 [00:00<?, ?it/s]"
     ]
    },
    {
     "name": "stdout",
     "output_type": "stream",
     "text": [
      "TESTING SET RESULTS: Average loss: 0.0527 Err: 0.0420\n"
     ]
    },
    {
     "name": "stderr",
     "output_type": "stream",
     "text": [
      "Epoch 39 Train Loss 0.0498 Err: 0.0000: 100%|██████████| 225/225 [01:31<00:00,  2.41it/s]\n",
      "Epoch 39 Test  Loss 0.0509 Err: 0.0250: 100%|██████████| 25/25 [00:04<00:00,  5.06it/s]\n",
      "  0%|          | 0/225 [00:00<?, ?it/s]"
     ]
    },
    {
     "name": "stdout",
     "output_type": "stream",
     "text": [
      "TESTING SET RESULTS: Average loss: 0.0525 Err: 0.0300\n"
     ]
    },
    {
     "name": "stderr",
     "output_type": "stream",
     "text": [
      "Epoch 40 Train Loss 0.0498 Err: 0.0250: 100%|██████████| 225/225 [01:31<00:00,  2.38it/s]\n",
      "Epoch 40 Test  Loss 0.0510 Err: 0.0000: 100%|██████████| 25/25 [00:04<00:00,  5.55it/s]\n",
      "  0%|          | 0/225 [00:00<?, ?it/s]"
     ]
    },
    {
     "name": "stdout",
     "output_type": "stream",
     "text": [
      "TESTING SET RESULTS: Average loss: 0.0525 Err: 0.0280\n"
     ]
    },
    {
     "name": "stderr",
     "output_type": "stream",
     "text": [
      "Epoch 41 Train Loss 0.0492 Err: 0.0000: 100%|██████████| 225/225 [01:31<00:00,  2.34it/s]\n",
      "Epoch 41 Test  Loss 0.0512 Err: 0.0000: 100%|██████████| 25/25 [00:04<00:00,  5.23it/s]\n",
      "  0%|          | 0/225 [00:00<?, ?it/s]"
     ]
    },
    {
     "name": "stdout",
     "output_type": "stream",
     "text": [
      "TESTING SET RESULTS: Average loss: 0.0526 Err: 0.0370\n"
     ]
    },
    {
     "name": "stderr",
     "output_type": "stream",
     "text": [
      "Epoch 42 Train Loss 0.0486 Err: 0.0000: 100%|██████████| 225/225 [01:32<00:00,  2.44it/s]\n",
      "Epoch 42 Test  Loss 0.0504 Err: 0.0500: 100%|██████████| 25/25 [00:04<00:00,  4.84it/s]\n",
      "  0%|          | 0/225 [00:00<?, ?it/s]"
     ]
    },
    {
     "name": "stdout",
     "output_type": "stream",
     "text": [
      "TESTING SET RESULTS: Average loss: 0.0519 Err: 0.0270\n"
     ]
    },
    {
     "name": "stderr",
     "output_type": "stream",
     "text": [
      "Epoch 43 Train Loss 0.0487 Err: 0.0500: 100%|██████████| 225/225 [01:32<00:00,  2.53it/s]\n",
      "Epoch 43 Test  Loss 0.0507 Err: 0.0250: 100%|██████████| 25/25 [00:04<00:00,  5.07it/s]\n",
      "  0%|          | 0/225 [00:00<?, ?it/s]"
     ]
    },
    {
     "name": "stdout",
     "output_type": "stream",
     "text": [
      "TESTING SET RESULTS: Average loss: 0.0522 Err: 0.0310\n"
     ]
    },
    {
     "name": "stderr",
     "output_type": "stream",
     "text": [
      "Epoch 44 Train Loss 0.0483 Err: 0.0000: 100%|██████████| 225/225 [01:32<00:00,  2.41it/s]\n",
      "Epoch 44 Test  Loss 0.0501 Err: 0.0000: 100%|██████████| 25/25 [00:04<00:00,  5.07it/s]\n",
      "  0%|          | 0/225 [00:00<?, ?it/s]"
     ]
    },
    {
     "name": "stdout",
     "output_type": "stream",
     "text": [
      "TESTING SET RESULTS: Average loss: 0.0517 Err: 0.0300\n"
     ]
    },
    {
     "name": "stderr",
     "output_type": "stream",
     "text": [
      "Epoch 45 Train Loss 0.0489 Err: 0.0000: 100%|██████████| 225/225 [01:32<00:00,  2.39it/s]\n",
      "Epoch 45 Test  Loss 0.0505 Err: 0.0250: 100%|██████████| 25/25 [00:04<00:00,  4.85it/s]\n",
      "  0%|          | 0/225 [00:00<?, ?it/s]"
     ]
    },
    {
     "name": "stdout",
     "output_type": "stream",
     "text": [
      "TESTING SET RESULTS: Average loss: 0.0521 Err: 0.0320\n"
     ]
    },
    {
     "name": "stderr",
     "output_type": "stream",
     "text": [
      "Epoch 46 Train Loss 0.0489 Err: 0.0000: 100%|██████████| 225/225 [01:32<00:00,  2.41it/s]\n",
      "Epoch 46 Test  Loss 0.0503 Err: 0.0250: 100%|██████████| 25/25 [00:04<00:00,  5.45it/s]\n",
      "  0%|          | 0/225 [00:00<?, ?it/s]"
     ]
    },
    {
     "name": "stdout",
     "output_type": "stream",
     "text": [
      "TESTING SET RESULTS: Average loss: 0.0520 Err: 0.0270\n"
     ]
    },
    {
     "name": "stderr",
     "output_type": "stream",
     "text": [
      "Epoch 47 Train Loss 0.0479 Err: 0.0000: 100%|██████████| 225/225 [01:32<00:00,  2.46it/s]\n",
      "Epoch 47 Test  Loss 0.0505 Err: 0.0250: 100%|██████████| 25/25 [00:05<00:00,  4.98it/s]\n",
      "  0%|          | 0/225 [00:00<?, ?it/s]"
     ]
    },
    {
     "name": "stdout",
     "output_type": "stream",
     "text": [
      "TESTING SET RESULTS: Average loss: 0.0517 Err: 0.0260\n"
     ]
    },
    {
     "name": "stderr",
     "output_type": "stream",
     "text": [
      "Epoch 48 Train Loss 0.0479 Err: 0.0000: 100%|██████████| 225/225 [01:32<00:00,  2.42it/s]\n",
      "Epoch 48 Test  Loss 0.0495 Err: 0.0000: 100%|██████████| 25/25 [00:04<00:00,  5.04it/s]\n",
      "  0%|          | 0/225 [00:00<?, ?it/s]"
     ]
    },
    {
     "name": "stdout",
     "output_type": "stream",
     "text": [
      "TESTING SET RESULTS: Average loss: 0.0512 Err: 0.0240\n"
     ]
    },
    {
     "name": "stderr",
     "output_type": "stream",
     "text": [
      "Epoch 49 Train Loss 0.0480 Err: 0.0000: 100%|██████████| 225/225 [01:32<00:00,  2.48it/s]\n",
      "Epoch 49 Test  Loss 0.0497 Err: 0.0250: 100%|██████████| 25/25 [00:05<00:00,  5.00it/s]\n",
      "  0%|          | 0/225 [00:00<?, ?it/s]"
     ]
    },
    {
     "name": "stdout",
     "output_type": "stream",
     "text": [
      "TESTING SET RESULTS: Average loss: 0.0510 Err: 0.0220\n"
     ]
    },
    {
     "name": "stderr",
     "output_type": "stream",
     "text": [
      "Epoch 50 Train Loss 0.0475 Err: 0.0000: 100%|██████████| 225/225 [01:32<00:00,  2.45it/s]\n",
      "Epoch 50 Test  Loss 0.0501 Err: 0.0500: 100%|██████████| 25/25 [00:05<00:00,  4.97it/s]\n",
      "  0%|          | 0/225 [00:00<?, ?it/s]"
     ]
    },
    {
     "name": "stdout",
     "output_type": "stream",
     "text": [
      "TESTING SET RESULTS: Average loss: 0.0514 Err: 0.0380\n"
     ]
    },
    {
     "name": "stderr",
     "output_type": "stream",
     "text": [
      "Epoch 51 Train Loss 0.0476 Err: 0.0000: 100%|██████████| 225/225 [01:32<00:00,  2.42it/s]\n",
      "Epoch 51 Test  Loss 0.0501 Err: 0.0000: 100%|██████████| 25/25 [00:05<00:00,  4.89it/s]\n",
      "  0%|          | 0/225 [00:00<?, ?it/s]"
     ]
    },
    {
     "name": "stdout",
     "output_type": "stream",
     "text": [
      "TESTING SET RESULTS: Average loss: 0.0513 Err: 0.0260\n"
     ]
    },
    {
     "name": "stderr",
     "output_type": "stream",
     "text": [
      "Epoch 52 Train Loss 0.0480 Err: 0.0250: 100%|██████████| 225/225 [01:32<00:00,  2.42it/s]\n",
      "Epoch 52 Test  Loss 0.0494 Err: 0.0250: 100%|██████████| 25/25 [00:05<00:00,  5.09it/s]\n",
      "  0%|          | 0/225 [00:00<?, ?it/s]"
     ]
    },
    {
     "name": "stdout",
     "output_type": "stream",
     "text": [
      "TESTING SET RESULTS: Average loss: 0.0511 Err: 0.0290\n"
     ]
    },
    {
     "name": "stderr",
     "output_type": "stream",
     "text": [
      "Epoch 53 Train Loss 0.0477 Err: 0.0250: 100%|██████████| 225/225 [01:32<00:00,  2.44it/s]\n",
      "Epoch 53 Test  Loss 0.0500 Err: 0.0250: 100%|██████████| 25/25 [00:05<00:00,  4.71it/s]\n",
      "  0%|          | 0/225 [00:00<?, ?it/s]"
     ]
    },
    {
     "name": "stdout",
     "output_type": "stream",
     "text": [
      "TESTING SET RESULTS: Average loss: 0.0512 Err: 0.0300\n"
     ]
    },
    {
     "name": "stderr",
     "output_type": "stream",
     "text": [
      "Epoch 54 Train Loss 0.0478 Err: 0.0000: 100%|██████████| 225/225 [01:32<00:00,  2.45it/s]\n",
      "Epoch 54 Test  Loss 0.0504 Err: 0.0000: 100%|██████████| 25/25 [00:05<00:00,  4.75it/s]\n",
      "  0%|          | 0/225 [00:00<?, ?it/s]"
     ]
    },
    {
     "name": "stdout",
     "output_type": "stream",
     "text": [
      "TESTING SET RESULTS: Average loss: 0.0512 Err: 0.0300\n"
     ]
    },
    {
     "name": "stderr",
     "output_type": "stream",
     "text": [
      "Epoch 55 Train Loss 0.0474 Err: 0.0250: 100%|██████████| 225/225 [01:32<00:00,  2.38it/s]\n",
      "Epoch 55 Test  Loss 0.0494 Err: 0.0000: 100%|██████████| 25/25 [00:04<00:00,  5.24it/s]\n",
      "  0%|          | 0/225 [00:00<?, ?it/s]"
     ]
    },
    {
     "name": "stdout",
     "output_type": "stream",
     "text": [
      "TESTING SET RESULTS: Average loss: 0.0509 Err: 0.0220\n"
     ]
    },
    {
     "name": "stderr",
     "output_type": "stream",
     "text": [
      "Epoch 56 Train Loss 0.0472 Err: 0.0000: 100%|██████████| 225/225 [01:32<00:00,  2.46it/s]\n",
      "Epoch 56 Test  Loss 0.0495 Err: 0.0000: 100%|██████████| 25/25 [00:05<00:00,  4.63it/s]\n",
      "  0%|          | 0/225 [00:00<?, ?it/s]"
     ]
    },
    {
     "name": "stdout",
     "output_type": "stream",
     "text": [
      "TESTING SET RESULTS: Average loss: 0.0510 Err: 0.0350\n"
     ]
    },
    {
     "name": "stderr",
     "output_type": "stream",
     "text": [
      "Epoch 57 Train Loss 0.0471 Err: 0.0000: 100%|██████████| 225/225 [01:32<00:00,  2.45it/s]\n",
      "Epoch 57 Test  Loss 0.0493 Err: 0.0000: 100%|██████████| 25/25 [00:05<00:00,  5.03it/s]\n",
      "  0%|          | 0/225 [00:00<?, ?it/s]"
     ]
    },
    {
     "name": "stdout",
     "output_type": "stream",
     "text": [
      "TESTING SET RESULTS: Average loss: 0.0506 Err: 0.0230\n"
     ]
    },
    {
     "name": "stderr",
     "output_type": "stream",
     "text": [
      "Epoch 58 Train Loss 0.0472 Err: 0.0000: 100%|██████████| 225/225 [01:32<00:00,  2.31it/s]\n",
      "Epoch 58 Test  Loss 0.0496 Err: 0.0000: 100%|██████████| 25/25 [00:05<00:00,  4.62it/s]\n",
      "  0%|          | 0/225 [00:00<?, ?it/s]"
     ]
    },
    {
     "name": "stdout",
     "output_type": "stream",
     "text": [
      "TESTING SET RESULTS: Average loss: 0.0508 Err: 0.0270\n"
     ]
    },
    {
     "name": "stderr",
     "output_type": "stream",
     "text": [
      "Epoch 59 Train Loss 0.0468 Err: 0.0000: 100%|██████████| 225/225 [01:32<00:00,  2.36it/s]\n",
      "Epoch 59 Test  Loss 0.0489 Err: 0.0000: 100%|██████████| 25/25 [00:05<00:00,  4.95it/s]\n",
      "  0%|          | 0/225 [00:00<?, ?it/s]"
     ]
    },
    {
     "name": "stdout",
     "output_type": "stream",
     "text": [
      "TESTING SET RESULTS: Average loss: 0.0506 Err: 0.0280\n"
     ]
    },
    {
     "name": "stderr",
     "output_type": "stream",
     "text": [
      "Epoch 60 Train Loss 0.0469 Err: 0.0000: 100%|██████████| 225/225 [01:33<00:00,  2.41it/s]\n",
      "Epoch 60 Test  Loss 0.0495 Err: 0.0000: 100%|██████████| 25/25 [00:04<00:00,  5.13it/s]\n",
      "  0%|          | 0/225 [00:00<?, ?it/s]"
     ]
    },
    {
     "name": "stdout",
     "output_type": "stream",
     "text": [
      "TESTING SET RESULTS: Average loss: 0.0507 Err: 0.0370\n"
     ]
    },
    {
     "name": "stderr",
     "output_type": "stream",
     "text": [
      "Epoch 61 Train Loss 0.0467 Err: 0.0000: 100%|██████████| 225/225 [01:33<00:00,  2.40it/s]\n",
      "Epoch 61 Test  Loss 0.0492 Err: 0.0000: 100%|██████████| 25/25 [00:05<00:00,  5.23it/s]\n",
      "  0%|          | 0/225 [00:00<?, ?it/s]"
     ]
    },
    {
     "name": "stdout",
     "output_type": "stream",
     "text": [
      "TESTING SET RESULTS: Average loss: 0.0504 Err: 0.0280\n"
     ]
    },
    {
     "name": "stderr",
     "output_type": "stream",
     "text": [
      "Epoch 62 Train Loss 0.0472 Err: 0.0000: 100%|██████████| 225/225 [01:33<00:00,  2.41it/s]\n",
      "Epoch 62 Test  Loss 0.0490 Err: 0.0000: 100%|██████████| 25/25 [00:05<00:00,  4.83it/s]\n",
      "  0%|          | 0/225 [00:00<?, ?it/s]"
     ]
    },
    {
     "name": "stdout",
     "output_type": "stream",
     "text": [
      "TESTING SET RESULTS: Average loss: 0.0504 Err: 0.0340\n"
     ]
    },
    {
     "name": "stderr",
     "output_type": "stream",
     "text": [
      "Epoch 63 Train Loss 0.0464 Err: 0.0000: 100%|██████████| 225/225 [01:34<00:00,  2.28it/s]\n",
      "Epoch 63 Test  Loss 0.0491 Err: 0.0000: 100%|██████████| 25/25 [00:05<00:00,  4.75it/s]\n",
      "  0%|          | 0/225 [00:00<?, ?it/s]"
     ]
    },
    {
     "name": "stdout",
     "output_type": "stream",
     "text": [
      "TESTING SET RESULTS: Average loss: 0.0507 Err: 0.0300\n"
     ]
    },
    {
     "name": "stderr",
     "output_type": "stream",
     "text": [
      "Epoch 64 Train Loss 0.0464 Err: 0.0000: 100%|██████████| 225/225 [01:35<00:00,  2.35it/s]\n",
      "Epoch 64 Test  Loss 0.0487 Err: 0.0000: 100%|██████████| 25/25 [00:04<00:00,  5.16it/s]\n",
      "  0%|          | 0/225 [00:00<?, ?it/s]"
     ]
    },
    {
     "name": "stdout",
     "output_type": "stream",
     "text": [
      "TESTING SET RESULTS: Average loss: 0.0504 Err: 0.0260\n"
     ]
    },
    {
     "name": "stderr",
     "output_type": "stream",
     "text": [
      "Epoch 65 Train Loss 0.0463 Err: 0.0000: 100%|██████████| 225/225 [01:35<00:00,  2.40it/s]\n",
      "Epoch 65 Test  Loss 0.0486 Err: 0.0000: 100%|██████████| 25/25 [00:05<00:00,  4.99it/s]\n",
      "  0%|          | 0/225 [00:00<?, ?it/s]"
     ]
    },
    {
     "name": "stdout",
     "output_type": "stream",
     "text": [
      "TESTING SET RESULTS: Average loss: 0.0500 Err: 0.0180\n"
     ]
    },
    {
     "name": "stderr",
     "output_type": "stream",
     "text": [
      "Epoch 66 Train Loss 0.0464 Err: 0.0000: 100%|██████████| 225/225 [01:35<00:00,  2.34it/s]\n",
      "Epoch 66 Test  Loss 0.0490 Err: 0.0000: 100%|██████████| 25/25 [00:04<00:00,  4.94it/s]\n",
      "  0%|          | 0/225 [00:00<?, ?it/s]"
     ]
    },
    {
     "name": "stdout",
     "output_type": "stream",
     "text": [
      "TESTING SET RESULTS: Average loss: 0.0502 Err: 0.0290\n"
     ]
    },
    {
     "name": "stderr",
     "output_type": "stream",
     "text": [
      "Epoch 67 Train Loss 0.0463 Err: 0.0250: 100%|██████████| 225/225 [01:35<00:00,  2.40it/s]\n",
      "Epoch 67 Test  Loss 0.0490 Err: 0.0250: 100%|██████████| 25/25 [00:04<00:00,  4.77it/s]\n",
      "  0%|          | 0/225 [00:00<?, ?it/s]"
     ]
    },
    {
     "name": "stdout",
     "output_type": "stream",
     "text": [
      "TESTING SET RESULTS: Average loss: 0.0502 Err: 0.0220\n"
     ]
    },
    {
     "name": "stderr",
     "output_type": "stream",
     "text": [
      "Epoch 68 Train Loss 0.0466 Err: 0.0000: 100%|██████████| 225/225 [01:36<00:00,  2.34it/s]\n",
      "Epoch 68 Test  Loss 0.0488 Err: 0.0000: 100%|██████████| 25/25 [00:04<00:00,  5.11it/s]\n",
      "  0%|          | 0/225 [00:00<?, ?it/s]"
     ]
    },
    {
     "name": "stdout",
     "output_type": "stream",
     "text": [
      "TESTING SET RESULTS: Average loss: 0.0501 Err: 0.0250\n"
     ]
    },
    {
     "name": "stderr",
     "output_type": "stream",
     "text": [
      "Epoch 69 Train Loss 0.0462 Err: 0.0000: 100%|██████████| 225/225 [01:36<00:00,  2.34it/s]\n",
      "Epoch 69 Test  Loss 0.0487 Err: 0.0000: 100%|██████████| 25/25 [00:05<00:00,  4.97it/s]\n",
      "  0%|          | 0/225 [00:00<?, ?it/s]"
     ]
    },
    {
     "name": "stdout",
     "output_type": "stream",
     "text": [
      "TESTING SET RESULTS: Average loss: 0.0499 Err: 0.0250\n"
     ]
    },
    {
     "name": "stderr",
     "output_type": "stream",
     "text": [
      "Epoch 70 Train Loss 0.0462 Err: 0.0000: 100%|██████████| 225/225 [01:37<00:00,  2.36it/s]\n",
      "Epoch 70 Test  Loss 0.0492 Err: 0.0000: 100%|██████████| 25/25 [00:05<00:00,  4.76it/s]\n",
      "  0%|          | 0/225 [00:00<?, ?it/s]"
     ]
    },
    {
     "name": "stdout",
     "output_type": "stream",
     "text": [
      "TESTING SET RESULTS: Average loss: 0.0502 Err: 0.0340\n"
     ]
    },
    {
     "name": "stderr",
     "output_type": "stream",
     "text": [
      "Epoch 71 Train Loss 0.0459 Err: 0.0000: 100%|██████████| 225/225 [01:36<00:00,  2.36it/s]\n",
      "Epoch 71 Test  Loss 0.0487 Err: 0.0000: 100%|██████████| 25/25 [00:05<00:00,  4.64it/s]\n",
      "  0%|          | 0/225 [00:00<?, ?it/s]"
     ]
    },
    {
     "name": "stdout",
     "output_type": "stream",
     "text": [
      "TESTING SET RESULTS: Average loss: 0.0498 Err: 0.0210\n"
     ]
    },
    {
     "name": "stderr",
     "output_type": "stream",
     "text": [
      "Epoch 72 Train Loss 0.0460 Err: 0.0000: 100%|██████████| 225/225 [01:37<00:00,  2.25it/s]\n",
      "Epoch 72 Test  Loss 0.0490 Err: 0.0000: 100%|██████████| 25/25 [00:05<00:00,  4.65it/s]\n",
      "  0%|          | 0/225 [00:00<?, ?it/s]"
     ]
    },
    {
     "name": "stdout",
     "output_type": "stream",
     "text": [
      "TESTING SET RESULTS: Average loss: 0.0500 Err: 0.0210\n"
     ]
    },
    {
     "name": "stderr",
     "output_type": "stream",
     "text": [
      "Epoch 73 Train Loss 0.0455 Err: 0.0000: 100%|██████████| 225/225 [01:38<00:00,  2.29it/s]\n",
      "Epoch 73 Test  Loss 0.0486 Err: 0.0000: 100%|██████████| 25/25 [00:04<00:00,  5.02it/s]\n",
      "  0%|          | 0/225 [00:00<?, ?it/s]"
     ]
    },
    {
     "name": "stdout",
     "output_type": "stream",
     "text": [
      "TESTING SET RESULTS: Average loss: 0.0497 Err: 0.0240\n"
     ]
    },
    {
     "name": "stderr",
     "output_type": "stream",
     "text": [
      "Epoch 74 Train Loss 0.0457 Err: 0.0000: 100%|██████████| 225/225 [01:36<00:00,  2.32it/s]\n",
      "Epoch 74 Test  Loss 0.0485 Err: 0.0250: 100%|██████████| 25/25 [00:04<00:00,  5.08it/s]\n",
      "  0%|          | 0/225 [00:00<?, ?it/s]"
     ]
    },
    {
     "name": "stdout",
     "output_type": "stream",
     "text": [
      "TESTING SET RESULTS: Average loss: 0.0499 Err: 0.0350\n"
     ]
    },
    {
     "name": "stderr",
     "output_type": "stream",
     "text": [
      "Epoch 75 Train Loss 0.0456 Err: 0.0000: 100%|██████████| 225/225 [01:38<00:00,  2.20it/s]\n",
      "Epoch 75 Test  Loss 0.0488 Err: 0.0000: 100%|██████████| 25/25 [00:05<00:00,  5.21it/s]\n",
      "  0%|          | 0/225 [00:00<?, ?it/s]"
     ]
    },
    {
     "name": "stdout",
     "output_type": "stream",
     "text": [
      "TESTING SET RESULTS: Average loss: 0.0498 Err: 0.0290\n"
     ]
    },
    {
     "name": "stderr",
     "output_type": "stream",
     "text": [
      "Epoch 76 Train Loss 0.0457 Err: 0.0000: 100%|██████████| 225/225 [01:38<00:00,  2.26it/s]\n",
      "Epoch 76 Test  Loss 0.0483 Err: 0.0000: 100%|██████████| 25/25 [00:05<00:00,  5.07it/s]\n",
      "  0%|          | 0/225 [00:00<?, ?it/s]"
     ]
    },
    {
     "name": "stdout",
     "output_type": "stream",
     "text": [
      "TESTING SET RESULTS: Average loss: 0.0496 Err: 0.0280\n"
     ]
    },
    {
     "name": "stderr",
     "output_type": "stream",
     "text": [
      "Epoch 77 Train Loss 0.0454 Err: 0.0000: 100%|██████████| 225/225 [01:39<00:00,  2.15it/s]\n",
      "Epoch 77 Test  Loss 0.0481 Err: 0.0000: 100%|██████████| 25/25 [00:04<00:00,  5.02it/s]\n",
      "  0%|          | 0/225 [00:00<?, ?it/s]"
     ]
    },
    {
     "name": "stdout",
     "output_type": "stream",
     "text": [
      "TESTING SET RESULTS: Average loss: 0.0495 Err: 0.0240\n"
     ]
    },
    {
     "name": "stderr",
     "output_type": "stream",
     "text": [
      "Epoch 78 Train Loss 0.0458 Err: 0.0000: 100%|██████████| 225/225 [01:37<00:00,  2.33it/s]\n",
      "Epoch 78 Test  Loss 0.0479 Err: 0.0000: 100%|██████████| 25/25 [00:05<00:00,  5.07it/s]\n",
      "  0%|          | 0/225 [00:00<?, ?it/s]"
     ]
    },
    {
     "name": "stdout",
     "output_type": "stream",
     "text": [
      "TESTING SET RESULTS: Average loss: 0.0498 Err: 0.0220\n"
     ]
    },
    {
     "name": "stderr",
     "output_type": "stream",
     "text": [
      "Epoch 79 Train Loss 0.0456 Err: 0.0000: 100%|██████████| 225/225 [01:39<00:00,  2.12it/s]\n",
      "Epoch 79 Test  Loss 0.0481 Err: 0.0000: 100%|██████████| 25/25 [00:05<00:00,  5.15it/s]\n",
      "  0%|          | 0/225 [00:00<?, ?it/s]"
     ]
    },
    {
     "name": "stdout",
     "output_type": "stream",
     "text": [
      "TESTING SET RESULTS: Average loss: 0.0496 Err: 0.0220\n"
     ]
    },
    {
     "name": "stderr",
     "output_type": "stream",
     "text": [
      "Epoch 80 Train Loss 0.0451 Err: 0.0000: 100%|██████████| 225/225 [01:37<00:00,  2.35it/s]\n",
      "Epoch 80 Test  Loss 0.0481 Err: 0.0000: 100%|██████████| 25/25 [00:05<00:00,  4.98it/s]\n",
      "  0%|          | 0/225 [00:00<?, ?it/s]"
     ]
    },
    {
     "name": "stdout",
     "output_type": "stream",
     "text": [
      "TESTING SET RESULTS: Average loss: 0.0496 Err: 0.0240\n"
     ]
    },
    {
     "name": "stderr",
     "output_type": "stream",
     "text": [
      "Epoch 81 Train Loss 0.0450 Err: 0.0000: 100%|██████████| 225/225 [01:39<00:00,  2.13it/s]\n",
      "Epoch 81 Test  Loss 0.0480 Err: 0.0000: 100%|██████████| 25/25 [00:05<00:00,  5.08it/s]\n",
      "  0%|          | 0/225 [00:00<?, ?it/s]"
     ]
    },
    {
     "name": "stdout",
     "output_type": "stream",
     "text": [
      "TESTING SET RESULTS: Average loss: 0.0494 Err: 0.0290\n"
     ]
    },
    {
     "name": "stderr",
     "output_type": "stream",
     "text": [
      "Epoch 82 Train Loss 0.0457 Err: 0.0000: 100%|██████████| 225/225 [01:38<00:00,  2.25it/s]\n",
      "Epoch 82 Test  Loss 0.0482 Err: 0.0000: 100%|██████████| 25/25 [00:05<00:00,  4.80it/s]\n",
      "  0%|          | 0/225 [00:00<?, ?it/s]"
     ]
    },
    {
     "name": "stdout",
     "output_type": "stream",
     "text": [
      "TESTING SET RESULTS: Average loss: 0.0495 Err: 0.0150\n"
     ]
    },
    {
     "name": "stderr",
     "output_type": "stream",
     "text": [
      "Epoch 83 Train Loss 0.0447 Err: 0.0000: 100%|██████████| 225/225 [01:39<00:00,  2.23it/s]\n",
      "Epoch 83 Test  Loss 0.0478 Err: 0.0250: 100%|██████████| 25/25 [00:05<00:00,  4.98it/s]\n",
      "  0%|          | 0/225 [00:00<?, ?it/s]"
     ]
    },
    {
     "name": "stdout",
     "output_type": "stream",
     "text": [
      "TESTING SET RESULTS: Average loss: 0.0490 Err: 0.0210\n"
     ]
    },
    {
     "name": "stderr",
     "output_type": "stream",
     "text": [
      "Epoch 84 Train Loss 0.0456 Err: 0.0000: 100%|██████████| 225/225 [01:38<00:00,  2.33it/s]\n",
      "Epoch 84 Test  Loss 0.0480 Err: 0.0000: 100%|██████████| 25/25 [00:05<00:00,  4.79it/s]\n",
      "  0%|          | 0/225 [00:00<?, ?it/s]"
     ]
    },
    {
     "name": "stdout",
     "output_type": "stream",
     "text": [
      "TESTING SET RESULTS: Average loss: 0.0496 Err: 0.0310\n"
     ]
    },
    {
     "name": "stderr",
     "output_type": "stream",
     "text": [
      "Epoch 85 Train Loss 0.0449 Err: 0.0000: 100%|██████████| 225/225 [01:40<00:00,  2.27it/s]\n",
      "Epoch 85 Test  Loss 0.0480 Err: 0.0000: 100%|██████████| 25/25 [00:04<00:00,  4.94it/s]\n",
      "  0%|          | 0/225 [00:00<?, ?it/s]"
     ]
    },
    {
     "name": "stdout",
     "output_type": "stream",
     "text": [
      "TESTING SET RESULTS: Average loss: 0.0492 Err: 0.0220\n"
     ]
    },
    {
     "name": "stderr",
     "output_type": "stream",
     "text": [
      "Epoch 86 Train Loss 0.0447 Err: 0.0000: 100%|██████████| 225/225 [01:39<00:00,  2.25it/s]\n",
      "Epoch 86 Test  Loss 0.0483 Err: 0.0000: 100%|██████████| 25/25 [00:05<00:00,  4.97it/s]\n",
      "  0%|          | 0/225 [00:00<?, ?it/s]"
     ]
    },
    {
     "name": "stdout",
     "output_type": "stream",
     "text": [
      "TESTING SET RESULTS: Average loss: 0.0494 Err: 0.0260\n"
     ]
    },
    {
     "name": "stderr",
     "output_type": "stream",
     "text": [
      "Epoch 87 Train Loss 0.0451 Err: 0.0000: 100%|██████████| 225/225 [01:40<00:00,  2.23it/s]\n",
      "Epoch 87 Test  Loss 0.0475 Err: 0.0000: 100%|██████████| 25/25 [00:05<00:00,  4.94it/s]\n",
      "  0%|          | 0/225 [00:00<?, ?it/s]"
     ]
    },
    {
     "name": "stdout",
     "output_type": "stream",
     "text": [
      "TESTING SET RESULTS: Average loss: 0.0492 Err: 0.0240\n"
     ]
    },
    {
     "name": "stderr",
     "output_type": "stream",
     "text": [
      "Epoch 88 Train Loss 0.0453 Err: 0.0000: 100%|██████████| 225/225 [01:41<00:00,  2.16it/s]\n",
      "Epoch 88 Test  Loss 0.0479 Err: 0.0000: 100%|██████████| 25/25 [00:04<00:00,  5.03it/s]\n",
      "  0%|          | 0/225 [00:00<?, ?it/s]"
     ]
    },
    {
     "name": "stdout",
     "output_type": "stream",
     "text": [
      "TESTING SET RESULTS: Average loss: 0.0493 Err: 0.0230\n"
     ]
    },
    {
     "name": "stderr",
     "output_type": "stream",
     "text": [
      "Epoch 89 Train Loss 0.0444 Err: 0.0000: 100%|██████████| 225/225 [01:39<00:00,  2.23it/s]\n",
      "Epoch 89 Test  Loss 0.0475 Err: 0.0000: 100%|██████████| 25/25 [00:05<00:00,  5.05it/s]\n",
      "  0%|          | 0/225 [00:00<?, ?it/s]"
     ]
    },
    {
     "name": "stdout",
     "output_type": "stream",
     "text": [
      "TESTING SET RESULTS: Average loss: 0.0489 Err: 0.0230\n"
     ]
    },
    {
     "name": "stderr",
     "output_type": "stream",
     "text": [
      "Epoch 90 Train Loss 0.0446 Err: 0.0000: 100%|██████████| 225/225 [01:40<00:00,  2.23it/s]\n",
      "Epoch 90 Test  Loss 0.0475 Err: 0.0000: 100%|██████████| 25/25 [00:05<00:00,  5.11it/s]\n",
      "  0%|          | 0/225 [00:00<?, ?it/s]"
     ]
    },
    {
     "name": "stdout",
     "output_type": "stream",
     "text": [
      "TESTING SET RESULTS: Average loss: 0.0491 Err: 0.0230\n"
     ]
    },
    {
     "name": "stderr",
     "output_type": "stream",
     "text": [
      "Epoch 91 Train Loss 0.0446 Err: 0.0000: 100%|██████████| 225/225 [01:41<00:00,  2.12it/s]\n",
      "Epoch 91 Test  Loss 0.0476 Err: 0.0000: 100%|██████████| 25/25 [00:04<00:00,  5.13it/s]\n",
      "  0%|          | 0/225 [00:00<?, ?it/s]"
     ]
    },
    {
     "name": "stdout",
     "output_type": "stream",
     "text": [
      "TESTING SET RESULTS: Average loss: 0.0491 Err: 0.0220\n"
     ]
    },
    {
     "name": "stderr",
     "output_type": "stream",
     "text": [
      "Epoch 92 Train Loss 0.0447 Err: 0.0000: 100%|██████████| 225/225 [01:40<00:00,  2.21it/s]\n",
      "Epoch 92 Test  Loss 0.0478 Err: 0.0000: 100%|██████████| 25/25 [00:04<00:00,  4.97it/s]\n",
      "  0%|          | 0/225 [00:00<?, ?it/s]"
     ]
    },
    {
     "name": "stdout",
     "output_type": "stream",
     "text": [
      "TESTING SET RESULTS: Average loss: 0.0490 Err: 0.0240\n"
     ]
    },
    {
     "name": "stderr",
     "output_type": "stream",
     "text": [
      "Epoch 93 Train Loss 0.0449 Err: 0.0000: 100%|██████████| 225/225 [01:41<00:00,  2.28it/s]\n",
      "Epoch 93 Test  Loss 0.0479 Err: 0.0000: 100%|██████████| 25/25 [00:05<00:00,  4.85it/s]\n",
      "  0%|          | 0/225 [00:00<?, ?it/s]"
     ]
    },
    {
     "name": "stdout",
     "output_type": "stream",
     "text": [
      "TESTING SET RESULTS: Average loss: 0.0491 Err: 0.0250\n"
     ]
    },
    {
     "name": "stderr",
     "output_type": "stream",
     "text": [
      "Epoch 94 Train Loss 0.0446 Err: 0.0000: 100%|██████████| 225/225 [01:41<00:00,  2.23it/s]\n",
      "Epoch 94 Test  Loss 0.0477 Err: 0.0000: 100%|██████████| 25/25 [00:05<00:00,  5.00it/s]\n",
      "  0%|          | 0/225 [00:00<?, ?it/s]"
     ]
    },
    {
     "name": "stdout",
     "output_type": "stream",
     "text": [
      "TESTING SET RESULTS: Average loss: 0.0489 Err: 0.0230\n"
     ]
    },
    {
     "name": "stderr",
     "output_type": "stream",
     "text": [
      "Epoch 95 Train Loss 0.0446 Err: 0.0000: 100%|██████████| 225/225 [01:39<00:00,  2.21it/s]\n",
      "Epoch 95 Test  Loss 0.0475 Err: 0.0000: 100%|██████████| 25/25 [00:05<00:00,  4.99it/s]\n",
      "  0%|          | 0/225 [00:00<?, ?it/s]"
     ]
    },
    {
     "name": "stdout",
     "output_type": "stream",
     "text": [
      "TESTING SET RESULTS: Average loss: 0.0490 Err: 0.0240\n"
     ]
    },
    {
     "name": "stderr",
     "output_type": "stream",
     "text": [
      "Epoch 96 Train Loss 0.0449 Err: 0.0000: 100%|██████████| 225/225 [01:41<00:00,  2.14it/s]\n",
      "Epoch 96 Test  Loss 0.0474 Err: 0.0000: 100%|██████████| 25/25 [00:05<00:00,  5.08it/s]\n",
      "  0%|          | 0/225 [00:00<?, ?it/s]"
     ]
    },
    {
     "name": "stdout",
     "output_type": "stream",
     "text": [
      "TESTING SET RESULTS: Average loss: 0.0492 Err: 0.0270\n"
     ]
    },
    {
     "name": "stderr",
     "output_type": "stream",
     "text": [
      "Epoch 97 Train Loss 0.0442 Err: 0.0000: 100%|██████████| 225/225 [01:42<00:00,  2.29it/s]\n",
      "Epoch 97 Test  Loss 0.0477 Err: 0.0000: 100%|██████████| 25/25 [00:05<00:00,  4.75it/s]\n",
      "  0%|          | 0/225 [00:00<?, ?it/s]"
     ]
    },
    {
     "name": "stdout",
     "output_type": "stream",
     "text": [
      "TESTING SET RESULTS: Average loss: 0.0490 Err: 0.0250\n"
     ]
    },
    {
     "name": "stderr",
     "output_type": "stream",
     "text": [
      "Epoch 98 Train Loss 0.0445 Err: 0.0000: 100%|██████████| 225/225 [01:40<00:00,  2.17it/s]\n",
      "Epoch 98 Test  Loss 0.0476 Err: 0.0000: 100%|██████████| 25/25 [00:05<00:00,  5.09it/s]\n",
      "  0%|          | 0/225 [00:00<?, ?it/s]"
     ]
    },
    {
     "name": "stdout",
     "output_type": "stream",
     "text": [
      "TESTING SET RESULTS: Average loss: 0.0491 Err: 0.0240\n"
     ]
    },
    {
     "name": "stderr",
     "output_type": "stream",
     "text": [
      "Epoch 99 Train Loss 0.0442 Err: 0.0000: 100%|██████████| 225/225 [01:41<00:00,  2.20it/s]\n",
      "Epoch 99 Test  Loss 0.0477 Err: 0.0000: 100%|██████████| 25/25 [00:05<00:00,  4.57it/s]\n",
      "  0%|          | 0/225 [00:00<?, ?it/s]"
     ]
    },
    {
     "name": "stdout",
     "output_type": "stream",
     "text": [
      "TESTING SET RESULTS: Average loss: 0.0489 Err: 0.0220\n"
     ]
    },
    {
     "name": "stderr",
     "output_type": "stream",
     "text": [
      "Epoch 100 Train Loss 0.0445 Err: 0.0000: 100%|██████████| 225/225 [01:43<00:00,  2.29it/s]\n",
      "Epoch 100 Test  Loss 0.0481 Err: 0.0000: 100%|██████████| 25/25 [00:05<00:00,  4.93it/s]\n"
     ]
    },
    {
     "name": "stdout",
     "output_type": "stream",
     "text": [
      "TESTING SET RESULTS: Average loss: 0.0491 Err: 0.0230\n"
     ]
    }
   ],
   "source": [
    "unperm = find_unperm(perm)\n",
    "test(args.boardSz, 0, perm_model, optimizer, test_logger, perm_test, args.batchSz, unperm)\n",
    "for epoch in range(1, args.nEpoch+1):\n",
    "    train(args.boardSz, epoch, perm_model, optimizer, train_logger, perm_train, args.batchSz, unperm)\n",
    "    test(args.boardSz, epoch, perm_model, optimizer, test_logger, perm_test, args.batchSz, unperm)"
   ]
  },
  {
   "cell_type": "markdown",
   "metadata": {},
   "source": [
    "# The End-to-End MNIST Sudoku Experiment"
   ]
  },
  {
   "cell_type": "code",
   "execution_count": 12,
   "metadata": {},
   "outputs": [
    {
     "data": {
      "application/javascript": [
       "/* Put everything inside the global mpl namespace */\n",
       "window.mpl = {};\n",
       "\n",
       "\n",
       "mpl.get_websocket_type = function() {\n",
       "    if (typeof(WebSocket) !== 'undefined') {\n",
       "        return WebSocket;\n",
       "    } else if (typeof(MozWebSocket) !== 'undefined') {\n",
       "        return MozWebSocket;\n",
       "    } else {\n",
       "        alert('Your browser does not have WebSocket support.' +\n",
       "              'Please try Chrome, Safari or Firefox ≥ 6. ' +\n",
       "              'Firefox 4 and 5 are also supported but you ' +\n",
       "              'have to enable WebSockets in about:config.');\n",
       "    };\n",
       "}\n",
       "\n",
       "mpl.figure = function(figure_id, websocket, ondownload, parent_element) {\n",
       "    this.id = figure_id;\n",
       "\n",
       "    this.ws = websocket;\n",
       "\n",
       "    this.supports_binary = (this.ws.binaryType != undefined);\n",
       "\n",
       "    if (!this.supports_binary) {\n",
       "        var warnings = document.getElementById(\"mpl-warnings\");\n",
       "        if (warnings) {\n",
       "            warnings.style.display = 'block';\n",
       "            warnings.textContent = (\n",
       "                \"This browser does not support binary websocket messages. \" +\n",
       "                    \"Performance may be slow.\");\n",
       "        }\n",
       "    }\n",
       "\n",
       "    this.imageObj = new Image();\n",
       "\n",
       "    this.context = undefined;\n",
       "    this.message = undefined;\n",
       "    this.canvas = undefined;\n",
       "    this.rubberband_canvas = undefined;\n",
       "    this.rubberband_context = undefined;\n",
       "    this.format_dropdown = undefined;\n",
       "\n",
       "    this.image_mode = 'full';\n",
       "\n",
       "    this.root = $('<div/>');\n",
       "    this._root_extra_style(this.root)\n",
       "    this.root.attr('style', 'display: inline-block');\n",
       "\n",
       "    $(parent_element).append(this.root);\n",
       "\n",
       "    this._init_header(this);\n",
       "    this._init_canvas(this);\n",
       "    this._init_toolbar(this);\n",
       "\n",
       "    var fig = this;\n",
       "\n",
       "    this.waiting = false;\n",
       "\n",
       "    this.ws.onopen =  function () {\n",
       "            fig.send_message(\"supports_binary\", {value: fig.supports_binary});\n",
       "            fig.send_message(\"send_image_mode\", {});\n",
       "            if (mpl.ratio != 1) {\n",
       "                fig.send_message(\"set_dpi_ratio\", {'dpi_ratio': mpl.ratio});\n",
       "            }\n",
       "            fig.send_message(\"refresh\", {});\n",
       "        }\n",
       "\n",
       "    this.imageObj.onload = function() {\n",
       "            if (fig.image_mode == 'full') {\n",
       "                // Full images could contain transparency (where diff images\n",
       "                // almost always do), so we need to clear the canvas so that\n",
       "                // there is no ghosting.\n",
       "                fig.context.clearRect(0, 0, fig.canvas.width, fig.canvas.height);\n",
       "            }\n",
       "            fig.context.drawImage(fig.imageObj, 0, 0);\n",
       "        };\n",
       "\n",
       "    this.imageObj.onunload = function() {\n",
       "        fig.ws.close();\n",
       "    }\n",
       "\n",
       "    this.ws.onmessage = this._make_on_message_function(this);\n",
       "\n",
       "    this.ondownload = ondownload;\n",
       "}\n",
       "\n",
       "mpl.figure.prototype._init_header = function() {\n",
       "    var titlebar = $(\n",
       "        '<div class=\"ui-dialog-titlebar ui-widget-header ui-corner-all ' +\n",
       "        'ui-helper-clearfix\"/>');\n",
       "    var titletext = $(\n",
       "        '<div class=\"ui-dialog-title\" style=\"width: 100%; ' +\n",
       "        'text-align: center; padding: 3px;\"/>');\n",
       "    titlebar.append(titletext)\n",
       "    this.root.append(titlebar);\n",
       "    this.header = titletext[0];\n",
       "}\n",
       "\n",
       "\n",
       "\n",
       "mpl.figure.prototype._canvas_extra_style = function(canvas_div) {\n",
       "\n",
       "}\n",
       "\n",
       "\n",
       "mpl.figure.prototype._root_extra_style = function(canvas_div) {\n",
       "\n",
       "}\n",
       "\n",
       "mpl.figure.prototype._init_canvas = function() {\n",
       "    var fig = this;\n",
       "\n",
       "    var canvas_div = $('<div/>');\n",
       "\n",
       "    canvas_div.attr('style', 'position: relative; clear: both; outline: 0');\n",
       "\n",
       "    function canvas_keyboard_event(event) {\n",
       "        return fig.key_event(event, event['data']);\n",
       "    }\n",
       "\n",
       "    canvas_div.keydown('key_press', canvas_keyboard_event);\n",
       "    canvas_div.keyup('key_release', canvas_keyboard_event);\n",
       "    this.canvas_div = canvas_div\n",
       "    this._canvas_extra_style(canvas_div)\n",
       "    this.root.append(canvas_div);\n",
       "\n",
       "    var canvas = $('<canvas/>');\n",
       "    canvas.addClass('mpl-canvas');\n",
       "    canvas.attr('style', \"left: 0; top: 0; z-index: 0; outline: 0\")\n",
       "\n",
       "    this.canvas = canvas[0];\n",
       "    this.context = canvas[0].getContext(\"2d\");\n",
       "\n",
       "    var backingStore = this.context.backingStorePixelRatio ||\n",
       "\tthis.context.webkitBackingStorePixelRatio ||\n",
       "\tthis.context.mozBackingStorePixelRatio ||\n",
       "\tthis.context.msBackingStorePixelRatio ||\n",
       "\tthis.context.oBackingStorePixelRatio ||\n",
       "\tthis.context.backingStorePixelRatio || 1;\n",
       "\n",
       "    mpl.ratio = (window.devicePixelRatio || 1) / backingStore;\n",
       "\n",
       "    var rubberband = $('<canvas/>');\n",
       "    rubberband.attr('style', \"position: absolute; left: 0; top: 0; z-index: 1;\")\n",
       "\n",
       "    var pass_mouse_events = true;\n",
       "\n",
       "    canvas_div.resizable({\n",
       "        start: function(event, ui) {\n",
       "            pass_mouse_events = false;\n",
       "        },\n",
       "        resize: function(event, ui) {\n",
       "            fig.request_resize(ui.size.width, ui.size.height);\n",
       "        },\n",
       "        stop: function(event, ui) {\n",
       "            pass_mouse_events = true;\n",
       "            fig.request_resize(ui.size.width, ui.size.height);\n",
       "        },\n",
       "    });\n",
       "\n",
       "    function mouse_event_fn(event) {\n",
       "        if (pass_mouse_events)\n",
       "            return fig.mouse_event(event, event['data']);\n",
       "    }\n",
       "\n",
       "    rubberband.mousedown('button_press', mouse_event_fn);\n",
       "    rubberband.mouseup('button_release', mouse_event_fn);\n",
       "    // Throttle sequential mouse events to 1 every 20ms.\n",
       "    rubberband.mousemove('motion_notify', mouse_event_fn);\n",
       "\n",
       "    rubberband.mouseenter('figure_enter', mouse_event_fn);\n",
       "    rubberband.mouseleave('figure_leave', mouse_event_fn);\n",
       "\n",
       "    canvas_div.on(\"wheel\", function (event) {\n",
       "        event = event.originalEvent;\n",
       "        event['data'] = 'scroll'\n",
       "        if (event.deltaY < 0) {\n",
       "            event.step = 1;\n",
       "        } else {\n",
       "            event.step = -1;\n",
       "        }\n",
       "        mouse_event_fn(event);\n",
       "    });\n",
       "\n",
       "    canvas_div.append(canvas);\n",
       "    canvas_div.append(rubberband);\n",
       "\n",
       "    this.rubberband = rubberband;\n",
       "    this.rubberband_canvas = rubberband[0];\n",
       "    this.rubberband_context = rubberband[0].getContext(\"2d\");\n",
       "    this.rubberband_context.strokeStyle = \"#000000\";\n",
       "\n",
       "    this._resize_canvas = function(width, height) {\n",
       "        // Keep the size of the canvas, canvas container, and rubber band\n",
       "        // canvas in synch.\n",
       "        canvas_div.css('width', width)\n",
       "        canvas_div.css('height', height)\n",
       "\n",
       "        canvas.attr('width', width * mpl.ratio);\n",
       "        canvas.attr('height', height * mpl.ratio);\n",
       "        canvas.attr('style', 'width: ' + width + 'px; height: ' + height + 'px;');\n",
       "\n",
       "        rubberband.attr('width', width);\n",
       "        rubberband.attr('height', height);\n",
       "    }\n",
       "\n",
       "    // Set the figure to an initial 600x600px, this will subsequently be updated\n",
       "    // upon first draw.\n",
       "    this._resize_canvas(600, 600);\n",
       "\n",
       "    // Disable right mouse context menu.\n",
       "    $(this.rubberband_canvas).bind(\"contextmenu\",function(e){\n",
       "        return false;\n",
       "    });\n",
       "\n",
       "    function set_focus () {\n",
       "        canvas.focus();\n",
       "        canvas_div.focus();\n",
       "    }\n",
       "\n",
       "    window.setTimeout(set_focus, 100);\n",
       "}\n",
       "\n",
       "mpl.figure.prototype._init_toolbar = function() {\n",
       "    var fig = this;\n",
       "\n",
       "    var nav_element = $('<div/>')\n",
       "    nav_element.attr('style', 'width: 100%');\n",
       "    this.root.append(nav_element);\n",
       "\n",
       "    // Define a callback function for later on.\n",
       "    function toolbar_event(event) {\n",
       "        return fig.toolbar_button_onclick(event['data']);\n",
       "    }\n",
       "    function toolbar_mouse_event(event) {\n",
       "        return fig.toolbar_button_onmouseover(event['data']);\n",
       "    }\n",
       "\n",
       "    for(var toolbar_ind in mpl.toolbar_items) {\n",
       "        var name = mpl.toolbar_items[toolbar_ind][0];\n",
       "        var tooltip = mpl.toolbar_items[toolbar_ind][1];\n",
       "        var image = mpl.toolbar_items[toolbar_ind][2];\n",
       "        var method_name = mpl.toolbar_items[toolbar_ind][3];\n",
       "\n",
       "        if (!name) {\n",
       "            // put a spacer in here.\n",
       "            continue;\n",
       "        }\n",
       "        var button = $('<button/>');\n",
       "        button.addClass('ui-button ui-widget ui-state-default ui-corner-all ' +\n",
       "                        'ui-button-icon-only');\n",
       "        button.attr('role', 'button');\n",
       "        button.attr('aria-disabled', 'false');\n",
       "        button.click(method_name, toolbar_event);\n",
       "        button.mouseover(tooltip, toolbar_mouse_event);\n",
       "\n",
       "        var icon_img = $('<span/>');\n",
       "        icon_img.addClass('ui-button-icon-primary ui-icon');\n",
       "        icon_img.addClass(image);\n",
       "        icon_img.addClass('ui-corner-all');\n",
       "\n",
       "        var tooltip_span = $('<span/>');\n",
       "        tooltip_span.addClass('ui-button-text');\n",
       "        tooltip_span.html(tooltip);\n",
       "\n",
       "        button.append(icon_img);\n",
       "        button.append(tooltip_span);\n",
       "\n",
       "        nav_element.append(button);\n",
       "    }\n",
       "\n",
       "    var fmt_picker_span = $('<span/>');\n",
       "\n",
       "    var fmt_picker = $('<select/>');\n",
       "    fmt_picker.addClass('mpl-toolbar-option ui-widget ui-widget-content');\n",
       "    fmt_picker_span.append(fmt_picker);\n",
       "    nav_element.append(fmt_picker_span);\n",
       "    this.format_dropdown = fmt_picker[0];\n",
       "\n",
       "    for (var ind in mpl.extensions) {\n",
       "        var fmt = mpl.extensions[ind];\n",
       "        var option = $(\n",
       "            '<option/>', {selected: fmt === mpl.default_extension}).html(fmt);\n",
       "        fmt_picker.append(option)\n",
       "    }\n",
       "\n",
       "    // Add hover states to the ui-buttons\n",
       "    $( \".ui-button\" ).hover(\n",
       "        function() { $(this).addClass(\"ui-state-hover\");},\n",
       "        function() { $(this).removeClass(\"ui-state-hover\");}\n",
       "    );\n",
       "\n",
       "    var status_bar = $('<span class=\"mpl-message\"/>');\n",
       "    nav_element.append(status_bar);\n",
       "    this.message = status_bar[0];\n",
       "}\n",
       "\n",
       "mpl.figure.prototype.request_resize = function(x_pixels, y_pixels) {\n",
       "    // Request matplotlib to resize the figure. Matplotlib will then trigger a resize in the client,\n",
       "    // which will in turn request a refresh of the image.\n",
       "    this.send_message('resize', {'width': x_pixels, 'height': y_pixels});\n",
       "}\n",
       "\n",
       "mpl.figure.prototype.send_message = function(type, properties) {\n",
       "    properties['type'] = type;\n",
       "    properties['figure_id'] = this.id;\n",
       "    this.ws.send(JSON.stringify(properties));\n",
       "}\n",
       "\n",
       "mpl.figure.prototype.send_draw_message = function() {\n",
       "    if (!this.waiting) {\n",
       "        this.waiting = true;\n",
       "        this.ws.send(JSON.stringify({type: \"draw\", figure_id: this.id}));\n",
       "    }\n",
       "}\n",
       "\n",
       "\n",
       "mpl.figure.prototype.handle_save = function(fig, msg) {\n",
       "    var format_dropdown = fig.format_dropdown;\n",
       "    var format = format_dropdown.options[format_dropdown.selectedIndex].value;\n",
       "    fig.ondownload(fig, format);\n",
       "}\n",
       "\n",
       "\n",
       "mpl.figure.prototype.handle_resize = function(fig, msg) {\n",
       "    var size = msg['size'];\n",
       "    if (size[0] != fig.canvas.width || size[1] != fig.canvas.height) {\n",
       "        fig._resize_canvas(size[0], size[1]);\n",
       "        fig.send_message(\"refresh\", {});\n",
       "    };\n",
       "}\n",
       "\n",
       "mpl.figure.prototype.handle_rubberband = function(fig, msg) {\n",
       "    var x0 = msg['x0'] / mpl.ratio;\n",
       "    var y0 = (fig.canvas.height - msg['y0']) / mpl.ratio;\n",
       "    var x1 = msg['x1'] / mpl.ratio;\n",
       "    var y1 = (fig.canvas.height - msg['y1']) / mpl.ratio;\n",
       "    x0 = Math.floor(x0) + 0.5;\n",
       "    y0 = Math.floor(y0) + 0.5;\n",
       "    x1 = Math.floor(x1) + 0.5;\n",
       "    y1 = Math.floor(y1) + 0.5;\n",
       "    var min_x = Math.min(x0, x1);\n",
       "    var min_y = Math.min(y0, y1);\n",
       "    var width = Math.abs(x1 - x0);\n",
       "    var height = Math.abs(y1 - y0);\n",
       "\n",
       "    fig.rubberband_context.clearRect(\n",
       "        0, 0, fig.canvas.width, fig.canvas.height);\n",
       "\n",
       "    fig.rubberband_context.strokeRect(min_x, min_y, width, height);\n",
       "}\n",
       "\n",
       "mpl.figure.prototype.handle_figure_label = function(fig, msg) {\n",
       "    // Updates the figure title.\n",
       "    fig.header.textContent = msg['label'];\n",
       "}\n",
       "\n",
       "mpl.figure.prototype.handle_cursor = function(fig, msg) {\n",
       "    var cursor = msg['cursor'];\n",
       "    switch(cursor)\n",
       "    {\n",
       "    case 0:\n",
       "        cursor = 'pointer';\n",
       "        break;\n",
       "    case 1:\n",
       "        cursor = 'default';\n",
       "        break;\n",
       "    case 2:\n",
       "        cursor = 'crosshair';\n",
       "        break;\n",
       "    case 3:\n",
       "        cursor = 'move';\n",
       "        break;\n",
       "    }\n",
       "    fig.rubberband_canvas.style.cursor = cursor;\n",
       "}\n",
       "\n",
       "mpl.figure.prototype.handle_message = function(fig, msg) {\n",
       "    fig.message.textContent = msg['message'];\n",
       "}\n",
       "\n",
       "mpl.figure.prototype.handle_draw = function(fig, msg) {\n",
       "    // Request the server to send over a new figure.\n",
       "    fig.send_draw_message();\n",
       "}\n",
       "\n",
       "mpl.figure.prototype.handle_image_mode = function(fig, msg) {\n",
       "    fig.image_mode = msg['mode'];\n",
       "}\n",
       "\n",
       "mpl.figure.prototype.updated_canvas_event = function() {\n",
       "    // Called whenever the canvas gets updated.\n",
       "    this.send_message(\"ack\", {});\n",
       "}\n",
       "\n",
       "// A function to construct a web socket function for onmessage handling.\n",
       "// Called in the figure constructor.\n",
       "mpl.figure.prototype._make_on_message_function = function(fig) {\n",
       "    return function socket_on_message(evt) {\n",
       "        if (evt.data instanceof Blob) {\n",
       "            /* FIXME: We get \"Resource interpreted as Image but\n",
       "             * transferred with MIME type text/plain:\" errors on\n",
       "             * Chrome.  But how to set the MIME type?  It doesn't seem\n",
       "             * to be part of the websocket stream */\n",
       "            evt.data.type = \"image/png\";\n",
       "\n",
       "            /* Free the memory for the previous frames */\n",
       "            if (fig.imageObj.src) {\n",
       "                (window.URL || window.webkitURL).revokeObjectURL(\n",
       "                    fig.imageObj.src);\n",
       "            }\n",
       "\n",
       "            fig.imageObj.src = (window.URL || window.webkitURL).createObjectURL(\n",
       "                evt.data);\n",
       "            fig.updated_canvas_event();\n",
       "            fig.waiting = false;\n",
       "            return;\n",
       "        }\n",
       "        else if (typeof evt.data === 'string' && evt.data.slice(0, 21) == \"data:image/png;base64\") {\n",
       "            fig.imageObj.src = evt.data;\n",
       "            fig.updated_canvas_event();\n",
       "            fig.waiting = false;\n",
       "            return;\n",
       "        }\n",
       "\n",
       "        var msg = JSON.parse(evt.data);\n",
       "        var msg_type = msg['type'];\n",
       "\n",
       "        // Call the  \"handle_{type}\" callback, which takes\n",
       "        // the figure and JSON message as its only arguments.\n",
       "        try {\n",
       "            var callback = fig[\"handle_\" + msg_type];\n",
       "        } catch (e) {\n",
       "            console.log(\"No handler for the '\" + msg_type + \"' message type: \", msg);\n",
       "            return;\n",
       "        }\n",
       "\n",
       "        if (callback) {\n",
       "            try {\n",
       "                // console.log(\"Handling '\" + msg_type + \"' message: \", msg);\n",
       "                callback(fig, msg);\n",
       "            } catch (e) {\n",
       "                console.log(\"Exception inside the 'handler_\" + msg_type + \"' callback:\", e, e.stack, msg);\n",
       "            }\n",
       "        }\n",
       "    };\n",
       "}\n",
       "\n",
       "// from http://stackoverflow.com/questions/1114465/getting-mouse-location-in-canvas\n",
       "mpl.findpos = function(e) {\n",
       "    //this section is from http://www.quirksmode.org/js/events_properties.html\n",
       "    var targ;\n",
       "    if (!e)\n",
       "        e = window.event;\n",
       "    if (e.target)\n",
       "        targ = e.target;\n",
       "    else if (e.srcElement)\n",
       "        targ = e.srcElement;\n",
       "    if (targ.nodeType == 3) // defeat Safari bug\n",
       "        targ = targ.parentNode;\n",
       "\n",
       "    // jQuery normalizes the pageX and pageY\n",
       "    // pageX,Y are the mouse positions relative to the document\n",
       "    // offset() returns the position of the element relative to the document\n",
       "    var x = e.pageX - $(targ).offset().left;\n",
       "    var y = e.pageY - $(targ).offset().top;\n",
       "\n",
       "    return {\"x\": x, \"y\": y};\n",
       "};\n",
       "\n",
       "/*\n",
       " * return a copy of an object with only non-object keys\n",
       " * we need this to avoid circular references\n",
       " * http://stackoverflow.com/a/24161582/3208463\n",
       " */\n",
       "function simpleKeys (original) {\n",
       "  return Object.keys(original).reduce(function (obj, key) {\n",
       "    if (typeof original[key] !== 'object')\n",
       "        obj[key] = original[key]\n",
       "    return obj;\n",
       "  }, {});\n",
       "}\n",
       "\n",
       "mpl.figure.prototype.mouse_event = function(event, name) {\n",
       "    var canvas_pos = mpl.findpos(event)\n",
       "\n",
       "    if (name === 'button_press')\n",
       "    {\n",
       "        this.canvas.focus();\n",
       "        this.canvas_div.focus();\n",
       "    }\n",
       "\n",
       "    var x = canvas_pos.x * mpl.ratio;\n",
       "    var y = canvas_pos.y * mpl.ratio;\n",
       "\n",
       "    this.send_message(name, {x: x, y: y, button: event.button,\n",
       "                             step: event.step,\n",
       "                             guiEvent: simpleKeys(event)});\n",
       "\n",
       "    /* This prevents the web browser from automatically changing to\n",
       "     * the text insertion cursor when the button is pressed.  We want\n",
       "     * to control all of the cursor setting manually through the\n",
       "     * 'cursor' event from matplotlib */\n",
       "    event.preventDefault();\n",
       "    return false;\n",
       "}\n",
       "\n",
       "mpl.figure.prototype._key_event_extra = function(event, name) {\n",
       "    // Handle any extra behaviour associated with a key event\n",
       "}\n",
       "\n",
       "mpl.figure.prototype.key_event = function(event, name) {\n",
       "\n",
       "    // Prevent repeat events\n",
       "    if (name == 'key_press')\n",
       "    {\n",
       "        if (event.which === this._key)\n",
       "            return;\n",
       "        else\n",
       "            this._key = event.which;\n",
       "    }\n",
       "    if (name == 'key_release')\n",
       "        this._key = null;\n",
       "\n",
       "    var value = '';\n",
       "    if (event.ctrlKey && event.which != 17)\n",
       "        value += \"ctrl+\";\n",
       "    if (event.altKey && event.which != 18)\n",
       "        value += \"alt+\";\n",
       "    if (event.shiftKey && event.which != 16)\n",
       "        value += \"shift+\";\n",
       "\n",
       "    value += 'k';\n",
       "    value += event.which.toString();\n",
       "\n",
       "    this._key_event_extra(event, name);\n",
       "\n",
       "    this.send_message(name, {key: value,\n",
       "                             guiEvent: simpleKeys(event)});\n",
       "    return false;\n",
       "}\n",
       "\n",
       "mpl.figure.prototype.toolbar_button_onclick = function(name) {\n",
       "    if (name == 'download') {\n",
       "        this.handle_save(this, null);\n",
       "    } else {\n",
       "        this.send_message(\"toolbar_button\", {name: name});\n",
       "    }\n",
       "};\n",
       "\n",
       "mpl.figure.prototype.toolbar_button_onmouseover = function(tooltip) {\n",
       "    this.message.textContent = tooltip;\n",
       "};\n",
       "mpl.toolbar_items = [[\"Home\", \"Reset original view\", \"fa fa-home icon-home\", \"home\"], [\"Back\", \"Back to previous view\", \"fa fa-arrow-left icon-arrow-left\", \"back\"], [\"Forward\", \"Forward to next view\", \"fa fa-arrow-right icon-arrow-right\", \"forward\"], [\"\", \"\", \"\", \"\"], [\"Pan\", \"Pan axes with left mouse, zoom with right\", \"fa fa-arrows icon-move\", \"pan\"], [\"Zoom\", \"Zoom to rectangle\", \"fa fa-square-o icon-check-empty\", \"zoom\"], [\"\", \"\", \"\", \"\"], [\"Download\", \"Download plot\", \"fa fa-floppy-o icon-save\", \"download\"]];\n",
       "\n",
       "mpl.extensions = [\"eps\", \"jpeg\", \"pdf\", \"png\", \"ps\", \"raw\", \"svg\", \"tif\"];\n",
       "\n",
       "mpl.default_extension = \"png\";var comm_websocket_adapter = function(comm) {\n",
       "    // Create a \"websocket\"-like object which calls the given IPython comm\n",
       "    // object with the appropriate methods. Currently this is a non binary\n",
       "    // socket, so there is still some room for performance tuning.\n",
       "    var ws = {};\n",
       "\n",
       "    ws.close = function() {\n",
       "        comm.close()\n",
       "    };\n",
       "    ws.send = function(m) {\n",
       "        //console.log('sending', m);\n",
       "        comm.send(m);\n",
       "    };\n",
       "    // Register the callback with on_msg.\n",
       "    comm.on_msg(function(msg) {\n",
       "        //console.log('receiving', msg['content']['data'], msg);\n",
       "        // Pass the mpl event to the overridden (by mpl) onmessage function.\n",
       "        ws.onmessage(msg['content']['data'])\n",
       "    });\n",
       "    return ws;\n",
       "}\n",
       "\n",
       "mpl.mpl_figure_comm = function(comm, msg) {\n",
       "    // This is the function which gets called when the mpl process\n",
       "    // starts-up an IPython Comm through the \"matplotlib\" channel.\n",
       "\n",
       "    var id = msg.content.data.id;\n",
       "    // Get hold of the div created by the display call when the Comm\n",
       "    // socket was opened in Python.\n",
       "    var element = $(\"#\" + id);\n",
       "    var ws_proxy = comm_websocket_adapter(comm)\n",
       "\n",
       "    function ondownload(figure, format) {\n",
       "        window.open(figure.imageObj.src);\n",
       "    }\n",
       "\n",
       "    var fig = new mpl.figure(id, ws_proxy,\n",
       "                           ondownload,\n",
       "                           element.get(0));\n",
       "\n",
       "    // Call onopen now - mpl needs it, as it is assuming we've passed it a real\n",
       "    // web socket which is closed, not our websocket->open comm proxy.\n",
       "    ws_proxy.onopen();\n",
       "\n",
       "    fig.parent_element = element.get(0);\n",
       "    fig.cell_info = mpl.find_output_cell(\"<div id='\" + id + \"'></div>\");\n",
       "    if (!fig.cell_info) {\n",
       "        console.error(\"Failed to find cell for figure\", id, fig);\n",
       "        return;\n",
       "    }\n",
       "\n",
       "    var output_index = fig.cell_info[2]\n",
       "    var cell = fig.cell_info[0];\n",
       "\n",
       "};\n",
       "\n",
       "mpl.figure.prototype.handle_close = function(fig, msg) {\n",
       "    var width = fig.canvas.width/mpl.ratio\n",
       "    fig.root.unbind('remove')\n",
       "\n",
       "    // Update the output cell to use the data from the current canvas.\n",
       "    fig.push_to_output();\n",
       "    var dataURL = fig.canvas.toDataURL();\n",
       "    // Re-enable the keyboard manager in IPython - without this line, in FF,\n",
       "    // the notebook keyboard shortcuts fail.\n",
       "    IPython.keyboard_manager.enable()\n",
       "    $(fig.parent_element).html('<img src=\"' + dataURL + '\" width=\"' + width + '\">');\n",
       "    fig.close_ws(fig, msg);\n",
       "}\n",
       "\n",
       "mpl.figure.prototype.close_ws = function(fig, msg){\n",
       "    fig.send_message('closing', msg);\n",
       "    // fig.ws.close()\n",
       "}\n",
       "\n",
       "mpl.figure.prototype.push_to_output = function(remove_interactive) {\n",
       "    // Turn the data on the canvas into data in the output cell.\n",
       "    var width = this.canvas.width/mpl.ratio\n",
       "    var dataURL = this.canvas.toDataURL();\n",
       "    this.cell_info[1]['text/html'] = '<img src=\"' + dataURL + '\" width=\"' + width + '\">';\n",
       "}\n",
       "\n",
       "mpl.figure.prototype.updated_canvas_event = function() {\n",
       "    // Tell IPython that the notebook contents must change.\n",
       "    IPython.notebook.set_dirty(true);\n",
       "    this.send_message(\"ack\", {});\n",
       "    var fig = this;\n",
       "    // Wait a second, then push the new image to the DOM so\n",
       "    // that it is saved nicely (might be nice to debounce this).\n",
       "    setTimeout(function () { fig.push_to_output() }, 1000);\n",
       "}\n",
       "\n",
       "mpl.figure.prototype._init_toolbar = function() {\n",
       "    var fig = this;\n",
       "\n",
       "    var nav_element = $('<div/>')\n",
       "    nav_element.attr('style', 'width: 100%');\n",
       "    this.root.append(nav_element);\n",
       "\n",
       "    // Define a callback function for later on.\n",
       "    function toolbar_event(event) {\n",
       "        return fig.toolbar_button_onclick(event['data']);\n",
       "    }\n",
       "    function toolbar_mouse_event(event) {\n",
       "        return fig.toolbar_button_onmouseover(event['data']);\n",
       "    }\n",
       "\n",
       "    for(var toolbar_ind in mpl.toolbar_items){\n",
       "        var name = mpl.toolbar_items[toolbar_ind][0];\n",
       "        var tooltip = mpl.toolbar_items[toolbar_ind][1];\n",
       "        var image = mpl.toolbar_items[toolbar_ind][2];\n",
       "        var method_name = mpl.toolbar_items[toolbar_ind][3];\n",
       "\n",
       "        if (!name) { continue; };\n",
       "\n",
       "        var button = $('<button class=\"btn btn-default\" href=\"#\" title=\"' + name + '\"><i class=\"fa ' + image + ' fa-lg\"></i></button>');\n",
       "        button.click(method_name, toolbar_event);\n",
       "        button.mouseover(tooltip, toolbar_mouse_event);\n",
       "        nav_element.append(button);\n",
       "    }\n",
       "\n",
       "    // Add the status bar.\n",
       "    var status_bar = $('<span class=\"mpl-message\" style=\"text-align:right; float: right;\"/>');\n",
       "    nav_element.append(status_bar);\n",
       "    this.message = status_bar[0];\n",
       "\n",
       "    // Add the close button to the window.\n",
       "    var buttongrp = $('<div class=\"btn-group inline pull-right\"></div>');\n",
       "    var button = $('<button class=\"btn btn-mini btn-primary\" href=\"#\" title=\"Stop Interaction\"><i class=\"fa fa-power-off icon-remove icon-large\"></i></button>');\n",
       "    button.click(function (evt) { fig.handle_close(fig, {}); } );\n",
       "    button.mouseover('Stop Interaction', toolbar_mouse_event);\n",
       "    buttongrp.append(button);\n",
       "    var titlebar = this.root.find($('.ui-dialog-titlebar'));\n",
       "    titlebar.prepend(buttongrp);\n",
       "}\n",
       "\n",
       "mpl.figure.prototype._root_extra_style = function(el){\n",
       "    var fig = this\n",
       "    el.on(\"remove\", function(){\n",
       "\tfig.close_ws(fig, {});\n",
       "    });\n",
       "}\n",
       "\n",
       "mpl.figure.prototype._canvas_extra_style = function(el){\n",
       "    // this is important to make the div 'focusable\n",
       "    el.attr('tabindex', 0)\n",
       "    // reach out to IPython and tell the keyboard manager to turn it's self\n",
       "    // off when our div gets focus\n",
       "\n",
       "    // location in version 3\n",
       "    if (IPython.notebook.keyboard_manager) {\n",
       "        IPython.notebook.keyboard_manager.register_events(el);\n",
       "    }\n",
       "    else {\n",
       "        // location in version 2\n",
       "        IPython.keyboard_manager.register_events(el);\n",
       "    }\n",
       "\n",
       "}\n",
       "\n",
       "mpl.figure.prototype._key_event_extra = function(event, name) {\n",
       "    var manager = IPython.notebook.keyboard_manager;\n",
       "    if (!manager)\n",
       "        manager = IPython.keyboard_manager;\n",
       "\n",
       "    // Check for shift+enter\n",
       "    if (event.shiftKey && event.which == 13) {\n",
       "        this.canvas_div.blur();\n",
       "        event.shiftKey = false;\n",
       "        // Send a \"J\" for go to next cell\n",
       "        event.which = 74;\n",
       "        event.keyCode = 74;\n",
       "        manager.command_mode();\n",
       "        manager.handle_keydown(event);\n",
       "    }\n",
       "}\n",
       "\n",
       "mpl.figure.prototype.handle_save = function(fig, msg) {\n",
       "    fig.ondownload(fig, null);\n",
       "}\n",
       "\n",
       "\n",
       "mpl.find_output_cell = function(html_output) {\n",
       "    // Return the cell and output element which can be found *uniquely* in the notebook.\n",
       "    // Note - this is a bit hacky, but it is done because the \"notebook_saving.Notebook\"\n",
       "    // IPython event is triggered only after the cells have been serialised, which for\n",
       "    // our purposes (turning an active figure into a static one), is too late.\n",
       "    var cells = IPython.notebook.get_cells();\n",
       "    var ncells = cells.length;\n",
       "    for (var i=0; i<ncells; i++) {\n",
       "        var cell = cells[i];\n",
       "        if (cell.cell_type === 'code'){\n",
       "            for (var j=0; j<cell.output_area.outputs.length; j++) {\n",
       "                var data = cell.output_area.outputs[j];\n",
       "                if (data.data) {\n",
       "                    // IPython >= 3 moved mimebundle to data attribute of output\n",
       "                    data = data.data;\n",
       "                }\n",
       "                if (data['text/html'] == html_output) {\n",
       "                    return [cell, data, j];\n",
       "                }\n",
       "            }\n",
       "        }\n",
       "    }\n",
       "}\n",
       "\n",
       "// Register the function which deals with the matplotlib target/channel.\n",
       "// The kernel may be null if the page has been refreshed.\n",
       "if (IPython.notebook.kernel != null) {\n",
       "    IPython.notebook.kernel.comm_manager.register_target('matplotlib', mpl.mpl_figure_comm);\n",
       "}\n"
      ],
      "text/plain": [
       "<IPython.core.display.Javascript object>"
      ]
     },
     "metadata": {},
     "output_type": "display_data"
    },
    {
     "data": {
      "text/html": [
       "<img src=\"data:image/png;base64,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\" width=\"1000\">"
      ],
      "text/plain": [
       "<IPython.core.display.HTML object>"
      ]
     },
     "metadata": {},
     "output_type": "display_data"
    }
   ],
   "source": [
    "mnist_sudoku = MNISTSudokuSolver(args.boardSz, args.aux, args.m)\n",
    "if args.cuda: mnist_sudoku = mnist_sudoku.cuda()\n",
    "    \n",
    "optimizer = optim.Adam([\n",
    "            {'params': mnist_sudoku.sudoku_solver.parameters(), 'lr': args.lr},\n",
    "            {'params': mnist_sudoku.digit_convnet.parameters(), 'lr': 1e-5},\n",
    "            ])\n",
    "\n",
    "fig, axes = plt.subplots(1,2, figsize=(10,4))\n",
    "plt.subplots_adjust(wspace=0.4)\n",
    "train_logger = FigLogger(fig, axes[0], 'Traininig')\n",
    "test_logger = FigLogger(fig, axes[1], 'Testing')"
   ]
  },
  {
   "cell_type": "code",
   "execution_count": 13,
   "metadata": {},
   "outputs": [
    {
     "name": "stderr",
     "output_type": "stream",
     "text": [
      "Epoch 0 Test  Loss 1.0203 Err: 1.0000: 100%|██████████| 20/20 [00:05<00:00,  4.13it/s]\n",
      "  0%|          | 0/180 [00:00<?, ?it/s]"
     ]
    },
    {
     "name": "stdout",
     "output_type": "stream",
     "text": [
      "TESTING SET RESULTS: Average loss: 1.0215 Err: 1.0000\n"
     ]
    },
    {
     "name": "stderr",
     "output_type": "stream",
     "text": [
      "Epoch 1 Train Loss 0.2950 Err: 1.0000: 100%|██████████| 180/180 [02:03<00:00,  1.51it/s]\n",
      "Epoch 1 Test  Loss 0.2866 Err: 1.0000: 100%|██████████| 20/20 [00:05<00:00,  3.88it/s]\n",
      "  0%|          | 0/180 [00:00<?, ?it/s]"
     ]
    },
    {
     "name": "stdout",
     "output_type": "stream",
     "text": [
      "TESTING SET RESULTS: Average loss: 0.2891 Err: 1.0000\n"
     ]
    },
    {
     "name": "stderr",
     "output_type": "stream",
     "text": [
      "Epoch 2 Train Loss 0.1796 Err: 1.0000: 100%|██████████| 180/180 [01:53<00:00,  1.71it/s]\n",
      "Epoch 2 Test  Loss 0.1789 Err: 1.0000: 100%|██████████| 20/20 [00:04<00:00,  4.41it/s]\n",
      "  0%|          | 0/180 [00:00<?, ?it/s]"
     ]
    },
    {
     "name": "stdout",
     "output_type": "stream",
     "text": [
      "TESTING SET RESULTS: Average loss: 0.1812 Err: 1.0000\n"
     ]
    },
    {
     "name": "stderr",
     "output_type": "stream",
     "text": [
      "Epoch 3 Train Loss 0.1474 Err: 1.0000: 100%|██████████| 180/180 [01:39<00:00,  1.91it/s]\n",
      "Epoch 3 Test  Loss 0.1501 Err: 1.0000: 100%|██████████| 20/20 [00:03<00:00,  5.04it/s]\n",
      "  0%|          | 0/180 [00:00<?, ?it/s]"
     ]
    },
    {
     "name": "stdout",
     "output_type": "stream",
     "text": [
      "TESTING SET RESULTS: Average loss: 0.1524 Err: 1.0000\n"
     ]
    },
    {
     "name": "stderr",
     "output_type": "stream",
     "text": [
      "Epoch 4 Train Loss 0.1293 Err: 0.9800: 100%|██████████| 180/180 [01:31<00:00,  2.06it/s]\n",
      "Epoch 4 Test  Loss 0.1300 Err: 0.9800: 100%|██████████| 20/20 [00:03<00:00,  5.31it/s]\n",
      "  0%|          | 0/180 [00:00<?, ?it/s]"
     ]
    },
    {
     "name": "stdout",
     "output_type": "stream",
     "text": [
      "TESTING SET RESULTS: Average loss: 0.1327 Err: 0.9850\n"
     ]
    },
    {
     "name": "stderr",
     "output_type": "stream",
     "text": [
      "Epoch 5 Train Loss 0.1194 Err: 0.9400: 100%|██████████| 180/180 [01:28<00:00,  2.06it/s]\n",
      "Epoch 5 Test  Loss 0.1211 Err: 0.9800: 100%|██████████| 20/20 [00:04<00:00,  4.79it/s]\n",
      "  0%|          | 0/180 [00:00<?, ?it/s]"
     ]
    },
    {
     "name": "stdout",
     "output_type": "stream",
     "text": [
      "TESTING SET RESULTS: Average loss: 0.1247 Err: 0.9560\n"
     ]
    },
    {
     "name": "stderr",
     "output_type": "stream",
     "text": [
      "Epoch 6 Train Loss 0.1117 Err: 0.8800: 100%|██████████| 180/180 [01:26<00:00,  2.06it/s]\n",
      "Epoch 6 Test  Loss 0.1124 Err: 0.9200: 100%|██████████| 20/20 [00:04<00:00,  4.74it/s]\n",
      "  0%|          | 0/180 [00:00<?, ?it/s]"
     ]
    },
    {
     "name": "stdout",
     "output_type": "stream",
     "text": [
      "TESTING SET RESULTS: Average loss: 0.1156 Err: 0.8880\n"
     ]
    },
    {
     "name": "stderr",
     "output_type": "stream",
     "text": [
      "Epoch 7 Train Loss 0.1062 Err: 0.7800: 100%|██████████| 180/180 [01:24<00:00,  2.16it/s]\n",
      "Epoch 7 Test  Loss 0.1081 Err: 0.9000: 100%|██████████| 20/20 [00:03<00:00,  5.41it/s]\n",
      "  0%|          | 0/180 [00:00<?, ?it/s]"
     ]
    },
    {
     "name": "stdout",
     "output_type": "stream",
     "text": [
      "TESTING SET RESULTS: Average loss: 0.1113 Err: 0.8540\n"
     ]
    },
    {
     "name": "stderr",
     "output_type": "stream",
     "text": [
      "Epoch 8 Train Loss 0.1004 Err: 0.7200: 100%|██████████| 180/180 [01:22<00:00,  2.19it/s]\n",
      "Epoch 8 Test  Loss 0.1035 Err: 0.8600: 100%|██████████| 20/20 [00:03<00:00,  5.19it/s]\n",
      "  0%|          | 0/180 [00:00<?, ?it/s]"
     ]
    },
    {
     "name": "stdout",
     "output_type": "stream",
     "text": [
      "TESTING SET RESULTS: Average loss: 0.1064 Err: 0.8320\n"
     ]
    },
    {
     "name": "stderr",
     "output_type": "stream",
     "text": [
      "Epoch 9 Train Loss 0.0955 Err: 0.6600: 100%|██████████| 180/180 [01:21<00:00,  2.22it/s]\n",
      "Epoch 9 Test  Loss 0.0989 Err: 0.8200: 100%|██████████| 20/20 [00:03<00:00,  5.55it/s]\n",
      "  0%|          | 0/180 [00:00<?, ?it/s]"
     ]
    },
    {
     "name": "stdout",
     "output_type": "stream",
     "text": [
      "TESTING SET RESULTS: Average loss: 0.1021 Err: 0.7970\n"
     ]
    },
    {
     "name": "stderr",
     "output_type": "stream",
     "text": [
      "Epoch 10 Train Loss 0.0913 Err: 0.5400: 100%|██████████| 180/180 [01:21<00:00,  2.19it/s]\n",
      "Epoch 10 Test  Loss 0.0953 Err: 0.7800: 100%|██████████| 20/20 [00:03<00:00,  5.05it/s]\n",
      "  0%|          | 0/180 [00:00<?, ?it/s]"
     ]
    },
    {
     "name": "stdout",
     "output_type": "stream",
     "text": [
      "TESTING SET RESULTS: Average loss: 0.0983 Err: 0.7490\n"
     ]
    },
    {
     "name": "stderr",
     "output_type": "stream",
     "text": [
      "Epoch 11 Train Loss 0.0877 Err: 0.5200: 100%|██████████| 180/180 [01:19<00:00,  2.26it/s]\n",
      "Epoch 11 Test  Loss 0.0909 Err: 0.7400: 100%|██████████| 20/20 [00:03<00:00,  5.77it/s]\n",
      "  0%|          | 0/180 [00:00<?, ?it/s]"
     ]
    },
    {
     "name": "stdout",
     "output_type": "stream",
     "text": [
      "TESTING SET RESULTS: Average loss: 0.0942 Err: 0.7150\n"
     ]
    },
    {
     "name": "stderr",
     "output_type": "stream",
     "text": [
      "Epoch 12 Train Loss 0.0824 Err: 0.5000: 100%|██████████| 180/180 [01:19<00:00,  2.27it/s]\n",
      "Epoch 12 Test  Loss 0.0871 Err: 0.6800: 100%|██████████| 20/20 [00:03<00:00,  5.79it/s]\n",
      "  0%|          | 0/180 [00:00<?, ?it/s]"
     ]
    },
    {
     "name": "stdout",
     "output_type": "stream",
     "text": [
      "TESTING SET RESULTS: Average loss: 0.0901 Err: 0.6730\n"
     ]
    },
    {
     "name": "stderr",
     "output_type": "stream",
     "text": [
      "Epoch 13 Train Loss 0.0808 Err: 0.4600: 100%|██████████| 180/180 [01:19<00:00,  2.26it/s]\n",
      "Epoch 13 Test  Loss 0.0853 Err: 0.7400: 100%|██████████| 20/20 [00:03<00:00,  5.62it/s]\n",
      "  0%|          | 0/180 [00:00<?, ?it/s]"
     ]
    },
    {
     "name": "stdout",
     "output_type": "stream",
     "text": [
      "TESTING SET RESULTS: Average loss: 0.0877 Err: 0.6370\n"
     ]
    },
    {
     "name": "stderr",
     "output_type": "stream",
     "text": [
      "Epoch 14 Train Loss 0.0769 Err: 0.3800: 100%|██████████| 180/180 [01:19<00:00,  2.30it/s]\n",
      "Epoch 14 Test  Loss 0.0807 Err: 0.6000: 100%|██████████| 20/20 [00:03<00:00,  5.51it/s]\n",
      "  0%|          | 0/180 [00:00<?, ?it/s]"
     ]
    },
    {
     "name": "stdout",
     "output_type": "stream",
     "text": [
      "TESTING SET RESULTS: Average loss: 0.0839 Err: 0.6180\n"
     ]
    },
    {
     "name": "stderr",
     "output_type": "stream",
     "text": [
      "Epoch 15 Train Loss 0.0742 Err: 0.3800: 100%|██████████| 180/180 [01:19<00:00,  2.23it/s]\n",
      "Epoch 15 Test  Loss 0.0800 Err: 0.6200: 100%|██████████| 20/20 [00:03<00:00,  5.24it/s]\n",
      "  0%|          | 0/180 [00:00<?, ?it/s]"
     ]
    },
    {
     "name": "stdout",
     "output_type": "stream",
     "text": [
      "TESTING SET RESULTS: Average loss: 0.0816 Err: 0.6080\n"
     ]
    },
    {
     "name": "stderr",
     "output_type": "stream",
     "text": [
      "Epoch 16 Train Loss 0.0728 Err: 0.3600: 100%|██████████| 180/180 [01:20<00:00,  2.28it/s]\n",
      "Epoch 16 Test  Loss 0.0771 Err: 0.6000: 100%|██████████| 20/20 [00:03<00:00,  5.19it/s]\n",
      "  0%|          | 0/180 [00:00<?, ?it/s]"
     ]
    },
    {
     "name": "stdout",
     "output_type": "stream",
     "text": [
      "TESTING SET RESULTS: Average loss: 0.0800 Err: 0.5970\n"
     ]
    },
    {
     "name": "stderr",
     "output_type": "stream",
     "text": [
      "Epoch 17 Train Loss 0.0719 Err: 0.3800: 100%|██████████| 180/180 [01:21<00:00,  2.18it/s]\n",
      "Epoch 17 Test  Loss 0.0769 Err: 0.5800: 100%|██████████| 20/20 [00:03<00:00,  5.15it/s]\n",
      "  0%|          | 0/180 [00:00<?, ?it/s]"
     ]
    },
    {
     "name": "stdout",
     "output_type": "stream",
     "text": [
      "TESTING SET RESULTS: Average loss: 0.0794 Err: 0.5690\n"
     ]
    },
    {
     "name": "stderr",
     "output_type": "stream",
     "text": [
      "Epoch 18 Train Loss 0.0703 Err: 0.3800: 100%|██████████| 180/180 [01:21<00:00,  2.14it/s]\n",
      "Epoch 18 Test  Loss 0.0749 Err: 0.5600: 100%|██████████| 20/20 [00:03<00:00,  5.22it/s]\n",
      "  0%|          | 0/180 [00:00<?, ?it/s]"
     ]
    },
    {
     "name": "stdout",
     "output_type": "stream",
     "text": [
      "TESTING SET RESULTS: Average loss: 0.0777 Err: 0.5570\n"
     ]
    },
    {
     "name": "stderr",
     "output_type": "stream",
     "text": [
      "Epoch 19 Train Loss 0.0686 Err: 0.3600: 100%|██████████| 180/180 [01:22<00:00,  2.22it/s]\n",
      "Epoch 19 Test  Loss 0.0741 Err: 0.5600: 100%|██████████| 20/20 [00:03<00:00,  5.48it/s]\n",
      "  0%|          | 0/180 [00:00<?, ?it/s]"
     ]
    },
    {
     "name": "stdout",
     "output_type": "stream",
     "text": [
      "TESTING SET RESULTS: Average loss: 0.0770 Err: 0.5630\n"
     ]
    },
    {
     "name": "stderr",
     "output_type": "stream",
     "text": [
      "Epoch 20 Train Loss 0.0672 Err: 0.3400: 100%|██████████| 180/180 [01:22<00:00,  2.11it/s]\n",
      "Epoch 20 Test  Loss 0.0730 Err: 0.5000: 100%|██████████| 20/20 [00:03<00:00,  5.31it/s]\n",
      "  0%|          | 0/180 [00:00<?, ?it/s]"
     ]
    },
    {
     "name": "stdout",
     "output_type": "stream",
     "text": [
      "TESTING SET RESULTS: Average loss: 0.0758 Err: 0.5330\n"
     ]
    },
    {
     "name": "stderr",
     "output_type": "stream",
     "text": [
      "Epoch 21 Train Loss 0.0657 Err: 0.3200: 100%|██████████| 180/180 [01:24<00:00,  2.14it/s]\n",
      "Epoch 21 Test  Loss 0.0721 Err: 0.5200: 100%|██████████| 20/20 [00:03<00:00,  4.83it/s]\n",
      "  0%|          | 0/180 [00:00<?, ?it/s]"
     ]
    },
    {
     "name": "stdout",
     "output_type": "stream",
     "text": [
      "TESTING SET RESULTS: Average loss: 0.0749 Err: 0.5210\n"
     ]
    },
    {
     "name": "stderr",
     "output_type": "stream",
     "text": [
      "Epoch 22 Train Loss 0.0644 Err: 0.2800: 100%|██████████| 180/180 [01:24<00:00,  2.13it/s]\n",
      "Epoch 22 Test  Loss 0.0709 Err: 0.5200: 100%|██████████| 20/20 [00:04<00:00,  4.89it/s]\n",
      "  0%|          | 0/180 [00:00<?, ?it/s]"
     ]
    },
    {
     "name": "stdout",
     "output_type": "stream",
     "text": [
      "TESTING SET RESULTS: Average loss: 0.0740 Err: 0.5150\n"
     ]
    },
    {
     "name": "stderr",
     "output_type": "stream",
     "text": [
      "Epoch 23 Train Loss 0.0632 Err: 0.3200: 100%|██████████| 180/180 [01:25<00:00,  2.13it/s]\n",
      "Epoch 23 Test  Loss 0.0700 Err: 0.4400: 100%|██████████| 20/20 [00:03<00:00,  4.85it/s]\n",
      "  0%|          | 0/180 [00:00<?, ?it/s]"
     ]
    },
    {
     "name": "stdout",
     "output_type": "stream",
     "text": [
      "TESTING SET RESULTS: Average loss: 0.0732 Err: 0.5150\n"
     ]
    },
    {
     "name": "stderr",
     "output_type": "stream",
     "text": [
      "Epoch 24 Train Loss 0.0633 Err: 0.2400: 100%|██████████| 180/180 [01:25<00:00,  2.11it/s]\n",
      "Epoch 24 Test  Loss 0.0705 Err: 0.4400: 100%|██████████| 20/20 [00:04<00:00,  4.77it/s]\n",
      "  0%|          | 0/180 [00:00<?, ?it/s]"
     ]
    },
    {
     "name": "stdout",
     "output_type": "stream",
     "text": [
      "TESTING SET RESULTS: Average loss: 0.0731 Err: 0.5010\n"
     ]
    },
    {
     "name": "stderr",
     "output_type": "stream",
     "text": [
      "Epoch 25 Train Loss 0.0620 Err: 0.2200: 100%|██████████| 180/180 [01:26<00:00,  2.10it/s]\n",
      "Epoch 25 Test  Loss 0.0690 Err: 0.4400: 100%|██████████| 20/20 [00:04<00:00,  4.72it/s]\n",
      "  0%|          | 0/180 [00:00<?, ?it/s]"
     ]
    },
    {
     "name": "stdout",
     "output_type": "stream",
     "text": [
      "TESTING SET RESULTS: Average loss: 0.0723 Err: 0.5070\n"
     ]
    },
    {
     "name": "stderr",
     "output_type": "stream",
     "text": [
      "Epoch 26 Train Loss 0.0607 Err: 0.2200: 100%|██████████| 180/180 [01:28<00:00,  1.92it/s]\n",
      "Epoch 26 Test  Loss 0.0695 Err: 0.4000: 100%|██████████| 20/20 [00:03<00:00,  5.09it/s]\n",
      "  0%|          | 0/180 [00:00<?, ?it/s]"
     ]
    },
    {
     "name": "stdout",
     "output_type": "stream",
     "text": [
      "TESTING SET RESULTS: Average loss: 0.0718 Err: 0.4960\n"
     ]
    },
    {
     "name": "stderr",
     "output_type": "stream",
     "text": [
      "Epoch 27 Train Loss 0.0602 Err: 0.2200: 100%|██████████| 180/180 [01:29<00:00,  2.03it/s]\n",
      "Epoch 27 Test  Loss 0.0693 Err: 0.4200: 100%|██████████| 20/20 [00:04<00:00,  4.89it/s]\n",
      "  0%|          | 0/180 [00:00<?, ?it/s]"
     ]
    },
    {
     "name": "stdout",
     "output_type": "stream",
     "text": [
      "TESTING SET RESULTS: Average loss: 0.0713 Err: 0.5010\n"
     ]
    },
    {
     "name": "stderr",
     "output_type": "stream",
     "text": [
      "Epoch 28 Train Loss 0.0598 Err: 0.2000: 100%|██████████| 180/180 [01:29<00:00,  1.98it/s]\n",
      "Epoch 28 Test  Loss 0.0687 Err: 0.4600: 100%|██████████| 20/20 [00:04<00:00,  5.02it/s]\n",
      "  0%|          | 0/180 [00:00<?, ?it/s]"
     ]
    },
    {
     "name": "stdout",
     "output_type": "stream",
     "text": [
      "TESTING SET RESULTS: Average loss: 0.0707 Err: 0.4930\n"
     ]
    },
    {
     "name": "stderr",
     "output_type": "stream",
     "text": [
      "Epoch 29 Train Loss 0.0590 Err: 0.1800: 100%|██████████| 180/180 [01:30<00:00,  2.00it/s]\n",
      "Epoch 29 Test  Loss 0.0678 Err: 0.4200: 100%|██████████| 20/20 [00:04<00:00,  4.78it/s]\n",
      "  0%|          | 0/180 [00:00<?, ?it/s]"
     ]
    },
    {
     "name": "stdout",
     "output_type": "stream",
     "text": [
      "TESTING SET RESULTS: Average loss: 0.0702 Err: 0.4890\n"
     ]
    },
    {
     "name": "stderr",
     "output_type": "stream",
     "text": [
      "Epoch 30 Train Loss 0.0585 Err: 0.1800: 100%|██████████| 180/180 [01:30<00:00,  1.95it/s]\n",
      "Epoch 30 Test  Loss 0.0673 Err: 0.4400: 100%|██████████| 20/20 [00:03<00:00,  5.02it/s]\n",
      "  0%|          | 0/180 [00:00<?, ?it/s]"
     ]
    },
    {
     "name": "stdout",
     "output_type": "stream",
     "text": [
      "TESTING SET RESULTS: Average loss: 0.0694 Err: 0.4750\n"
     ]
    },
    {
     "name": "stderr",
     "output_type": "stream",
     "text": [
      "Epoch 31 Train Loss 0.0585 Err: 0.1800: 100%|██████████| 180/180 [01:32<00:00,  1.96it/s]\n",
      "Epoch 31 Test  Loss 0.0672 Err: 0.4600: 100%|██████████| 20/20 [00:04<00:00,  4.68it/s]\n",
      "  0%|          | 0/180 [00:00<?, ?it/s]"
     ]
    },
    {
     "name": "stdout",
     "output_type": "stream",
     "text": [
      "TESTING SET RESULTS: Average loss: 0.0693 Err: 0.4680\n"
     ]
    },
    {
     "name": "stderr",
     "output_type": "stream",
     "text": [
      "Epoch 32 Train Loss 0.0575 Err: 0.1800: 100%|██████████| 180/180 [01:31<00:00,  1.90it/s]\n",
      "Epoch 32 Test  Loss 0.0665 Err: 0.4400: 100%|██████████| 20/20 [00:04<00:00,  4.99it/s]\n",
      "  0%|          | 0/180 [00:00<?, ?it/s]"
     ]
    },
    {
     "name": "stdout",
     "output_type": "stream",
     "text": [
      "TESTING SET RESULTS: Average loss: 0.0684 Err: 0.4730\n"
     ]
    },
    {
     "name": "stderr",
     "output_type": "stream",
     "text": [
      "Epoch 33 Train Loss 0.0565 Err: 0.1800: 100%|██████████| 180/180 [01:32<00:00,  1.87it/s]\n",
      "Epoch 33 Test  Loss 0.0657 Err: 0.4200: 100%|██████████| 20/20 [00:04<00:00,  4.84it/s]\n",
      "  0%|          | 0/180 [00:00<?, ?it/s]"
     ]
    },
    {
     "name": "stdout",
     "output_type": "stream",
     "text": [
      "TESTING SET RESULTS: Average loss: 0.0679 Err: 0.4650\n"
     ]
    },
    {
     "name": "stderr",
     "output_type": "stream",
     "text": [
      "Epoch 34 Train Loss 0.0564 Err: 0.1600: 100%|██████████| 180/180 [01:32<00:00,  1.97it/s]\n",
      "Epoch 34 Test  Loss 0.0663 Err: 0.4400: 100%|██████████| 20/20 [00:04<00:00,  4.87it/s]\n",
      "  0%|          | 0/180 [00:00<?, ?it/s]"
     ]
    },
    {
     "name": "stdout",
     "output_type": "stream",
     "text": [
      "TESTING SET RESULTS: Average loss: 0.0683 Err: 0.4600\n"
     ]
    },
    {
     "name": "stderr",
     "output_type": "stream",
     "text": [
      "Epoch 35 Train Loss 0.0562 Err: 0.1600: 100%|██████████| 180/180 [01:33<00:00,  1.92it/s]\n",
      "Epoch 35 Test  Loss 0.0658 Err: 0.4200: 100%|██████████| 20/20 [00:04<00:00,  4.76it/s]\n",
      "  0%|          | 0/180 [00:00<?, ?it/s]"
     ]
    },
    {
     "name": "stdout",
     "output_type": "stream",
     "text": [
      "TESTING SET RESULTS: Average loss: 0.0675 Err: 0.4510\n"
     ]
    },
    {
     "name": "stderr",
     "output_type": "stream",
     "text": [
      "Epoch 36 Train Loss 0.0551 Err: 0.1600: 100%|██████████| 180/180 [01:33<00:00,  1.89it/s]\n",
      "Epoch 36 Test  Loss 0.0654 Err: 0.4400: 100%|██████████| 20/20 [00:04<00:00,  4.85it/s]\n",
      "  0%|          | 0/180 [00:00<?, ?it/s]"
     ]
    },
    {
     "name": "stdout",
     "output_type": "stream",
     "text": [
      "TESTING SET RESULTS: Average loss: 0.0670 Err: 0.4430\n"
     ]
    },
    {
     "name": "stderr",
     "output_type": "stream",
     "text": [
      "Epoch 37 Train Loss 0.0549 Err: 0.1600: 100%|██████████| 180/180 [01:34<00:00,  1.88it/s]\n",
      "Epoch 37 Test  Loss 0.0643 Err: 0.3800: 100%|██████████| 20/20 [00:04<00:00,  4.77it/s]\n",
      "  0%|          | 0/180 [00:00<?, ?it/s]"
     ]
    },
    {
     "name": "stdout",
     "output_type": "stream",
     "text": [
      "TESTING SET RESULTS: Average loss: 0.0667 Err: 0.4600\n"
     ]
    },
    {
     "name": "stderr",
     "output_type": "stream",
     "text": [
      "Epoch 38 Train Loss 0.0538 Err: 0.1200: 100%|██████████| 180/180 [01:35<00:00,  1.82it/s]\n",
      "Epoch 38 Test  Loss 0.0639 Err: 0.4600: 100%|██████████| 20/20 [00:04<00:00,  4.66it/s]\n",
      "  0%|          | 0/180 [00:00<?, ?it/s]"
     ]
    },
    {
     "name": "stdout",
     "output_type": "stream",
     "text": [
      "TESTING SET RESULTS: Average loss: 0.0663 Err: 0.4690\n"
     ]
    },
    {
     "name": "stderr",
     "output_type": "stream",
     "text": [
      "Epoch 39 Train Loss 0.0541 Err: 0.1600: 100%|██████████| 180/180 [01:35<00:00,  1.88it/s]\n",
      "Epoch 39 Test  Loss 0.0646 Err: 0.3800: 100%|██████████| 20/20 [00:04<00:00,  4.71it/s]\n",
      "  0%|          | 0/180 [00:00<?, ?it/s]"
     ]
    },
    {
     "name": "stdout",
     "output_type": "stream",
     "text": [
      "TESTING SET RESULTS: Average loss: 0.0667 Err: 0.4440\n"
     ]
    },
    {
     "name": "stderr",
     "output_type": "stream",
     "text": [
      "Epoch 40 Train Loss 0.0536 Err: 0.1600: 100%|██████████| 180/180 [01:37<00:00,  1.88it/s]\n",
      "Epoch 40 Test  Loss 0.0643 Err: 0.4000: 100%|██████████| 20/20 [00:04<00:00,  4.73it/s]\n",
      "  0%|          | 0/180 [00:00<?, ?it/s]"
     ]
    },
    {
     "name": "stdout",
     "output_type": "stream",
     "text": [
      "TESTING SET RESULTS: Average loss: 0.0661 Err: 0.4390\n"
     ]
    },
    {
     "name": "stderr",
     "output_type": "stream",
     "text": [
      "Epoch 41 Train Loss 0.0528 Err: 0.1200: 100%|██████████| 180/180 [01:36<00:00,  1.83it/s]\n",
      "Epoch 41 Test  Loss 0.0638 Err: 0.4000: 100%|██████████| 20/20 [00:04<00:00,  4.67it/s]\n",
      "  0%|          | 0/180 [00:00<?, ?it/s]"
     ]
    },
    {
     "name": "stdout",
     "output_type": "stream",
     "text": [
      "TESTING SET RESULTS: Average loss: 0.0655 Err: 0.4290\n"
     ]
    },
    {
     "name": "stderr",
     "output_type": "stream",
     "text": [
      "Epoch 42 Train Loss 0.0524 Err: 0.1200: 100%|██████████| 180/180 [01:37<00:00,  1.79it/s]\n",
      "Epoch 42 Test  Loss 0.0635 Err: 0.4000: 100%|██████████| 20/20 [00:04<00:00,  4.62it/s]\n",
      "  0%|          | 0/180 [00:00<?, ?it/s]"
     ]
    },
    {
     "name": "stdout",
     "output_type": "stream",
     "text": [
      "TESTING SET RESULTS: Average loss: 0.0653 Err: 0.4420\n"
     ]
    },
    {
     "name": "stderr",
     "output_type": "stream",
     "text": [
      "Epoch 43 Train Loss 0.0527 Err: 0.1200: 100%|██████████| 180/180 [01:38<00:00,  1.73it/s]\n",
      "Epoch 43 Test  Loss 0.0638 Err: 0.4000: 100%|██████████| 20/20 [00:04<00:00,  4.70it/s]\n",
      "  0%|          | 0/180 [00:00<?, ?it/s]"
     ]
    },
    {
     "name": "stdout",
     "output_type": "stream",
     "text": [
      "TESTING SET RESULTS: Average loss: 0.0652 Err: 0.4350\n"
     ]
    },
    {
     "name": "stderr",
     "output_type": "stream",
     "text": [
      "Epoch 44 Train Loss 0.0521 Err: 0.1400: 100%|██████████| 180/180 [01:38<00:00,  1.77it/s]\n",
      "Epoch 44 Test  Loss 0.0626 Err: 0.3600: 100%|██████████| 20/20 [00:04<00:00,  4.23it/s]\n",
      "  0%|          | 0/180 [00:00<?, ?it/s]"
     ]
    },
    {
     "name": "stdout",
     "output_type": "stream",
     "text": [
      "TESTING SET RESULTS: Average loss: 0.0647 Err: 0.4300\n"
     ]
    },
    {
     "name": "stderr",
     "output_type": "stream",
     "text": [
      "Epoch 45 Train Loss 0.0517 Err: 0.1200: 100%|██████████| 180/180 [01:40<00:00,  1.81it/s]\n",
      "Epoch 45 Test  Loss 0.0627 Err: 0.4200: 100%|██████████| 20/20 [00:04<00:00,  4.59it/s]\n",
      "  0%|          | 0/180 [00:00<?, ?it/s]"
     ]
    },
    {
     "name": "stdout",
     "output_type": "stream",
     "text": [
      "TESTING SET RESULTS: Average loss: 0.0645 Err: 0.4470\n"
     ]
    },
    {
     "name": "stderr",
     "output_type": "stream",
     "text": [
      "Epoch 46 Train Loss 0.0517 Err: 0.1200: 100%|██████████| 180/180 [01:39<00:00,  1.80it/s]\n",
      "Epoch 46 Test  Loss 0.0623 Err: 0.4400: 100%|██████████| 20/20 [00:04<00:00,  4.46it/s]\n",
      "  0%|          | 0/180 [00:00<?, ?it/s]"
     ]
    },
    {
     "name": "stdout",
     "output_type": "stream",
     "text": [
      "TESTING SET RESULTS: Average loss: 0.0640 Err: 0.4380\n"
     ]
    },
    {
     "name": "stderr",
     "output_type": "stream",
     "text": [
      "Epoch 47 Train Loss 0.0520 Err: 0.1200: 100%|██████████| 180/180 [01:41<00:00,  1.80it/s]\n",
      "Epoch 47 Test  Loss 0.0626 Err: 0.3800: 100%|██████████| 20/20 [00:04<00:00,  4.30it/s]\n",
      "  0%|          | 0/180 [00:00<?, ?it/s]"
     ]
    },
    {
     "name": "stdout",
     "output_type": "stream",
     "text": [
      "TESTING SET RESULTS: Average loss: 0.0641 Err: 0.4030\n"
     ]
    },
    {
     "name": "stderr",
     "output_type": "stream",
     "text": [
      "Epoch 48 Train Loss 0.0516 Err: 0.1400: 100%|██████████| 180/180 [01:41<00:00,  1.76it/s]\n",
      "Epoch 48 Test  Loss 0.0622 Err: 0.3800: 100%|██████████| 20/20 [00:04<00:00,  4.31it/s]\n",
      "  0%|          | 0/180 [00:00<?, ?it/s]"
     ]
    },
    {
     "name": "stdout",
     "output_type": "stream",
     "text": [
      "TESTING SET RESULTS: Average loss: 0.0640 Err: 0.4200\n"
     ]
    },
    {
     "name": "stderr",
     "output_type": "stream",
     "text": [
      "Epoch 49 Train Loss 0.0515 Err: 0.1200: 100%|██████████| 180/180 [01:42<00:00,  1.78it/s]\n",
      "Epoch 49 Test  Loss 0.0622 Err: 0.4000: 100%|██████████| 20/20 [00:04<00:00,  4.27it/s]\n",
      "  0%|          | 0/180 [00:00<?, ?it/s]"
     ]
    },
    {
     "name": "stdout",
     "output_type": "stream",
     "text": [
      "TESTING SET RESULTS: Average loss: 0.0637 Err: 0.4240\n"
     ]
    },
    {
     "name": "stderr",
     "output_type": "stream",
     "text": [
      "Epoch 50 Train Loss 0.0508 Err: 0.1200: 100%|██████████| 180/180 [01:42<00:00,  1.67it/s]\n",
      "Epoch 50 Test  Loss 0.0617 Err: 0.4400: 100%|██████████| 20/20 [00:04<00:00,  4.33it/s]\n",
      "  0%|          | 0/180 [00:00<?, ?it/s]"
     ]
    },
    {
     "name": "stdout",
     "output_type": "stream",
     "text": [
      "TESTING SET RESULTS: Average loss: 0.0634 Err: 0.4210\n"
     ]
    },
    {
     "name": "stderr",
     "output_type": "stream",
     "text": [
      "Epoch 51 Train Loss 0.0507 Err: 0.1400: 100%|██████████| 180/180 [01:42<00:00,  1.64it/s]\n",
      "Epoch 51 Test  Loss 0.0618 Err: 0.3800: 100%|██████████| 20/20 [00:04<00:00,  4.00it/s]\n",
      "  0%|          | 0/180 [00:00<?, ?it/s]"
     ]
    },
    {
     "name": "stdout",
     "output_type": "stream",
     "text": [
      "TESTING SET RESULTS: Average loss: 0.0632 Err: 0.3920\n"
     ]
    },
    {
     "name": "stderr",
     "output_type": "stream",
     "text": [
      "Epoch 52 Train Loss 0.0511 Err: 0.1200: 100%|██████████| 180/180 [01:43<00:00,  1.70it/s]\n",
      "Epoch 52 Test  Loss 0.0631 Err: 0.4000: 100%|██████████| 20/20 [00:04<00:00,  4.31it/s]\n",
      "  0%|          | 0/180 [00:00<?, ?it/s]"
     ]
    },
    {
     "name": "stdout",
     "output_type": "stream",
     "text": [
      "TESTING SET RESULTS: Average loss: 0.0641 Err: 0.4360\n"
     ]
    },
    {
     "name": "stderr",
     "output_type": "stream",
     "text": [
      "Epoch 53 Train Loss 0.0503 Err: 0.1200: 100%|██████████| 180/180 [01:43<00:00,  1.66it/s]\n",
      "Epoch 53 Test  Loss 0.0621 Err: 0.3800: 100%|██████████| 20/20 [00:04<00:00,  4.49it/s]\n",
      "  0%|          | 0/180 [00:00<?, ?it/s]"
     ]
    },
    {
     "name": "stdout",
     "output_type": "stream",
     "text": [
      "TESTING SET RESULTS: Average loss: 0.0637 Err: 0.4110\n"
     ]
    },
    {
     "name": "stderr",
     "output_type": "stream",
     "text": [
      "Epoch 54 Train Loss 0.0508 Err: 0.1000: 100%|██████████| 180/180 [01:43<00:00,  1.70it/s]\n",
      "Epoch 54 Test  Loss 0.0612 Err: 0.3800: 100%|██████████| 20/20 [00:04<00:00,  4.38it/s]\n",
      "  0%|          | 0/180 [00:00<?, ?it/s]"
     ]
    },
    {
     "name": "stdout",
     "output_type": "stream",
     "text": [
      "TESTING SET RESULTS: Average loss: 0.0630 Err: 0.4030\n"
     ]
    },
    {
     "name": "stderr",
     "output_type": "stream",
     "text": [
      "Epoch 55 Train Loss 0.0506 Err: 0.1200: 100%|██████████| 180/180 [01:45<00:00,  1.66it/s]\n",
      "Epoch 55 Test  Loss 0.0620 Err: 0.3600: 100%|██████████| 20/20 [00:04<00:00,  4.38it/s]\n",
      "  0%|          | 0/180 [00:00<?, ?it/s]"
     ]
    },
    {
     "name": "stdout",
     "output_type": "stream",
     "text": [
      "TESTING SET RESULTS: Average loss: 0.0633 Err: 0.4150\n"
     ]
    },
    {
     "name": "stderr",
     "output_type": "stream",
     "text": [
      "Epoch 56 Train Loss 0.0496 Err: 0.1200: 100%|██████████| 180/180 [01:44<00:00,  1.63it/s]\n",
      "Epoch 56 Test  Loss 0.0613 Err: 0.3200: 100%|██████████| 20/20 [00:04<00:00,  4.30it/s]\n",
      "  0%|          | 0/180 [00:00<?, ?it/s]"
     ]
    },
    {
     "name": "stdout",
     "output_type": "stream",
     "text": [
      "TESTING SET RESULTS: Average loss: 0.0629 Err: 0.3940\n"
     ]
    },
    {
     "name": "stderr",
     "output_type": "stream",
     "text": [
      "Epoch 57 Train Loss 0.0508 Err: 0.1000: 100%|██████████| 180/180 [01:44<00:00,  1.73it/s]\n",
      "Epoch 57 Test  Loss 0.0621 Err: 0.3600: 100%|██████████| 20/20 [00:04<00:00,  4.39it/s]\n",
      "  0%|          | 0/180 [00:00<?, ?it/s]"
     ]
    },
    {
     "name": "stdout",
     "output_type": "stream",
     "text": [
      "TESTING SET RESULTS: Average loss: 0.0634 Err: 0.4030\n"
     ]
    },
    {
     "name": "stderr",
     "output_type": "stream",
     "text": [
      "Epoch 58 Train Loss 0.0501 Err: 0.1400: 100%|██████████| 180/180 [01:45<00:00,  1.74it/s]\n",
      "Epoch 58 Test  Loss 0.0621 Err: 0.3600: 100%|██████████| 20/20 [00:04<00:00,  4.44it/s]\n",
      "  0%|          | 0/180 [00:00<?, ?it/s]"
     ]
    },
    {
     "name": "stdout",
     "output_type": "stream",
     "text": [
      "TESTING SET RESULTS: Average loss: 0.0632 Err: 0.4110\n"
     ]
    },
    {
     "name": "stderr",
     "output_type": "stream",
     "text": [
      "Epoch 59 Train Loss 0.0500 Err: 0.1200: 100%|██████████| 180/180 [01:45<00:00,  1.70it/s]\n",
      "Epoch 59 Test  Loss 0.0615 Err: 0.4000: 100%|██████████| 20/20 [00:04<00:00,  4.23it/s]\n",
      "  0%|          | 0/180 [00:00<?, ?it/s]"
     ]
    },
    {
     "name": "stdout",
     "output_type": "stream",
     "text": [
      "TESTING SET RESULTS: Average loss: 0.0623 Err: 0.4000\n"
     ]
    },
    {
     "name": "stderr",
     "output_type": "stream",
     "text": [
      "Epoch 60 Train Loss 0.0498 Err: 0.1400: 100%|██████████| 180/180 [01:45<00:00,  1.70it/s]\n",
      "Epoch 60 Test  Loss 0.0616 Err: 0.3600: 100%|██████████| 20/20 [00:04<00:00,  4.08it/s]\n",
      "  0%|          | 0/180 [00:00<?, ?it/s]"
     ]
    },
    {
     "name": "stdout",
     "output_type": "stream",
     "text": [
      "TESTING SET RESULTS: Average loss: 0.0628 Err: 0.4140\n"
     ]
    },
    {
     "name": "stderr",
     "output_type": "stream",
     "text": [
      "Epoch 61 Train Loss 0.0489 Err: 0.1000: 100%|██████████| 180/180 [01:46<00:00,  1.64it/s]\n",
      "Epoch 61 Test  Loss 0.0612 Err: 0.3400: 100%|██████████| 20/20 [00:04<00:00,  4.38it/s]\n",
      "  0%|          | 0/180 [00:00<?, ?it/s]"
     ]
    },
    {
     "name": "stdout",
     "output_type": "stream",
     "text": [
      "TESTING SET RESULTS: Average loss: 0.0626 Err: 0.3960\n"
     ]
    },
    {
     "name": "stderr",
     "output_type": "stream",
     "text": [
      "Epoch 62 Train Loss 0.0496 Err: 0.1000: 100%|██████████| 180/180 [01:46<00:00,  1.69it/s]\n",
      "Epoch 62 Test  Loss 0.0605 Err: 0.3200: 100%|██████████| 20/20 [00:04<00:00,  4.38it/s]\n",
      "  0%|          | 0/180 [00:00<?, ?it/s]"
     ]
    },
    {
     "name": "stdout",
     "output_type": "stream",
     "text": [
      "TESTING SET RESULTS: Average loss: 0.0621 Err: 0.3790\n"
     ]
    },
    {
     "name": "stderr",
     "output_type": "stream",
     "text": [
      "Epoch 63 Train Loss 0.0495 Err: 0.1000: 100%|██████████| 180/180 [01:46<00:00,  1.69it/s]\n",
      "Epoch 63 Test  Loss 0.0611 Err: 0.3200: 100%|██████████| 20/20 [00:04<00:00,  4.06it/s]\n",
      "  0%|          | 0/180 [00:00<?, ?it/s]"
     ]
    },
    {
     "name": "stdout",
     "output_type": "stream",
     "text": [
      "TESTING SET RESULTS: Average loss: 0.0624 Err: 0.4000\n"
     ]
    },
    {
     "name": "stderr",
     "output_type": "stream",
     "text": [
      "Epoch 64 Train Loss 0.0493 Err: 0.1000: 100%|██████████| 180/180 [01:46<00:00,  1.64it/s]\n",
      "Epoch 64 Test  Loss 0.0607 Err: 0.3600: 100%|██████████| 20/20 [00:04<00:00,  3.95it/s]\n",
      "  0%|          | 0/180 [00:00<?, ?it/s]"
     ]
    },
    {
     "name": "stdout",
     "output_type": "stream",
     "text": [
      "TESTING SET RESULTS: Average loss: 0.0623 Err: 0.4030\n"
     ]
    },
    {
     "name": "stderr",
     "output_type": "stream",
     "text": [
      "Epoch 65 Train Loss 0.0493 Err: 0.1000: 100%|██████████| 180/180 [01:46<00:00,  1.61it/s]\n",
      "Epoch 65 Test  Loss 0.0617 Err: 0.3800: 100%|██████████| 20/20 [00:04<00:00,  4.15it/s]\n",
      "  0%|          | 0/180 [00:00<?, ?it/s]"
     ]
    },
    {
     "name": "stdout",
     "output_type": "stream",
     "text": [
      "TESTING SET RESULTS: Average loss: 0.0626 Err: 0.4070\n"
     ]
    },
    {
     "name": "stderr",
     "output_type": "stream",
     "text": [
      "Epoch 66 Train Loss 0.0491 Err: 0.1000: 100%|██████████| 180/180 [01:46<00:00,  1.66it/s]\n",
      "Epoch 66 Test  Loss 0.0608 Err: 0.3000: 100%|██████████| 20/20 [00:04<00:00,  4.01it/s]\n",
      "  0%|          | 0/180 [00:00<?, ?it/s]"
     ]
    },
    {
     "name": "stdout",
     "output_type": "stream",
     "text": [
      "TESTING SET RESULTS: Average loss: 0.0621 Err: 0.3860\n"
     ]
    },
    {
     "name": "stderr",
     "output_type": "stream",
     "text": [
      "Epoch 67 Train Loss 0.0484 Err: 0.1000: 100%|██████████| 180/180 [01:46<00:00,  1.69it/s]\n",
      "Epoch 67 Test  Loss 0.0605 Err: 0.3400: 100%|██████████| 20/20 [00:04<00:00,  4.31it/s]\n",
      "  0%|          | 0/180 [00:00<?, ?it/s]"
     ]
    },
    {
     "name": "stdout",
     "output_type": "stream",
     "text": [
      "TESTING SET RESULTS: Average loss: 0.0619 Err: 0.3890\n"
     ]
    },
    {
     "name": "stderr",
     "output_type": "stream",
     "text": [
      "Epoch 68 Train Loss 0.0487 Err: 0.0800: 100%|██████████| 180/180 [01:47<00:00,  1.67it/s]\n",
      "Epoch 68 Test  Loss 0.0617 Err: 0.3400: 100%|██████████| 20/20 [00:04<00:00,  4.27it/s]\n",
      "  0%|          | 0/180 [00:00<?, ?it/s]"
     ]
    },
    {
     "name": "stdout",
     "output_type": "stream",
     "text": [
      "TESTING SET RESULTS: Average loss: 0.0627 Err: 0.4180\n"
     ]
    },
    {
     "name": "stderr",
     "output_type": "stream",
     "text": [
      "Epoch 69 Train Loss 0.0483 Err: 0.0800: 100%|██████████| 180/180 [01:47<00:00,  1.67it/s]\n",
      "Epoch 69 Test  Loss 0.0608 Err: 0.3800: 100%|██████████| 20/20 [00:05<00:00,  4.00it/s]\n",
      "  0%|          | 0/180 [00:00<?, ?it/s]"
     ]
    },
    {
     "name": "stdout",
     "output_type": "stream",
     "text": [
      "TESTING SET RESULTS: Average loss: 0.0624 Err: 0.4220\n"
     ]
    },
    {
     "name": "stderr",
     "output_type": "stream",
     "text": [
      "Epoch 70 Train Loss 0.0489 Err: 0.0800: 100%|██████████| 180/180 [01:46<00:00,  1.69it/s]\n",
      "Epoch 70 Test  Loss 0.0614 Err: 0.4200: 100%|██████████| 20/20 [00:04<00:00,  4.22it/s]\n",
      "  0%|          | 0/180 [00:00<?, ?it/s]"
     ]
    },
    {
     "name": "stdout",
     "output_type": "stream",
     "text": [
      "TESTING SET RESULTS: Average loss: 0.0623 Err: 0.4080\n"
     ]
    },
    {
     "name": "stderr",
     "output_type": "stream",
     "text": [
      "Epoch 71 Train Loss 0.0480 Err: 0.0800: 100%|██████████| 180/180 [01:47<00:00,  1.63it/s]\n",
      "Epoch 71 Test  Loss 0.0594 Err: 0.3200: 100%|██████████| 20/20 [00:04<00:00,  4.06it/s]\n",
      "  0%|          | 0/180 [00:00<?, ?it/s]"
     ]
    },
    {
     "name": "stdout",
     "output_type": "stream",
     "text": [
      "TESTING SET RESULTS: Average loss: 0.0617 Err: 0.3950\n"
     ]
    },
    {
     "name": "stderr",
     "output_type": "stream",
     "text": [
      "Epoch 72 Train Loss 0.0485 Err: 0.1000: 100%|██████████| 180/180 [01:47<00:00,  1.68it/s]\n",
      "Epoch 72 Test  Loss 0.0603 Err: 0.3400: 100%|██████████| 20/20 [00:04<00:00,  4.29it/s]\n",
      "  0%|          | 0/180 [00:00<?, ?it/s]"
     ]
    },
    {
     "name": "stdout",
     "output_type": "stream",
     "text": [
      "TESTING SET RESULTS: Average loss: 0.0618 Err: 0.3900\n"
     ]
    },
    {
     "name": "stderr",
     "output_type": "stream",
     "text": [
      "Epoch 73 Train Loss 0.0489 Err: 0.0800: 100%|██████████| 180/180 [01:47<00:00,  1.67it/s]\n",
      "Epoch 73 Test  Loss 0.0601 Err: 0.3200: 100%|██████████| 20/20 [00:04<00:00,  3.98it/s]\n",
      "  0%|          | 0/180 [00:00<?, ?it/s]"
     ]
    },
    {
     "name": "stdout",
     "output_type": "stream",
     "text": [
      "TESTING SET RESULTS: Average loss: 0.0625 Err: 0.4010\n"
     ]
    },
    {
     "name": "stderr",
     "output_type": "stream",
     "text": [
      "Epoch 74 Train Loss 0.0480 Err: 0.1000: 100%|██████████| 180/180 [01:47<00:00,  1.68it/s]\n",
      "Epoch 74 Test  Loss 0.0596 Err: 0.3400: 100%|██████████| 20/20 [00:04<00:00,  4.23it/s]\n",
      "  0%|          | 0/180 [00:00<?, ?it/s]"
     ]
    },
    {
     "name": "stdout",
     "output_type": "stream",
     "text": [
      "TESTING SET RESULTS: Average loss: 0.0616 Err: 0.3890\n"
     ]
    },
    {
     "name": "stderr",
     "output_type": "stream",
     "text": [
      "Epoch 75 Train Loss 0.0477 Err: 0.0600: 100%|██████████| 180/180 [01:48<00:00,  1.64it/s]\n",
      "Epoch 75 Test  Loss 0.0607 Err: 0.3200: 100%|██████████| 20/20 [00:04<00:00,  4.04it/s]\n",
      "  0%|          | 0/180 [00:00<?, ?it/s]"
     ]
    },
    {
     "name": "stdout",
     "output_type": "stream",
     "text": [
      "TESTING SET RESULTS: Average loss: 0.0614 Err: 0.3770\n"
     ]
    },
    {
     "name": "stderr",
     "output_type": "stream",
     "text": [
      "Epoch 76 Train Loss 0.0472 Err: 0.0600: 100%|██████████| 180/180 [01:48<00:00,  1.64it/s]\n",
      "Epoch 76 Test  Loss 0.0607 Err: 0.3400: 100%|██████████| 20/20 [00:04<00:00,  4.11it/s]\n",
      "  0%|          | 0/180 [00:00<?, ?it/s]"
     ]
    },
    {
     "name": "stdout",
     "output_type": "stream",
     "text": [
      "TESTING SET RESULTS: Average loss: 0.0616 Err: 0.3950\n"
     ]
    },
    {
     "name": "stderr",
     "output_type": "stream",
     "text": [
      "Epoch 77 Train Loss 0.0478 Err: 0.0800: 100%|██████████| 180/180 [01:48<00:00,  1.63it/s]\n",
      "Epoch 77 Test  Loss 0.0605 Err: 0.3400: 100%|██████████| 20/20 [00:04<00:00,  4.27it/s]\n",
      "  0%|          | 0/180 [00:00<?, ?it/s]"
     ]
    },
    {
     "name": "stdout",
     "output_type": "stream",
     "text": [
      "TESTING SET RESULTS: Average loss: 0.0621 Err: 0.4050\n"
     ]
    },
    {
     "name": "stderr",
     "output_type": "stream",
     "text": [
      "Epoch 78 Train Loss 0.0472 Err: 0.0600: 100%|██████████| 180/180 [01:48<00:00,  1.62it/s]\n",
      "Epoch 78 Test  Loss 0.0608 Err: 0.3200: 100%|██████████| 20/20 [00:04<00:00,  4.15it/s]\n",
      "  0%|          | 0/180 [00:00<?, ?it/s]"
     ]
    },
    {
     "name": "stdout",
     "output_type": "stream",
     "text": [
      "TESTING SET RESULTS: Average loss: 0.0617 Err: 0.3970\n"
     ]
    },
    {
     "name": "stderr",
     "output_type": "stream",
     "text": [
      "Epoch 79 Train Loss 0.0475 Err: 0.0800: 100%|██████████| 180/180 [01:48<00:00,  1.67it/s]\n",
      "Epoch 79 Test  Loss 0.0604 Err: 0.3200: 100%|██████████| 20/20 [00:04<00:00,  4.15it/s]\n",
      "  0%|          | 0/180 [00:00<?, ?it/s]"
     ]
    },
    {
     "name": "stdout",
     "output_type": "stream",
     "text": [
      "TESTING SET RESULTS: Average loss: 0.0614 Err: 0.3870\n"
     ]
    },
    {
     "name": "stderr",
     "output_type": "stream",
     "text": [
      "Epoch 80 Train Loss 0.0473 Err: 0.0600: 100%|██████████| 180/180 [01:48<00:00,  1.67it/s]\n",
      "Epoch 80 Test  Loss 0.0607 Err: 0.3600: 100%|██████████| 20/20 [00:04<00:00,  4.23it/s]\n",
      "  0%|          | 0/180 [00:00<?, ?it/s]"
     ]
    },
    {
     "name": "stdout",
     "output_type": "stream",
     "text": [
      "TESTING SET RESULTS: Average loss: 0.0614 Err: 0.3950\n"
     ]
    },
    {
     "name": "stderr",
     "output_type": "stream",
     "text": [
      "Epoch 81 Train Loss 0.0468 Err: 0.0600: 100%|██████████| 180/180 [01:48<00:00,  1.66it/s]\n",
      "Epoch 81 Test  Loss 0.0608 Err: 0.3600: 100%|██████████| 20/20 [00:04<00:00,  4.16it/s]\n",
      "  0%|          | 0/180 [00:00<?, ?it/s]"
     ]
    },
    {
     "name": "stdout",
     "output_type": "stream",
     "text": [
      "TESTING SET RESULTS: Average loss: 0.0619 Err: 0.3950\n"
     ]
    },
    {
     "name": "stderr",
     "output_type": "stream",
     "text": [
      "Epoch 82 Train Loss 0.0466 Err: 0.0400: 100%|██████████| 180/180 [01:48<00:00,  1.63it/s]\n",
      "Epoch 82 Test  Loss 0.0593 Err: 0.3400: 100%|██████████| 20/20 [00:04<00:00,  4.18it/s]\n",
      "  0%|          | 0/180 [00:00<?, ?it/s]"
     ]
    },
    {
     "name": "stdout",
     "output_type": "stream",
     "text": [
      "TESTING SET RESULTS: Average loss: 0.0612 Err: 0.3760\n"
     ]
    },
    {
     "name": "stderr",
     "output_type": "stream",
     "text": [
      "Epoch 83 Train Loss 0.0466 Err: 0.0400: 100%|██████████| 180/180 [01:49<00:00,  1.65it/s]\n",
      "Epoch 83 Test  Loss 0.0601 Err: 0.3400: 100%|██████████| 20/20 [00:04<00:00,  4.17it/s]\n",
      "  0%|          | 0/180 [00:00<?, ?it/s]"
     ]
    },
    {
     "name": "stdout",
     "output_type": "stream",
     "text": [
      "TESTING SET RESULTS: Average loss: 0.0611 Err: 0.3650\n"
     ]
    },
    {
     "name": "stderr",
     "output_type": "stream",
     "text": [
      "Epoch 84 Train Loss 0.0458 Err: 0.0400: 100%|██████████| 180/180 [01:49<00:00,  1.64it/s]\n",
      "Epoch 84 Test  Loss 0.0603 Err: 0.3400: 100%|██████████| 20/20 [00:04<00:00,  4.13it/s]\n",
      "  0%|          | 0/180 [00:00<?, ?it/s]"
     ]
    },
    {
     "name": "stdout",
     "output_type": "stream",
     "text": [
      "TESTING SET RESULTS: Average loss: 0.0608 Err: 0.3740\n"
     ]
    },
    {
     "name": "stderr",
     "output_type": "stream",
     "text": [
      "Epoch 85 Train Loss 0.0460 Err: 0.0600: 100%|██████████| 180/180 [01:48<00:00,  1.66it/s]\n",
      "Epoch 85 Test  Loss 0.0600 Err: 0.3400: 100%|██████████| 20/20 [00:04<00:00,  4.02it/s]\n",
      "  0%|          | 0/180 [00:00<?, ?it/s]"
     ]
    },
    {
     "name": "stdout",
     "output_type": "stream",
     "text": [
      "TESTING SET RESULTS: Average loss: 0.0609 Err: 0.3920\n"
     ]
    },
    {
     "name": "stderr",
     "output_type": "stream",
     "text": [
      "Epoch 86 Train Loss 0.0461 Err: 0.0600: 100%|██████████| 180/180 [01:49<00:00,  1.62it/s]\n",
      "Epoch 86 Test  Loss 0.0602 Err: 0.3200: 100%|██████████| 20/20 [00:05<00:00,  4.07it/s]\n",
      "  0%|          | 0/180 [00:00<?, ?it/s]"
     ]
    },
    {
     "name": "stdout",
     "output_type": "stream",
     "text": [
      "TESTING SET RESULTS: Average loss: 0.0609 Err: 0.3750\n"
     ]
    },
    {
     "name": "stderr",
     "output_type": "stream",
     "text": [
      "Epoch 87 Train Loss 0.0457 Err: 0.0600: 100%|██████████| 180/180 [01:48<00:00,  1.64it/s]\n",
      "Epoch 87 Test  Loss 0.0593 Err: 0.3400: 100%|██████████| 20/20 [00:04<00:00,  4.06it/s]\n",
      "  0%|          | 0/180 [00:00<?, ?it/s]"
     ]
    },
    {
     "name": "stdout",
     "output_type": "stream",
     "text": [
      "TESTING SET RESULTS: Average loss: 0.0603 Err: 0.3740\n"
     ]
    },
    {
     "name": "stderr",
     "output_type": "stream",
     "text": [
      "Epoch 88 Train Loss 0.0467 Err: 0.0400: 100%|██████████| 180/180 [01:48<00:00,  1.65it/s]\n",
      "Epoch 88 Test  Loss 0.0592 Err: 0.3000: 100%|██████████| 20/20 [00:04<00:00,  4.12it/s]\n",
      "  0%|          | 0/180 [00:00<?, ?it/s]"
     ]
    },
    {
     "name": "stdout",
     "output_type": "stream",
     "text": [
      "TESTING SET RESULTS: Average loss: 0.0606 Err: 0.3590\n"
     ]
    },
    {
     "name": "stderr",
     "output_type": "stream",
     "text": [
      "Epoch 89 Train Loss 0.0459 Err: 0.0400: 100%|██████████| 180/180 [01:49<00:00,  1.65it/s]\n",
      "Epoch 89 Test  Loss 0.0595 Err: 0.3200: 100%|██████████| 20/20 [00:04<00:00,  4.18it/s]\n",
      "  0%|          | 0/180 [00:00<?, ?it/s]"
     ]
    },
    {
     "name": "stdout",
     "output_type": "stream",
     "text": [
      "TESTING SET RESULTS: Average loss: 0.0608 Err: 0.3640\n"
     ]
    },
    {
     "name": "stderr",
     "output_type": "stream",
     "text": [
      "Epoch 90 Train Loss 0.0450 Err: 0.0600: 100%|██████████| 180/180 [01:49<00:00,  1.66it/s]\n",
      "Epoch 90 Test  Loss 0.0594 Err: 0.3400: 100%|██████████| 20/20 [00:05<00:00,  3.80it/s]\n",
      "  0%|          | 0/180 [00:00<?, ?it/s]"
     ]
    },
    {
     "name": "stdout",
     "output_type": "stream",
     "text": [
      "TESTING SET RESULTS: Average loss: 0.0606 Err: 0.3730\n"
     ]
    },
    {
     "name": "stderr",
     "output_type": "stream",
     "text": [
      "Epoch 91 Train Loss 0.0460 Err: 0.0400: 100%|██████████| 180/180 [01:49<00:00,  1.62it/s]\n",
      "Epoch 91 Test  Loss 0.0597 Err: 0.3400: 100%|██████████| 20/20 [00:04<00:00,  4.17it/s]\n",
      "  0%|          | 0/180 [00:00<?, ?it/s]"
     ]
    },
    {
     "name": "stdout",
     "output_type": "stream",
     "text": [
      "TESTING SET RESULTS: Average loss: 0.0610 Err: 0.3800\n"
     ]
    },
    {
     "name": "stderr",
     "output_type": "stream",
     "text": [
      "Epoch 92 Train Loss 0.0462 Err: 0.0600: 100%|██████████| 180/180 [01:49<00:00,  1.65it/s]\n",
      "Epoch 92 Test  Loss 0.0593 Err: 0.3400: 100%|██████████| 20/20 [00:04<00:00,  4.13it/s]\n",
      "  0%|          | 0/180 [00:00<?, ?it/s]"
     ]
    },
    {
     "name": "stdout",
     "output_type": "stream",
     "text": [
      "TESTING SET RESULTS: Average loss: 0.0601 Err: 0.3590\n"
     ]
    },
    {
     "name": "stderr",
     "output_type": "stream",
     "text": [
      "Epoch 93 Train Loss 0.0462 Err: 0.0600: 100%|██████████| 180/180 [01:49<00:00,  1.71it/s]\n",
      "Epoch 93 Test  Loss 0.0597 Err: 0.3200: 100%|██████████| 20/20 [00:04<00:00,  4.09it/s]\n",
      "  0%|          | 0/180 [00:00<?, ?it/s]"
     ]
    },
    {
     "name": "stdout",
     "output_type": "stream",
     "text": [
      "TESTING SET RESULTS: Average loss: 0.0604 Err: 0.3830\n"
     ]
    },
    {
     "name": "stderr",
     "output_type": "stream",
     "text": [
      "Epoch 94 Train Loss 0.0459 Err: 0.0400: 100%|██████████| 180/180 [01:49<00:00,  1.66it/s]\n",
      "Epoch 94 Test  Loss 0.0595 Err: 0.3400: 100%|██████████| 20/20 [00:04<00:00,  4.16it/s]\n",
      "  0%|          | 0/180 [00:00<?, ?it/s]"
     ]
    },
    {
     "name": "stdout",
     "output_type": "stream",
     "text": [
      "TESTING SET RESULTS: Average loss: 0.0603 Err: 0.3700\n"
     ]
    },
    {
     "name": "stderr",
     "output_type": "stream",
     "text": [
      "Epoch 95 Train Loss 0.0460 Err: 0.0600: 100%|██████████| 180/180 [01:50<00:00,  1.62it/s]\n",
      "Epoch 95 Test  Loss 0.0591 Err: 0.3200: 100%|██████████| 20/20 [00:04<00:00,  4.18it/s]\n",
      "  0%|          | 0/180 [00:00<?, ?it/s]"
     ]
    },
    {
     "name": "stdout",
     "output_type": "stream",
     "text": [
      "TESTING SET RESULTS: Average loss: 0.0603 Err: 0.3610\n"
     ]
    },
    {
     "name": "stderr",
     "output_type": "stream",
     "text": [
      "Epoch 96 Train Loss 0.0460 Err: 0.0400: 100%|██████████| 180/180 [01:49<00:00,  1.64it/s]\n",
      "Epoch 96 Test  Loss 0.0592 Err: 0.3400: 100%|██████████| 20/20 [00:04<00:00,  4.01it/s]\n",
      "  0%|          | 0/180 [00:00<?, ?it/s]"
     ]
    },
    {
     "name": "stdout",
     "output_type": "stream",
     "text": [
      "TESTING SET RESULTS: Average loss: 0.0602 Err: 0.3540\n"
     ]
    },
    {
     "name": "stderr",
     "output_type": "stream",
     "text": [
      "Epoch 97 Train Loss 0.0465 Err: 0.0600: 100%|██████████| 180/180 [01:49<00:00,  1.71it/s]\n",
      "Epoch 97 Test  Loss 0.0592 Err: 0.3400: 100%|██████████| 20/20 [00:04<00:00,  4.23it/s]\n",
      "  0%|          | 0/180 [00:00<?, ?it/s]"
     ]
    },
    {
     "name": "stdout",
     "output_type": "stream",
     "text": [
      "TESTING SET RESULTS: Average loss: 0.0606 Err: 0.3680\n"
     ]
    },
    {
     "name": "stderr",
     "output_type": "stream",
     "text": [
      "Epoch 98 Train Loss 0.0458 Err: 0.0600: 100%|██████████| 180/180 [01:49<00:00,  1.67it/s]\n",
      "Epoch 98 Test  Loss 0.0592 Err: 0.3800: 100%|██████████| 20/20 [00:04<00:00,  4.11it/s]\n",
      "  0%|          | 0/180 [00:00<?, ?it/s]"
     ]
    },
    {
     "name": "stdout",
     "output_type": "stream",
     "text": [
      "TESTING SET RESULTS: Average loss: 0.0601 Err: 0.3730\n"
     ]
    },
    {
     "name": "stderr",
     "output_type": "stream",
     "text": [
      "Epoch 99 Train Loss 0.0456 Err: 0.0600: 100%|██████████| 180/180 [01:49<00:00,  1.62it/s]\n",
      "Epoch 99 Test  Loss 0.0599 Err: 0.3600: 100%|██████████| 20/20 [00:04<00:00,  4.22it/s]\n",
      "  0%|          | 0/180 [00:00<?, ?it/s]"
     ]
    },
    {
     "name": "stdout",
     "output_type": "stream",
     "text": [
      "TESTING SET RESULTS: Average loss: 0.0602 Err: 0.3580\n"
     ]
    },
    {
     "name": "stderr",
     "output_type": "stream",
     "text": [
      "Epoch 100 Train Loss 0.0456 Err: 0.0400: 100%|██████████| 180/180 [01:49<00:00,  1.65it/s]\n",
      "Epoch 100 Test  Loss 0.0592 Err: 0.3000: 100%|██████████| 20/20 [00:04<00:00,  4.15it/s]\n"
     ]
    },
    {
     "name": "stdout",
     "output_type": "stream",
     "text": [
      "TESTING SET RESULTS: Average loss: 0.0599 Err: 0.3550\n"
     ]
    }
   ],
   "source": [
    "test(args.boardSz, 0, mnist_sudoku, optimizer, test_logger, mnist_test, args.mnistBatchSz)\n",
    "for epoch in range(1, args.nEpoch+1):\n",
    "    train(args.boardSz, epoch, mnist_sudoku, optimizer, train_logger, mnist_train, args.mnistBatchSz)\n",
    "    test(args.boardSz, epoch, mnist_sudoku, optimizer, test_logger, mnist_test, args.mnistBatchSz)"
   ]
  },
  {
   "cell_type": "code",
   "execution_count": null,
   "metadata": {},
   "outputs": [],
   "source": []
  }
 ],
 "metadata": {
  "kernelspec": {
   "display_name": "Python 3",
   "language": "python",
   "name": "python3"
  },
  "language_info": {
   "codemirror_mode": {
    "name": "ipython",
    "version": 3
   },
   "file_extension": ".py",
   "mimetype": "text/x-python",
   "name": "python",
   "nbconvert_exporter": "python",
   "pygments_lexer": "ipython3",
   "version": "3.6.8"
  },
  "widgets": {
   "application/vnd.jupyter.widget-state+json": {
    "state": {
     "00284c9e9e0749c688864b95051e8234": {
      "model_module": "@jupyter-widgets/controls",
      "model_module_version": "1.4.0",
      "model_name": "DescriptionStyleModel",
      "state": {
       "description_width": ""
      }
     },
     "010811d6422140dd9bca497a905e280d": {
      "model_module": "@jupyter-widgets/base",
      "model_module_version": "1.1.0",
      "model_name": "LayoutModel",
      "state": {}
     },
     "0244e102d82147118bf8c527d8926841": {
      "model_module": "@jupyter-widgets/controls",
      "model_module_version": "1.4.0",
      "model_name": "HTMLModel",
      "state": {
       "layout": "IPY_MODEL_9b4a27611c7a468fb14d0526fb728256",
       "style": "IPY_MODEL_0620088c837d499a945d7241a16039b7",
       "value": "100% 25/25 [00:05&lt;00:00,  5.11it/s]"
      }
     },
     "02600475d1604feeb902d2ccddb2d2c4": {
      "model_module": "@jupyter-widgets/base",
      "model_module_version": "1.1.0",
      "model_name": "LayoutModel",
      "state": {}
     },
     "02931944f4244de4980220d18ef7ebc1": {
      "model_module": "@jupyter-widgets/base",
      "model_module_version": "1.1.0",
      "model_name": "LayoutModel",
      "state": {}
     },
     "0620088c837d499a945d7241a16039b7": {
      "model_module": "@jupyter-widgets/controls",
      "model_module_version": "1.4.0",
      "model_name": "DescriptionStyleModel",
      "state": {
       "description_width": ""
      }
     },
     "06ef83d0f5d84cffa33e8e598dd65f25": {
      "model_module": "@jupyter-widgets/base",
      "model_module_version": "1.1.0",
      "model_name": "LayoutModel",
      "state": {}
     },
     "07320de8ee094bcca824b7a5d78e1ac5": {
      "model_module": "@jupyter-widgets/controls",
      "model_module_version": "1.4.0",
      "model_name": "ProgressStyleModel",
      "state": {
       "description_width": "initial"
      }
     },
     "075d4b75bc604bba9e0f674100f5de0e": {
      "model_module": "@jupyter-widgets/controls",
      "model_module_version": "1.4.0",
      "model_name": "IntProgressModel",
      "state": {
       "bar_style": "success",
       "description": "Epoch 7 Test Loss 0.0841 Err: 0.2250",
       "layout": "IPY_MODEL_bf290174b3624072bbece76c7686f71b",
       "max": 25,
       "style": "IPY_MODEL_794c41fe63954904a1ab12e04ca9e1ce",
       "value": 25
      }
     },
     "07b332588b1e4e669b53c35afe30e44f": {
      "model_module": "@jupyter-widgets/controls",
      "model_module_version": "1.4.0",
      "model_name": "DescriptionStyleModel",
      "state": {
       "description_width": ""
      }
     },
     "07d67b265f58472fa7661631af4aa63f": {
      "model_module": "@jupyter-widgets/controls",
      "model_module_version": "1.4.0",
      "model_name": "ProgressStyleModel",
      "state": {
       "description_width": "initial"
      }
     },
     "08ef5eb8410b47f588e7e638b3bcbc07": {
      "model_module": "@jupyter-widgets/controls",
      "model_module_version": "1.4.0",
      "model_name": "DescriptionStyleModel",
      "state": {
       "description_width": ""
      }
     },
     "0a5352c074034c5db75049a42bda8dba": {
      "model_module": "@jupyter-widgets/base",
      "model_module_version": "1.1.0",
      "model_name": "LayoutModel",
      "state": {}
     },
     "0c11401318fb4210ad33ca183114e720": {
      "model_module": "@jupyter-widgets/base",
      "model_module_version": "1.1.0",
      "model_name": "LayoutModel",
      "state": {}
     },
     "0d04087072a34efdbfffa7260af82aee": {
      "model_module": "@jupyter-widgets/controls",
      "model_module_version": "1.4.0",
      "model_name": "ProgressStyleModel",
      "state": {
       "description_width": "initial"
      }
     },
     "0d60571eac1f4b3185570f6622f09cb3": {
      "model_module": "@jupyter-widgets/controls",
      "model_module_version": "1.4.0",
      "model_name": "DescriptionStyleModel",
      "state": {
       "description_width": ""
      }
     },
     "0e8c0148cf734a77bc761d5e72175b28": {
      "model_module": "@jupyter-widgets/controls",
      "model_module_version": "1.4.0",
      "model_name": "HTMLModel",
      "state": {
       "layout": "IPY_MODEL_49e00d7d897242d28e34c77ebb900728",
       "style": "IPY_MODEL_84ce6cb16f26492ea640980f47676f67",
       "value": "100% 25/25 [00:05&lt;00:00,  5.00it/s]"
      }
     },
     "109fd45e602f42bcb99fe09fecd8b16a": {
      "model_module": "@jupyter-widgets/controls",
      "model_module_version": "1.4.0",
      "model_name": "HBoxModel",
      "state": {
       "children": [
        "IPY_MODEL_88d232c962a94438998e64603b5441c3",
        "IPY_MODEL_43e77adcea4e403097dc61548865a89d"
       ],
       "layout": "IPY_MODEL_3973c158bcf044fcbd2b7ed5e6161954"
      }
     },
     "16d316c9055749c4bd33c2832c001099": {
      "model_module": "@jupyter-widgets/base",
      "model_module_version": "1.1.0",
      "model_name": "LayoutModel",
      "state": {}
     },
     "16e3fb3a9b59441282bd60edc93e58be": {
      "model_module": "@jupyter-widgets/base",
      "model_module_version": "1.1.0",
      "model_name": "LayoutModel",
      "state": {}
     },
     "1851394ad80a4218bde83a048c9e29bf": {
      "model_module": "@jupyter-widgets/controls",
      "model_module_version": "1.4.0",
      "model_name": "DescriptionStyleModel",
      "state": {
       "description_width": ""
      }
     },
     "18cb2575586f4c94beef618f6ce78d4e": {
      "model_module": "@jupyter-widgets/base",
      "model_module_version": "1.1.0",
      "model_name": "LayoutModel",
      "state": {}
     },
     "1ab6d4ea623349ae995dc7e81439a818": {
      "model_module": "@jupyter-widgets/base",
      "model_module_version": "1.1.0",
      "model_name": "LayoutModel",
      "state": {}
     },
     "1cb85a231f2340d499063e68f9bfcc62": {
      "model_module": "@jupyter-widgets/base",
      "model_module_version": "1.1.0",
      "model_name": "LayoutModel",
      "state": {}
     },
     "22db1aeb449c498382e31c4256bc9a73": {
      "model_module": "@jupyter-widgets/base",
      "model_module_version": "1.1.0",
      "model_name": "LayoutModel",
      "state": {}
     },
     "2397b46948014914b9f38e3f05c8ab4f": {
      "model_module": "@jupyter-widgets/controls",
      "model_module_version": "1.4.0",
      "model_name": "ProgressStyleModel",
      "state": {
       "description_width": "initial"
      }
     },
     "263503719e314e0a81a476e43636b8eb": {
      "model_module": "@jupyter-widgets/base",
      "model_module_version": "1.1.0",
      "model_name": "LayoutModel",
      "state": {}
     },
     "28e522c56a1e451e9fc5fb9370a127f0": {
      "model_module": "@jupyter-widgets/controls",
      "model_module_version": "1.4.0",
      "model_name": "ProgressStyleModel",
      "state": {
       "description_width": "initial"
      }
     },
     "29ad6ae6416c41b98b90915380d51fbe": {
      "model_module": "@jupyter-widgets/controls",
      "model_module_version": "1.4.0",
      "model_name": "DescriptionStyleModel",
      "state": {
       "description_width": ""
      }
     },
     "29b6aaa221e44d05bdd64a2986e5fe81": {
      "model_module": "@jupyter-widgets/base",
      "model_module_version": "1.1.0",
      "model_name": "LayoutModel",
      "state": {}
     },
     "29bb4e51a1cd4d94abf569cc5a280d13": {
      "model_module": "@jupyter-widgets/controls",
      "model_module_version": "1.4.0",
      "model_name": "HBoxModel",
      "state": {
       "children": [
        "IPY_MODEL_ee1d9246e96747af95ab11877d0d6601",
        "IPY_MODEL_7a967c6c67ac4e5881ecf371aaae3e43"
       ],
       "layout": "IPY_MODEL_a9e35a9d06d8479fa104ffec2d5cd833"
      }
     },
     "2d6e2d9bc5544260b5628fd68e246e78": {
      "model_module": "@jupyter-widgets/controls",
      "model_module_version": "1.4.0",
      "model_name": "ProgressStyleModel",
      "state": {
       "description_width": "initial"
      }
     },
     "3176e20a4bf34e1bb45a2da070b22403": {
      "model_module": "@jupyter-widgets/controls",
      "model_module_version": "1.4.0",
      "model_name": "HTMLModel",
      "state": {
       "layout": "IPY_MODEL_76306a401bad4fa5bf089a31497ac2c5",
       "style": "IPY_MODEL_516d34b1b59949e69f1f257e3f6fbd2e",
       "value": "100% 225/225 [01:31&lt;00:00,  2.64it/s]"
      }
     },
     "32dbc741f16a494796861c7ad442da84": {
      "model_module": "@jupyter-widgets/controls",
      "model_module_version": "1.4.0",
      "model_name": "HBoxModel",
      "state": {
       "children": [
        "IPY_MODEL_075d4b75bc604bba9e0f674100f5de0e",
        "IPY_MODEL_e9587b1fdd674b9d86388dd74bbbb423"
       ],
       "layout": "IPY_MODEL_5e2f920b7a6b46a587ce6144167a7044"
      }
     },
     "334e005f6a084e1ca22cc7c12a75fd02": {
      "model_module": "@jupyter-widgets/base",
      "model_module_version": "1.1.0",
      "model_name": "LayoutModel",
      "state": {}
     },
     "3364113ba807486f8117cda905018edf": {
      "model_module": "@jupyter-widgets/controls",
      "model_module_version": "1.4.0",
      "model_name": "HTMLModel",
      "state": {
       "layout": "IPY_MODEL_18cb2575586f4c94beef618f6ce78d4e",
       "style": "IPY_MODEL_f626c0e749ae44d394c5d784deae2f1d",
       "value": "100% 225/225 [01:50&lt;00:00,  2.23it/s]"
      }
     },
     "339c0198e1394354a71603bd9ae5c35c": {
      "model_module": "@jupyter-widgets/controls",
      "model_module_version": "1.4.0",
      "model_name": "ProgressStyleModel",
      "state": {
       "description_width": "initial"
      }
     },
     "358730f66feb453780a9b6e7a9fcdc09": {
      "model_module": "@jupyter-widgets/base",
      "model_module_version": "1.1.0",
      "model_name": "LayoutModel",
      "state": {}
     },
     "3810d2822d4b44d48f0b736494e03de9": {
      "model_module": "@jupyter-widgets/base",
      "model_module_version": "1.1.0",
      "model_name": "LayoutModel",
      "state": {}
     },
     "389ec211475c40128a4867cdfb7b4bd6": {
      "model_module": "@jupyter-widgets/controls",
      "model_module_version": "1.4.0",
      "model_name": "HTMLModel",
      "state": {
       "layout": "IPY_MODEL_df6cfb3e6ffb4970adc7956d9ee51833",
       "style": "IPY_MODEL_29ad6ae6416c41b98b90915380d51fbe",
       "value": " 44% 99/225 [00:49&lt;01:01,  2.05it/s]"
      }
     },
     "3973c158bcf044fcbd2b7ed5e6161954": {
      "model_module": "@jupyter-widgets/base",
      "model_module_version": "1.1.0",
      "model_name": "LayoutModel",
      "state": {}
     },
     "39e8733a75dd4c47a56868e390fdcffa": {
      "model_module": "@jupyter-widgets/controls",
      "model_module_version": "1.4.0",
      "model_name": "HBoxModel",
      "state": {
       "children": [
        "IPY_MODEL_eb5e38b6a235449dbefa693950131957",
        "IPY_MODEL_c238710f231d437da572daca805802fb"
       ],
       "layout": "IPY_MODEL_0c11401318fb4210ad33ca183114e720"
      }
     },
     "3a9e573ca1f04ba8a431cb717d455972": {
      "model_module": "@jupyter-widgets/base",
      "model_module_version": "1.1.0",
      "model_name": "LayoutModel",
      "state": {}
     },
     "3de2388f9bb046c1be49be20a7468499": {
      "model_module": "@jupyter-widgets/controls",
      "model_module_version": "1.4.0",
      "model_name": "HBoxModel",
      "state": {
       "children": [
        "IPY_MODEL_d05d0949d1f64d44a66a3325cd27a2c7",
        "IPY_MODEL_3176e20a4bf34e1bb45a2da070b22403"
       ],
       "layout": "IPY_MODEL_263503719e314e0a81a476e43636b8eb"
      }
     },
     "411692e447d04ad68fddecdd97d4800d": {
      "model_module": "@jupyter-widgets/base",
      "model_module_version": "1.1.0",
      "model_name": "LayoutModel",
      "state": {}
     },
     "414453085f6f42dd88b6d1e08865993c": {
      "model_module": "@jupyter-widgets/controls",
      "model_module_version": "1.4.0",
      "model_name": "DescriptionStyleModel",
      "state": {
       "description_width": ""
      }
     },
     "439364e161fe4f43991c766138d47d2d": {
      "model_module": "@jupyter-widgets/controls",
      "model_module_version": "1.4.0",
      "model_name": "HBoxModel",
      "state": {
       "children": [
        "IPY_MODEL_7d3558c3a9ce41039285820753a3edb6",
        "IPY_MODEL_907d2489d0cc454b91d6d20579ffe51b"
       ],
       "layout": "IPY_MODEL_553cec75740d4c34960a38849c43da43"
      }
     },
     "43e77adcea4e403097dc61548865a89d": {
      "model_module": "@jupyter-widgets/controls",
      "model_module_version": "1.4.0",
      "model_name": "HTMLModel",
      "state": {
       "layout": "IPY_MODEL_9db25efb891b45c5ae7acb401781284a",
       "style": "IPY_MODEL_5a25daa887ab4747946e6e810827170e",
       "value": "100% 225/225 [01:21&lt;00:00,  2.73it/s]"
      }
     },
     "44f8903f352a4deb9018564d612ed8d4": {
      "model_module": "@jupyter-widgets/base",
      "model_module_version": "1.1.0",
      "model_name": "LayoutModel",
      "state": {}
     },
     "45af6501712b4fde92223547fa7b5fa3": {
      "model_module": "@jupyter-widgets/base",
      "model_module_version": "1.1.0",
      "model_name": "LayoutModel",
      "state": {}
     },
     "472a9b1db69e4cc18da798e4d3a13470": {
      "model_module": "@jupyter-widgets/controls",
      "model_module_version": "1.4.0",
      "model_name": "HTMLModel",
      "state": {
       "layout": "IPY_MODEL_1ab6d4ea623349ae995dc7e81439a818",
       "style": "IPY_MODEL_790f153b3c294b1eae8e3acacf805168",
       "value": "100% 225/225 [01:09&lt;00:00,  3.13it/s]"
      }
     },
     "48f31731043649f99742444b2de5021d": {
      "model_module": "@jupyter-widgets/controls",
      "model_module_version": "1.4.0",
      "model_name": "IntProgressModel",
      "state": {
       "bar_style": "success",
       "description": "Epoch 2 Test Loss 0.1142 Err: 0.9000",
       "layout": "IPY_MODEL_16d316c9055749c4bd33c2832c001099",
       "max": 25,
       "style": "IPY_MODEL_4d52853eca194ae78c3b786b9832bad9",
       "value": 25
      }
     },
     "4970516bdbff4523bfb812e7bbf6cc7f": {
      "model_module": "@jupyter-widgets/controls",
      "model_module_version": "1.4.0",
      "model_name": "HBoxModel",
      "state": {
       "children": [
        "IPY_MODEL_5a10b553742b4cec94aabab418bbe7a3",
        "IPY_MODEL_ebe3c9c35e7f41029f60ae67d393d36b"
       ],
       "layout": "IPY_MODEL_44f8903f352a4deb9018564d612ed8d4"
      }
     },
     "49e00d7d897242d28e34c77ebb900728": {
      "model_module": "@jupyter-widgets/base",
      "model_module_version": "1.1.0",
      "model_name": "LayoutModel",
      "state": {}
     },
     "4bf17b85c00d41aa9c9fcaddb3144410": {
      "model_module": "@jupyter-widgets/controls",
      "model_module_version": "1.4.0",
      "model_name": "ProgressStyleModel",
      "state": {
       "description_width": "initial"
      }
     },
     "4c8aceeb432941b08330a0bce67fad76": {
      "model_module": "@jupyter-widgets/base",
      "model_module_version": "1.1.0",
      "model_name": "LayoutModel",
      "state": {}
     },
     "4d2af140d6244568ba624e1573a80679": {
      "model_module": "@jupyter-widgets/base",
      "model_module_version": "1.1.0",
      "model_name": "LayoutModel",
      "state": {}
     },
     "4d52853eca194ae78c3b786b9832bad9": {
      "model_module": "@jupyter-widgets/controls",
      "model_module_version": "1.4.0",
      "model_name": "ProgressStyleModel",
      "state": {
       "description_width": "initial"
      }
     },
     "4f28e3765896467996da34650fe8f796": {
      "model_module": "@jupyter-widgets/base",
      "model_module_version": "1.1.0",
      "model_name": "LayoutModel",
      "state": {}
     },
     "4ff089134fd64780b523523ecc59948e": {
      "model_module": "@jupyter-widgets/base",
      "model_module_version": "1.1.0",
      "model_name": "LayoutModel",
      "state": {}
     },
     "516d34b1b59949e69f1f257e3f6fbd2e": {
      "model_module": "@jupyter-widgets/controls",
      "model_module_version": "1.4.0",
      "model_name": "DescriptionStyleModel",
      "state": {
       "description_width": ""
      }
     },
     "52830e1fb91340e59561fac452256aea": {
      "model_module": "@jupyter-widgets/controls",
      "model_module_version": "1.4.0",
      "model_name": "HTMLModel",
      "state": {
       "layout": "IPY_MODEL_81d5f23054864a4a939394547698e1ec",
       "style": "IPY_MODEL_7f76a741cb714b53b224462957da1bfd",
       "value": "100% 225/225 [01:17&lt;00:00,  3.01it/s]"
      }
     },
     "52e354f152d64eb496c356e66f49e122": {
      "model_module": "@jupyter-widgets/controls",
      "model_module_version": "1.4.0",
      "model_name": "ProgressStyleModel",
      "state": {
       "description_width": "initial"
      }
     },
     "53339854ba1b450083526707d40901a3": {
      "model_module": "@jupyter-widgets/controls",
      "model_module_version": "1.4.0",
      "model_name": "HBoxModel",
      "state": {
       "children": [
        "IPY_MODEL_48f31731043649f99742444b2de5021d",
        "IPY_MODEL_d51480bb408541279fd2b367b2d8479a"
       ],
       "layout": "IPY_MODEL_9ed4347958dd4f778c96be1257af8683"
      }
     },
     "54b9d5568e6a4edb8edd5954a0c30c51": {
      "model_module": "@jupyter-widgets/controls",
      "model_module_version": "1.4.0",
      "model_name": "IntProgressModel",
      "state": {
       "bar_style": "success",
       "description": "Epoch 4 Train Loss 0.0911 Err: 0.4250",
       "layout": "IPY_MODEL_4f28e3765896467996da34650fe8f796",
       "max": 225,
       "style": "IPY_MODEL_ae3e8e6d4fd34c8ba06cb5dd6c29aaff",
       "value": 225
      }
     },
     "553cec75740d4c34960a38849c43da43": {
      "model_module": "@jupyter-widgets/base",
      "model_module_version": "1.1.0",
      "model_name": "LayoutModel",
      "state": {}
     },
     "5746019b2f8d47c4a3a636ce4773524a": {
      "model_module": "@jupyter-widgets/controls",
      "model_module_version": "1.4.0",
      "model_name": "ProgressStyleModel",
      "state": {
       "description_width": "initial"
      }
     },
     "576d057ee2f548f8b3171b09bd9e5beb": {
      "model_module": "@jupyter-widgets/base",
      "model_module_version": "1.1.0",
      "model_name": "LayoutModel",
      "state": {}
     },
     "57fbbc332c6d4c8496bd9598180fcba0": {
      "model_module": "@jupyter-widgets/controls",
      "model_module_version": "1.4.0",
      "model_name": "DescriptionStyleModel",
      "state": {
       "description_width": ""
      }
     },
     "58bac4da190c4344a274337ce7c1afc8": {
      "model_module": "@jupyter-widgets/controls",
      "model_module_version": "1.4.0",
      "model_name": "ProgressStyleModel",
      "state": {
       "description_width": "initial"
      }
     },
     "5a10b553742b4cec94aabab418bbe7a3": {
      "model_module": "@jupyter-widgets/controls",
      "model_module_version": "1.4.0",
      "model_name": "IntProgressModel",
      "state": {
       "bar_style": "success",
       "description": "Epoch 1 Test Loss 0.1504 Err: 1.0000",
       "layout": "IPY_MODEL_010811d6422140dd9bca497a905e280d",
       "max": 25,
       "style": "IPY_MODEL_7b2b60183daf445b907cb0805debb284",
       "value": 25
      }
     },
     "5a24a6c7beab424daa362cc1946ebf6d": {
      "model_module": "@jupyter-widgets/base",
      "model_module_version": "1.1.0",
      "model_name": "LayoutModel",
      "state": {}
     },
     "5a25daa887ab4747946e6e810827170e": {
      "model_module": "@jupyter-widgets/controls",
      "model_module_version": "1.4.0",
      "model_name": "DescriptionStyleModel",
      "state": {
       "description_width": ""
      }
     },
     "5bac13c416af479f8ce22deb3a79b4ab": {
      "model_module": "@jupyter-widgets/controls",
      "model_module_version": "1.4.0",
      "model_name": "HTMLModel",
      "state": {
       "layout": "IPY_MODEL_7842f26a79b24bb58fba37ea720d2192",
       "style": "IPY_MODEL_08ef5eb8410b47f588e7e638b3bcbc07",
       "value": "  9% 21/225 [00:06&lt;01:02,  3.26it/s]"
      }
     },
     "5c712f36c2f9413aaa41878496957d99": {
      "model_module": "@jupyter-widgets/base",
      "model_module_version": "1.1.0",
      "model_name": "LayoutModel",
      "state": {}
     },
     "5e2f920b7a6b46a587ce6144167a7044": {
      "model_module": "@jupyter-widgets/base",
      "model_module_version": "1.1.0",
      "model_name": "LayoutModel",
      "state": {}
     },
     "5ee66f7ebb704a16bbb8ac8ca42eabd6": {
      "model_module": "@jupyter-widgets/controls",
      "model_module_version": "1.4.0",
      "model_name": "DescriptionStyleModel",
      "state": {
       "description_width": ""
      }
     },
     "61bf245ed69143e293c52de5351d9d99": {
      "model_module": "@jupyter-widgets/base",
      "model_module_version": "1.1.0",
      "model_name": "LayoutModel",
      "state": {}
     },
     "62f8f4bd489e475d90f03ad7d25a33ba": {
      "model_module": "@jupyter-widgets/base",
      "model_module_version": "1.1.0",
      "model_name": "LayoutModel",
      "state": {}
     },
     "686c6b4c0a894e5785b69580ec88e802": {
      "model_module": "@jupyter-widgets/controls",
      "model_module_version": "1.4.0",
      "model_name": "ProgressStyleModel",
      "state": {
       "description_width": "initial"
      }
     },
     "68a4efaaebf341eba8185a041ea440d3": {
      "model_module": "@jupyter-widgets/controls",
      "model_module_version": "1.4.0",
      "model_name": "HBoxModel",
      "state": {
       "children": [
        "IPY_MODEL_9590c285847a4e6990c39719f555ebf7",
        "IPY_MODEL_6df1d313e47646649b9e5753a58c2b47"
       ],
       "layout": "IPY_MODEL_0a5352c074034c5db75049a42bda8dba"
      }
     },
     "6946b87d33ff435f87562dbe0cf2c3d2": {
      "model_module": "@jupyter-widgets/controls",
      "model_module_version": "1.4.0",
      "model_name": "HBoxModel",
      "state": {
       "children": [
        "IPY_MODEL_9d77fffa3be649adbcb9a988e998fd7a",
        "IPY_MODEL_0244e102d82147118bf8c527d8926841"
       ],
       "layout": "IPY_MODEL_02600475d1604feeb902d2ccddb2d2c4"
      }
     },
     "697e6f7c1520429ab00f2275f0009ea5": {
      "model_module": "@jupyter-widgets/base",
      "model_module_version": "1.1.0",
      "model_name": "LayoutModel",
      "state": {}
     },
     "69ee35d6f4674398818ccf467d6d1b91": {
      "model_module": "@jupyter-widgets/base",
      "model_module_version": "1.1.0",
      "model_name": "LayoutModel",
      "state": {}
     },
     "6a3d6243546f4669b92c2d632635102b": {
      "model_module": "@jupyter-widgets/controls",
      "model_module_version": "1.4.0",
      "model_name": "ProgressStyleModel",
      "state": {
       "description_width": "initial"
      }
     },
     "6df1d313e47646649b9e5753a58c2b47": {
      "model_module": "@jupyter-widgets/controls",
      "model_module_version": "1.4.0",
      "model_name": "HTMLModel",
      "state": {
       "layout": "IPY_MODEL_f0ba7676972c48969be0b2713cb2ee1f",
       "style": "IPY_MODEL_414453085f6f42dd88b6d1e08865993c",
       "value": "100% 225/225 [01:15&lt;00:00,  3.17it/s]"
      }
     },
     "7229e6e85e98472dabb6f0ac4c604cc1": {
      "model_module": "@jupyter-widgets/controls",
      "model_module_version": "1.4.0",
      "model_name": "IntProgressModel",
      "state": {
       "bar_style": "success",
       "description": "Epoch 1 Train Loss 0.1529 Err: 1.0000",
       "layout": "IPY_MODEL_97f452714f174e7b99f269f0e30fb96f",
       "max": 225,
       "style": "IPY_MODEL_dd19f953a0f946efa165cb1c71747176",
       "value": 225
      }
     },
     "749a50fff36b48769c9195b69b580c94": {
      "model_module": "@jupyter-widgets/controls",
      "model_module_version": "1.4.0",
      "model_name": "DescriptionStyleModel",
      "state": {
       "description_width": ""
      }
     },
     "76306a401bad4fa5bf089a31497ac2c5": {
      "model_module": "@jupyter-widgets/base",
      "model_module_version": "1.1.0",
      "model_name": "LayoutModel",
      "state": {}
     },
     "7631fd8289ac49a5bca7adc3d95a2a9a": {
      "model_module": "@jupyter-widgets/base",
      "model_module_version": "1.1.0",
      "model_name": "LayoutModel",
      "state": {}
     },
     "76520da7a787443fa6a042166c5e5783": {
      "model_module": "@jupyter-widgets/controls",
      "model_module_version": "1.4.0",
      "model_name": "IntProgressModel",
      "state": {
       "bar_style": "success",
       "description": "Epoch 4 Test Loss 0.0907 Err: 0.4500",
       "layout": "IPY_MODEL_02931944f4244de4980220d18ef7ebc1",
       "max": 25,
       "style": "IPY_MODEL_686c6b4c0a894e5785b69580ec88e802",
       "value": 25
      }
     },
     "76666c931ef84e188f1a39c9071016e5": {
      "model_module": "@jupyter-widgets/base",
      "model_module_version": "1.1.0",
      "model_name": "LayoutModel",
      "state": {}
     },
     "7842f26a79b24bb58fba37ea720d2192": {
      "model_module": "@jupyter-widgets/base",
      "model_module_version": "1.1.0",
      "model_name": "LayoutModel",
      "state": {}
     },
     "790f153b3c294b1eae8e3acacf805168": {
      "model_module": "@jupyter-widgets/controls",
      "model_module_version": "1.4.0",
      "model_name": "DescriptionStyleModel",
      "state": {
       "description_width": ""
      }
     },
     "794c41fe63954904a1ab12e04ca9e1ce": {
      "model_module": "@jupyter-widgets/controls",
      "model_module_version": "1.4.0",
      "model_name": "ProgressStyleModel",
      "state": {
       "description_width": "initial"
      }
     },
     "7a74ef2fac4049318860979d76521ac3": {
      "model_module": "@jupyter-widgets/controls",
      "model_module_version": "1.4.0",
      "model_name": "HBoxModel",
      "state": {
       "children": [
        "IPY_MODEL_76520da7a787443fa6a042166c5e5783",
        "IPY_MODEL_b6f3e5f23d134bee9ad63e0bee3296ba"
       ],
       "layout": "IPY_MODEL_b65f1c821cf7474ba6efb40b613d81fe"
      }
     },
     "7a967c6c67ac4e5881ecf371aaae3e43": {
      "model_module": "@jupyter-widgets/controls",
      "model_module_version": "1.4.0",
      "model_name": "HTMLModel",
      "state": {
       "layout": "IPY_MODEL_62f8f4bd489e475d90f03ad7d25a33ba",
       "style": "IPY_MODEL_00284c9e9e0749c688864b95051e8234",
       "value": "100% 225/225 [01:11&lt;00:00,  3.12it/s]"
      }
     },
     "7b2b60183daf445b907cb0805debb284": {
      "model_module": "@jupyter-widgets/controls",
      "model_module_version": "1.4.0",
      "model_name": "ProgressStyleModel",
      "state": {
       "description_width": "initial"
      }
     },
     "7bd426ddabe94b32b9299029898c8335": {
      "model_module": "@jupyter-widgets/controls",
      "model_module_version": "1.4.0",
      "model_name": "HBoxModel",
      "state": {
       "children": [
        "IPY_MODEL_e1a3e54c58cc49b0b6ece21cf78d4bef",
        "IPY_MODEL_db7c1c6027b24fb4bd4f4bbceaac3706"
       ],
       "layout": "IPY_MODEL_5a24a6c7beab424daa362cc1946ebf6d"
      }
     },
     "7d3558c3a9ce41039285820753a3edb6": {
      "model_module": "@jupyter-widgets/controls",
      "model_module_version": "1.4.0",
      "model_name": "IntProgressModel",
      "state": {
       "bar_style": "success",
       "description": "Epoch 6 Train Loss 0.0854 Err: 0.2500",
       "layout": "IPY_MODEL_3810d2822d4b44d48f0b736494e03de9",
       "max": 225,
       "style": "IPY_MODEL_6a3d6243546f4669b92c2d632635102b",
       "value": 225
      }
     },
     "7f76a741cb714b53b224462957da1bfd": {
      "model_module": "@jupyter-widgets/controls",
      "model_module_version": "1.4.0",
      "model_name": "DescriptionStyleModel",
      "state": {
       "description_width": ""
      }
     },
     "81d5f23054864a4a939394547698e1ec": {
      "model_module": "@jupyter-widgets/base",
      "model_module_version": "1.1.0",
      "model_name": "LayoutModel",
      "state": {}
     },
     "820fd2a1c94f4b02a54970ace70db58c": {
      "model_module": "@jupyter-widgets/controls",
      "model_module_version": "1.4.0",
      "model_name": "IntProgressModel",
      "state": {
       "bar_style": "success",
       "description": "Epoch 0 Test Loss 0.5120 Err: 1.0000",
       "layout": "IPY_MODEL_f75c1bfa5dcc4b47b5644da99759d957",
       "max": 25,
       "style": "IPY_MODEL_5746019b2f8d47c4a3a636ce4773524a",
       "value": 25
      }
     },
     "83958c2bb3044a9eb67e9cd688f514d9": {
      "model_module": "@jupyter-widgets/controls",
      "model_module_version": "1.4.0",
      "model_name": "DescriptionStyleModel",
      "state": {
       "description_width": ""
      }
     },
     "84ce6cb16f26492ea640980f47676f67": {
      "model_module": "@jupyter-widgets/controls",
      "model_module_version": "1.4.0",
      "model_name": "DescriptionStyleModel",
      "state": {
       "description_width": ""
      }
     },
     "88d232c962a94438998e64603b5441c3": {
      "model_module": "@jupyter-widgets/controls",
      "model_module_version": "1.4.0",
      "model_name": "IntProgressModel",
      "state": {
       "bar_style": "success",
       "description": "Epoch 3 Train Loss 0.0989 Err: 0.5750",
       "layout": "IPY_MODEL_576d057ee2f548f8b3171b09bd9e5beb",
       "max": 225,
       "style": "IPY_MODEL_2397b46948014914b9f38e3f05c8ab4f",
       "value": 225
      }
     },
     "907d2489d0cc454b91d6d20579ffe51b": {
      "model_module": "@jupyter-widgets/controls",
      "model_module_version": "1.4.0",
      "model_name": "HTMLModel",
      "state": {
       "layout": "IPY_MODEL_334e005f6a084e1ca22cc7c12a75fd02",
       "style": "IPY_MODEL_e5ae3fc6f71b404494dec45f5777dcf7",
       "value": "100% 225/225 [01:13&lt;00:00,  3.09it/s]"
      }
     },
     "9590c285847a4e6990c39719f555ebf7": {
      "model_module": "@jupyter-widgets/controls",
      "model_module_version": "1.4.0",
      "model_name": "IntProgressModel",
      "state": {
       "bar_style": "success",
       "description": "Epoch 5 Train Loss 0.0870 Err: 0.3250",
       "layout": "IPY_MODEL_b555b1db32404ed4a2679e0da921f056",
       "max": 225,
       "style": "IPY_MODEL_0d04087072a34efdbfffa7260af82aee",
       "value": 225
      }
     },
     "96aed0d073ff487b9f0b0dff6e697b44": {
      "model_module": "@jupyter-widgets/base",
      "model_module_version": "1.1.0",
      "model_name": "LayoutModel",
      "state": {}
     },
     "97f452714f174e7b99f269f0e30fb96f": {
      "model_module": "@jupyter-widgets/base",
      "model_module_version": "1.1.0",
      "model_name": "LayoutModel",
      "state": {}
     },
     "9b4a27611c7a468fb14d0526fb728256": {
      "model_module": "@jupyter-widgets/base",
      "model_module_version": "1.1.0",
      "model_name": "LayoutModel",
      "state": {}
     },
     "9d77fffa3be649adbcb9a988e998fd7a": {
      "model_module": "@jupyter-widgets/controls",
      "model_module_version": "1.4.0",
      "model_name": "IntProgressModel",
      "state": {
       "bar_style": "success",
       "description": "Epoch 0 Test Loss 0.5005 Err: 1.0000",
       "layout": "IPY_MODEL_7631fd8289ac49a5bca7adc3d95a2a9a",
       "max": 25,
       "style": "IPY_MODEL_28e522c56a1e451e9fc5fb9370a127f0",
       "value": 25
      }
     },
     "9db25efb891b45c5ae7acb401781284a": {
      "model_module": "@jupyter-widgets/base",
      "model_module_version": "1.1.0",
      "model_name": "LayoutModel",
      "state": {}
     },
     "9ec11806f1f247179e52da08f9845c94": {
      "model_module": "@jupyter-widgets/controls",
      "model_module_version": "1.4.0",
      "model_name": "IntProgressModel",
      "state": {
       "bar_style": "success",
       "description": "Epoch 8 Test Loss 0.0802 Err: 0.1750",
       "layout": "IPY_MODEL_3a9e573ca1f04ba8a431cb717d455972",
       "max": 25,
       "style": "IPY_MODEL_07320de8ee094bcca824b7a5d78e1ac5",
       "value": 25
      }
     },
     "9ed4347958dd4f778c96be1257af8683": {
      "model_module": "@jupyter-widgets/base",
      "model_module_version": "1.1.0",
      "model_name": "LayoutModel",
      "state": {}
     },
     "9f23f9ca32c24e67ba68a295f8a00de1": {
      "model_module": "@jupyter-widgets/controls",
      "model_module_version": "1.4.0",
      "model_name": "ProgressStyleModel",
      "state": {
       "description_width": "initial"
      }
     },
     "a25c924e6dab4699b81a19ddf5268098": {
      "model_module": "@jupyter-widgets/controls",
      "model_module_version": "1.4.0",
      "model_name": "HBoxModel",
      "state": {
       "children": [
        "IPY_MODEL_add2d3da90014cae8432ec75a9cb3d59",
        "IPY_MODEL_d385a244a1c34bc0ad3b58491dd98609"
       ],
       "layout": "IPY_MODEL_29b6aaa221e44d05bdd64a2986e5fe81"
      }
     },
     "a3cecd736b9f438eb2a2cf99d30652ff": {
      "model_module": "@jupyter-widgets/controls",
      "model_module_version": "1.4.0",
      "model_name": "HBoxModel",
      "state": {
       "children": [
        "IPY_MODEL_7229e6e85e98472dabb6f0ac4c604cc1",
        "IPY_MODEL_3364113ba807486f8117cda905018edf"
       ],
       "layout": "IPY_MODEL_b93b7f7bce0f4fdeb1279e33badf4d42"
      }
     },
     "a9e35a9d06d8479fa104ffec2d5cd833": {
      "model_module": "@jupyter-widgets/base",
      "model_module_version": "1.1.0",
      "model_name": "LayoutModel",
      "state": {}
     },
     "add2d3da90014cae8432ec75a9cb3d59": {
      "model_module": "@jupyter-widgets/controls",
      "model_module_version": "1.4.0",
      "model_name": "IntProgressModel",
      "state": {
       "bar_style": "success",
       "description": "Epoch 5 Test Loss 0.0877 Err: 0.3000",
       "layout": "IPY_MODEL_b2b5d52859084c3d8a64b7277e991018",
       "max": 25,
       "style": "IPY_MODEL_9f23f9ca32c24e67ba68a295f8a00de1",
       "value": 25
      }
     },
     "ae3e8e6d4fd34c8ba06cb5dd6c29aaff": {
      "model_module": "@jupyter-widgets/controls",
      "model_module_version": "1.4.0",
      "model_name": "ProgressStyleModel",
      "state": {
       "description_width": "initial"
      }
     },
     "b1b362928a8a480a86c9cfd054e9edec": {
      "model_module": "@jupyter-widgets/base",
      "model_module_version": "1.1.0",
      "model_name": "LayoutModel",
      "state": {}
     },
     "b2b5d52859084c3d8a64b7277e991018": {
      "model_module": "@jupyter-widgets/base",
      "model_module_version": "1.1.0",
      "model_name": "LayoutModel",
      "state": {}
     },
     "b555b1db32404ed4a2679e0da921f056": {
      "model_module": "@jupyter-widgets/base",
      "model_module_version": "1.1.0",
      "model_name": "LayoutModel",
      "state": {}
     },
     "b65f1c821cf7474ba6efb40b613d81fe": {
      "model_module": "@jupyter-widgets/base",
      "model_module_version": "1.1.0",
      "model_name": "LayoutModel",
      "state": {}
     },
     "b6f3e5f23d134bee9ad63e0bee3296ba": {
      "model_module": "@jupyter-widgets/controls",
      "model_module_version": "1.4.0",
      "model_name": "HTMLModel",
      "state": {
       "layout": "IPY_MODEL_16e3fb3a9b59441282bd60edc93e58be",
       "style": "IPY_MODEL_5ee66f7ebb704a16bbb8ac8ca42eabd6",
       "value": "100% 25/25 [00:03&lt;00:00,  6.31it/s]"
      }
     },
     "b93b7f7bce0f4fdeb1279e33badf4d42": {
      "model_module": "@jupyter-widgets/base",
      "model_module_version": "1.1.0",
      "model_name": "LayoutModel",
      "state": {}
     },
     "bf290174b3624072bbece76c7686f71b": {
      "model_module": "@jupyter-widgets/base",
      "model_module_version": "1.1.0",
      "model_name": "LayoutModel",
      "state": {}
     },
     "c238710f231d437da572daca805802fb": {
      "model_module": "@jupyter-widgets/controls",
      "model_module_version": "1.4.0",
      "model_name": "HTMLModel",
      "state": {
       "layout": "IPY_MODEL_da4b4c79d5e74403916d0d055a5223c3",
       "style": "IPY_MODEL_1851394ad80a4218bde83a048c9e29bf",
       "value": "100% 25/25 [00:03&lt;00:00,  6.56it/s]"
      }
     },
     "c52171055a204cc9b66e9073638ecfaa": {
      "model_module": "@jupyter-widgets/controls",
      "model_module_version": "1.4.0",
      "model_name": "DescriptionStyleModel",
      "state": {
       "description_width": ""
      }
     },
     "cfab89bcd2854fd1aa08d76cb09c8568": {
      "model_module": "@jupyter-widgets/base",
      "model_module_version": "1.1.0",
      "model_name": "LayoutModel",
      "state": {}
     },
     "d05d0949d1f64d44a66a3325cd27a2c7": {
      "model_module": "@jupyter-widgets/controls",
      "model_module_version": "1.4.0",
      "model_name": "IntProgressModel",
      "state": {
       "bar_style": "success",
       "description": "Epoch 2 Train Loss 0.1145 Err: 0.9250",
       "layout": "IPY_MODEL_e6a01efef0d342a8b81f200e8267522e",
       "max": 225,
       "style": "IPY_MODEL_4bf17b85c00d41aa9c9fcaddb3144410",
       "value": 225
      }
     },
     "d16a41f8e17740caa6cb0cfc61812e3a": {
      "model_module": "@jupyter-widgets/controls",
      "model_module_version": "1.4.0",
      "model_name": "HBoxModel",
      "state": {
       "children": [
        "IPY_MODEL_f985bd6f2246496f96d00933adffd3fd",
        "IPY_MODEL_472a9b1db69e4cc18da798e4d3a13470"
       ],
       "layout": "IPY_MODEL_697e6f7c1520429ab00f2275f0009ea5"
      }
     },
     "d29af17bc89c481eb62246ce4a744b51": {
      "model_module": "@jupyter-widgets/controls",
      "model_module_version": "1.4.0",
      "model_name": "HBoxModel",
      "state": {
       "children": [
        "IPY_MODEL_da085584e03a44a4b5d125a552b538d7",
        "IPY_MODEL_5bac13c416af479f8ce22deb3a79b4ab"
       ],
       "layout": "IPY_MODEL_358730f66feb453780a9b6e7a9fcdc09"
      }
     },
     "d385a244a1c34bc0ad3b58491dd98609": {
      "model_module": "@jupyter-widgets/controls",
      "model_module_version": "1.4.0",
      "model_name": "HTMLModel",
      "state": {
       "layout": "IPY_MODEL_411692e447d04ad68fddecdd97d4800d",
       "style": "IPY_MODEL_57fbbc332c6d4c8496bd9598180fcba0",
       "value": "100% 25/25 [00:03&lt;00:00,  6.21it/s]"
      }
     },
     "d51480bb408541279fd2b367b2d8479a": {
      "model_module": "@jupyter-widgets/controls",
      "model_module_version": "1.4.0",
      "model_name": "HTMLModel",
      "state": {
       "layout": "IPY_MODEL_96aed0d073ff487b9f0b0dff6e697b44",
       "style": "IPY_MODEL_83958c2bb3044a9eb67e9cd688f514d9",
       "value": "100% 25/25 [00:04&lt;00:00,  5.86it/s]"
      }
     },
     "d79177846cef4371b34d2ee029fa14de": {
      "model_module": "@jupyter-widgets/controls",
      "model_module_version": "1.4.0",
      "model_name": "HBoxModel",
      "state": {
       "children": [
        "IPY_MODEL_54b9d5568e6a4edb8edd5954a0c30c51",
        "IPY_MODEL_52830e1fb91340e59561fac452256aea"
       ],
       "layout": "IPY_MODEL_4ff089134fd64780b523523ecc59948e"
      }
     },
     "da085584e03a44a4b5d125a552b538d7": {
      "model_module": "@jupyter-widgets/controls",
      "model_module_version": "1.4.0",
      "model_name": "IntProgressModel",
      "state": {
       "bar_style": "danger",
       "description": "Epoch 9 Train Loss 0.0804 Err: 0.2000",
       "layout": "IPY_MODEL_5c712f36c2f9413aaa41878496957d99",
       "max": 225,
       "style": "IPY_MODEL_07d67b265f58472fa7661631af4aa63f",
       "value": 21
      }
     },
     "da4b4c79d5e74403916d0d055a5223c3": {
      "model_module": "@jupyter-widgets/base",
      "model_module_version": "1.1.0",
      "model_name": "LayoutModel",
      "state": {}
     },
     "da688a79cc0142a6abb8630eacd18b6f": {
      "model_module": "@jupyter-widgets/controls",
      "model_module_version": "1.4.0",
      "model_name": "ProgressStyleModel",
      "state": {
       "description_width": "initial"
      }
     },
     "db7c1c6027b24fb4bd4f4bbceaac3706": {
      "model_module": "@jupyter-widgets/controls",
      "model_module_version": "1.4.0",
      "model_name": "HTMLModel",
      "state": {
       "layout": "IPY_MODEL_f289e8535fd046bda8dafcb0f283847d",
       "style": "IPY_MODEL_0d60571eac1f4b3185570f6622f09cb3",
       "value": "100% 25/25 [00:04&lt;00:00,  6.25it/s]"
      }
     },
     "dd19f953a0f946efa165cb1c71747176": {
      "model_module": "@jupyter-widgets/controls",
      "model_module_version": "1.4.0",
      "model_name": "ProgressStyleModel",
      "state": {
       "description_width": "initial"
      }
     },
     "de8017e7d6d04162864c64027796a8ac": {
      "model_module": "@jupyter-widgets/controls",
      "model_module_version": "1.4.0",
      "model_name": "HTMLModel",
      "state": {
       "layout": "IPY_MODEL_1cb85a231f2340d499063e68f9bfcc62",
       "style": "IPY_MODEL_07b332588b1e4e669b53c35afe30e44f",
       "value": "100% 25/25 [00:03&lt;00:00,  6.78it/s]"
      }
     },
     "df6cfb3e6ffb4970adc7956d9ee51833": {
      "model_module": "@jupyter-widgets/base",
      "model_module_version": "1.1.0",
      "model_name": "LayoutModel",
      "state": {}
     },
     "e13bc76a06794535be99f09cfb2a9951": {
      "model_module": "@jupyter-widgets/controls",
      "model_module_version": "1.4.0",
      "model_name": "HBoxModel",
      "state": {
       "children": [
        "IPY_MODEL_820fd2a1c94f4b02a54970ace70db58c",
        "IPY_MODEL_0e8c0148cf734a77bc761d5e72175b28"
       ],
       "layout": "IPY_MODEL_cfab89bcd2854fd1aa08d76cb09c8568"
      }
     },
     "e1a3e54c58cc49b0b6ece21cf78d4bef": {
      "model_module": "@jupyter-widgets/controls",
      "model_module_version": "1.4.0",
      "model_name": "IntProgressModel",
      "state": {
       "bar_style": "success",
       "description": "Epoch 3 Test Loss 0.0982 Err: 0.5500",
       "layout": "IPY_MODEL_06ef83d0f5d84cffa33e8e598dd65f25",
       "max": 25,
       "style": "IPY_MODEL_da688a79cc0142a6abb8630eacd18b6f",
       "value": 25
      }
     },
     "e1f8dfa89b3142b69f843a6e72627f96": {
      "model_module": "@jupyter-widgets/controls",
      "model_module_version": "1.4.0",
      "model_name": "HBoxModel",
      "state": {
       "children": [
        "IPY_MODEL_9ec11806f1f247179e52da08f9845c94",
        "IPY_MODEL_de8017e7d6d04162864c64027796a8ac"
       ],
       "layout": "IPY_MODEL_4d2af140d6244568ba624e1573a80679"
      }
     },
     "e5ae3fc6f71b404494dec45f5777dcf7": {
      "model_module": "@jupyter-widgets/controls",
      "model_module_version": "1.4.0",
      "model_name": "DescriptionStyleModel",
      "state": {
       "description_width": ""
      }
     },
     "e626a25a60c7466fb593a74a732c2cc0": {
      "model_module": "@jupyter-widgets/controls",
      "model_module_version": "1.4.0",
      "model_name": "HBoxModel",
      "state": {
       "children": [
        "IPY_MODEL_fdf7c869d59c461dbc7c11b04a521946",
        "IPY_MODEL_389ec211475c40128a4867cdfb7b4bd6"
       ],
       "layout": "IPY_MODEL_22db1aeb449c498382e31c4256bc9a73"
      }
     },
     "e6a01efef0d342a8b81f200e8267522e": {
      "model_module": "@jupyter-widgets/base",
      "model_module_version": "1.1.0",
      "model_name": "LayoutModel",
      "state": {}
     },
     "e9587b1fdd674b9d86388dd74bbbb423": {
      "model_module": "@jupyter-widgets/controls",
      "model_module_version": "1.4.0",
      "model_name": "HTMLModel",
      "state": {
       "layout": "IPY_MODEL_76666c931ef84e188f1a39c9071016e5",
       "style": "IPY_MODEL_749a50fff36b48769c9195b69b580c94",
       "value": "100% 25/25 [00:03&lt;00:00,  6.93it/s]"
      }
     },
     "eb5e38b6a235449dbefa693950131957": {
      "model_module": "@jupyter-widgets/controls",
      "model_module_version": "1.4.0",
      "model_name": "IntProgressModel",
      "state": {
       "bar_style": "success",
       "description": "Epoch 6 Test Loss 0.0849 Err: 0.1500",
       "layout": "IPY_MODEL_45af6501712b4fde92223547fa7b5fa3",
       "max": 25,
       "style": "IPY_MODEL_2d6e2d9bc5544260b5628fd68e246e78",
       "value": 25
      }
     },
     "ebe3c9c35e7f41029f60ae67d393d36b": {
      "model_module": "@jupyter-widgets/controls",
      "model_module_version": "1.4.0",
      "model_name": "HTMLModel",
      "state": {
       "layout": "IPY_MODEL_61bf245ed69143e293c52de5351d9d99",
       "style": "IPY_MODEL_c52171055a204cc9b66e9073638ecfaa",
       "value": "100% 25/25 [00:04&lt;00:00,  5.35it/s]"
      }
     },
     "ee1d9246e96747af95ab11877d0d6601": {
      "model_module": "@jupyter-widgets/controls",
      "model_module_version": "1.4.0",
      "model_name": "IntProgressModel",
      "state": {
       "bar_style": "success",
       "description": "Epoch 7 Train Loss 0.0810 Err: 0.2000",
       "layout": "IPY_MODEL_4c8aceeb432941b08330a0bce67fad76",
       "max": 225,
       "style": "IPY_MODEL_58bac4da190c4344a274337ce7c1afc8",
       "value": 225
      }
     },
     "f0ba7676972c48969be0b2713cb2ee1f": {
      "model_module": "@jupyter-widgets/base",
      "model_module_version": "1.1.0",
      "model_name": "LayoutModel",
      "state": {}
     },
     "f289e8535fd046bda8dafcb0f283847d": {
      "model_module": "@jupyter-widgets/base",
      "model_module_version": "1.1.0",
      "model_name": "LayoutModel",
      "state": {}
     },
     "f626c0e749ae44d394c5d784deae2f1d": {
      "model_module": "@jupyter-widgets/controls",
      "model_module_version": "1.4.0",
      "model_name": "DescriptionStyleModel",
      "state": {
       "description_width": ""
      }
     },
     "f75c1bfa5dcc4b47b5644da99759d957": {
      "model_module": "@jupyter-widgets/base",
      "model_module_version": "1.1.0",
      "model_name": "LayoutModel",
      "state": {}
     },
     "f985bd6f2246496f96d00933adffd3fd": {
      "model_module": "@jupyter-widgets/controls",
      "model_module_version": "1.4.0",
      "model_name": "IntProgressModel",
      "state": {
       "bar_style": "success",
       "description": "Epoch 8 Train Loss 0.0780 Err: 0.2250",
       "layout": "IPY_MODEL_69ee35d6f4674398818ccf467d6d1b91",
       "max": 225,
       "style": "IPY_MODEL_52e354f152d64eb496c356e66f49e122",
       "value": 225
      }
     },
     "fdf7c869d59c461dbc7c11b04a521946": {
      "model_module": "@jupyter-widgets/controls",
      "model_module_version": "1.4.0",
      "model_name": "IntProgressModel",
      "state": {
       "bar_style": "danger",
       "description": "Epoch 1 Train Loss 0.2013 Err: 1.0000",
       "layout": "IPY_MODEL_b1b362928a8a480a86c9cfd054e9edec",
       "max": 225,
       "style": "IPY_MODEL_339c0198e1394354a71603bd9ae5c35c",
       "value": 99
      }
     }
    },
    "version_major": 2,
    "version_minor": 0
   }
  }
 },
 "nbformat": 4,
 "nbformat_minor": 2
}
